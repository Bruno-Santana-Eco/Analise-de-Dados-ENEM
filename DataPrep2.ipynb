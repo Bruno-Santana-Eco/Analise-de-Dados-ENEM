{
 "cells": [
  {
   "cell_type": "markdown",
   "metadata": {},
   "source": [
    "Tipo da variável: categórica ou numérica\n",
    "\n",
    "\n",
    "*GERAL*\n",
    "\n",
    "*Visões geral*:\n",
    "\n",
    "* Quantidade de inscritos por ano - OK\n",
    "* Percentual de ausentes nos dois dias - OK\n",
    "* Inscritos por tipo de língua - OK\n",
    "* Inscritos por escola (imagino que é por tipo de escola) - OK\n",
    "* Inscritos por gênero - OK\n",
    "* Inscritos por depedência adminstrativa da escola (Inclui) - OK\n",
    "* Composição da quantidade de inscritos no por ano\n",
    "    * Proporção de gênero - OK\n",
    "    * Proporção de escolas - OK\n",
    "    * Proporção dependência administrativa da escola - OK\n",
    "    * ...\n",
    "* Status da Redação - NÃO ENTENDI\n",
    "    \n",
    "*Visão Série Temporal*\n",
    "\n",
    "* Quantidade de inscritos na série histórica (2010-2021) - OK\n",
    "* Sexo - OK\n",
    "* Cor/Raça - OK\n",
    "* Estado Civil - OK\n",
    "* Conclusão Ensino Médio - NÃO ENTENDI\n",
    "* Tipo Escola - OK\n",
    "* Dependência administrativa - OK\n",
    "* Média nota no tempo por variável\n",
    "    * Ano (Inclui) - OK\n",
    "    * Tipo de lingua (inclui) - OK\n",
    "    * Sexo - OK\n",
    "    * Tipo escola - OK\n",
    "    * Dependência administrativa - OK\n",
    "    * Estado Civil (inclui) - OK\n",
    "    * Região geográfica - OK\n",
    "    * UF - OK\n",
    "    * Município - OK\n",
    "    * Cor/raça - OK\n",
    "    * Renda - Ver com Lucas\n",
    "    * Escolaridade do pai/mãe - Ver como fazer com Lucas pois são duas variáveis.\n",
    "    * Tamanho da família -  OK\n",
    "\n",
    "*Composição Geral*\n",
    "\n",
    "Proporção e valor absoluto\n",
    "* Sexo e localidade (UF/Região geográfica) - OK\n",
    "* Cor/Raça - OK\n",
    "* Tipo Escola - OK\n",
    "* Dependência administrativa  - OK\n",
    "* Tamanho de família (inclui) - OK\n",
    "* Língua (inclui) - OK\n",
    "* Estado civil (inclui) - OK\n",
    "    \n",
    "*Visão Média Geral*\n",
    "OBS: Se for as médias das funções, já estão feitas então n precisaria fazer, só salvar num df.\n",
    "\n",
    "* Média global  \n",
    "* Média por gênero - OK\n",
    "* Média por etnia - OK \n",
    "* Média por tipo de língua (inclui) - OK\n",
    "* Média por tipo de escola - OK \n",
    "* Média por dependência adminstrativa (inclui) - OK\n",
    "* Média por estado civil (inclui) - OK \n",
    "* Média por tempo de conclusão\n",
    "* Média por faixa etária\n",
    "* Média por regiões - OK\n",
    "* Média por UF (inclui) - OK\n",
    "* Média por município (inclui) - OK\n",
    "* Nota Máxima por regiões (Aqui só com a função) \n",
    "* Média tamanho da familia (inclui) - OK\n",
    "\n",
    "*Visão abstenção/falta*\n",
    "\n",
    "* Falta por gênero\n",
    "* Falta por regiões geográficas\n",
    "* Falta por UF\n",
    "* Falta por município\n",
    "* Falta por faixa etária\n",
    "* Falta por disciplina\n",
    "* Falta por etnia\n",
    "* Falta por tipo de escola\n",
    "\n",
    "\n",
    "*ESTATÍSTICA*\n",
    "* Univariada\n",
    "    * Filtros : Prova / Ano / Variável\n",
    "    * Boxplot pela variável\n",
    "    * Gráfico das notas densidade por cada grupo da variável\n",
    "    * Gráfico de Barras\n",
    "        * Quebrar por sexo\n",
    "    * Situação de conclusão\n",
    "    * Escolaridade do pai/mãe\n",
    "    * Tamanho da família\n",
    "    * Acesso à internet\n",
    "    * Computador\n",
    "* Análise multivariada\n",
    "\n",
    "*RANKING*\n",
    "\n",
    "    \n",
    "* Quantidade de inscritos na Bahia nos últimos anos\n",
    "* Composição da quantidade de inscritos na Bahia\n",
    "* Mapa com a quantidade de inscritos (2019-2020) por UF\n",
    "* Mapa com quantidade de inscritos por município (2019-2020)\n",
    "\n",
    "* Ranking de Média nas provas por UF pré-pandemia (2019) e durante a pandemia (2020)\n",
    "* Ranking de Média nas provas por município pré-pandemia e durante a pandemia\n",
    "* \n",
    "\n",
    "* Visão UF\n",
    "    * Quantidade de Inscritos\n",
    "    * Falta\n",
    "    * Proporções\n",
    "* Visão Município\n",
    "* Visão Escola"
   ]
  },
  {
   "cell_type": "code",
   "execution_count": 2,
   "metadata": {},
   "outputs": [],
   "source": [
    "import pandas as pd\n",
    "import numpy as np\n",
    "import matplotlib.pyplot as plt\n",
    "import seaborn as sns\n",
    "import sqlite3\n",
    "import geobr\n",
    "import warnings\n",
    "warnings.filterwarnings('ignore')\n",
    "pd.set_option('display.max_columns', 250);pd.set_option('display.max_rows', 250)\n",
    "import os\n"
   ]
  },
  {
   "cell_type": "markdown",
   "metadata": {},
   "source": [
    "#### Onde coloquei todos microdados."
   ]
  },
  {
   "cell_type": "code",
   "execution_count": 4,
   "metadata": {},
   "outputs": [],
   "source": [
    "os.chdir('D:\\Trabalho\\Microdados\\ENEM')"
   ]
  },
  {
   "cell_type": "markdown",
   "metadata": {},
   "source": [
    "Base de 2010"
   ]
  },
  {
   "cell_type": "code",
   "execution_count": 5,
   "metadata": {},
   "outputs": [
    {
     "data": {
      "text/plain": [
       "(4611614, 105)"
      ]
     },
     "execution_count": 5,
     "metadata": {},
     "output_type": "execute_result"
    }
   ],
   "source": [
    "df_2010  = pd.read_csv(f'MICRODADOS_ENEM_2010.csv', encoding = 'latin1', sep = ';').sample(n=2500)\n",
    "df_2010.shape"
   ]
  },
  {
   "cell_type": "code",
   "execution_count": 7,
   "metadata": {},
   "outputs": [
    {
     "data": {
      "text/plain": [
       "(2500, 105)"
      ]
     },
     "execution_count": 7,
     "metadata": {},
     "output_type": "execute_result"
    }
   ],
   "source": [
    "df_2010 = df_2010.sample(n=2500, random_state=42)\n",
    "df_2010.shape"
   ]
  },
  {
   "cell_type": "code",
   "execution_count": 6,
   "metadata": {},
   "outputs": [
    {
     "data": {
      "text/plain": [
       "(5366931, 128)"
      ]
     },
     "execution_count": 6,
     "metadata": {},
     "output_type": "execute_result"
    }
   ],
   "source": [
    "df_2011  = pd.read_csv(f'MICRODADOS_ENEM_2011.csv', encoding = 'latin1', sep = ';')\n",
    "df_2011.shape"
   ]
  },
  {
   "cell_type": "code",
   "execution_count": 8,
   "metadata": {},
   "outputs": [
    {
     "data": {
      "text/plain": [
       "(2500, 128)"
      ]
     },
     "execution_count": 8,
     "metadata": {},
     "output_type": "execute_result"
    }
   ],
   "source": [
    "df_2011 = df_2011.sample(n=2500, random_state=42)\n",
    "df_2011.shape"
   ]
  },
  {
   "cell_type": "code",
   "execution_count": 9,
   "metadata": {},
   "outputs": [
    {
     "data": {
      "text/plain": [
       "(2500, 128)"
      ]
     },
     "execution_count": 9,
     "metadata": {},
     "output_type": "execute_result"
    }
   ],
   "source": [
    "df_2012 = pd.read_csv('MICRODADOS_ENEM_2011.csv', encoding = 'latin1', sep = ';').sample(n=2500, random_state=42)\n",
    "df_2012.shape"
   ]
  },
  {
   "cell_type": "code",
   "execution_count": null,
   "metadata": {},
   "outputs": [],
   "source": [
    "df_2012 = pd.read_csv('MICRODADOS_ENEM_2011.csv', encoding = 'latin1', sep = ';').sample(n=2500, random_state=42)\n",
    "df_2012.shape"
   ]
  }
 ],
 "metadata": {
  "kernelspec": {
   "display_name": "base",
   "language": "python",
   "name": "python3"
  },
  "language_info": {
   "codemirror_mode": {
    "name": "ipython",
    "version": 3
   },
   "file_extension": ".py",
   "mimetype": "text/x-python",
   "name": "python",
   "nbconvert_exporter": "python",
   "pygments_lexer": "ipython3",
   "version": "3.9.12"
  }
 },
 "nbformat": 4,
 "nbformat_minor": 2
}
