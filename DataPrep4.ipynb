{
 "cells": [
  {
   "cell_type": "code",
   "execution_count": null,
   "metadata": {},
   "outputs": [],
   "source": [
    "!pip install pyarrow\n",
    "!pip install fastparquet"
   ]
  },
  {
   "cell_type": "code",
   "execution_count": 1,
   "metadata": {},
   "outputs": [],
   "source": [
    "import pandas as pd\n",
    "import numpy as np\n",
    "import matplotlib.pyplot as plt\n",
    "import seaborn as sns\n",
    "import sqlite3\n",
    "import geobr\n",
    "import warnings\n",
    "warnings.filterwarnings('ignore')\n",
    "pd.set_option('display.max_columns', 250);pd.set_option('display.max_rows', 250)\n",
    "import os"
   ]
  },
  {
   "cell_type": "code",
   "execution_count": 2,
   "metadata": {},
   "outputs": [],
   "source": [
    "os.chdir('C:\\\\Users\\\\Bruno\\\\OneDrive\\\\Área de Trabalho\\\\Microdados\\\\Datas')"
   ]
  },
  {
   "cell_type": "code",
   "execution_count": 3,
   "metadata": {},
   "outputs": [
    {
     "data": {
      "text/plain": [
       "(5738925, 33)"
      ]
     },
     "execution_count": 3,
     "metadata": {},
     "output_type": "execute_result"
    }
   ],
   "source": [
    "ano_enem = 2020\n",
    "df = pd.read_csv(f'MICRODADOS_ENEM_{ano_enem}.csv', encoding='latin1', sep=';', usecols=['NU_INSCRICAO','NU_ANO','IN_TREINEIRO','TP_PRESENCA_CN','TP_PRESENCA_CH','TP_PRESENCA_LC','TP_PRESENCA_MT','TP_ESCOLA','TP_SEXO','TP_ESTADO_CIVIL','Q005','SG_UF_PROVA','NU_NOTA_CN','NU_NOTA_CH','NU_NOTA_LC','NU_NOTA_MT','NO_MUNICIPIO_ESC','NU_NOTA_REDACAO','NO_MUNICIPIO_PROVA','TP_LINGUA','TP_DEPENDENCIA_ADM_ESC','TP_COR_RACA','CO_MUNICIPIO_PROVA','TP_FAIXA_ETARIA','TP_NACIONALIDADE','TP_ST_CONCLUSAO','TP_LOCALIZACAO_ESC','TP_SIT_FUNC_ESC','TP_FAIXA_ETARIA','NU_NOTA_COMP1','NU_NOTA_COMP2','NU_NOTA_COMP3', 'NU_NOTA_COMP4', 'NU_NOTA_COMP5','NU_NOTA_REDACAO'])\n",
    "df.shape"
   ]
  },
  {
   "cell_type": "code",
   "execution_count": null,
   "metadata": {},
   "outputs": [
    {
     "data": {
      "text/plain": [
       "(3389832, 28)"
      ]
     },
     "metadata": {},
     "output_type": "display_data"
    }
   ],
   "source": [
    "ano_enem = 2021\n",
    "df = pd.read_csv(f'MICRODADOS_ENEM_{ano_enem}.csv', encoding='latin1', sep=';', usecols=['NU_INSCRICAO','NU_ANO','IN_TREINEIRO','TP_PRESENCA_CN','TP_PRESENCA_CH','TP_PRESENCA_LC','TP_PRESENCA_MT','TP_ESCOLA','TP_SEXO','TP_ESTADO_CIVIL','Q005','SG_UF_PROVA','NU_NOTA_CN','NU_NOTA_CH','NU_NOTA_LC','NU_NOTA_MT','NO_MUNICIPIO_ESC','NU_NOTA_REDACAO','NO_MUNICIPIO_PROVA','TP_LINGUA','TP_DEPENDENCIA_ADM_ESC','TP_COR_RACA','CO_MUNICIPIO_PROVA','TP_FAIXA_ETARIA','TP_NACIONALIDADE','TP_ST_CONCLUSAO','TP_LOCALIZACAO_ESC','TP_SIT_FUNC_ESC','TP_FAIXA_ETARIA','NU_NOTA_COMP1','NU_NOTA_COMP2','NU_NOTA_COMP3', 'NU_NOTA_COMP4', 'NU_NOTA_COMP5','NU_NOTA_REDACAO'])\n",
    "df.shape"
   ]
  },
  {
   "cell_type": "code",
   "execution_count": null,
   "metadata": {},
   "outputs": [
    {
     "data": {
      "text/plain": [
       "(3476105, 33)"
      ]
     },
     "metadata": {},
     "output_type": "display_data"
    }
   ],
   "source": [
    "ano_enem = 2022\n",
    "df = pd.read_csv(f'MICRODADOS_ENEM_{ano_enem}.csv', encoding='latin1', sep=';', usecols=['NU_INSCRICAO','NU_ANO','IN_TREINEIRO','TP_PRESENCA_CN','TP_PRESENCA_CH','TP_PRESENCA_LC','TP_PRESENCA_MT','TP_ESCOLA','TP_SEXO','TP_ESTADO_CIVIL','Q005','SG_UF_PROVA','NU_NOTA_CN','NU_NOTA_CH','NU_NOTA_LC','NU_NOTA_MT','NO_MUNICIPIO_ESC','NU_NOTA_REDACAO','NO_MUNICIPIO_PROVA','TP_LINGUA','TP_DEPENDENCIA_ADM_ESC','TP_COR_RACA','CO_MUNICIPIO_PROVA','TP_FAIXA_ETARIA','TP_NACIONALIDADE','TP_ST_CONCLUSAO','TP_LOCALIZACAO_ESC','TP_SIT_FUNC_ESC','TP_FAIXA_ETARIA','NU_NOTA_COMP1','NU_NOTA_COMP2','NU_NOTA_COMP3', 'NU_NOTA_COMP4', 'NU_NOTA_COMP5','NU_NOTA_REDACAO'])\n",
    "df.shape"
   ]
  },
  {
   "cell_type": "markdown",
   "metadata": {},
   "source": [
    "#### Salvar em parquet."
   ]
  },
  {
   "cell_type": "code",
   "execution_count": null,
   "metadata": {},
   "outputs": [],
   "source": [
    "df.to_parquet('C:\\\\Users\\\\Bruno\\\\OneDrive\\\\Área de Trabalho\\\\Microdados\\\\Datas\\\\MICRODADOS_ENEM_2020.parquet', index=False)"
   ]
  },
  {
   "cell_type": "code",
   "execution_count": null,
   "metadata": {},
   "outputs": [],
   "source": [
    "ano_enem = 2020\n",
    "df_enem = pd.read_parquet(f'MICRODADOS_ENEM_{ano_enem}.parquet')"
   ]
  },
  {
   "cell_type": "markdown",
   "metadata": {},
   "source": [
    "#### Base de 2020 com diversos problemas.\n",
    "#### Apagar Nans pois a base está extremamente pesada, pois não consigo transformar o dtype em int se possui Nans ou textos, preciso fazer retiradas desses itens."
   ]
  },
  {
   "cell_type": "markdown",
   "metadata": {},
   "source": [
    "'NU_INSCRICAO','NU_ANO','IN_TREINEIRO','TP_PRESENCA_CN','TP_PRESENCA_CH','TP_PRESENCA_LC','TP_PRESENCA_MT','TP_ESCOLA','TP_SEXO','TP_ESTADO_CIVIL','Q005','SG_UF_PROVA','NU_NOTA_CN','NU_NOTA_CH','NU_NOTA_LC','NU_NOTA_MT','NO_MUNICIPIO_ESC','NU_NOTA_REDACAO','NO_MUNICIPIO_PROVA','TP_LINGUA','TP_DEPENDENCIA_ADM_ESC','TP_COR_RACA','CO_MUNICIPIO_PROVA','TP_FAIXA_ETARIA','TP_NACIONALIDADE','TP_ST_CONCLUSAO','TP_LOCALIZACAO_ESC','TP_SIT_FUNC_ESC','TP_FAIXA_ETARIA','NU_NOTA_COMP1','NU_NOTA_COMP2','NU_NOTA_COMP3', 'NU_NOTA_COMP4', 'NU_NOTA_COMP5','NU_NOTA_REDACAO'"
   ]
  },
  {
   "cell_type": "code",
   "execution_count": 190,
   "metadata": {},
   "outputs": [
    {
     "name": "stdout",
     "output_type": "stream",
     "text": [
      "<class 'pandas.core.frame.DataFrame'>\n",
      "Int64Index: 5738660 entries, 0 to 5738924\n",
      "Data columns (total 33 columns):\n",
      " #   Column                  Dtype   \n",
      "---  ------                  -----   \n",
      " 0   NU_INSCRICAO            int64   \n",
      " 1   NU_ANO                  int16   \n",
      " 2   TP_FAIXA_ETARIA         int8    \n",
      " 3   TP_SEXO                 category\n",
      " 4   TP_ESTADO_CIVIL         int8    \n",
      " 5   TP_COR_RACA             int8    \n",
      " 6   TP_NACIONALIDADE        int8    \n",
      " 7   TP_ST_CONCLUSAO         int8    \n",
      " 8   TP_ESCOLA               int8    \n",
      " 9   IN_TREINEIRO            int8    \n",
      " 10  NO_MUNICIPIO_ESC        object  \n",
      " 11  TP_DEPENDENCIA_ADM_ESC  float64 \n",
      " 12  TP_LOCALIZACAO_ESC      float64 \n",
      " 13  TP_SIT_FUNC_ESC         float64 \n",
      " 14  CO_MUNICIPIO_PROVA      int32   \n",
      " 15  NO_MUNICIPIO_PROVA      object  \n",
      " 16  SG_UF_PROVA             object  \n",
      " 17  TP_PRESENCA_CN          int8    \n",
      " 18  TP_PRESENCA_CH          int8    \n",
      " 19  TP_PRESENCA_LC          int8    \n",
      " 20  TP_PRESENCA_MT          int8    \n",
      " 21  NU_NOTA_CN              float64 \n",
      " 22  NU_NOTA_CH              float64 \n",
      " 23  NU_NOTA_LC              float64 \n",
      " 24  NU_NOTA_MT              float64 \n",
      " 25  TP_LINGUA               int8    \n",
      " 26  NU_NOTA_COMP1           float64 \n",
      " 27  NU_NOTA_COMP2           object  \n",
      " 28  NU_NOTA_COMP3           object  \n",
      " 29  NU_NOTA_COMP4           object  \n",
      " 30  NU_NOTA_COMP5           object  \n",
      " 31  NU_NOTA_REDACAO         float64 \n",
      " 32  Q005                    float64 \n",
      "dtypes: category(1), float64(10), int16(1), int32(1), int64(1), int8(12), object(7)\n",
      "memory usage: 935.9+ MB\n"
     ]
    }
   ],
   "source": [
    "df.info()"
   ]
  },
  {
   "cell_type": "code",
   "execution_count": 4,
   "metadata": {},
   "outputs": [
    {
     "data": {
      "text/plain": [
       "2"
      ]
     },
     "execution_count": 4,
     "metadata": {},
     "output_type": "execute_result"
    }
   ],
   "source": [
    "df['NU_INSCRICAO'].isna().sum()"
   ]
  },
  {
   "cell_type": "code",
   "execution_count": 5,
   "metadata": {},
   "outputs": [],
   "source": [
    "df = df.dropna(subset=[('NU_INSCRICAO')])"
   ]
  },
  {
   "cell_type": "code",
   "execution_count": 6,
   "metadata": {},
   "outputs": [],
   "source": [
    "df['NU_INSCRICAO'] = df['NU_INSCRICAO'].astype('int64')"
   ]
  },
  {
   "cell_type": "code",
   "execution_count": 166,
   "metadata": {},
   "outputs": [
    {
     "data": {
      "text/plain": [
       "(5738661, 33)"
      ]
     },
     "execution_count": 166,
     "metadata": {},
     "output_type": "execute_result"
    }
   ],
   "source": [
    "df.shape"
   ]
  },
  {
   "cell_type": "code",
   "execution_count": 167,
   "metadata": {},
   "outputs": [
    {
     "data": {
      "text/plain": [
       "264"
      ]
     },
     "execution_count": 167,
     "metadata": {},
     "output_type": "execute_result"
    }
   ],
   "source": [
    "5738925 - 5738661"
   ]
  },
  {
   "cell_type": "code",
   "execution_count": 7,
   "metadata": {},
   "outputs": [
    {
     "data": {
      "text/plain": [
       "2"
      ]
     },
     "execution_count": 7,
     "metadata": {},
     "output_type": "execute_result"
    }
   ],
   "source": [
    "df['NU_ANO'].isna().sum()"
   ]
  },
  {
   "cell_type": "code",
   "execution_count": 8,
   "metadata": {},
   "outputs": [],
   "source": [
    "df = df.dropna(subset=[('NU_ANO')])"
   ]
  },
  {
   "cell_type": "code",
   "execution_count": 9,
   "metadata": {},
   "outputs": [
    {
     "data": {
      "text/plain": [
       "array([2020, '2020', 'DABCBDDDAEDBECECBBEDEBDEECBCCCBACDCCADEBDECDD', '2',\n",
       "       'EBACACBCCBCCCBDDACCECEBDCCBCCCCCCCCCCDCCBCCCC', '20', '1', 'B',\n",
       "       'F', 'AABCBDCDAEDADDDCBCADEECEECACACDABDAEADEEBBCED', 'A',\n",
       "       'BACEBBCADEBCEDAECCD*EDCDCDDBDBCDECAABDCDDDDDD',\n",
       "       'EEACD99999BBACADDDDADCEADEAAAACBCAECAEACDBECACBCDC',\n",
       "       'BDECBCCDEDDAEBDCDDCBBEDABCCBACDBDEECCADEDBECE'], dtype=object)"
      ]
     },
     "execution_count": 9,
     "metadata": {},
     "output_type": "execute_result"
    }
   ],
   "source": [
    "df['NU_ANO'].unique()"
   ]
  },
  {
   "cell_type": "code",
   "execution_count": 10,
   "metadata": {},
   "outputs": [],
   "source": [
    "df_dif = df.loc[~df[\"NU_ANO\"].isin([2020 , '2020'])]"
   ]
  },
  {
   "cell_type": "code",
   "execution_count": 11,
   "metadata": {},
   "outputs": [
    {
     "data": {
      "text/plain": [
       "(15, 33)"
      ]
     },
     "execution_count": 11,
     "metadata": {},
     "output_type": "execute_result"
    }
   ],
   "source": [
    "df_dif.shape"
   ]
  },
  {
   "cell_type": "code",
   "execution_count": 12,
   "metadata": {},
   "outputs": [],
   "source": [
    "df = df.loc[df['NU_ANO'].isin([2020 , '2020'])]"
   ]
  },
  {
   "cell_type": "code",
   "execution_count": 13,
   "metadata": {},
   "outputs": [],
   "source": [
    "df['NU_ANO'] = df['NU_ANO'].astype('int16')"
   ]
  },
  {
   "cell_type": "code",
   "execution_count": 14,
   "metadata": {},
   "outputs": [
    {
     "data": {
      "text/plain": [
       "5"
      ]
     },
     "execution_count": 14,
     "metadata": {},
     "output_type": "execute_result"
    }
   ],
   "source": [
    "df['IN_TREINEIRO'].isna().sum()"
   ]
  },
  {
   "cell_type": "code",
   "execution_count": 15,
   "metadata": {},
   "outputs": [],
   "source": [
    "df = df.dropna(subset=[('IN_TREINEIRO')])"
   ]
  },
  {
   "cell_type": "code",
   "execution_count": 16,
   "metadata": {},
   "outputs": [
    {
     "data": {
      "text/plain": [
       "array([0, 1, '0', '1', 'DABCBDDDAEDBECECBBEDEBDEECBCCCBACDCCADEBDECDD',\n",
       "       'AAAAA99999AEBDAADADADBCABADDECDADDCEAAAACCAAAAAABC', '180', '120',\n",
       "       '377', 'D', 'BACCBABBAEBEDBADCDCEBEACBAABEDDBAABCEDDBDBCDA', '31',\n",
       "       '160'], dtype=object)"
      ]
     },
     "execution_count": 16,
     "metadata": {},
     "output_type": "execute_result"
    }
   ],
   "source": [
    "df['IN_TREINEIRO'].unique()"
   ]
  },
  {
   "cell_type": "code",
   "execution_count": 16,
   "metadata": {},
   "outputs": [],
   "source": [
    "df_dif = df.loc[~df['IN_TREINEIRO'].isin([0 , 1, '0', '1'])]"
   ]
  },
  {
   "cell_type": "code",
   "execution_count": 17,
   "metadata": {},
   "outputs": [],
   "source": [
    "df = df.loc[df['IN_TREINEIRO'].isin([0 , 1, '0', '1'])]"
   ]
  },
  {
   "cell_type": "code",
   "execution_count": 18,
   "metadata": {},
   "outputs": [],
   "source": [
    "df['IN_TREINEIRO'] = df['IN_TREINEIRO'].astype('int8')"
   ]
  },
  {
   "cell_type": "code",
   "execution_count": 19,
   "metadata": {},
   "outputs": [
    {
     "data": {
      "text/plain": [
       "0"
      ]
     },
     "execution_count": 19,
     "metadata": {},
     "output_type": "execute_result"
    }
   ],
   "source": [
    "df['TP_FAIXA_ETARIA'].isna().sum()"
   ]
  },
  {
   "cell_type": "code",
   "execution_count": 22,
   "metadata": {},
   "outputs": [
    {
     "data": {
      "text/plain": [
       "array([11,  4,  2,  3,  9,  5,  6,  7, 13, 10, 12,  8,  1, 15, 16, 14, 17,\n",
       "       18, 19, 20], dtype=int8)"
      ]
     },
     "execution_count": 22,
     "metadata": {},
     "output_type": "execute_result"
    }
   ],
   "source": [
    "df['TP_FAIXA_ETARIA'].unique()"
   ]
  },
  {
   "cell_type": "code",
   "execution_count": 21,
   "metadata": {},
   "outputs": [],
   "source": [
    "df['TP_FAIXA_ETARIA'] = df['TP_FAIXA_ETARIA'].astype('int8')"
   ]
  },
  {
   "cell_type": "code",
   "execution_count": 23,
   "metadata": {},
   "outputs": [
    {
     "data": {
      "text/plain": [
       "0"
      ]
     },
     "execution_count": 23,
     "metadata": {},
     "output_type": "execute_result"
    }
   ],
   "source": [
    "df['TP_SEXO'].isna().sum()"
   ]
  },
  {
   "cell_type": "code",
   "execution_count": 24,
   "metadata": {},
   "outputs": [
    {
     "data": {
      "text/plain": [
       "array(['F', 'M'], dtype=object)"
      ]
     },
     "execution_count": 24,
     "metadata": {},
     "output_type": "execute_result"
    }
   ],
   "source": [
    "df['TP_SEXO'].unique()"
   ]
  },
  {
   "cell_type": "code",
   "execution_count": 25,
   "metadata": {},
   "outputs": [],
   "source": [
    "df['TP_SEXO'] = df['TP_SEXO'].astype('category')"
   ]
  },
  {
   "cell_type": "code",
   "execution_count": 26,
   "metadata": {},
   "outputs": [
    {
     "data": {
      "text/plain": [
       "1"
      ]
     },
     "execution_count": 26,
     "metadata": {},
     "output_type": "execute_result"
    }
   ],
   "source": [
    "df['TP_ESTADO_CIVIL'].isna().sum()"
   ]
  },
  {
   "cell_type": "code",
   "execution_count": 27,
   "metadata": {},
   "outputs": [],
   "source": [
    "df = df.dropna(subset=[('TP_ESTADO_CIVIL')])"
   ]
  },
  {
   "cell_type": "code",
   "execution_count": 28,
   "metadata": {},
   "outputs": [
    {
     "data": {
      "text/plain": [
       "array([1, 2, 0, 3, 4, '1', '3', '0', '2', '4'], dtype=object)"
      ]
     },
     "execution_count": 28,
     "metadata": {},
     "output_type": "execute_result"
    }
   ],
   "source": [
    "df['TP_ESTADO_CIVIL'].unique()"
   ]
  },
  {
   "cell_type": "code",
   "execution_count": 29,
   "metadata": {},
   "outputs": [],
   "source": [
    "df['TP_ESTADO_CIVIL'] = df['TP_ESTADO_CIVIL'].astype('int8')"
   ]
  },
  {
   "cell_type": "code",
   "execution_count": 30,
   "metadata": {},
   "outputs": [
    {
     "data": {
      "text/plain": [
       "0"
      ]
     },
     "execution_count": 30,
     "metadata": {},
     "output_type": "execute_result"
    }
   ],
   "source": [
    "df['TP_COR_RACA'].isna().sum()"
   ]
  },
  {
   "cell_type": "code",
   "execution_count": 31,
   "metadata": {},
   "outputs": [
    {
     "data": {
      "text/plain": [
       "array([2, 3, 1, 0, 4, 5, '3', '1', '0', '2', '4', '5'], dtype=object)"
      ]
     },
     "execution_count": 31,
     "metadata": {},
     "output_type": "execute_result"
    }
   ],
   "source": [
    "df['TP_COR_RACA'].unique()"
   ]
  },
  {
   "cell_type": "code",
   "execution_count": 32,
   "metadata": {},
   "outputs": [],
   "source": [
    "df['TP_COR_RACA'] = df['TP_COR_RACA'].astype('int8')"
   ]
  },
  {
   "cell_type": "code",
   "execution_count": 33,
   "metadata": {},
   "outputs": [
    {
     "data": {
      "text/plain": [
       "0"
      ]
     },
     "execution_count": 33,
     "metadata": {},
     "output_type": "execute_result"
    }
   ],
   "source": [
    "df['TP_NACIONALIDADE'].isna().sum()"
   ]
  },
  {
   "cell_type": "code",
   "execution_count": 34,
   "metadata": {},
   "outputs": [
    {
     "data": {
      "text/plain": [
       "array([1, 2, 4, 3, 0, '1', '2', '3', '4', '0'], dtype=object)"
      ]
     },
     "execution_count": 34,
     "metadata": {},
     "output_type": "execute_result"
    }
   ],
   "source": [
    "df['TP_NACIONALIDADE'].unique()"
   ]
  },
  {
   "cell_type": "code",
   "execution_count": 35,
   "metadata": {},
   "outputs": [],
   "source": [
    "df['TP_NACIONALIDADE'] = df['TP_NACIONALIDADE'].astype('int8')"
   ]
  },
  {
   "cell_type": "code",
   "execution_count": 36,
   "metadata": {},
   "outputs": [
    {
     "data": {
      "text/plain": [
       "0"
      ]
     },
     "execution_count": 36,
     "metadata": {},
     "output_type": "execute_result"
    }
   ],
   "source": [
    "df['TP_ST_CONCLUSAO'].isna().sum()"
   ]
  },
  {
   "cell_type": "code",
   "execution_count": 37,
   "metadata": {},
   "outputs": [
    {
     "data": {
      "text/plain": [
       "array([1, 2, 3, 4, '2', '3', '1', '4'], dtype=object)"
      ]
     },
     "execution_count": 37,
     "metadata": {},
     "output_type": "execute_result"
    }
   ],
   "source": [
    "df['TP_ST_CONCLUSAO'].unique()"
   ]
  },
  {
   "cell_type": "code",
   "execution_count": 38,
   "metadata": {},
   "outputs": [],
   "source": [
    "df['TP_ST_CONCLUSAO'] = df['TP_ST_CONCLUSAO'].astype('int8')"
   ]
  },
  {
   "cell_type": "code",
   "execution_count": 39,
   "metadata": {},
   "outputs": [
    {
     "data": {
      "text/plain": [
       "0"
      ]
     },
     "execution_count": 39,
     "metadata": {},
     "output_type": "execute_result"
    }
   ],
   "source": [
    "df['TP_ESCOLA'].isna().sum()"
   ]
  },
  {
   "cell_type": "markdown",
   "metadata": {},
   "source": [
    "##### Verificar esse o original pra ver se tem o 4"
   ]
  },
  {
   "cell_type": "code",
   "execution_count": 43,
   "metadata": {},
   "outputs": [
    {
     "data": {
      "text/plain": [
       "array([1, 2, 3], dtype=int8)"
      ]
     },
     "execution_count": 43,
     "metadata": {},
     "output_type": "execute_result"
    }
   ],
   "source": [
    "df['TP_ESCOLA'].unique()"
   ]
  },
  {
   "cell_type": "code",
   "execution_count": 41,
   "metadata": {},
   "outputs": [],
   "source": [
    "df = df.loc[df['TP_ESCOLA'].isin([0 , 1, 2, 3, 4, '0', '1' , '2', '3', '4'])]"
   ]
  },
  {
   "cell_type": "code",
   "execution_count": 42,
   "metadata": {},
   "outputs": [],
   "source": [
    "df['TP_ESCOLA'] = df['TP_ESCOLA'].astype('int8')"
   ]
  },
  {
   "cell_type": "markdown",
   "metadata": {},
   "source": [
    "##### Não posso apagar o NA nesse caso."
   ]
  },
  {
   "cell_type": "code",
   "execution_count": 44,
   "metadata": {},
   "outputs": [
    {
     "data": {
      "text/plain": [
       "4840960"
      ]
     },
     "execution_count": 44,
     "metadata": {},
     "output_type": "execute_result"
    }
   ],
   "source": [
    "df['NO_MUNICIPIO_ESC'].isna().sum()"
   ]
  },
  {
   "cell_type": "code",
   "execution_count": 87,
   "metadata": {},
   "outputs": [
    {
     "data": {
      "text/plain": [
       "array([nan, 'Salvador', 'Santana de Parnaíba', ..., 'Doutor Ricardo',\n",
       "       'Boa Esperança do Iguaçu', 'Pouso Novo'], dtype=object)"
      ]
     },
     "execution_count": 87,
     "metadata": {},
     "output_type": "execute_result"
    }
   ],
   "source": [
    "df['NO_MUNICIPIO_ESC'].unique()"
   ]
  },
  {
   "cell_type": "code",
   "execution_count": 45,
   "metadata": {},
   "outputs": [],
   "source": [
    "df['NO_MUNICIPIO_ESC'] = df['NO_MUNICIPIO_ESC'].astype('str')"
   ]
  },
  {
   "cell_type": "code",
   "execution_count": 46,
   "metadata": {},
   "outputs": [
    {
     "data": {
      "text/plain": [
       "4840960"
      ]
     },
     "execution_count": 46,
     "metadata": {},
     "output_type": "execute_result"
    }
   ],
   "source": [
    "df['TP_DEPENDENCIA_ADM_ESC'].isna().sum()"
   ]
  },
  {
   "cell_type": "code",
   "execution_count": 51,
   "metadata": {},
   "outputs": [
    {
     "data": {
      "text/plain": [
       "array([nan,  2.,  3.,  1.,  4.])"
      ]
     },
     "execution_count": 51,
     "metadata": {},
     "output_type": "execute_result"
    }
   ],
   "source": [
    "df['TP_DEPENDENCIA_ADM_ESC'].unique()"
   ]
  },
  {
   "cell_type": "code",
   "execution_count": 40,
   "metadata": {},
   "outputs": [],
   "source": [
    "df_dif = df.loc[~df['TP_DEPENDENCIA_ADM_ESC'].isna() & ~df['TP_DEPENDENCIA_ADM_ESC'].isin([1 , 2, 3, 4, '1', '2', '3', '4'])]"
   ]
  },
  {
   "cell_type": "code",
   "execution_count": 48,
   "metadata": {},
   "outputs": [
    {
     "data": {
      "text/plain": [
       "array(['B', 'C', '1', 'A', 'F', nan, 'G', 'H'], dtype=object)"
      ]
     },
     "execution_count": 48,
     "metadata": {},
     "output_type": "execute_result"
    }
   ],
   "source": [
    "df_dif['TP_DEPENDENCIA_ADM_ESC'].unique()"
   ]
  },
  {
   "cell_type": "code",
   "execution_count": 42,
   "metadata": {},
   "outputs": [
    {
     "data": {
      "text/plain": [
       "(9, 33)"
      ]
     },
     "execution_count": 42,
     "metadata": {},
     "output_type": "execute_result"
    }
   ],
   "source": [
    "df_dif.shape"
   ]
  },
  {
   "cell_type": "code",
   "execution_count": 49,
   "metadata": {},
   "outputs": [],
   "source": [
    "df = df.loc[df['TP_DEPENDENCIA_ADM_ESC'].isna() | df['TP_DEPENDENCIA_ADM_ESC'].isin([1, 2, 3, 4, '1', '2', '3', '4'])]"
   ]
  },
  {
   "cell_type": "code",
   "execution_count": 50,
   "metadata": {},
   "outputs": [],
   "source": [
    "df['TP_DEPENDENCIA_ADM_ESC'] = df['TP_DEPENDENCIA_ADM_ESC'].astype('float64')"
   ]
  },
  {
   "cell_type": "code",
   "execution_count": 52,
   "metadata": {},
   "outputs": [
    {
     "data": {
      "text/plain": [
       "4840957"
      ]
     },
     "execution_count": 52,
     "metadata": {},
     "output_type": "execute_result"
    }
   ],
   "source": [
    "df['TP_LOCALIZACAO_ESC'].isna().sum()"
   ]
  },
  {
   "cell_type": "code",
   "execution_count": 53,
   "metadata": {},
   "outputs": [
    {
     "data": {
      "text/plain": [
       "array([nan, 1.0, 2.0, '1', '2', '568',\n",
       "       'DABCBDDDAEDBECECBBEDEBDEECBCCCBACDCCADEBDECDD', '120', '160', 'F',\n",
       "       'A'], dtype=object)"
      ]
     },
     "execution_count": 53,
     "metadata": {},
     "output_type": "execute_result"
    }
   ],
   "source": [
    "df['TP_LOCALIZACAO_ESC'].unique()"
   ]
  },
  {
   "cell_type": "code",
   "execution_count": 48,
   "metadata": {},
   "outputs": [],
   "source": [
    "df_dif = df.loc[~df['TP_LOCALIZACAO_ESC'].isna() & ~df['TP_LOCALIZACAO_ESC'].isin([1 , 2, '1', '2'])]"
   ]
  },
  {
   "cell_type": "code",
   "execution_count": 49,
   "metadata": {},
   "outputs": [
    {
     "data": {
      "text/plain": [
       "(6, 33)"
      ]
     },
     "execution_count": 49,
     "metadata": {},
     "output_type": "execute_result"
    }
   ],
   "source": [
    "df_dif.shape"
   ]
  },
  {
   "cell_type": "code",
   "execution_count": 54,
   "metadata": {},
   "outputs": [],
   "source": [
    "df = df.loc[df['TP_LOCALIZACAO_ESC'].isna() | df['TP_LOCALIZACAO_ESC'].isin([1, 2 ,'1', '2'])]"
   ]
  },
  {
   "cell_type": "code",
   "execution_count": 55,
   "metadata": {},
   "outputs": [],
   "source": [
    "df['TP_LOCALIZACAO_ESC'] = df['TP_LOCALIZACAO_ESC'].astype('float64')"
   ]
  },
  {
   "cell_type": "code",
   "execution_count": 56,
   "metadata": {},
   "outputs": [
    {
     "data": {
      "text/plain": [
       "4840956"
      ]
     },
     "execution_count": 56,
     "metadata": {},
     "output_type": "execute_result"
    }
   ],
   "source": [
    "df['TP_SIT_FUNC_ESC'].isna().sum()"
   ]
  },
  {
   "cell_type": "code",
   "execution_count": 60,
   "metadata": {},
   "outputs": [
    {
     "data": {
      "text/plain": [
       "array([nan,  1.,  4.,  2.,  3.])"
      ]
     },
     "execution_count": 60,
     "metadata": {},
     "output_type": "execute_result"
    }
   ],
   "source": [
    "df['TP_SIT_FUNC_ESC'].unique()"
   ]
  },
  {
   "cell_type": "code",
   "execution_count": 57,
   "metadata": {},
   "outputs": [],
   "source": [
    "df_dif = df.loc[~df['TP_SIT_FUNC_ESC'].isna() & ~df['TP_SIT_FUNC_ESC'].isin([1 , 2, 3, 4, '1', '2', '3', '4'])]"
   ]
  },
  {
   "cell_type": "code",
   "execution_count": 58,
   "metadata": {},
   "outputs": [
    {
     "data": {
      "text/plain": [
       "(3, 33)"
      ]
     },
     "execution_count": 58,
     "metadata": {},
     "output_type": "execute_result"
    }
   ],
   "source": [
    "df_dif.shape"
   ]
  },
  {
   "cell_type": "code",
   "execution_count": 58,
   "metadata": {},
   "outputs": [],
   "source": [
    "df = df.loc[df['TP_SIT_FUNC_ESC'].isna() | df['TP_SIT_FUNC_ESC'].isin([1, 2, 3, 4, '1', '2', '3', '4'])]"
   ]
  },
  {
   "cell_type": "code",
   "execution_count": 59,
   "metadata": {},
   "outputs": [],
   "source": [
    "df['TP_SIT_FUNC_ESC'] = df['TP_SIT_FUNC_ESC'].astype('float64')"
   ]
  },
  {
   "cell_type": "code",
   "execution_count": 61,
   "metadata": {},
   "outputs": [
    {
     "data": {
      "text/plain": [
       "2"
      ]
     },
     "execution_count": 61,
     "metadata": {},
     "output_type": "execute_result"
    }
   ],
   "source": [
    "df['CO_MUNICIPIO_PROVA'].isna().sum()"
   ]
  },
  {
   "cell_type": "code",
   "execution_count": 62,
   "metadata": {},
   "outputs": [],
   "source": [
    "df = df.dropna(subset=[('CO_MUNICIPIO_PROVA')])"
   ]
  },
  {
   "cell_type": "code",
   "execution_count": 63,
   "metadata": {},
   "outputs": [
    {
     "data": {
      "text/plain": [
       "array([1501402, 2408102, 2927408, ..., '2306702', '5103254', '3200805'],\n",
       "      dtype=object)"
      ]
     },
     "execution_count": 63,
     "metadata": {},
     "output_type": "execute_result"
    }
   ],
   "source": [
    "df['CO_MUNICIPIO_PROVA'].unique()"
   ]
  },
  {
   "cell_type": "code",
   "execution_count": 64,
   "metadata": {},
   "outputs": [],
   "source": [
    "df['CO_MUNICIPIO_PROVA'] = df['CO_MUNICIPIO_PROVA'].astype('int32')"
   ]
  },
  {
   "cell_type": "code",
   "execution_count": 65,
   "metadata": {},
   "outputs": [
    {
     "data": {
      "text/plain": [
       "2"
      ]
     },
     "execution_count": 65,
     "metadata": {},
     "output_type": "execute_result"
    }
   ],
   "source": [
    "df['NO_MUNICIPIO_PROVA'].isna().sum()"
   ]
  },
  {
   "cell_type": "code",
   "execution_count": 66,
   "metadata": {},
   "outputs": [],
   "source": [
    "df = df.dropna(subset=[('NO_MUNICIPIO_PROVA')])"
   ]
  },
  {
   "cell_type": "code",
   "execution_count": 67,
   "metadata": {},
   "outputs": [
    {
     "data": {
      "text/plain": [
       "array(['Belém', 'Natal', 'Salvador', ..., 'Sã', 'B', 'Floria'],\n",
       "      dtype=object)"
      ]
     },
     "execution_count": 67,
     "metadata": {},
     "output_type": "execute_result"
    }
   ],
   "source": [
    "df['NO_MUNICIPIO_PROVA'].unique()"
   ]
  },
  {
   "cell_type": "code",
   "execution_count": 68,
   "metadata": {},
   "outputs": [],
   "source": [
    "df['NO_MUNICIPIO_PROVA'] = df['NO_MUNICIPIO_PROVA'].astype('str')"
   ]
  },
  {
   "cell_type": "code",
   "execution_count": 69,
   "metadata": {},
   "outputs": [
    {
     "data": {
      "text/plain": [
       "2"
      ]
     },
     "execution_count": 69,
     "metadata": {},
     "output_type": "execute_result"
    }
   ],
   "source": [
    "df['SG_UF_PROVA'].isna().sum()"
   ]
  },
  {
   "cell_type": "code",
   "execution_count": 70,
   "metadata": {},
   "outputs": [],
   "source": [
    "df = df.dropna(subset=[('SG_UF_PROVA')])"
   ]
  },
  {
   "cell_type": "code",
   "execution_count": 74,
   "metadata": {},
   "outputs": [
    {
     "data": {
      "text/plain": [
       "array(['PA', 'RN', 'BA', 'SP', 'MG', 'RS', 'PE', 'PB', 'CE', 'MS', 'SE',\n",
       "       'PR', 'AL', 'AM', 'TO', 'RJ', 'DF', 'GO', 'MA', 'PI', 'MT', 'ES',\n",
       "       'AP', 'SC', 'RR', 'AC', 'RO'], dtype=object)"
      ]
     },
     "execution_count": 74,
     "metadata": {},
     "output_type": "execute_result"
    }
   ],
   "source": [
    "df['SG_UF_PROVA'].unique()"
   ]
  },
  {
   "cell_type": "code",
   "execution_count": 82,
   "metadata": {},
   "outputs": [],
   "source": [
    "df_dif = df[df['SG_UF_PROVA'].isin(['B', '598.2', 'DAEAAEADCBBDBEBADDCBEACBDEBACCDCDADDECBBAECEC', 'AAACC99999DBACDAADABDCEDCCBCADECACADEABDDAABBCBAAA', 'AEBCCXCCCACCDABCCABCABCBAECEDBBDBEEEDBBACCDAC', '2020', '99999CDEEBCEDDAAAADADEEDABBBCAEDEDADAEDABDCAEBDAAA', '521.6', 'S', '100', 'A', '505.9'])]"
   ]
  },
  {
   "cell_type": "code",
   "execution_count": 83,
   "metadata": {},
   "outputs": [
    {
     "data": {
      "text/plain": [
       "(13, 33)"
      ]
     },
     "execution_count": 83,
     "metadata": {},
     "output_type": "execute_result"
    }
   ],
   "source": [
    "df_dif.shape"
   ]
  },
  {
   "cell_type": "code",
   "execution_count": 72,
   "metadata": {},
   "outputs": [],
   "source": [
    "df = df[~df['SG_UF_PROVA'].isin(['B', '598.2', 'DAEAAEADCBBDBEBADDCBEACBDEBACCDCDADDECBBAECEC', 'AAACC99999DBACDAADABDCEDCCBCADECACADEABDDAABBCBAAA', 'AEBCCXCCCACCDABCCABCABCBAECEDBBDBEEEDBBACCDAC', '2020', '99999CDEEBCEDDAAAADADEEDABBBCAEDEDADAEDABDCAEBDAAA', '521.6', 'S', '100', 'A', '505.9'])]"
   ]
  },
  {
   "cell_type": "code",
   "execution_count": 73,
   "metadata": {},
   "outputs": [],
   "source": [
    "df['SG_UF_PROVA'] = df['SG_UF_PROVA'].astype('str')"
   ]
  },
  {
   "cell_type": "code",
   "execution_count": 75,
   "metadata": {},
   "outputs": [
    {
     "data": {
      "text/plain": [
       "0"
      ]
     },
     "execution_count": 75,
     "metadata": {},
     "output_type": "execute_result"
    }
   ],
   "source": [
    "df['TP_PRESENCA_CN'].isna().sum()"
   ]
  },
  {
   "cell_type": "code",
   "execution_count": 76,
   "metadata": {},
   "outputs": [
    {
     "data": {
      "text/plain": [
       "array([0, 1, 2, '1', '0', '2',\n",
       "       'AACDEEEECADBBCAAADBADEABEBAAADEBADADAEBDACAACBBECE', 'A'],\n",
       "      dtype=object)"
      ]
     },
     "execution_count": 76,
     "metadata": {},
     "output_type": "execute_result"
    }
   ],
   "source": [
    "df['TP_PRESENCA_CN'].unique()"
   ]
  },
  {
   "cell_type": "code",
   "execution_count": 109,
   "metadata": {},
   "outputs": [],
   "source": [
    "df_dif = df.loc[~df['TP_PRESENCA_CN'].isin([0 , 1, 2, '0', '1', '2'])]"
   ]
  },
  {
   "cell_type": "code",
   "execution_count": 110,
   "metadata": {},
   "outputs": [
    {
     "data": {
      "text/plain": [
       "(2, 33)"
      ]
     },
     "execution_count": 110,
     "metadata": {},
     "output_type": "execute_result"
    }
   ],
   "source": [
    "df_dif.shape"
   ]
  },
  {
   "cell_type": "code",
   "execution_count": 77,
   "metadata": {},
   "outputs": [],
   "source": [
    "df = df.loc[df['TP_PRESENCA_CN'].isin([0 , 1, 2, '0', '1', '2'])]"
   ]
  },
  {
   "cell_type": "code",
   "execution_count": 78,
   "metadata": {},
   "outputs": [],
   "source": [
    "df['TP_PRESENCA_CN'] = df['TP_PRESENCA_CN'].astype('int8')"
   ]
  },
  {
   "cell_type": "code",
   "execution_count": 79,
   "metadata": {},
   "outputs": [
    {
     "data": {
      "text/plain": [
       "1"
      ]
     },
     "execution_count": 79,
     "metadata": {},
     "output_type": "execute_result"
    }
   ],
   "source": [
    "df['TP_PRESENCA_CH'].isna().sum()"
   ]
  },
  {
   "cell_type": "code",
   "execution_count": 80,
   "metadata": {},
   "outputs": [],
   "source": [
    "df = df.dropna(subset=[('TP_PRESENCA_CH')])"
   ]
  },
  {
   "cell_type": "code",
   "execution_count": 81,
   "metadata": {},
   "outputs": [
    {
     "data": {
      "text/plain": [
       "array([0, 1, 2, '1', '0', '2', 'A'], dtype=object)"
      ]
     },
     "execution_count": 81,
     "metadata": {},
     "output_type": "execute_result"
    }
   ],
   "source": [
    "df['TP_PRESENCA_CH'].unique()"
   ]
  },
  {
   "cell_type": "code",
   "execution_count": 82,
   "metadata": {},
   "outputs": [],
   "source": [
    "df_dif = df.loc[~df['TP_PRESENCA_CH'].isin([0 , 1, 2, '0', '1', '2'])]"
   ]
  },
  {
   "cell_type": "code",
   "execution_count": 123,
   "metadata": {},
   "outputs": [
    {
     "data": {
      "text/plain": [
       "(1, 33)"
      ]
     },
     "execution_count": 123,
     "metadata": {},
     "output_type": "execute_result"
    }
   ],
   "source": [
    "df_dif.shape"
   ]
  },
  {
   "cell_type": "code",
   "execution_count": 83,
   "metadata": {},
   "outputs": [],
   "source": [
    "df = df.loc[df['TP_PRESENCA_CH'].isin([0 , 1, 2, '0', '1', '2'])]"
   ]
  },
  {
   "cell_type": "code",
   "execution_count": 84,
   "metadata": {},
   "outputs": [],
   "source": [
    "df['TP_PRESENCA_CH'] = df['TP_PRESENCA_CH'].astype('int8')"
   ]
  },
  {
   "cell_type": "code",
   "execution_count": 85,
   "metadata": {},
   "outputs": [
    {
     "data": {
      "text/plain": [
       "0"
      ]
     },
     "execution_count": 85,
     "metadata": {},
     "output_type": "execute_result"
    }
   ],
   "source": [
    "df['TP_PRESENCA_LC'].isna().sum()"
   ]
  },
  {
   "cell_type": "code",
   "execution_count": 86,
   "metadata": {},
   "outputs": [
    {
     "data": {
      "text/plain": [
       "array([0, 1, 2, '1', '0', '2', 'B', 'A'], dtype=object)"
      ]
     },
     "execution_count": 86,
     "metadata": {},
     "output_type": "execute_result"
    }
   ],
   "source": [
    "df['TP_PRESENCA_LC'].unique()"
   ]
  },
  {
   "cell_type": "code",
   "execution_count": 132,
   "metadata": {},
   "outputs": [],
   "source": [
    "df_dif = df.loc[~df['TP_PRESENCA_LC'].isin([0 , 1, 2, '0', '1', '2'])]"
   ]
  },
  {
   "cell_type": "code",
   "execution_count": 133,
   "metadata": {},
   "outputs": [
    {
     "data": {
      "text/plain": [
       "(2, 33)"
      ]
     },
     "execution_count": 133,
     "metadata": {},
     "output_type": "execute_result"
    }
   ],
   "source": [
    "df_dif.shape"
   ]
  },
  {
   "cell_type": "code",
   "execution_count": 87,
   "metadata": {},
   "outputs": [],
   "source": [
    "df = df.loc[df['TP_PRESENCA_LC'].isin([0 , 1, 2, '0', '1', '2'])]"
   ]
  },
  {
   "cell_type": "code",
   "execution_count": 88,
   "metadata": {},
   "outputs": [],
   "source": [
    "df['TP_PRESENCA_LC'] = df['TP_PRESENCA_LC'].astype('int8')"
   ]
  },
  {
   "cell_type": "code",
   "execution_count": 89,
   "metadata": {},
   "outputs": [
    {
     "data": {
      "text/plain": [
       "2"
      ]
     },
     "execution_count": 89,
     "metadata": {},
     "output_type": "execute_result"
    }
   ],
   "source": [
    "df['TP_PRESENCA_MT'].isna().sum()"
   ]
  },
  {
   "cell_type": "code",
   "execution_count": 90,
   "metadata": {},
   "outputs": [],
   "source": [
    "df = df.dropna(subset=[('TP_PRESENCA_MT')])"
   ]
  },
  {
   "cell_type": "code",
   "execution_count": 94,
   "metadata": {},
   "outputs": [
    {
     "data": {
      "text/plain": [
       "array([0, 1, 2], dtype=int8)"
      ]
     },
     "execution_count": 94,
     "metadata": {},
     "output_type": "execute_result"
    }
   ],
   "source": [
    "df['TP_PRESENCA_MT'].unique()"
   ]
  },
  {
   "cell_type": "code",
   "execution_count": 142,
   "metadata": {},
   "outputs": [],
   "source": [
    "df_dif = df.loc[~df['TP_PRESENCA_MT'].isin([0 , 1, 2, '0', '1', '2'])]"
   ]
  },
  {
   "cell_type": "code",
   "execution_count": 143,
   "metadata": {},
   "outputs": [
    {
     "data": {
      "text/plain": [
       "(1, 33)"
      ]
     },
     "execution_count": 143,
     "metadata": {},
     "output_type": "execute_result"
    }
   ],
   "source": [
    "df_dif.shape"
   ]
  },
  {
   "cell_type": "code",
   "execution_count": 92,
   "metadata": {},
   "outputs": [],
   "source": [
    "df = df.loc[df['TP_PRESENCA_MT'].isin([0 , 1, 2, '0', '1', '2'])]"
   ]
  },
  {
   "cell_type": "code",
   "execution_count": 93,
   "metadata": {},
   "outputs": [],
   "source": [
    "df['TP_PRESENCA_MT'] = df['TP_PRESENCA_MT'].astype('int8')"
   ]
  },
  {
   "cell_type": "code",
   "execution_count": 95,
   "metadata": {},
   "outputs": [
    {
     "data": {
      "text/plain": [
       "3159342"
      ]
     },
     "execution_count": 95,
     "metadata": {},
     "output_type": "execute_result"
    }
   ],
   "source": [
    "df['NU_NOTA_CN'].isna().sum()"
   ]
  },
  {
   "cell_type": "code",
   "execution_count": 96,
   "metadata": {},
   "outputs": [
    {
     "data": {
      "text/plain": [
       "array([nan, 604.1, 620.8, ..., 787.9, 785.2, 808.3], dtype=object)"
      ]
     },
     "execution_count": 96,
     "metadata": {},
     "output_type": "execute_result"
    }
   ],
   "source": [
    "df['NU_NOTA_CN'].unique()"
   ]
  },
  {
   "cell_type": "code",
   "execution_count": 115,
   "metadata": {},
   "outputs": [],
   "source": [
    "df['NU_NOTA_CN'] = pd.to_numeric(df['NU_NOTA_CN'], errors='coerce')\n",
    "\n"
   ]
  },
  {
   "cell_type": "code",
   "execution_count": 116,
   "metadata": {},
   "outputs": [],
   "source": [
    "df['NU_NOTA_CN'] = df['NU_NOTA_CN'].astype('float64')"
   ]
  },
  {
   "cell_type": "code",
   "execution_count": 125,
   "metadata": {},
   "outputs": [
    {
     "data": {
      "text/plain": [
       "3003916"
      ]
     },
     "execution_count": 125,
     "metadata": {},
     "output_type": "execute_result"
    }
   ],
   "source": [
    "df['NU_NOTA_CH'].isna().sum()"
   ]
  },
  {
   "cell_type": "code",
   "execution_count": 123,
   "metadata": {},
   "outputs": [],
   "source": [
    "df['NU_NOTA_CH'] = pd.to_numeric(df['NU_NOTA_CH'], errors='coerce')\n"
   ]
  },
  {
   "cell_type": "code",
   "execution_count": 126,
   "metadata": {},
   "outputs": [],
   "source": [
    "df['NU_NOTA_CH'] = df['NU_NOTA_CH'].astype('float64')"
   ]
  },
  {
   "cell_type": "code",
   "execution_count": 129,
   "metadata": {},
   "outputs": [
    {
     "data": {
      "text/plain": [
       "3003917"
      ]
     },
     "execution_count": 129,
     "metadata": {},
     "output_type": "execute_result"
    }
   ],
   "source": [
    "df['NU_NOTA_LC'].isna().sum()"
   ]
  },
  {
   "cell_type": "code",
   "execution_count": 128,
   "metadata": {},
   "outputs": [],
   "source": [
    "df['NU_NOTA_LC'] = pd.to_numeric(df['NU_NOTA_LC'], errors='coerce')\n"
   ]
  },
  {
   "cell_type": "code",
   "execution_count": 130,
   "metadata": {},
   "outputs": [],
   "source": [
    "df['NU_NOTA_LC'] = df['NU_NOTA_LC'].astype('float64')"
   ]
  },
  {
   "cell_type": "code",
   "execution_count": 134,
   "metadata": {},
   "outputs": [
    {
     "data": {
      "text/plain": [
       "3159347"
      ]
     },
     "execution_count": 134,
     "metadata": {},
     "output_type": "execute_result"
    }
   ],
   "source": [
    "df['NU_NOTA_MT'].isna().sum()"
   ]
  },
  {
   "cell_type": "code",
   "execution_count": 133,
   "metadata": {},
   "outputs": [],
   "source": [
    "df['NU_NOTA_MT'] = pd.to_numeric(df['NU_NOTA_MT'], errors='coerce')"
   ]
  },
  {
   "cell_type": "code",
   "execution_count": 135,
   "metadata": {},
   "outputs": [],
   "source": [
    "df['NU_NOTA_MT'] = df['NU_NOTA_MT'].astype('float64')"
   ]
  },
  {
   "cell_type": "code",
   "execution_count": 138,
   "metadata": {},
   "outputs": [
    {
     "data": {
      "text/plain": [
       "0"
      ]
     },
     "execution_count": 138,
     "metadata": {},
     "output_type": "execute_result"
    }
   ],
   "source": [
    "df['TP_LINGUA'].isna().sum()"
   ]
  },
  {
   "cell_type": "code",
   "execution_count": 137,
   "metadata": {},
   "outputs": [],
   "source": [
    "df = df.dropna(subset=[('TP_LINGUA')])"
   ]
  },
  {
   "cell_type": "code",
   "execution_count": 147,
   "metadata": {},
   "outputs": [
    {
     "data": {
      "text/plain": [
       "array([1, 0], dtype=int8)"
      ]
     },
     "execution_count": 147,
     "metadata": {},
     "output_type": "execute_result"
    }
   ],
   "source": [
    "df['TP_LINGUA'].unique()"
   ]
  },
  {
   "cell_type": "code",
   "execution_count": 140,
   "metadata": {},
   "outputs": [],
   "source": [
    "df_dif = df.loc[~df['TP_LINGUA'].isin([0 , 1, '0', '1'])]"
   ]
  },
  {
   "cell_type": "code",
   "execution_count": 141,
   "metadata": {},
   "outputs": [
    {
     "data": {
      "text/plain": [
       "(84, 33)"
      ]
     },
     "execution_count": 141,
     "metadata": {},
     "output_type": "execute_result"
    }
   ],
   "source": [
    "df_dif.shape"
   ]
  },
  {
   "cell_type": "code",
   "execution_count": 143,
   "metadata": {},
   "outputs": [],
   "source": [
    "df = df.loc[df['TP_LINGUA'].isin([0 , 1, '0', '1'])]"
   ]
  },
  {
   "cell_type": "code",
   "execution_count": 144,
   "metadata": {},
   "outputs": [],
   "source": [
    "df['TP_LINGUA'] = df['TP_LINGUA'].astype('int8')"
   ]
  },
  {
   "cell_type": "code",
   "execution_count": 152,
   "metadata": {},
   "outputs": [
    {
     "data": {
      "text/plain": [
       "3003950"
      ]
     },
     "execution_count": 152,
     "metadata": {},
     "output_type": "execute_result"
    }
   ],
   "source": [
    "df['NU_NOTA_REDACAO'].isna().sum()"
   ]
  },
  {
   "cell_type": "code",
   "execution_count": 155,
   "metadata": {},
   "outputs": [
    {
     "data": {
      "text/plain": [
       "array([         nan, 5.800000e+02, 7.600000e+02, 7.000000e+02,\n",
       "       6.000000e+02, 6.400000e+02, 8.000000e+02, 5.000000e+02,\n",
       "       9.200000e+02, 5.200000e+02, 7.400000e+02, 6.200000e+02,\n",
       "       0.000000e+00, 7.200000e+02, 5.400000e+02, 9.600000e+02,\n",
       "       8.400000e+02, 3.800000e+02, 4.600000e+02, 9.400000e+02,\n",
       "       2.800000e+02, 7.800000e+02, 3.200000e+02, 8.800000e+02,\n",
       "       8.600000e+02, 8.200000e+02, 6.800000e+02, 3.600000e+02,\n",
       "       9.000000e+02, 5.600000e+02, 3.400000e+02, 4.400000e+02,\n",
       "       2.400000e+02, 4.200000e+02, 4.000000e+02, 4.800000e+02,\n",
       "       3.000000e+02, 6.600000e+02, 9.800000e+02, 2.000000e+02,\n",
       "       2.600000e+02, 2.200000e+02, 8.000000e+01, 1.800000e+02,\n",
       "       1.600000e+02, 1.400000e+02, 1.000000e+02, 1.000000e+03,\n",
       "       1.200000e+02, 4.000000e+01, 6.000000e+01, 1.505502e+06,\n",
       "       2.000000e+01, 2.000000e+00, 1.000000e+00, 3.556206e+06,\n",
       "       1.400000e+01, 6.200000e+01, 3.858000e+02, 7.233000e+02,\n",
       "       4.000000e+00, 5.000000e+00, 1.300000e+01, 3.777000e+02,\n",
       "       5.690000e+02, 5.900000e+02, 5.980000e+02])"
      ]
     },
     "execution_count": 155,
     "metadata": {},
     "output_type": "execute_result"
    }
   ],
   "source": [
    "df['NU_NOTA_REDACAO'].unique()"
   ]
  },
  {
   "cell_type": "code",
   "execution_count": 151,
   "metadata": {},
   "outputs": [],
   "source": [
    "df['NU_NOTA_REDACAO'] = pd.to_numeric(df['NU_NOTA_REDACAO'], errors='coerce')"
   ]
  },
  {
   "cell_type": "code",
   "execution_count": 154,
   "metadata": {},
   "outputs": [],
   "source": [
    "df['NU_NOTA_REDACAO'] = df['NU_NOTA_REDACAO'].astype('float64')"
   ]
  },
  {
   "cell_type": "code",
   "execution_count": 156,
   "metadata": {},
   "outputs": [
    {
     "data": {
      "text/plain": [
       "95992"
      ]
     },
     "execution_count": 156,
     "metadata": {},
     "output_type": "execute_result"
    }
   ],
   "source": [
    "df['Q005'].isna().sum()"
   ]
  },
  {
   "cell_type": "code",
   "execution_count": 165,
   "metadata": {},
   "outputs": [
    {
     "data": {
      "text/plain": [
       "array([nan,  3.,  5.,  2.,  4.,  7.,  1.,  6.,  8., 10.,  9., 18., 12.,\n",
       "       11., 13., 15., 20., 14., 16., 17., 19.])"
      ]
     },
     "execution_count": 165,
     "metadata": {},
     "output_type": "execute_result"
    }
   ],
   "source": [
    "df['Q005'].unique()"
   ]
  },
  {
   "cell_type": "code",
   "execution_count": 159,
   "metadata": {},
   "outputs": [],
   "source": [
    "df_dif = df[df['Q005'].isin(['D',\n",
    "       '300', 'B', 'A', 'BDBADAECEDCDADADEBCDAADCDAABCBDECDDDABBAAAABD',\n",
    "       '180', '740', 'M', '0', 'E',\n",
    "       'CDEAACAEEEBEBADADAAAAACBAEBDEADACDBBDBACECAAADEBBE', '120', '840',\n",
    "       'Coari', 'C', 'EABDEDEBECCABEAAADECECACDBEADCCCDBEEACCDACXDB',\n",
    "       'BABADAECEDDBCDABEEABAADDBDCBBACCADACADBEACCAD', 'F', '60', 'H',\n",
    "       'BDDBECECBACDBDEEBDEDDAECDDCCADECBCCCBBEDABCDE', 'TO',\n",
    "       'DABCBDDDAEDBECECBBEDEBDEECBCCCBACDCCADEBDECDD', '160', '800',\n",
    "       '530.6', 'São Leopoldo', '560', 'G',\n",
    "       'DDBACBDDDECDAEDCCCEDBDDCBDDCAAECEDDACCBAEDCDX',\n",
    "       'BAECDBBXCCCBDBACCDBEEEBCCAABCCACEACCEDBCABCDA',\n",
    "       '99999AEBEEACCBCCBEEBEBECCBAAADBDEAABCADCACECCACABD',\n",
    "       'AAEDCACEEECEAACBAEBBEDACDBAADADDEBBEBAAADEACAAADBB',\n",
    "       'CDBBADBBCCEACEDEBDACBBCCEEDADEBECCECDADDAEDCA', '100', '140',\n",
    "       '357.9', '695.8',\n",
    "       'DECCADEBDECBBECDDCBACDBDEEDABCDDAEDBECECBCCBD',\n",
    "       'ACEBADECABECABDEACBDAEBACEBDAEADBEACCCEADBCBA', '200', '377'])]"
   ]
  },
  {
   "cell_type": "code",
   "execution_count": 160,
   "metadata": {},
   "outputs": [
    {
     "data": {
      "text/plain": [
       "(88, 33)"
      ]
     },
     "execution_count": 160,
     "metadata": {},
     "output_type": "execute_result"
    }
   ],
   "source": [
    "df_dif.shape"
   ]
  },
  {
   "cell_type": "code",
   "execution_count": 162,
   "metadata": {},
   "outputs": [],
   "source": [
    "df = df[~df['Q005'].isin(['D',\n",
    "       '300', 'B', 'A', 'BDBADAECEDCDADADEBCDAADCDAABCBDECDDDABBAAAABD',\n",
    "       '180', '740', 'M', '0', 'E',\n",
    "       'CDEAACAEEEBEBADADAAAAACBAEBDEADACDBBDBACECAAADEBBE', '120', '840',\n",
    "       'Coari', 'C', 'EABDEDEBECCABEAAADECECACDBEADCCCDBEEACCDACXDB',\n",
    "       'BABADAECEDDBCDABEEABAADDBDCBBACCADACADBEACCAD', 'F', '60', 'H',\n",
    "       'BDDBECECBACDBDEEBDEDDAECDDCCADECBCCCBBEDABCDE', 'TO',\n",
    "       'DABCBDDDAEDBECECBBEDEBDEECBCCCBACDCCADEBDECDD', '160', '800',\n",
    "       '530.6', 'São Leopoldo', '560', 'G',\n",
    "       'DDBACBDDDECDAEDCCCEDBDDCBDDCAAECEDDACCBAEDCDX',\n",
    "       'BAECDBBXCCCBDBACCDBEEEBCCAABCCACEACCEDBCABCDA',\n",
    "       '99999AEBEEACCBCCBEEBEBECCBAAADBDEAABCADCACECCACABD',\n",
    "       'AAEDCACEEECEAACBAEBBEDACDBAADADDEBBEBAAADEACAAADBB',\n",
    "       'CDBBADBBCCEACEDEBDACBBCCEEDADEBECCECDADDAEDCA', '100', '140',\n",
    "       '357.9', '695.8',\n",
    "       'DECCADEBDECBBECDDCBACDBDEEDABCDDAEDBECECBCCBD',\n",
    "       'ACEBADECABECABDEACBDAEBACEBDAEADBEACCCEADBCBA', '200', '377'])]"
   ]
  },
  {
   "cell_type": "code",
   "execution_count": 164,
   "metadata": {},
   "outputs": [],
   "source": [
    "df['Q005'] = df['Q005'].astype('float64')"
   ]
  },
  {
   "cell_type": "code",
   "execution_count": 173,
   "metadata": {},
   "outputs": [
    {
     "data": {
      "text/plain": [
       "3003909"
      ]
     },
     "execution_count": 173,
     "metadata": {},
     "output_type": "execute_result"
    }
   ],
   "source": [
    "df['NU_NOTA_COMP1'].isna().sum()"
   ]
  },
  {
   "cell_type": "code",
   "execution_count": 174,
   "metadata": {},
   "outputs": [
    {
     "data": {
      "text/plain": [
       "array([         nan, 1.200000e+02, 1.400000e+02, 1.000000e+02,\n",
       "       1.600000e+02, 0.000000e+00, 8.000000e+01, 1.800000e+02,\n",
       "       6.000000e+01, 4.000000e+01, 2.000000e+02, 2.000000e+01,\n",
       "       3.500000e+01, 1.000000e+00, 3.550308e+06])"
      ]
     },
     "execution_count": 174,
     "metadata": {},
     "output_type": "execute_result"
    }
   ],
   "source": [
    "df['NU_NOTA_COMP1'].unique()"
   ]
  },
  {
   "cell_type": "code",
   "execution_count": 172,
   "metadata": {},
   "outputs": [],
   "source": [
    "df['NU_NOTA_COMP1'] = pd.to_numeric(df['NU_NOTA_COMP1'], errors='coerce')"
   ]
  },
  {
   "cell_type": "code",
   "execution_count": 188,
   "metadata": {},
   "outputs": [],
   "source": [
    "df = df[(df['NU_NOTA_COMP1'] <= 250) | pd.isna(df['NU_NOTA_COMP1'])]\n"
   ]
  },
  {
   "cell_type": "code",
   "execution_count": 183,
   "metadata": {},
   "outputs": [
    {
     "data": {
      "text/plain": [
       "(1, 33)"
      ]
     },
     "execution_count": 183,
     "metadata": {},
     "output_type": "execute_result"
    }
   ],
   "source": [
    "df_dif = df[df['NU_NOTA_COMP1'] > 250]\n",
    "df_dif.shape"
   ]
  },
  {
   "cell_type": "code",
   "execution_count": 189,
   "metadata": {},
   "outputs": [],
   "source": [
    "df['NU_NOTA_COMP1'] = df['NU_NOTA_COMP1'].astype('float64')"
   ]
  },
  {
   "cell_type": "code",
   "execution_count": 193,
   "metadata": {},
   "outputs": [
    {
     "data": {
      "text/plain": [
       "3003900"
      ]
     },
     "execution_count": 193,
     "metadata": {},
     "output_type": "execute_result"
    }
   ],
   "source": [
    "df['NU_NOTA_COMP2'].isna().sum()"
   ]
  },
  {
   "cell_type": "code",
   "execution_count": 195,
   "metadata": {},
   "outputs": [
    {
     "data": {
      "text/plain": [
       "array([ nan, 120., 200., 180., 100., 160.,  80.,   0.,  40., 140.,  60.,\n",
       "         2.,  29.,  35.,   3.,   1.])"
      ]
     },
     "execution_count": 195,
     "metadata": {},
     "output_type": "execute_result"
    }
   ],
   "source": [
    "df['NU_NOTA_COMP2'].unique()"
   ]
  },
  {
   "cell_type": "code",
   "execution_count": 194,
   "metadata": {},
   "outputs": [],
   "source": [
    "df['NU_NOTA_COMP2'] = pd.to_numeric(df['NU_NOTA_COMP2'], errors='coerce')"
   ]
  },
  {
   "cell_type": "code",
   "execution_count": 196,
   "metadata": {},
   "outputs": [],
   "source": [
    "df['NU_NOTA_COMP2'] = df['NU_NOTA_COMP2'].astype('float64')"
   ]
  },
  {
   "cell_type": "code",
   "execution_count": 198,
   "metadata": {},
   "outputs": [
    {
     "data": {
      "text/plain": [
       "3003896"
      ]
     },
     "execution_count": 198,
     "metadata": {},
     "output_type": "execute_result"
    }
   ],
   "source": [
    "df['NU_NOTA_COMP3'].isna().sum()"
   ]
  },
  {
   "cell_type": "code",
   "execution_count": 202,
   "metadata": {},
   "outputs": [
    {
     "data": {
      "text/plain": [
       "array([nan, 120.0, 140.0, 180.0, 60.0, 160.0, 100.0, 0.0, 200.0, 80.0,\n",
       "       40.0, 20.0, '40', '100', '120', '140', '160', '200', '180', '0',\n",
       "       '80', '60', '20', '4', '1', '2', '3'], dtype=object)"
      ]
     },
     "execution_count": 202,
     "metadata": {},
     "output_type": "execute_result"
    }
   ],
   "source": [
    "df['NU_NOTA_COMP3'].unique()"
   ]
  },
  {
   "cell_type": "code",
   "execution_count": 200,
   "metadata": {},
   "outputs": [
    {
     "data": {
      "text/plain": [
       "(10, 33)"
      ]
     },
     "execution_count": 200,
     "metadata": {},
     "output_type": "execute_result"
    }
   ],
   "source": [
    "df_dif = df[df['NU_NOTA_COMP3'].isin([ 'B', '515.4',\n",
    "       'DECCADEBDECBBECDDCBACDBDEEDABCDDAEDBECECBCCBD', '3130606', 'BA',\n",
    "       'D', 'SP', 'A', '2913606'])]\n",
    "\n",
    "df_dif.shape"
   ]
  },
  {
   "cell_type": "code",
   "execution_count": 201,
   "metadata": {},
   "outputs": [],
   "source": [
    "df = df[~df['NU_NOTA_COMP3'].isin([ 'B', '515.4',\n",
    "       'DECCADEBDECBBECDDCBACDBDEEDABCDDAEDBECECBCCBD', '3130606', 'BA',\n",
    "       'D', 'SP', 'A', '2913606'])]"
   ]
  },
  {
   "cell_type": "code",
   "execution_count": 203,
   "metadata": {},
   "outputs": [],
   "source": [
    "df['NU_NOTA_COMP3'] = df['NU_NOTA_COMP3'].astype('float64')"
   ]
  },
  {
   "cell_type": "code",
   "execution_count": 205,
   "metadata": {},
   "outputs": [
    {
     "data": {
      "text/plain": [
       "3003897"
      ]
     },
     "execution_count": 205,
     "metadata": {},
     "output_type": "execute_result"
    }
   ],
   "source": [
    "df['NU_NOTA_COMP4'].isna().sum()"
   ]
  },
  {
   "cell_type": "code",
   "execution_count": 206,
   "metadata": {},
   "outputs": [
    {
     "data": {
      "text/plain": [
       "array([nan, 120.0, 140.0, 160.0, 100.0, 200.0, 180.0, 0.0, 80.0, 60.0,\n",
       "       40.0, 20.0, '120', '140', '200', '180', '160', '0', '100', '60',\n",
       "       '80', '20', '40', '13', '1'], dtype=object)"
      ]
     },
     "execution_count": 206,
     "metadata": {},
     "output_type": "execute_result"
    }
   ],
   "source": [
    "df['NU_NOTA_COMP4'].unique()"
   ]
  },
  {
   "cell_type": "code",
   "execution_count": 207,
   "metadata": {},
   "outputs": [],
   "source": [
    "df['NU_NOTA_COMP4'] = df['NU_NOTA_COMP4'].astype('float64')"
   ]
  },
  {
   "cell_type": "code",
   "execution_count": 208,
   "metadata": {},
   "outputs": [
    {
     "data": {
      "text/plain": [
       "3003898"
      ]
     },
     "execution_count": 208,
     "metadata": {},
     "output_type": "execute_result"
    }
   ],
   "source": [
    "df['NU_NOTA_COMP5'].isna().sum()"
   ]
  },
  {
   "cell_type": "code",
   "execution_count": 213,
   "metadata": {},
   "outputs": [
    {
     "data": {
      "text/plain": [
       "array([nan, 100.0, 160.0, 120.0, 180.0, 80.0, 140.0, 0.0, 60.0, 200.0,\n",
       "       40.0, 20.0, '40', '120', '80', '160', '200', '140', '180', '100',\n",
       "       '0', '60', '20'], dtype=object)"
      ]
     },
     "execution_count": 213,
     "metadata": {},
     "output_type": "execute_result"
    }
   ],
   "source": [
    "df['NU_NOTA_COMP5'].unique()"
   ]
  },
  {
   "cell_type": "code",
   "execution_count": 211,
   "metadata": {},
   "outputs": [
    {
     "data": {
      "text/plain": [
       "(6, 33)"
      ]
     },
     "execution_count": 211,
     "metadata": {},
     "output_type": "execute_result"
    }
   ],
   "source": [
    "df_dif = df[df['NU_NOTA_COMP5'].isin(['M', '1', '6'])]\n",
    "\n",
    "df_dif.shape"
   ]
  },
  {
   "cell_type": "code",
   "execution_count": 212,
   "metadata": {},
   "outputs": [],
   "source": [
    "df = df[~df['NU_NOTA_COMP5'].isin(['M', '1', '6'])]"
   ]
  },
  {
   "cell_type": "code",
   "execution_count": 214,
   "metadata": {},
   "outputs": [],
   "source": [
    "df['NU_NOTA_COMP5'] = df['NU_NOTA_COMP5'].astype('float64')"
   ]
  },
  {
   "cell_type": "code",
   "execution_count": 215,
   "metadata": {},
   "outputs": [
    {
     "name": "stdout",
     "output_type": "stream",
     "text": [
      "Distribuição de Frequência das Notas de Ciências da Natureza (NU_NOTA_COMP3):\n",
      "0.0      227658\n",
      "20.0     119453\n",
      "40.0     413918\n",
      "60.0     178841\n",
      "80.0     321739\n",
      "100.0    266270\n",
      "120.0    354308\n",
      "140.0    225613\n",
      "160.0    254104\n",
      "180.0    166082\n",
      "200.0    206760\n",
      "Name: NU_NOTA_COMP5, dtype: int64\n"
     ]
    }
   ],
   "source": [
    "frequencia = df['NU_NOTA_COMP5'].value_counts().sort_index()\n",
    "\n",
    "# Exibindo a distribuição de frequência\n",
    "print(\"Distribuição de Frequência das Notas de Ciências da Natureza (NU_NOTA_COMP5):\")\n",
    "print(frequencia)"
   ]
  },
  {
   "cell_type": "code",
   "execution_count": 191,
   "metadata": {},
   "outputs": [
    {
     "data": {
      "image/png": "[encoded data removed]",
      "text/plain": [
       "<Figure size 640x480 with 1 Axes>"
      ]
     },
     "metadata": {},
     "output_type": "display_data"
    }
   ],
   "source": [
    "import matplotlib.pyplot as plt\n",
    "\n",
    "# Plotando o histograma das notas de Ciências da Natureza (NU_NOTA_COMP1)\n",
    "plt.hist(df['NU_NOTA_COMP1'].dropna(), bins=30, color='skyblue', edgecolor='black')\n",
    "plt.title('Distribuição de Notas de Ciências da Natureza (NU_NOTA_COMP1)')\n",
    "plt.xlabel('Nota')\n",
    "plt.ylabel('Frequência')\n",
    "plt.grid(True)\n",
    "plt.show()\n"
   ]
  },
  {
   "cell_type": "markdown",
   "metadata": {},
   "source": [
    "#### Salvar em parquet."
   ]
  },
  {
   "cell_type": "code",
   "execution_count": 216,
   "metadata": {},
   "outputs": [],
   "source": [
    "df.to_parquet('C:\\\\Users\\\\Bruno\\\\OneDrive\\\\Área de Trabalho\\\\Microdados\\\\Datas\\\\MICRODADOS_ENEM_2020.parquet', index=False)"
   ]
  },
  {
   "cell_type": "code",
   "execution_count": 3,
   "metadata": {},
   "outputs": [],
   "source": [
    "ano_enem = 2020\n",
    "df = pd.read_parquet(f'MICRODADOS_ENEM_{ano_enem}.parquet')"
   ]
  },
  {
   "cell_type": "code",
   "execution_count": 4,
   "metadata": {},
   "outputs": [
    {
     "name": "stdout",
     "output_type": "stream",
     "text": [
      "<class 'pandas.core.frame.DataFrame'>\n",
      "RangeIndex: 5738644 entries, 0 to 5738643\n",
      "Data columns (total 33 columns):\n",
      " #   Column                  Dtype   \n",
      "---  ------                  -----   \n",
      " 0   NU_INSCRICAO            int64   \n",
      " 1   NU_ANO                  int16   \n",
      " 2   TP_FAIXA_ETARIA         int8    \n",
      " 3   TP_SEXO                 category\n",
      " 4   TP_ESTADO_CIVIL         int8    \n",
      " 5   TP_COR_RACA             int8    \n",
      " 6   TP_NACIONALIDADE        int8    \n",
      " 7   TP_ST_CONCLUSAO         int8    \n",
      " 8   TP_ESCOLA               int8    \n",
      " 9   IN_TREINEIRO            int8    \n",
      " 10  NO_MUNICIPIO_ESC        object  \n",
      " 11  TP_DEPENDENCIA_ADM_ESC  float64 \n",
      " 12  TP_LOCALIZACAO_ESC      float64 \n",
      " 13  TP_SIT_FUNC_ESC         float64 \n",
      " 14  CO_MUNICIPIO_PROVA      int32   \n",
      " 15  NO_MUNICIPIO_PROVA      object  \n",
      " 16  SG_UF_PROVA             object  \n",
      " 17  TP_PRESENCA_CN          int8    \n",
      " 18  TP_PRESENCA_CH          int8    \n",
      " 19  TP_PRESENCA_LC          int8    \n",
      " 20  TP_PRESENCA_MT          int8    \n",
      " 21  NU_NOTA_CN              float64 \n",
      " 22  NU_NOTA_CH              float64 \n",
      " 23  NU_NOTA_LC              float64 \n",
      " 24  NU_NOTA_MT              float64 \n",
      " 25  TP_LINGUA               int8    \n",
      " 26  NU_NOTA_COMP1           float64 \n",
      " 27  NU_NOTA_COMP2           float64 \n",
      " 28  NU_NOTA_COMP3           float64 \n",
      " 29  NU_NOTA_COMP4           float64 \n",
      " 30  NU_NOTA_COMP5           float64 \n",
      " 31  NU_NOTA_REDACAO         float64 \n",
      " 32  Q005                    float64 \n",
      "dtypes: category(1), float64(14), int16(1), int32(1), int64(1), int8(12), object(3)\n",
      "memory usage: 892.1+ MB\n"
     ]
    }
   ],
   "source": [
    "df.info()"
   ]
  },
  {
   "cell_type": "markdown",
   "metadata": {},
   "source": [
    "#### Ajustes. Os ajustes na base maior poderiam ser feito a cada nicho para poupar memória."
   ]
  },
  {
   "cell_type": "markdown",
   "metadata": {},
   "source": [
    "#### 1º ajuste, contagem de abstenções e retirar os treineiros dos anos que houve essa categoria."
   ]
  },
  {
   "cell_type": "markdown",
   "metadata": {},
   "source": [
    "#### Funções um pouco adaptadas para inserção de um df com todos anos."
   ]
  },
  {
   "cell_type": "code",
   "execution_count": 4,
   "metadata": {},
   "outputs": [],
   "source": [
    "def create_columns_region(uf):\n",
    "    norte        = ['AM', 'RR', 'AP', 'PA', 'TO', 'RO', 'AC']\n",
    "    nordeste     = ['MA', 'PI', 'CE', 'RN', 'PE', 'PB', 'SE', 'AL', 'BA']\n",
    "    centro_oeste = ['MT', 'MS', 'GO']\n",
    "    sudeste      = ['SP', 'RJ', 'ES', 'MG']\n",
    "    sul          = ['PR', 'RS', 'SC']\n",
    "    df           = ['DF']\n",
    "    \n",
    "    if uf in norte :\n",
    "        return 'Norte'\n",
    "    elif uf in nordeste :\n",
    "        return 'Nordeste'\n",
    "    elif uf in centro_oeste : \n",
    "        return 'Centro-Oeste'\n",
    "    elif uf in sudeste : \n",
    "        return 'Sudeste'\n",
    "    elif uf in sul : \n",
    "        return 'Sul'\n",
    "    elif uf in df :\n",
    "        return 'DF'\n",
    "    else:\n",
    "        return 'missing'\n",
    "    \n",
    "def get_count(df_enem, cols_to_group, column, column_name = None):\n",
    "    agg_result = (df_enem\n",
    "         .groupby(cols_to_group)\n",
    "         .agg({column:'count'})\n",
    "         .rename(columns = {column : column_name} )\n",
    "        )\n",
    "    return agg_result\n",
    "\n",
    "\n",
    "def build_statistics_metrics(lista_provas : list, \n",
    "                             df_enem : pd.DataFrame, \n",
    "                             cols_to_group : list, \n",
    "                             list_with_metrics = None):\n",
    "    if list_with_metrics:\n",
    "        list_metrics = list_with_metrics\n",
    "    else:\n",
    "        list_metrics = { 'MIN_': np.min, 'AVG_' :np.mean, 'MED_' : np.median, 'MAX_' : np.max, 'STD_' : np.std}\n",
    "    \n",
    "    def get_statistics(lista_provas, metric, df_enem, cols_to_group, metric_label):\n",
    "\n",
    "        agg_result = (df_enem\n",
    "         .groupby(cols_to_group, as_index = False)\n",
    "         .agg({prova:metric for prova in lista_provas})\n",
    "         .rename(columns = {prova : metric_label+'_'.join(prova.split('_')[1:]) for prova in lista_provas})\n",
    "        )\n",
    "\n",
    "        return agg_result\n",
    "    \n",
    "    result = [\n",
    "        get_statistics(lista_provas, list_metrics[metric], df_enem, cols_to_group, metric).set_index(cols_to_group) \n",
    "      for metric in list_metrics\n",
    "     ]\n",
    "\n",
    "    result_df = (pd.concat(result, axis=1)\n",
    "         .reset_index()\n",
    "        )\n",
    "    \n",
    "\n",
    "    return result_df"
   ]
  },
  {
   "cell_type": "code",
   "execution_count": 21,
   "metadata": {},
   "outputs": [
    {
     "data": {
      "text/plain": [
       "10"
      ]
     },
     "execution_count": 21,
     "metadata": {},
     "output_type": "execute_result"
    }
   ],
   "source": [
    "df['TP_PRESENCA_CN'].isna().sum()"
   ]
  },
  {
   "cell_type": "code",
   "execution_count": 23,
   "metadata": {},
   "outputs": [],
   "source": [
    "df = df.fillna(0)"
   ]
  },
  {
   "cell_type": "code",
   "execution_count": 9,
   "metadata": {},
   "outputs": [
    {
     "data": {
      "text/plain": [
       "array([0, 1, 2, '1', '0', '2', nan, 'B', '120', '80', '713.4',\n",
       "       'AACDEEEECADBBCAAADBADEABEBAAADEBADADAEBDACAACBBECE',\n",
       "       'DAEEEDEACAAABBCCEAECCCCDEDCADEACCACEDDCADBEED',\n",
       "       'ABBABDEDADCEDAECADBDEEBCAEBBBDDCAACAEABBEDCEB',\n",
       "       'BAEEBBCABEDEECBEBEACBEDCBAAECBCEEEBBABACCBBBA', '3', 'A',\n",
       "       'ACDDABDEADACBCDBCCADBDADBBCCDABDBCECBECAACEDB', 'D', '476.5',\n",
       "       'DDBACBDDDECDAEDCCCEDBDDCBDDCAAECEDDACCBAEDCDX', '180', '800',\n",
       "       'DCDAA99999DBDBBADDBADADEDAEDAEDAACDCADCADDBBCACADA', 'E', '100',\n",
       "       'CACBDCCBAECDBBDAEDCEDEDBCDBADDEBDEDCCADABCDCC',\n",
       "       'CDEAACAEEEBEBADADAAAAACBAEBDEADACDBBDBACECAAADEBBE', '580', '140',\n",
       "       'C', 'BAECDBBXCCCBDBACCDBEEEBCCAABCCACEACCEDBCABCDA', '549.6',\n",
       "       'BCDCEBBCCBDDCEBEEBDCDADABCBBDDEDECBADDEBCDDCA', '474.8'],\n",
       "      dtype=object)"
      ]
     },
     "execution_count": 9,
     "metadata": {},
     "output_type": "execute_result"
    }
   ],
   "source": [
    "df['TP_PRESENCA_CN'].unique()"
   ]
  },
  {
   "cell_type": "code",
   "execution_count": 11,
   "metadata": {},
   "outputs": [
    {
     "data": {
      "text/plain": [
       "(5738925, 7)"
      ]
     },
     "execution_count": 11,
     "metadata": {},
     "output_type": "execute_result"
    }
   ],
   "source": [
    "df.shape"
   ]
  },
  {
   "cell_type": "code",
   "execution_count": 10,
   "metadata": {},
   "outputs": [
    {
     "data": {
      "text/plain": [
       "(72, 7)"
      ]
     },
     "execution_count": 10,
     "metadata": {},
     "output_type": "execute_result"
    }
   ],
   "source": [
    "df_dif.shape"
   ]
  },
  {
   "cell_type": "code",
   "execution_count": 16,
   "metadata": {},
   "outputs": [
    {
     "data": {
      "text/html": [
       "<div>\n",
       "<style scoped>\n",
       "    .dataframe tbody tr th:only-of-type {\n",
       "        vertical-align: middle;\n",
       "    }\n",
       "\n",
       "    .dataframe tbody tr th {\n",
       "        vertical-align: top;\n",
       "    }\n",
       "\n",
       "    .dataframe thead th {\n",
       "        text-align: right;\n",
       "    }\n",
       "</style>\n",
       "<table border=\"1\" class=\"dataframe\">\n",
       "  <thead>\n",
       "    <tr style=\"text-align: right;\">\n",
       "      <th></th>\n",
       "      <th>NU_INSCRICAO</th>\n",
       "      <th>NU_ANO</th>\n",
       "      <th>IN_TREINEIRO</th>\n",
       "      <th>TP_PRESENCA_CN</th>\n",
       "      <th>TP_PRESENCA_CH</th>\n",
       "      <th>TP_PRESENCA_LC</th>\n",
       "      <th>TP_PRESENCA_MT</th>\n",
       "    </tr>\n",
       "  </thead>\n",
       "  <tbody>\n",
       "    <tr>\n",
       "      <th>0</th>\n",
       "      <td>2.000063e+11</td>\n",
       "      <td>2020</td>\n",
       "      <td>0</td>\n",
       "      <td>0</td>\n",
       "      <td>0</td>\n",
       "      <td>0</td>\n",
       "      <td>0</td>\n",
       "    </tr>\n",
       "    <tr>\n",
       "      <th>1</th>\n",
       "      <td>2.000012e+11</td>\n",
       "      <td>2020</td>\n",
       "      <td>0</td>\n",
       "      <td>1</td>\n",
       "      <td>1</td>\n",
       "      <td>1</td>\n",
       "      <td>1</td>\n",
       "    </tr>\n",
       "    <tr>\n",
       "      <th>2</th>\n",
       "      <td>2.000019e+11</td>\n",
       "      <td>2020</td>\n",
       "      <td>0</td>\n",
       "      <td>0</td>\n",
       "      <td>0</td>\n",
       "      <td>0</td>\n",
       "      <td>0</td>\n",
       "    </tr>\n",
       "    <tr>\n",
       "      <th>3</th>\n",
       "      <td>2.000019e+11</td>\n",
       "      <td>2020</td>\n",
       "      <td>0</td>\n",
       "      <td>1</td>\n",
       "      <td>1</td>\n",
       "      <td>1</td>\n",
       "      <td>1</td>\n",
       "    </tr>\n",
       "    <tr>\n",
       "      <th>4</th>\n",
       "      <td>2.000016e+11</td>\n",
       "      <td>2020</td>\n",
       "      <td>0</td>\n",
       "      <td>0</td>\n",
       "      <td>0</td>\n",
       "      <td>0</td>\n",
       "      <td>0</td>\n",
       "    </tr>\n",
       "  </tbody>\n",
       "</table>\n",
       "</div>"
      ],
      "text/plain": [
       "   NU_INSCRICAO NU_ANO IN_TREINEIRO TP_PRESENCA_CN TP_PRESENCA_CH  \\\n",
       "0  2.000063e+11   2020            0              0              0   \n",
       "1  2.000012e+11   2020            0              1              1   \n",
       "2  2.000019e+11   2020            0              0              0   \n",
       "3  2.000019e+11   2020            0              1              1   \n",
       "4  2.000016e+11   2020            0              0              0   \n",
       "\n",
       "  TP_PRESENCA_LC TP_PRESENCA_MT  \n",
       "0              0              0  \n",
       "1              1              1  \n",
       "2              0              0  \n",
       "3              1              1  \n",
       "4              0              0  "
      ]
     },
     "execution_count": 16,
     "metadata": {},
     "output_type": "execute_result"
    }
   ],
   "source": [
    "df1 = df.loc[df['TP_PRESENCA_CN'].isin([0, 1, 2, '0', '1', '2'])]\n",
    "df1.head()"
   ]
  },
  {
   "cell_type": "code",
   "execution_count": 18,
   "metadata": {},
   "outputs": [
    {
     "data": {
      "text/plain": [
       "0"
      ]
     },
     "execution_count": 18,
     "metadata": {},
     "output_type": "execute_result"
    }
   ],
   "source": []
  },
  {
   "cell_type": "code",
   "execution_count": 17,
   "metadata": {},
   "outputs": [
    {
     "data": {
      "text/plain": [
       "(5738853, 7)"
      ]
     },
     "execution_count": 17,
     "metadata": {},
     "output_type": "execute_result"
    }
   ],
   "source": [
    "df1.shape"
   ]
  },
  {
   "cell_type": "code",
   "execution_count": null,
   "metadata": {},
   "outputs": [],
   "source": [
    "df_dif = df.loc[~df['TP_PRESENCA_CN'].isin([0, 1, 2, '0', '1', '2'])]\n",
    "df_dif"
   ]
  },
  {
   "cell_type": "code",
   "execution_count": 8,
   "metadata": {},
   "outputs": [],
   "source": [
    "df_dif.to_excel('C:\\\\Users\\\\Bruno\\\\OneDrive\\\\Área de Trabalho\\\\Microdados\\\\Datas\\\\dif.xlsx')"
   ]
  },
  {
   "cell_type": "code",
   "execution_count": null,
   "metadata": {},
   "outputs": [],
   "source": [
    "df['TP_PRESENCA_CN'] = df['TP_PRESENCA_CN'].astype('int8')\n",
    "df['TP_PRESENCA_CH'] = df['TP_PRESENCA_CH'].astype('int8')\n",
    "df['TP_PRESENCA_LC'] = df['TP_PRESENCA_LC'].astype('int8')\n",
    "df['TP_PRESENCA_MT'] = df['TP_PRESENCA_MT'].astype('int8')"
   ]
  },
  {
   "cell_type": "code",
   "execution_count": null,
   "metadata": {},
   "outputs": [],
   "source": [
    "df_enem = df"
   ]
  },
  {
   "cell_type": "code",
   "execution_count": 24,
   "metadata": {},
   "outputs": [],
   "source": [
    "# DATA PREP\n",
    "notas = df_enem.columns[(df_enem.columns.str.contains('NU_NOTA_')) & (~df_enem.columns.str.contains('NU_NOTA_COMP'))].tolist()\n",
    "lista_provas = df_enem.columns[(df_enem.columns.str.contains('NU_NOTA_')) & (~df_enem.columns.str.contains('NU_NOTA_COMP'))].tolist()\n",
    "\n",
    "df_enem = (df_enem\n",
    "           .query('IN_TREINEIRO != 1')\n",
    "           .drop(columns = df_enem.columns[df_enem.columns.str.contains('TX_')].tolist()+['IN_TREINEIRO'])\n",
    "          )\n",
    "\n",
    "\n",
    "# REGIÃO GEOGRÁFICA\n",
    "df_enem['TP_REGIAO_PROVA'] = df_enem.SG_UF_PROVA.apply(create_columns_region)\n",
    "df_enem['TP_REGIAO_ESC'] = df_enem.SG_UF_PROVA.apply(create_columns_region)\n",
    "\n",
    "# ABSTENÇÃO - PRIMEIRO DIA\n",
    "df_enem.loc[(df_enem['TP_PRESENCA_CH'] == 0) & (df_enem['TP_PRESENCA_LC'] == 0), ['ABS_DIA_1']] = 1\n",
    "df_enem.loc[(df_enem['TP_PRESENCA_CH'] != 0) & (df_enem['TP_PRESENCA_LC'] != 0), ['ABS_DIA_1']] = 0\n",
    "# ABSTENÇÃO - SEGUNDO DIA\n",
    "df_enem.loc[(df_enem['TP_PRESENCA_CN'] == 0) & (df_enem['TP_PRESENCA_MT'] == 0), ['ABS_DIA_2']] = 1\n",
    "df_enem.loc[(df_enem['TP_PRESENCA_CN'] != 0) & (df_enem['TP_PRESENCA_MT'] != 0), ['ABS_DIA_2']] = 0\n",
    "# ABSTENÇÃO FULL DAYS\n",
    "df_enem.loc[(df_enem['ABS_DIA_1'] == 1) & (df_enem['ABS_DIA_2'] == 1), ['ABS_ALL']] = 1\n",
    "df_enem.loc[(df_enem['ABS_DIA_1'] != 1) & (df_enem['ABS_DIA_2'] != 1), ['ABS_ALL']] = 0\n",
    "\n",
    "#Acrescentei tbm a condição ou pois tinha casos com falta em somente em um dia.\n",
    "df_enem.loc[((df_enem['ABS_DIA_1'] == 0) | (df_enem['ABS_DIA_2'] == 0)), ['ABS_ALL']] = 0\n",
    "\n",
    "# FLAG ESCOLA NULL\n",
    "df_enem.loc[df_enem['NO_MUNICIPIO_ESC'].isna(), ['FLAG_NULL_ESC']]  = 1\n",
    "df_enem.loc[df_enem['NO_MUNICIPIO_ESC'].notna(), ['FLAG_NULL_ESC']] = 0\n",
    "\n",
    "# MÉDIAS\n",
    "df_enem['MEDIA_OBJ'] = df_enem[[prova for prova in notas if prova != 'NU_NOTA_REDACAO']].mean(axis = 1)\n",
    "df_enem['MEDIA_GLOBAL'] = df_enem[notas].mean(axis = 1)"
   ]
  },
  {
   "cell_type": "code",
   "execution_count": 25,
   "metadata": {},
   "outputs": [],
   "source": [
    "df_enem['ABS_DIA_1'] = df_enem['ABS_DIA_1'].astype('int8')\n",
    "df_enem['ABS_DIA_2'] = df_enem['ABS_DIA_2'].astype('int8')\n",
    "df_enem['ABS_ALL'] = df_enem['ABS_ALL'].astype('int8')\n",
    "df_enem['FLAG_NULL_ESC'] = df_enem['FLAG_NULL_ESC'].astype('int8')"
   ]
  },
  {
   "cell_type": "code",
   "execution_count": 19,
   "metadata": {},
   "outputs": [
    {
     "data": {
      "text/plain": [
       "dtype('int8')"
      ]
     },
     "execution_count": 19,
     "metadata": {},
     "output_type": "execute_result"
    }
   ],
   "source": [
    "df_enem['ABS_DIA_1'].dtype"
   ]
  },
  {
   "cell_type": "code",
   "execution_count": 36,
   "metadata": {},
   "outputs": [
    {
     "data": {
      "text/plain": [
       "(2963373, 35)"
      ]
     },
     "execution_count": 36,
     "metadata": {},
     "output_type": "execute_result"
    }
   ],
   "source": [
    "df_enem.shape"
   ]
  },
  {
   "cell_type": "code",
   "execution_count": 91,
   "metadata": {},
   "outputs": [],
   "source": [
    "df = df_enem"
   ]
  },
  {
   "cell_type": "code",
   "execution_count": 92,
   "metadata": {},
   "outputs": [],
   "source": [
    "df.to_parquet('C:\\\\Users\\\\Bruno\\\\OneDrive\\\\Área de Trabalho\\\\Microdados\\\\Datas\\\\MICRODADOS_ENEM_2021.parquet', index=False)"
   ]
  },
  {
   "cell_type": "code",
   "execution_count": 27,
   "metadata": {},
   "outputs": [],
   "source": [
    "df.to_parquet('C:\\\\Users\\\\Bruno\\\\OneDrive\\\\Área de Trabalho\\\\Microdados\\\\Datas\\\\MICRODADOS_ENEM_2022.parquet', index=False)"
   ]
  },
  {
   "cell_type": "code",
   "execution_count": 3,
   "metadata": {},
   "outputs": [],
   "source": [
    "os.chdir('C:\\\\Users\\\\Bruno\\\\OneDrive\\\\Área de Trabalho\\\\Microdados\\\\Datas')"
   ]
  },
  {
   "cell_type": "markdown",
   "metadata": {},
   "source": [
    "## Caso queira carregar daqui "
   ]
  },
  {
   "cell_type": "code",
   "execution_count": 4,
   "metadata": {},
   "outputs": [],
   "source": [
    "ano_enem = 2021\n",
    "df = pd.read_parquet(f'MICRODADOS_ENEM_{ano_enem}.parquet')"
   ]
  },
  {
   "cell_type": "code",
   "execution_count": 5,
   "metadata": {},
   "outputs": [],
   "source": [
    "ano_enem = 2022\n",
    "df = pd.read_parquet(f'MICRODADOS_ENEM_{ano_enem}.parquet')"
   ]
  },
  {
   "cell_type": "markdown",
   "metadata": {},
   "source": [
    "#### 2º Ajuste. a categoaria TP_ESCOLA que é o tipo de escola, não segue o padrão em todos anos.\n",
    "#### Padrão:\n",
    "#### 1 - Não respondeu\n",
    "#### 2 - Escola pública\n",
    "#### 3 - Escola Privada\n",
    "#### 4 - Exterior\n",
    "#### O modelo do dicionários não foi seguido nos anos de 2012 a 2014, o ano de 2010 nem possui esse item. O modelo de 2012 a 2014 segue:\n",
    "#### 1 - Escola pública\n",
    "#### 2 - Escola privada\n",
    "#### Farei uma adição de +1 para poder ficar na mesma categoria dos outros anos."
   ]
  },
  {
   "cell_type": "code",
   "execution_count": 28,
   "metadata": {},
   "outputs": [],
   "source": [
    "df_enem['TP_ESCOLA'] = df_enem['TP_ESCOLA'].astype('int8')\n",
    "df_enem['NU_ANO'] = df_enem['NU_ANO'].astype('int16')"
   ]
  },
  {
   "cell_type": "code",
   "execution_count": 29,
   "metadata": {},
   "outputs": [
    {
     "data": {
      "text/html": [
       "<div>\n",
       "<style scoped>\n",
       "    .dataframe tbody tr th:only-of-type {\n",
       "        vertical-align: middle;\n",
       "    }\n",
       "\n",
       "    .dataframe tbody tr th {\n",
       "        vertical-align: top;\n",
       "    }\n",
       "\n",
       "    .dataframe thead th {\n",
       "        text-align: right;\n",
       "    }\n",
       "</style>\n",
       "<table border=\"1\" class=\"dataframe\">\n",
       "  <thead>\n",
       "    <tr style=\"text-align: right;\">\n",
       "      <th></th>\n",
       "      <th>NU_INSCRICAO</th>\n",
       "      <th>NU_ANO</th>\n",
       "      <th>TP_FAIXA_ETARIA</th>\n",
       "      <th>TP_SEXO</th>\n",
       "      <th>TP_ESTADO_CIVIL</th>\n",
       "      <th>TP_COR_RACA</th>\n",
       "      <th>TP_NACIONALIDADE</th>\n",
       "      <th>TP_ST_CONCLUSAO</th>\n",
       "      <th>TP_ESCOLA</th>\n",
       "      <th>NO_MUNICIPIO_ESC</th>\n",
       "      <th>TP_DEPENDENCIA_ADM_ESC</th>\n",
       "      <th>TP_LOCALIZACAO_ESC</th>\n",
       "      <th>TP_SIT_FUNC_ESC</th>\n",
       "      <th>CO_MUNICIPIO_PROVA</th>\n",
       "      <th>NO_MUNICIPIO_PROVA</th>\n",
       "      <th>SG_UF_PROVA</th>\n",
       "      <th>TP_PRESENCA_CN</th>\n",
       "      <th>TP_PRESENCA_CH</th>\n",
       "      <th>TP_PRESENCA_LC</th>\n",
       "      <th>TP_PRESENCA_MT</th>\n",
       "      <th>NU_NOTA_CN</th>\n",
       "      <th>NU_NOTA_CH</th>\n",
       "      <th>NU_NOTA_LC</th>\n",
       "      <th>NU_NOTA_MT</th>\n",
       "      <th>TP_LINGUA</th>\n",
       "      <th>NU_NOTA_COMP1</th>\n",
       "      <th>NU_NOTA_COMP2</th>\n",
       "      <th>NU_NOTA_COMP3</th>\n",
       "      <th>NU_NOTA_COMP4</th>\n",
       "      <th>NU_NOTA_COMP5</th>\n",
       "      <th>NU_NOTA_REDACAO</th>\n",
       "      <th>Q005</th>\n",
       "      <th>TP_REGIAO_PROVA</th>\n",
       "      <th>TP_REGIAO_ESC</th>\n",
       "      <th>ABS_DIA_1</th>\n",
       "      <th>ABS_DIA_2</th>\n",
       "      <th>ABS_ALL</th>\n",
       "      <th>FLAG_NULL_ESC</th>\n",
       "      <th>MEDIA_OBJ</th>\n",
       "      <th>MEDIA_GLOBAL</th>\n",
       "    </tr>\n",
       "  </thead>\n",
       "  <tbody>\n",
       "    <tr>\n",
       "      <th>0</th>\n",
       "      <td>210057943671</td>\n",
       "      <td>2022</td>\n",
       "      <td>14</td>\n",
       "      <td>M</td>\n",
       "      <td>2</td>\n",
       "      <td>2</td>\n",
       "      <td>1</td>\n",
       "      <td>1</td>\n",
       "      <td>1</td>\n",
       "      <td>NaN</td>\n",
       "      <td>NaN</td>\n",
       "      <td>NaN</td>\n",
       "      <td>NaN</td>\n",
       "      <td>5300108</td>\n",
       "      <td>Brasília</td>\n",
       "      <td>DF</td>\n",
       "      <td>0</td>\n",
       "      <td>0</td>\n",
       "      <td>0</td>\n",
       "      <td>0</td>\n",
       "      <td>NaN</td>\n",
       "      <td>NaN</td>\n",
       "      <td>NaN</td>\n",
       "      <td>NaN</td>\n",
       "      <td>0</td>\n",
       "      <td>NaN</td>\n",
       "      <td>NaN</td>\n",
       "      <td>NaN</td>\n",
       "      <td>NaN</td>\n",
       "      <td>NaN</td>\n",
       "      <td>NaN</td>\n",
       "      <td>3</td>\n",
       "      <td>DF</td>\n",
       "      <td>DF</td>\n",
       "      <td>1</td>\n",
       "      <td>1</td>\n",
       "      <td>1</td>\n",
       "      <td>1</td>\n",
       "      <td>NaN</td>\n",
       "      <td>NaN</td>\n",
       "    </tr>\n",
       "    <tr>\n",
       "      <th>1</th>\n",
       "      <td>210057516120</td>\n",
       "      <td>2022</td>\n",
       "      <td>14</td>\n",
       "      <td>M</td>\n",
       "      <td>2</td>\n",
       "      <td>1</td>\n",
       "      <td>1</td>\n",
       "      <td>1</td>\n",
       "      <td>1</td>\n",
       "      <td>NaN</td>\n",
       "      <td>NaN</td>\n",
       "      <td>NaN</td>\n",
       "      <td>NaN</td>\n",
       "      <td>5300108</td>\n",
       "      <td>Brasília</td>\n",
       "      <td>DF</td>\n",
       "      <td>0</td>\n",
       "      <td>0</td>\n",
       "      <td>0</td>\n",
       "      <td>0</td>\n",
       "      <td>NaN</td>\n",
       "      <td>NaN</td>\n",
       "      <td>NaN</td>\n",
       "      <td>NaN</td>\n",
       "      <td>0</td>\n",
       "      <td>NaN</td>\n",
       "      <td>NaN</td>\n",
       "      <td>NaN</td>\n",
       "      <td>NaN</td>\n",
       "      <td>NaN</td>\n",
       "      <td>NaN</td>\n",
       "      <td>3</td>\n",
       "      <td>DF</td>\n",
       "      <td>DF</td>\n",
       "      <td>1</td>\n",
       "      <td>1</td>\n",
       "      <td>1</td>\n",
       "      <td>1</td>\n",
       "      <td>NaN</td>\n",
       "      <td>NaN</td>\n",
       "    </tr>\n",
       "    <tr>\n",
       "      <th>2</th>\n",
       "      <td>210057280536</td>\n",
       "      <td>2022</td>\n",
       "      <td>5</td>\n",
       "      <td>F</td>\n",
       "      <td>1</td>\n",
       "      <td>2</td>\n",
       "      <td>1</td>\n",
       "      <td>1</td>\n",
       "      <td>1</td>\n",
       "      <td>NaN</td>\n",
       "      <td>NaN</td>\n",
       "      <td>NaN</td>\n",
       "      <td>NaN</td>\n",
       "      <td>2925758</td>\n",
       "      <td>Presidente Tancredo Neves</td>\n",
       "      <td>BA</td>\n",
       "      <td>1</td>\n",
       "      <td>1</td>\n",
       "      <td>1</td>\n",
       "      <td>1</td>\n",
       "      <td>421.1</td>\n",
       "      <td>546.0</td>\n",
       "      <td>498.8</td>\n",
       "      <td>565.3</td>\n",
       "      <td>1</td>\n",
       "      <td>140.0</td>\n",
       "      <td>200.0</td>\n",
       "      <td>120.0</td>\n",
       "      <td>140.0</td>\n",
       "      <td>160.0</td>\n",
       "      <td>760.0</td>\n",
       "      <td>2</td>\n",
       "      <td>Nordeste</td>\n",
       "      <td>Nordeste</td>\n",
       "      <td>0</td>\n",
       "      <td>0</td>\n",
       "      <td>0</td>\n",
       "      <td>1</td>\n",
       "      <td>507.800</td>\n",
       "      <td>558.24</td>\n",
       "    </tr>\n",
       "    <tr>\n",
       "      <th>3</th>\n",
       "      <td>210055724397</td>\n",
       "      <td>2022</td>\n",
       "      <td>6</td>\n",
       "      <td>M</td>\n",
       "      <td>1</td>\n",
       "      <td>3</td>\n",
       "      <td>1</td>\n",
       "      <td>1</td>\n",
       "      <td>1</td>\n",
       "      <td>NaN</td>\n",
       "      <td>NaN</td>\n",
       "      <td>NaN</td>\n",
       "      <td>NaN</td>\n",
       "      <td>3201308</td>\n",
       "      <td>Cariacica</td>\n",
       "      <td>ES</td>\n",
       "      <td>1</td>\n",
       "      <td>1</td>\n",
       "      <td>1</td>\n",
       "      <td>1</td>\n",
       "      <td>490.7</td>\n",
       "      <td>388.6</td>\n",
       "      <td>357.8</td>\n",
       "      <td>416.0</td>\n",
       "      <td>1</td>\n",
       "      <td>120.0</td>\n",
       "      <td>40.0</td>\n",
       "      <td>40.0</td>\n",
       "      <td>100.0</td>\n",
       "      <td>20.0</td>\n",
       "      <td>320.0</td>\n",
       "      <td>3</td>\n",
       "      <td>Sudeste</td>\n",
       "      <td>Sudeste</td>\n",
       "      <td>0</td>\n",
       "      <td>0</td>\n",
       "      <td>0</td>\n",
       "      <td>1</td>\n",
       "      <td>413.275</td>\n",
       "      <td>394.62</td>\n",
       "    </tr>\n",
       "    <tr>\n",
       "      <th>4</th>\n",
       "      <td>210055097896</td>\n",
       "      <td>2022</td>\n",
       "      <td>4</td>\n",
       "      <td>M</td>\n",
       "      <td>0</td>\n",
       "      <td>3</td>\n",
       "      <td>1</td>\n",
       "      <td>1</td>\n",
       "      <td>1</td>\n",
       "      <td>NaN</td>\n",
       "      <td>NaN</td>\n",
       "      <td>NaN</td>\n",
       "      <td>NaN</td>\n",
       "      <td>1506203</td>\n",
       "      <td>Salinópolis</td>\n",
       "      <td>PA</td>\n",
       "      <td>0</td>\n",
       "      <td>0</td>\n",
       "      <td>0</td>\n",
       "      <td>0</td>\n",
       "      <td>NaN</td>\n",
       "      <td>NaN</td>\n",
       "      <td>NaN</td>\n",
       "      <td>NaN</td>\n",
       "      <td>0</td>\n",
       "      <td>NaN</td>\n",
       "      <td>NaN</td>\n",
       "      <td>NaN</td>\n",
       "      <td>NaN</td>\n",
       "      <td>NaN</td>\n",
       "      <td>NaN</td>\n",
       "      <td>2</td>\n",
       "      <td>Norte</td>\n",
       "      <td>Norte</td>\n",
       "      <td>1</td>\n",
       "      <td>1</td>\n",
       "      <td>1</td>\n",
       "      <td>1</td>\n",
       "      <td>NaN</td>\n",
       "      <td>NaN</td>\n",
       "    </tr>\n",
       "    <tr>\n",
       "      <th>...</th>\n",
       "      <td>...</td>\n",
       "      <td>...</td>\n",
       "      <td>...</td>\n",
       "      <td>...</td>\n",
       "      <td>...</td>\n",
       "      <td>...</td>\n",
       "      <td>...</td>\n",
       "      <td>...</td>\n",
       "      <td>...</td>\n",
       "      <td>...</td>\n",
       "      <td>...</td>\n",
       "      <td>...</td>\n",
       "      <td>...</td>\n",
       "      <td>...</td>\n",
       "      <td>...</td>\n",
       "      <td>...</td>\n",
       "      <td>...</td>\n",
       "      <td>...</td>\n",
       "      <td>...</td>\n",
       "      <td>...</td>\n",
       "      <td>...</td>\n",
       "      <td>...</td>\n",
       "      <td>...</td>\n",
       "      <td>...</td>\n",
       "      <td>...</td>\n",
       "      <td>...</td>\n",
       "      <td>...</td>\n",
       "      <td>...</td>\n",
       "      <td>...</td>\n",
       "      <td>...</td>\n",
       "      <td>...</td>\n",
       "      <td>...</td>\n",
       "      <td>...</td>\n",
       "      <td>...</td>\n",
       "      <td>...</td>\n",
       "      <td>...</td>\n",
       "      <td>...</td>\n",
       "      <td>...</td>\n",
       "      <td>...</td>\n",
       "      <td>...</td>\n",
       "    </tr>\n",
       "    <tr>\n",
       "      <th>3476100</th>\n",
       "      <td>210056389903</td>\n",
       "      <td>2022</td>\n",
       "      <td>3</td>\n",
       "      <td>M</td>\n",
       "      <td>1</td>\n",
       "      <td>1</td>\n",
       "      <td>1</td>\n",
       "      <td>2</td>\n",
       "      <td>2</td>\n",
       "      <td>NaN</td>\n",
       "      <td>NaN</td>\n",
       "      <td>NaN</td>\n",
       "      <td>NaN</td>\n",
       "      <td>3524709</td>\n",
       "      <td>Jaguariúna</td>\n",
       "      <td>SP</td>\n",
       "      <td>0</td>\n",
       "      <td>0</td>\n",
       "      <td>0</td>\n",
       "      <td>0</td>\n",
       "      <td>NaN</td>\n",
       "      <td>NaN</td>\n",
       "      <td>NaN</td>\n",
       "      <td>NaN</td>\n",
       "      <td>1</td>\n",
       "      <td>NaN</td>\n",
       "      <td>NaN</td>\n",
       "      <td>NaN</td>\n",
       "      <td>NaN</td>\n",
       "      <td>NaN</td>\n",
       "      <td>NaN</td>\n",
       "      <td>4</td>\n",
       "      <td>Sudeste</td>\n",
       "      <td>Sudeste</td>\n",
       "      <td>1</td>\n",
       "      <td>1</td>\n",
       "      <td>1</td>\n",
       "      <td>1</td>\n",
       "      <td>NaN</td>\n",
       "      <td>NaN</td>\n",
       "    </tr>\n",
       "    <tr>\n",
       "      <th>3476101</th>\n",
       "      <td>210057205644</td>\n",
       "      <td>2022</td>\n",
       "      <td>14</td>\n",
       "      <td>F</td>\n",
       "      <td>2</td>\n",
       "      <td>1</td>\n",
       "      <td>1</td>\n",
       "      <td>2</td>\n",
       "      <td>2</td>\n",
       "      <td>Caruaru</td>\n",
       "      <td>2.0</td>\n",
       "      <td>1.0</td>\n",
       "      <td>1.0</td>\n",
       "      <td>2604106</td>\n",
       "      <td>Caruaru</td>\n",
       "      <td>PE</td>\n",
       "      <td>0</td>\n",
       "      <td>0</td>\n",
       "      <td>0</td>\n",
       "      <td>0</td>\n",
       "      <td>NaN</td>\n",
       "      <td>NaN</td>\n",
       "      <td>NaN</td>\n",
       "      <td>NaN</td>\n",
       "      <td>1</td>\n",
       "      <td>NaN</td>\n",
       "      <td>NaN</td>\n",
       "      <td>NaN</td>\n",
       "      <td>NaN</td>\n",
       "      <td>NaN</td>\n",
       "      <td>NaN</td>\n",
       "      <td>3</td>\n",
       "      <td>Nordeste</td>\n",
       "      <td>Nordeste</td>\n",
       "      <td>1</td>\n",
       "      <td>1</td>\n",
       "      <td>1</td>\n",
       "      <td>0</td>\n",
       "      <td>NaN</td>\n",
       "      <td>NaN</td>\n",
       "    </tr>\n",
       "    <tr>\n",
       "      <th>3476102</th>\n",
       "      <td>210056699189</td>\n",
       "      <td>2022</td>\n",
       "      <td>2</td>\n",
       "      <td>M</td>\n",
       "      <td>1</td>\n",
       "      <td>1</td>\n",
       "      <td>1</td>\n",
       "      <td>2</td>\n",
       "      <td>2</td>\n",
       "      <td>Lages</td>\n",
       "      <td>2.0</td>\n",
       "      <td>1.0</td>\n",
       "      <td>1.0</td>\n",
       "      <td>4209300</td>\n",
       "      <td>Lages</td>\n",
       "      <td>SC</td>\n",
       "      <td>1</td>\n",
       "      <td>1</td>\n",
       "      <td>1</td>\n",
       "      <td>1</td>\n",
       "      <td>527.9</td>\n",
       "      <td>627.0</td>\n",
       "      <td>583.3</td>\n",
       "      <td>637.1</td>\n",
       "      <td>0</td>\n",
       "      <td>140.0</td>\n",
       "      <td>120.0</td>\n",
       "      <td>140.0</td>\n",
       "      <td>140.0</td>\n",
       "      <td>120.0</td>\n",
       "      <td>660.0</td>\n",
       "      <td>4</td>\n",
       "      <td>Sul</td>\n",
       "      <td>Sul</td>\n",
       "      <td>0</td>\n",
       "      <td>0</td>\n",
       "      <td>0</td>\n",
       "      <td>0</td>\n",
       "      <td>593.825</td>\n",
       "      <td>607.06</td>\n",
       "    </tr>\n",
       "    <tr>\n",
       "      <th>3476103</th>\n",
       "      <td>210056983033</td>\n",
       "      <td>2022</td>\n",
       "      <td>3</td>\n",
       "      <td>M</td>\n",
       "      <td>1</td>\n",
       "      <td>3</td>\n",
       "      <td>1</td>\n",
       "      <td>2</td>\n",
       "      <td>3</td>\n",
       "      <td>Guaíra</td>\n",
       "      <td>4.0</td>\n",
       "      <td>1.0</td>\n",
       "      <td>1.0</td>\n",
       "      <td>3517406</td>\n",
       "      <td>Guaíra</td>\n",
       "      <td>SP</td>\n",
       "      <td>0</td>\n",
       "      <td>0</td>\n",
       "      <td>0</td>\n",
       "      <td>0</td>\n",
       "      <td>NaN</td>\n",
       "      <td>NaN</td>\n",
       "      <td>NaN</td>\n",
       "      <td>NaN</td>\n",
       "      <td>0</td>\n",
       "      <td>NaN</td>\n",
       "      <td>NaN</td>\n",
       "      <td>NaN</td>\n",
       "      <td>NaN</td>\n",
       "      <td>NaN</td>\n",
       "      <td>NaN</td>\n",
       "      <td>5</td>\n",
       "      <td>Sudeste</td>\n",
       "      <td>Sudeste</td>\n",
       "      <td>1</td>\n",
       "      <td>1</td>\n",
       "      <td>1</td>\n",
       "      <td>0</td>\n",
       "      <td>NaN</td>\n",
       "      <td>NaN</td>\n",
       "    </tr>\n",
       "    <tr>\n",
       "      <th>3476104</th>\n",
       "      <td>210056307777</td>\n",
       "      <td>2022</td>\n",
       "      <td>2</td>\n",
       "      <td>F</td>\n",
       "      <td>2</td>\n",
       "      <td>3</td>\n",
       "      <td>1</td>\n",
       "      <td>2</td>\n",
       "      <td>2</td>\n",
       "      <td>Goiânia</td>\n",
       "      <td>2.0</td>\n",
       "      <td>1.0</td>\n",
       "      <td>1.0</td>\n",
       "      <td>5208707</td>\n",
       "      <td>Goiânia</td>\n",
       "      <td>GO</td>\n",
       "      <td>0</td>\n",
       "      <td>0</td>\n",
       "      <td>0</td>\n",
       "      <td>0</td>\n",
       "      <td>NaN</td>\n",
       "      <td>NaN</td>\n",
       "      <td>NaN</td>\n",
       "      <td>NaN</td>\n",
       "      <td>1</td>\n",
       "      <td>NaN</td>\n",
       "      <td>NaN</td>\n",
       "      <td>NaN</td>\n",
       "      <td>NaN</td>\n",
       "      <td>NaN</td>\n",
       "      <td>NaN</td>\n",
       "      <td>2</td>\n",
       "      <td>Centro-Oeste</td>\n",
       "      <td>Centro-Oeste</td>\n",
       "      <td>1</td>\n",
       "      <td>1</td>\n",
       "      <td>1</td>\n",
       "      <td>0</td>\n",
       "      <td>NaN</td>\n",
       "      <td>NaN</td>\n",
       "    </tr>\n",
       "  </tbody>\n",
       "</table>\n",
       "<p>2963373 rows × 40 columns</p>\n",
       "</div>"
      ],
      "text/plain": [
       "         NU_INSCRICAO  NU_ANO  TP_FAIXA_ETARIA TP_SEXO  TP_ESTADO_CIVIL  \\\n",
       "0        210057943671    2022               14       M                2   \n",
       "1        210057516120    2022               14       M                2   \n",
       "2        210057280536    2022                5       F                1   \n",
       "3        210055724397    2022                6       M                1   \n",
       "4        210055097896    2022                4       M                0   \n",
       "...               ...     ...              ...     ...              ...   \n",
       "3476100  210056389903    2022                3       M                1   \n",
       "3476101  210057205644    2022               14       F                2   \n",
       "3476102  210056699189    2022                2       M                1   \n",
       "3476103  210056983033    2022                3       M                1   \n",
       "3476104  210056307777    2022                2       F                2   \n",
       "\n",
       "         TP_COR_RACA  TP_NACIONALIDADE  TP_ST_CONCLUSAO  TP_ESCOLA  \\\n",
       "0                  2                 1                1          1   \n",
       "1                  1                 1                1          1   \n",
       "2                  2                 1                1          1   \n",
       "3                  3                 1                1          1   \n",
       "4                  3                 1                1          1   \n",
       "...              ...               ...              ...        ...   \n",
       "3476100            1                 1                2          2   \n",
       "3476101            1                 1                2          2   \n",
       "3476102            1                 1                2          2   \n",
       "3476103            3                 1                2          3   \n",
       "3476104            3                 1                2          2   \n",
       "\n",
       "        NO_MUNICIPIO_ESC  TP_DEPENDENCIA_ADM_ESC  TP_LOCALIZACAO_ESC  \\\n",
       "0                    NaN                     NaN                 NaN   \n",
       "1                    NaN                     NaN                 NaN   \n",
       "2                    NaN                     NaN                 NaN   \n",
       "3                    NaN                     NaN                 NaN   \n",
       "4                    NaN                     NaN                 NaN   \n",
       "...                  ...                     ...                 ...   \n",
       "3476100              NaN                     NaN                 NaN   \n",
       "3476101          Caruaru                     2.0                 1.0   \n",
       "3476102            Lages                     2.0                 1.0   \n",
       "3476103           Guaíra                     4.0                 1.0   \n",
       "3476104          Goiânia                     2.0                 1.0   \n",
       "\n",
       "         TP_SIT_FUNC_ESC  CO_MUNICIPIO_PROVA         NO_MUNICIPIO_PROVA  \\\n",
       "0                    NaN             5300108                   Brasília   \n",
       "1                    NaN             5300108                   Brasília   \n",
       "2                    NaN             2925758  Presidente Tancredo Neves   \n",
       "3                    NaN             3201308                  Cariacica   \n",
       "4                    NaN             1506203                Salinópolis   \n",
       "...                  ...                 ...                        ...   \n",
       "3476100              NaN             3524709                 Jaguariúna   \n",
       "3476101              1.0             2604106                    Caruaru   \n",
       "3476102              1.0             4209300                      Lages   \n",
       "3476103              1.0             3517406                     Guaíra   \n",
       "3476104              1.0             5208707                    Goiânia   \n",
       "\n",
       "        SG_UF_PROVA  TP_PRESENCA_CN  TP_PRESENCA_CH  TP_PRESENCA_LC  \\\n",
       "0                DF               0               0               0   \n",
       "1                DF               0               0               0   \n",
       "2                BA               1               1               1   \n",
       "3                ES               1               1               1   \n",
       "4                PA               0               0               0   \n",
       "...             ...             ...             ...             ...   \n",
       "3476100          SP               0               0               0   \n",
       "3476101          PE               0               0               0   \n",
       "3476102          SC               1               1               1   \n",
       "3476103          SP               0               0               0   \n",
       "3476104          GO               0               0               0   \n",
       "\n",
       "         TP_PRESENCA_MT  NU_NOTA_CN  NU_NOTA_CH  NU_NOTA_LC  NU_NOTA_MT  \\\n",
       "0                     0         NaN         NaN         NaN         NaN   \n",
       "1                     0         NaN         NaN         NaN         NaN   \n",
       "2                     1       421.1       546.0       498.8       565.3   \n",
       "3                     1       490.7       388.6       357.8       416.0   \n",
       "4                     0         NaN         NaN         NaN         NaN   \n",
       "...                 ...         ...         ...         ...         ...   \n",
       "3476100               0         NaN         NaN         NaN         NaN   \n",
       "3476101               0         NaN         NaN         NaN         NaN   \n",
       "3476102               1       527.9       627.0       583.3       637.1   \n",
       "3476103               0         NaN         NaN         NaN         NaN   \n",
       "3476104               0         NaN         NaN         NaN         NaN   \n",
       "\n",
       "         TP_LINGUA  NU_NOTA_COMP1  NU_NOTA_COMP2  NU_NOTA_COMP3  \\\n",
       "0                0            NaN            NaN            NaN   \n",
       "1                0            NaN            NaN            NaN   \n",
       "2                1          140.0          200.0          120.0   \n",
       "3                1          120.0           40.0           40.0   \n",
       "4                0            NaN            NaN            NaN   \n",
       "...            ...            ...            ...            ...   \n",
       "3476100          1            NaN            NaN            NaN   \n",
       "3476101          1            NaN            NaN            NaN   \n",
       "3476102          0          140.0          120.0          140.0   \n",
       "3476103          0            NaN            NaN            NaN   \n",
       "3476104          1            NaN            NaN            NaN   \n",
       "\n",
       "         NU_NOTA_COMP4  NU_NOTA_COMP5  NU_NOTA_REDACAO  Q005 TP_REGIAO_PROVA  \\\n",
       "0                  NaN            NaN              NaN     3              DF   \n",
       "1                  NaN            NaN              NaN     3              DF   \n",
       "2                140.0          160.0            760.0     2        Nordeste   \n",
       "3                100.0           20.0            320.0     3         Sudeste   \n",
       "4                  NaN            NaN              NaN     2           Norte   \n",
       "...                ...            ...              ...   ...             ...   \n",
       "3476100            NaN            NaN              NaN     4         Sudeste   \n",
       "3476101            NaN            NaN              NaN     3        Nordeste   \n",
       "3476102          140.0          120.0            660.0     4             Sul   \n",
       "3476103            NaN            NaN              NaN     5         Sudeste   \n",
       "3476104            NaN            NaN              NaN     2    Centro-Oeste   \n",
       "\n",
       "        TP_REGIAO_ESC  ABS_DIA_1  ABS_DIA_2  ABS_ALL  FLAG_NULL_ESC  \\\n",
       "0                  DF          1          1        1              1   \n",
       "1                  DF          1          1        1              1   \n",
       "2            Nordeste          0          0        0              1   \n",
       "3             Sudeste          0          0        0              1   \n",
       "4               Norte          1          1        1              1   \n",
       "...               ...        ...        ...      ...            ...   \n",
       "3476100       Sudeste          1          1        1              1   \n",
       "3476101      Nordeste          1          1        1              0   \n",
       "3476102           Sul          0          0        0              0   \n",
       "3476103       Sudeste          1          1        1              0   \n",
       "3476104  Centro-Oeste          1          1        1              0   \n",
       "\n",
       "         MEDIA_OBJ  MEDIA_GLOBAL  \n",
       "0              NaN           NaN  \n",
       "1              NaN           NaN  \n",
       "2          507.800        558.24  \n",
       "3          413.275        394.62  \n",
       "4              NaN           NaN  \n",
       "...            ...           ...  \n",
       "3476100        NaN           NaN  \n",
       "3476101        NaN           NaN  \n",
       "3476102    593.825        607.06  \n",
       "3476103        NaN           NaN  \n",
       "3476104        NaN           NaN  \n",
       "\n",
       "[2963373 rows x 40 columns]"
      ]
     },
     "execution_count": 29,
     "metadata": {},
     "output_type": "execute_result"
    }
   ],
   "source": [
    "df_enem.loc[df_enem['NU_ANO'].between(2012, 2014), 'TP_ESCOLA'] = df_enem['TP_ESCOLA'] + 1\n",
    "df_enem[df_enem['NU_ANO'] == 2022]"
   ]
  },
  {
   "cell_type": "markdown",
   "metadata": {},
   "source": [
    "#### 3º Ajuste. No item TP_SEXO A base do ano de 2012 não segue o formato abaixo:\n",
    "#### M - Masculino\n",
    "#### F - Feminino\n",
    "#### A base de 2012 segue essa padronização:\n",
    "#### 0 = Masculino\n",
    "#### 1 = Feminino\n",
    "#### Então o ajuste será classificar conforme outros anos."
   ]
  },
  {
   "cell_type": "code",
   "execution_count": 30,
   "metadata": {},
   "outputs": [
    {
     "data": {
      "text/html": [
       "<div>\n",
       "<style scoped>\n",
       "    .dataframe tbody tr th:only-of-type {\n",
       "        vertical-align: middle;\n",
       "    }\n",
       "\n",
       "    .dataframe tbody tr th {\n",
       "        vertical-align: top;\n",
       "    }\n",
       "\n",
       "    .dataframe thead th {\n",
       "        text-align: right;\n",
       "    }\n",
       "</style>\n",
       "<table border=\"1\" class=\"dataframe\">\n",
       "  <thead>\n",
       "    <tr style=\"text-align: right;\">\n",
       "      <th></th>\n",
       "      <th>NU_INSCRICAO</th>\n",
       "      <th>NU_ANO</th>\n",
       "      <th>TP_FAIXA_ETARIA</th>\n",
       "      <th>TP_SEXO</th>\n",
       "      <th>TP_ESTADO_CIVIL</th>\n",
       "      <th>TP_COR_RACA</th>\n",
       "      <th>TP_NACIONALIDADE</th>\n",
       "      <th>TP_ST_CONCLUSAO</th>\n",
       "      <th>TP_ESCOLA</th>\n",
       "      <th>NO_MUNICIPIO_ESC</th>\n",
       "      <th>TP_DEPENDENCIA_ADM_ESC</th>\n",
       "      <th>TP_LOCALIZACAO_ESC</th>\n",
       "      <th>TP_SIT_FUNC_ESC</th>\n",
       "      <th>CO_MUNICIPIO_PROVA</th>\n",
       "      <th>NO_MUNICIPIO_PROVA</th>\n",
       "      <th>SG_UF_PROVA</th>\n",
       "      <th>TP_PRESENCA_CN</th>\n",
       "      <th>TP_PRESENCA_CH</th>\n",
       "      <th>TP_PRESENCA_LC</th>\n",
       "      <th>TP_PRESENCA_MT</th>\n",
       "      <th>NU_NOTA_CN</th>\n",
       "      <th>NU_NOTA_CH</th>\n",
       "      <th>NU_NOTA_LC</th>\n",
       "      <th>NU_NOTA_MT</th>\n",
       "      <th>TP_LINGUA</th>\n",
       "      <th>NU_NOTA_COMP1</th>\n",
       "      <th>NU_NOTA_COMP2</th>\n",
       "      <th>NU_NOTA_COMP3</th>\n",
       "      <th>NU_NOTA_COMP4</th>\n",
       "      <th>NU_NOTA_COMP5</th>\n",
       "      <th>NU_NOTA_REDACAO</th>\n",
       "      <th>Q005</th>\n",
       "      <th>TP_REGIAO_PROVA</th>\n",
       "      <th>TP_REGIAO_ESC</th>\n",
       "      <th>ABS_DIA_1</th>\n",
       "      <th>ABS_DIA_2</th>\n",
       "      <th>ABS_ALL</th>\n",
       "      <th>FLAG_NULL_ESC</th>\n",
       "      <th>MEDIA_OBJ</th>\n",
       "      <th>MEDIA_GLOBAL</th>\n",
       "    </tr>\n",
       "  </thead>\n",
       "  <tbody>\n",
       "    <tr>\n",
       "      <th>0</th>\n",
       "      <td>210057943671</td>\n",
       "      <td>2022</td>\n",
       "      <td>14</td>\n",
       "      <td>M</td>\n",
       "      <td>2</td>\n",
       "      <td>2</td>\n",
       "      <td>1</td>\n",
       "      <td>1</td>\n",
       "      <td>1</td>\n",
       "      <td>NaN</td>\n",
       "      <td>NaN</td>\n",
       "      <td>NaN</td>\n",
       "      <td>NaN</td>\n",
       "      <td>5300108</td>\n",
       "      <td>Brasília</td>\n",
       "      <td>DF</td>\n",
       "      <td>0</td>\n",
       "      <td>0</td>\n",
       "      <td>0</td>\n",
       "      <td>0</td>\n",
       "      <td>NaN</td>\n",
       "      <td>NaN</td>\n",
       "      <td>NaN</td>\n",
       "      <td>NaN</td>\n",
       "      <td>0</td>\n",
       "      <td>NaN</td>\n",
       "      <td>NaN</td>\n",
       "      <td>NaN</td>\n",
       "      <td>NaN</td>\n",
       "      <td>NaN</td>\n",
       "      <td>NaN</td>\n",
       "      <td>3</td>\n",
       "      <td>DF</td>\n",
       "      <td>DF</td>\n",
       "      <td>1</td>\n",
       "      <td>1</td>\n",
       "      <td>1</td>\n",
       "      <td>1</td>\n",
       "      <td>NaN</td>\n",
       "      <td>NaN</td>\n",
       "    </tr>\n",
       "    <tr>\n",
       "      <th>1</th>\n",
       "      <td>210057516120</td>\n",
       "      <td>2022</td>\n",
       "      <td>14</td>\n",
       "      <td>M</td>\n",
       "      <td>2</td>\n",
       "      <td>1</td>\n",
       "      <td>1</td>\n",
       "      <td>1</td>\n",
       "      <td>1</td>\n",
       "      <td>NaN</td>\n",
       "      <td>NaN</td>\n",
       "      <td>NaN</td>\n",
       "      <td>NaN</td>\n",
       "      <td>5300108</td>\n",
       "      <td>Brasília</td>\n",
       "      <td>DF</td>\n",
       "      <td>0</td>\n",
       "      <td>0</td>\n",
       "      <td>0</td>\n",
       "      <td>0</td>\n",
       "      <td>NaN</td>\n",
       "      <td>NaN</td>\n",
       "      <td>NaN</td>\n",
       "      <td>NaN</td>\n",
       "      <td>0</td>\n",
       "      <td>NaN</td>\n",
       "      <td>NaN</td>\n",
       "      <td>NaN</td>\n",
       "      <td>NaN</td>\n",
       "      <td>NaN</td>\n",
       "      <td>NaN</td>\n",
       "      <td>3</td>\n",
       "      <td>DF</td>\n",
       "      <td>DF</td>\n",
       "      <td>1</td>\n",
       "      <td>1</td>\n",
       "      <td>1</td>\n",
       "      <td>1</td>\n",
       "      <td>NaN</td>\n",
       "      <td>NaN</td>\n",
       "    </tr>\n",
       "    <tr>\n",
       "      <th>2</th>\n",
       "      <td>210057280536</td>\n",
       "      <td>2022</td>\n",
       "      <td>5</td>\n",
       "      <td>F</td>\n",
       "      <td>1</td>\n",
       "      <td>2</td>\n",
       "      <td>1</td>\n",
       "      <td>1</td>\n",
       "      <td>1</td>\n",
       "      <td>NaN</td>\n",
       "      <td>NaN</td>\n",
       "      <td>NaN</td>\n",
       "      <td>NaN</td>\n",
       "      <td>2925758</td>\n",
       "      <td>Presidente Tancredo Neves</td>\n",
       "      <td>BA</td>\n",
       "      <td>1</td>\n",
       "      <td>1</td>\n",
       "      <td>1</td>\n",
       "      <td>1</td>\n",
       "      <td>421.1</td>\n",
       "      <td>546.0</td>\n",
       "      <td>498.8</td>\n",
       "      <td>565.3</td>\n",
       "      <td>1</td>\n",
       "      <td>140.0</td>\n",
       "      <td>200.0</td>\n",
       "      <td>120.0</td>\n",
       "      <td>140.0</td>\n",
       "      <td>160.0</td>\n",
       "      <td>760.0</td>\n",
       "      <td>2</td>\n",
       "      <td>Nordeste</td>\n",
       "      <td>Nordeste</td>\n",
       "      <td>0</td>\n",
       "      <td>0</td>\n",
       "      <td>0</td>\n",
       "      <td>1</td>\n",
       "      <td>507.800</td>\n",
       "      <td>558.24</td>\n",
       "    </tr>\n",
       "    <tr>\n",
       "      <th>3</th>\n",
       "      <td>210055724397</td>\n",
       "      <td>2022</td>\n",
       "      <td>6</td>\n",
       "      <td>M</td>\n",
       "      <td>1</td>\n",
       "      <td>3</td>\n",
       "      <td>1</td>\n",
       "      <td>1</td>\n",
       "      <td>1</td>\n",
       "      <td>NaN</td>\n",
       "      <td>NaN</td>\n",
       "      <td>NaN</td>\n",
       "      <td>NaN</td>\n",
       "      <td>3201308</td>\n",
       "      <td>Cariacica</td>\n",
       "      <td>ES</td>\n",
       "      <td>1</td>\n",
       "      <td>1</td>\n",
       "      <td>1</td>\n",
       "      <td>1</td>\n",
       "      <td>490.7</td>\n",
       "      <td>388.6</td>\n",
       "      <td>357.8</td>\n",
       "      <td>416.0</td>\n",
       "      <td>1</td>\n",
       "      <td>120.0</td>\n",
       "      <td>40.0</td>\n",
       "      <td>40.0</td>\n",
       "      <td>100.0</td>\n",
       "      <td>20.0</td>\n",
       "      <td>320.0</td>\n",
       "      <td>3</td>\n",
       "      <td>Sudeste</td>\n",
       "      <td>Sudeste</td>\n",
       "      <td>0</td>\n",
       "      <td>0</td>\n",
       "      <td>0</td>\n",
       "      <td>1</td>\n",
       "      <td>413.275</td>\n",
       "      <td>394.62</td>\n",
       "    </tr>\n",
       "    <tr>\n",
       "      <th>4</th>\n",
       "      <td>210055097896</td>\n",
       "      <td>2022</td>\n",
       "      <td>4</td>\n",
       "      <td>M</td>\n",
       "      <td>0</td>\n",
       "      <td>3</td>\n",
       "      <td>1</td>\n",
       "      <td>1</td>\n",
       "      <td>1</td>\n",
       "      <td>NaN</td>\n",
       "      <td>NaN</td>\n",
       "      <td>NaN</td>\n",
       "      <td>NaN</td>\n",
       "      <td>1506203</td>\n",
       "      <td>Salinópolis</td>\n",
       "      <td>PA</td>\n",
       "      <td>0</td>\n",
       "      <td>0</td>\n",
       "      <td>0</td>\n",
       "      <td>0</td>\n",
       "      <td>NaN</td>\n",
       "      <td>NaN</td>\n",
       "      <td>NaN</td>\n",
       "      <td>NaN</td>\n",
       "      <td>0</td>\n",
       "      <td>NaN</td>\n",
       "      <td>NaN</td>\n",
       "      <td>NaN</td>\n",
       "      <td>NaN</td>\n",
       "      <td>NaN</td>\n",
       "      <td>NaN</td>\n",
       "      <td>2</td>\n",
       "      <td>Norte</td>\n",
       "      <td>Norte</td>\n",
       "      <td>1</td>\n",
       "      <td>1</td>\n",
       "      <td>1</td>\n",
       "      <td>1</td>\n",
       "      <td>NaN</td>\n",
       "      <td>NaN</td>\n",
       "    </tr>\n",
       "    <tr>\n",
       "      <th>...</th>\n",
       "      <td>...</td>\n",
       "      <td>...</td>\n",
       "      <td>...</td>\n",
       "      <td>...</td>\n",
       "      <td>...</td>\n",
       "      <td>...</td>\n",
       "      <td>...</td>\n",
       "      <td>...</td>\n",
       "      <td>...</td>\n",
       "      <td>...</td>\n",
       "      <td>...</td>\n",
       "      <td>...</td>\n",
       "      <td>...</td>\n",
       "      <td>...</td>\n",
       "      <td>...</td>\n",
       "      <td>...</td>\n",
       "      <td>...</td>\n",
       "      <td>...</td>\n",
       "      <td>...</td>\n",
       "      <td>...</td>\n",
       "      <td>...</td>\n",
       "      <td>...</td>\n",
       "      <td>...</td>\n",
       "      <td>...</td>\n",
       "      <td>...</td>\n",
       "      <td>...</td>\n",
       "      <td>...</td>\n",
       "      <td>...</td>\n",
       "      <td>...</td>\n",
       "      <td>...</td>\n",
       "      <td>...</td>\n",
       "      <td>...</td>\n",
       "      <td>...</td>\n",
       "      <td>...</td>\n",
       "      <td>...</td>\n",
       "      <td>...</td>\n",
       "      <td>...</td>\n",
       "      <td>...</td>\n",
       "      <td>...</td>\n",
       "      <td>...</td>\n",
       "    </tr>\n",
       "    <tr>\n",
       "      <th>3476100</th>\n",
       "      <td>210056389903</td>\n",
       "      <td>2022</td>\n",
       "      <td>3</td>\n",
       "      <td>M</td>\n",
       "      <td>1</td>\n",
       "      <td>1</td>\n",
       "      <td>1</td>\n",
       "      <td>2</td>\n",
       "      <td>2</td>\n",
       "      <td>NaN</td>\n",
       "      <td>NaN</td>\n",
       "      <td>NaN</td>\n",
       "      <td>NaN</td>\n",
       "      <td>3524709</td>\n",
       "      <td>Jaguariúna</td>\n",
       "      <td>SP</td>\n",
       "      <td>0</td>\n",
       "      <td>0</td>\n",
       "      <td>0</td>\n",
       "      <td>0</td>\n",
       "      <td>NaN</td>\n",
       "      <td>NaN</td>\n",
       "      <td>NaN</td>\n",
       "      <td>NaN</td>\n",
       "      <td>1</td>\n",
       "      <td>NaN</td>\n",
       "      <td>NaN</td>\n",
       "      <td>NaN</td>\n",
       "      <td>NaN</td>\n",
       "      <td>NaN</td>\n",
       "      <td>NaN</td>\n",
       "      <td>4</td>\n",
       "      <td>Sudeste</td>\n",
       "      <td>Sudeste</td>\n",
       "      <td>1</td>\n",
       "      <td>1</td>\n",
       "      <td>1</td>\n",
       "      <td>1</td>\n",
       "      <td>NaN</td>\n",
       "      <td>NaN</td>\n",
       "    </tr>\n",
       "    <tr>\n",
       "      <th>3476101</th>\n",
       "      <td>210057205644</td>\n",
       "      <td>2022</td>\n",
       "      <td>14</td>\n",
       "      <td>F</td>\n",
       "      <td>2</td>\n",
       "      <td>1</td>\n",
       "      <td>1</td>\n",
       "      <td>2</td>\n",
       "      <td>2</td>\n",
       "      <td>Caruaru</td>\n",
       "      <td>2.0</td>\n",
       "      <td>1.0</td>\n",
       "      <td>1.0</td>\n",
       "      <td>2604106</td>\n",
       "      <td>Caruaru</td>\n",
       "      <td>PE</td>\n",
       "      <td>0</td>\n",
       "      <td>0</td>\n",
       "      <td>0</td>\n",
       "      <td>0</td>\n",
       "      <td>NaN</td>\n",
       "      <td>NaN</td>\n",
       "      <td>NaN</td>\n",
       "      <td>NaN</td>\n",
       "      <td>1</td>\n",
       "      <td>NaN</td>\n",
       "      <td>NaN</td>\n",
       "      <td>NaN</td>\n",
       "      <td>NaN</td>\n",
       "      <td>NaN</td>\n",
       "      <td>NaN</td>\n",
       "      <td>3</td>\n",
       "      <td>Nordeste</td>\n",
       "      <td>Nordeste</td>\n",
       "      <td>1</td>\n",
       "      <td>1</td>\n",
       "      <td>1</td>\n",
       "      <td>0</td>\n",
       "      <td>NaN</td>\n",
       "      <td>NaN</td>\n",
       "    </tr>\n",
       "    <tr>\n",
       "      <th>3476102</th>\n",
       "      <td>210056699189</td>\n",
       "      <td>2022</td>\n",
       "      <td>2</td>\n",
       "      <td>M</td>\n",
       "      <td>1</td>\n",
       "      <td>1</td>\n",
       "      <td>1</td>\n",
       "      <td>2</td>\n",
       "      <td>2</td>\n",
       "      <td>Lages</td>\n",
       "      <td>2.0</td>\n",
       "      <td>1.0</td>\n",
       "      <td>1.0</td>\n",
       "      <td>4209300</td>\n",
       "      <td>Lages</td>\n",
       "      <td>SC</td>\n",
       "      <td>1</td>\n",
       "      <td>1</td>\n",
       "      <td>1</td>\n",
       "      <td>1</td>\n",
       "      <td>527.9</td>\n",
       "      <td>627.0</td>\n",
       "      <td>583.3</td>\n",
       "      <td>637.1</td>\n",
       "      <td>0</td>\n",
       "      <td>140.0</td>\n",
       "      <td>120.0</td>\n",
       "      <td>140.0</td>\n",
       "      <td>140.0</td>\n",
       "      <td>120.0</td>\n",
       "      <td>660.0</td>\n",
       "      <td>4</td>\n",
       "      <td>Sul</td>\n",
       "      <td>Sul</td>\n",
       "      <td>0</td>\n",
       "      <td>0</td>\n",
       "      <td>0</td>\n",
       "      <td>0</td>\n",
       "      <td>593.825</td>\n",
       "      <td>607.06</td>\n",
       "    </tr>\n",
       "    <tr>\n",
       "      <th>3476103</th>\n",
       "      <td>210056983033</td>\n",
       "      <td>2022</td>\n",
       "      <td>3</td>\n",
       "      <td>M</td>\n",
       "      <td>1</td>\n",
       "      <td>3</td>\n",
       "      <td>1</td>\n",
       "      <td>2</td>\n",
       "      <td>3</td>\n",
       "      <td>Guaíra</td>\n",
       "      <td>4.0</td>\n",
       "      <td>1.0</td>\n",
       "      <td>1.0</td>\n",
       "      <td>3517406</td>\n",
       "      <td>Guaíra</td>\n",
       "      <td>SP</td>\n",
       "      <td>0</td>\n",
       "      <td>0</td>\n",
       "      <td>0</td>\n",
       "      <td>0</td>\n",
       "      <td>NaN</td>\n",
       "      <td>NaN</td>\n",
       "      <td>NaN</td>\n",
       "      <td>NaN</td>\n",
       "      <td>0</td>\n",
       "      <td>NaN</td>\n",
       "      <td>NaN</td>\n",
       "      <td>NaN</td>\n",
       "      <td>NaN</td>\n",
       "      <td>NaN</td>\n",
       "      <td>NaN</td>\n",
       "      <td>5</td>\n",
       "      <td>Sudeste</td>\n",
       "      <td>Sudeste</td>\n",
       "      <td>1</td>\n",
       "      <td>1</td>\n",
       "      <td>1</td>\n",
       "      <td>0</td>\n",
       "      <td>NaN</td>\n",
       "      <td>NaN</td>\n",
       "    </tr>\n",
       "    <tr>\n",
       "      <th>3476104</th>\n",
       "      <td>210056307777</td>\n",
       "      <td>2022</td>\n",
       "      <td>2</td>\n",
       "      <td>F</td>\n",
       "      <td>2</td>\n",
       "      <td>3</td>\n",
       "      <td>1</td>\n",
       "      <td>2</td>\n",
       "      <td>2</td>\n",
       "      <td>Goiânia</td>\n",
       "      <td>2.0</td>\n",
       "      <td>1.0</td>\n",
       "      <td>1.0</td>\n",
       "      <td>5208707</td>\n",
       "      <td>Goiânia</td>\n",
       "      <td>GO</td>\n",
       "      <td>0</td>\n",
       "      <td>0</td>\n",
       "      <td>0</td>\n",
       "      <td>0</td>\n",
       "      <td>NaN</td>\n",
       "      <td>NaN</td>\n",
       "      <td>NaN</td>\n",
       "      <td>NaN</td>\n",
       "      <td>1</td>\n",
       "      <td>NaN</td>\n",
       "      <td>NaN</td>\n",
       "      <td>NaN</td>\n",
       "      <td>NaN</td>\n",
       "      <td>NaN</td>\n",
       "      <td>NaN</td>\n",
       "      <td>2</td>\n",
       "      <td>Centro-Oeste</td>\n",
       "      <td>Centro-Oeste</td>\n",
       "      <td>1</td>\n",
       "      <td>1</td>\n",
       "      <td>1</td>\n",
       "      <td>0</td>\n",
       "      <td>NaN</td>\n",
       "      <td>NaN</td>\n",
       "    </tr>\n",
       "  </tbody>\n",
       "</table>\n",
       "<p>2963373 rows × 40 columns</p>\n",
       "</div>"
      ],
      "text/plain": [
       "         NU_INSCRICAO  NU_ANO  TP_FAIXA_ETARIA TP_SEXO  TP_ESTADO_CIVIL  \\\n",
       "0        210057943671    2022               14       M                2   \n",
       "1        210057516120    2022               14       M                2   \n",
       "2        210057280536    2022                5       F                1   \n",
       "3        210055724397    2022                6       M                1   \n",
       "4        210055097896    2022                4       M                0   \n",
       "...               ...     ...              ...     ...              ...   \n",
       "3476100  210056389903    2022                3       M                1   \n",
       "3476101  210057205644    2022               14       F                2   \n",
       "3476102  210056699189    2022                2       M                1   \n",
       "3476103  210056983033    2022                3       M                1   \n",
       "3476104  210056307777    2022                2       F                2   \n",
       "\n",
       "         TP_COR_RACA  TP_NACIONALIDADE  TP_ST_CONCLUSAO  TP_ESCOLA  \\\n",
       "0                  2                 1                1          1   \n",
       "1                  1                 1                1          1   \n",
       "2                  2                 1                1          1   \n",
       "3                  3                 1                1          1   \n",
       "4                  3                 1                1          1   \n",
       "...              ...               ...              ...        ...   \n",
       "3476100            1                 1                2          2   \n",
       "3476101            1                 1                2          2   \n",
       "3476102            1                 1                2          2   \n",
       "3476103            3                 1                2          3   \n",
       "3476104            3                 1                2          2   \n",
       "\n",
       "        NO_MUNICIPIO_ESC  TP_DEPENDENCIA_ADM_ESC  TP_LOCALIZACAO_ESC  \\\n",
       "0                    NaN                     NaN                 NaN   \n",
       "1                    NaN                     NaN                 NaN   \n",
       "2                    NaN                     NaN                 NaN   \n",
       "3                    NaN                     NaN                 NaN   \n",
       "4                    NaN                     NaN                 NaN   \n",
       "...                  ...                     ...                 ...   \n",
       "3476100              NaN                     NaN                 NaN   \n",
       "3476101          Caruaru                     2.0                 1.0   \n",
       "3476102            Lages                     2.0                 1.0   \n",
       "3476103           Guaíra                     4.0                 1.0   \n",
       "3476104          Goiânia                     2.0                 1.0   \n",
       "\n",
       "         TP_SIT_FUNC_ESC  CO_MUNICIPIO_PROVA         NO_MUNICIPIO_PROVA  \\\n",
       "0                    NaN             5300108                   Brasília   \n",
       "1                    NaN             5300108                   Brasília   \n",
       "2                    NaN             2925758  Presidente Tancredo Neves   \n",
       "3                    NaN             3201308                  Cariacica   \n",
       "4                    NaN             1506203                Salinópolis   \n",
       "...                  ...                 ...                        ...   \n",
       "3476100              NaN             3524709                 Jaguariúna   \n",
       "3476101              1.0             2604106                    Caruaru   \n",
       "3476102              1.0             4209300                      Lages   \n",
       "3476103              1.0             3517406                     Guaíra   \n",
       "3476104              1.0             5208707                    Goiânia   \n",
       "\n",
       "        SG_UF_PROVA  TP_PRESENCA_CN  TP_PRESENCA_CH  TP_PRESENCA_LC  \\\n",
       "0                DF               0               0               0   \n",
       "1                DF               0               0               0   \n",
       "2                BA               1               1               1   \n",
       "3                ES               1               1               1   \n",
       "4                PA               0               0               0   \n",
       "...             ...             ...             ...             ...   \n",
       "3476100          SP               0               0               0   \n",
       "3476101          PE               0               0               0   \n",
       "3476102          SC               1               1               1   \n",
       "3476103          SP               0               0               0   \n",
       "3476104          GO               0               0               0   \n",
       "\n",
       "         TP_PRESENCA_MT  NU_NOTA_CN  NU_NOTA_CH  NU_NOTA_LC  NU_NOTA_MT  \\\n",
       "0                     0         NaN         NaN         NaN         NaN   \n",
       "1                     0         NaN         NaN         NaN         NaN   \n",
       "2                     1       421.1       546.0       498.8       565.3   \n",
       "3                     1       490.7       388.6       357.8       416.0   \n",
       "4                     0         NaN         NaN         NaN         NaN   \n",
       "...                 ...         ...         ...         ...         ...   \n",
       "3476100               0         NaN         NaN         NaN         NaN   \n",
       "3476101               0         NaN         NaN         NaN         NaN   \n",
       "3476102               1       527.9       627.0       583.3       637.1   \n",
       "3476103               0         NaN         NaN         NaN         NaN   \n",
       "3476104               0         NaN         NaN         NaN         NaN   \n",
       "\n",
       "         TP_LINGUA  NU_NOTA_COMP1  NU_NOTA_COMP2  NU_NOTA_COMP3  \\\n",
       "0                0            NaN            NaN            NaN   \n",
       "1                0            NaN            NaN            NaN   \n",
       "2                1          140.0          200.0          120.0   \n",
       "3                1          120.0           40.0           40.0   \n",
       "4                0            NaN            NaN            NaN   \n",
       "...            ...            ...            ...            ...   \n",
       "3476100          1            NaN            NaN            NaN   \n",
       "3476101          1            NaN            NaN            NaN   \n",
       "3476102          0          140.0          120.0          140.0   \n",
       "3476103          0            NaN            NaN            NaN   \n",
       "3476104          1            NaN            NaN            NaN   \n",
       "\n",
       "         NU_NOTA_COMP4  NU_NOTA_COMP5  NU_NOTA_REDACAO  Q005 TP_REGIAO_PROVA  \\\n",
       "0                  NaN            NaN              NaN     3              DF   \n",
       "1                  NaN            NaN              NaN     3              DF   \n",
       "2                140.0          160.0            760.0     2        Nordeste   \n",
       "3                100.0           20.0            320.0     3         Sudeste   \n",
       "4                  NaN            NaN              NaN     2           Norte   \n",
       "...                ...            ...              ...   ...             ...   \n",
       "3476100            NaN            NaN              NaN     4         Sudeste   \n",
       "3476101            NaN            NaN              NaN     3        Nordeste   \n",
       "3476102          140.0          120.0            660.0     4             Sul   \n",
       "3476103            NaN            NaN              NaN     5         Sudeste   \n",
       "3476104            NaN            NaN              NaN     2    Centro-Oeste   \n",
       "\n",
       "        TP_REGIAO_ESC  ABS_DIA_1  ABS_DIA_2  ABS_ALL  FLAG_NULL_ESC  \\\n",
       "0                  DF          1          1        1              1   \n",
       "1                  DF          1          1        1              1   \n",
       "2            Nordeste          0          0        0              1   \n",
       "3             Sudeste          0          0        0              1   \n",
       "4               Norte          1          1        1              1   \n",
       "...               ...        ...        ...      ...            ...   \n",
       "3476100       Sudeste          1          1        1              1   \n",
       "3476101      Nordeste          1          1        1              0   \n",
       "3476102           Sul          0          0        0              0   \n",
       "3476103       Sudeste          1          1        1              0   \n",
       "3476104  Centro-Oeste          1          1        1              0   \n",
       "\n",
       "         MEDIA_OBJ  MEDIA_GLOBAL  \n",
       "0              NaN           NaN  \n",
       "1              NaN           NaN  \n",
       "2          507.800        558.24  \n",
       "3          413.275        394.62  \n",
       "4              NaN           NaN  \n",
       "...            ...           ...  \n",
       "3476100        NaN           NaN  \n",
       "3476101        NaN           NaN  \n",
       "3476102    593.825        607.06  \n",
       "3476103        NaN           NaN  \n",
       "3476104        NaN           NaN  \n",
       "\n",
       "[2963373 rows x 40 columns]"
      ]
     },
     "execution_count": 30,
     "metadata": {},
     "output_type": "execute_result"
    }
   ],
   "source": [
    "df_enem['TP_SEXO'] = df_enem['TP_SEXO'].replace({0: 'M', 1: 'F'})\n",
    "df_enem[df_enem['NU_ANO'] == 2022]"
   ]
  },
  {
   "cell_type": "code",
   "execution_count": 31,
   "metadata": {},
   "outputs": [
    {
     "data": {
      "text/plain": [
       "CategoricalDtype(categories=['F', 'M'], ordered=False)"
      ]
     },
     "execution_count": 31,
     "metadata": {},
     "output_type": "execute_result"
    }
   ],
   "source": [
    "df_enem['TP_SEXO'] = df_enem['TP_SEXO'].astype('category')\n",
    "df_enem['TP_SEXO'].dtype"
   ]
  },
  {
   "cell_type": "markdown",
   "metadata": {},
   "source": [
    "#### 4º Ajuste. Os TP_ESTADO_CIVIL de 2011, 2017, 2019, 2020, 2021 e 2022 seguem esse padrão:\n",
    "#### 0 - Não informado\n",
    "#### 1 - Solteiro\n",
    "#### 2 - Casado\n",
    "#### 3 - Divorciado\n",
    "#### 4 - Viúvo\n",
    "\n",
    "#### Os de 2010, 2012 a 2016, 2018 da maneira abaixo:\n",
    "#### 0 - Solteiro\n",
    "#### 1 - Casado\n",
    "#### 2 - Divorciado\n",
    "#### 3 - Viúvo\n",
    "\n",
    "#### Bases diferentes, adicionei +1 para as bases de 2010, 2012 a 2016, 2018 para seguirem o padrão dos outros anos.\n"
   ]
  },
  {
   "cell_type": "code",
   "execution_count": 32,
   "metadata": {},
   "outputs": [
    {
     "data": {
      "text/plain": [
       "dtype('int8')"
      ]
     },
     "execution_count": 32,
     "metadata": {},
     "output_type": "execute_result"
    }
   ],
   "source": [
    "df_enem['TP_ESTADO_CIVIL'] = df_enem['TP_ESTADO_CIVIL'].astype('int8')\n",
    "df_enem['TP_ESTADO_CIVIL'].dtype"
   ]
  },
  {
   "cell_type": "code",
   "execution_count": 33,
   "metadata": {},
   "outputs": [
    {
     "data": {
      "text/html": [
       "<div>\n",
       "<style scoped>\n",
       "    .dataframe tbody tr th:only-of-type {\n",
       "        vertical-align: middle;\n",
       "    }\n",
       "\n",
       "    .dataframe tbody tr th {\n",
       "        vertical-align: top;\n",
       "    }\n",
       "\n",
       "    .dataframe thead th {\n",
       "        text-align: right;\n",
       "    }\n",
       "</style>\n",
       "<table border=\"1\" class=\"dataframe\">\n",
       "  <thead>\n",
       "    <tr style=\"text-align: right;\">\n",
       "      <th></th>\n",
       "      <th>NU_INSCRICAO</th>\n",
       "      <th>NU_ANO</th>\n",
       "      <th>TP_FAIXA_ETARIA</th>\n",
       "      <th>TP_SEXO</th>\n",
       "      <th>TP_ESTADO_CIVIL</th>\n",
       "      <th>TP_COR_RACA</th>\n",
       "      <th>TP_NACIONALIDADE</th>\n",
       "      <th>TP_ST_CONCLUSAO</th>\n",
       "      <th>TP_ESCOLA</th>\n",
       "      <th>NO_MUNICIPIO_ESC</th>\n",
       "      <th>TP_DEPENDENCIA_ADM_ESC</th>\n",
       "      <th>TP_LOCALIZACAO_ESC</th>\n",
       "      <th>TP_SIT_FUNC_ESC</th>\n",
       "      <th>CO_MUNICIPIO_PROVA</th>\n",
       "      <th>NO_MUNICIPIO_PROVA</th>\n",
       "      <th>SG_UF_PROVA</th>\n",
       "      <th>TP_PRESENCA_CN</th>\n",
       "      <th>TP_PRESENCA_CH</th>\n",
       "      <th>TP_PRESENCA_LC</th>\n",
       "      <th>TP_PRESENCA_MT</th>\n",
       "      <th>NU_NOTA_CN</th>\n",
       "      <th>NU_NOTA_CH</th>\n",
       "      <th>NU_NOTA_LC</th>\n",
       "      <th>NU_NOTA_MT</th>\n",
       "      <th>TP_LINGUA</th>\n",
       "      <th>NU_NOTA_COMP1</th>\n",
       "      <th>NU_NOTA_COMP2</th>\n",
       "      <th>NU_NOTA_COMP3</th>\n",
       "      <th>NU_NOTA_COMP4</th>\n",
       "      <th>NU_NOTA_COMP5</th>\n",
       "      <th>NU_NOTA_REDACAO</th>\n",
       "      <th>Q005</th>\n",
       "      <th>TP_REGIAO_PROVA</th>\n",
       "      <th>TP_REGIAO_ESC</th>\n",
       "      <th>ABS_DIA_1</th>\n",
       "      <th>ABS_DIA_2</th>\n",
       "      <th>ABS_ALL</th>\n",
       "      <th>FLAG_NULL_ESC</th>\n",
       "      <th>MEDIA_OBJ</th>\n",
       "      <th>MEDIA_GLOBAL</th>\n",
       "    </tr>\n",
       "  </thead>\n",
       "  <tbody>\n",
       "    <tr>\n",
       "      <th>0</th>\n",
       "      <td>210057943671</td>\n",
       "      <td>2022</td>\n",
       "      <td>14</td>\n",
       "      <td>M</td>\n",
       "      <td>2</td>\n",
       "      <td>2</td>\n",
       "      <td>1</td>\n",
       "      <td>1</td>\n",
       "      <td>1</td>\n",
       "      <td>NaN</td>\n",
       "      <td>NaN</td>\n",
       "      <td>NaN</td>\n",
       "      <td>NaN</td>\n",
       "      <td>5300108</td>\n",
       "      <td>Brasília</td>\n",
       "      <td>DF</td>\n",
       "      <td>0</td>\n",
       "      <td>0</td>\n",
       "      <td>0</td>\n",
       "      <td>0</td>\n",
       "      <td>NaN</td>\n",
       "      <td>NaN</td>\n",
       "      <td>NaN</td>\n",
       "      <td>NaN</td>\n",
       "      <td>0</td>\n",
       "      <td>NaN</td>\n",
       "      <td>NaN</td>\n",
       "      <td>NaN</td>\n",
       "      <td>NaN</td>\n",
       "      <td>NaN</td>\n",
       "      <td>NaN</td>\n",
       "      <td>3</td>\n",
       "      <td>DF</td>\n",
       "      <td>DF</td>\n",
       "      <td>1</td>\n",
       "      <td>1</td>\n",
       "      <td>1</td>\n",
       "      <td>1</td>\n",
       "      <td>NaN</td>\n",
       "      <td>NaN</td>\n",
       "    </tr>\n",
       "    <tr>\n",
       "      <th>1</th>\n",
       "      <td>210057516120</td>\n",
       "      <td>2022</td>\n",
       "      <td>14</td>\n",
       "      <td>M</td>\n",
       "      <td>2</td>\n",
       "      <td>1</td>\n",
       "      <td>1</td>\n",
       "      <td>1</td>\n",
       "      <td>1</td>\n",
       "      <td>NaN</td>\n",
       "      <td>NaN</td>\n",
       "      <td>NaN</td>\n",
       "      <td>NaN</td>\n",
       "      <td>5300108</td>\n",
       "      <td>Brasília</td>\n",
       "      <td>DF</td>\n",
       "      <td>0</td>\n",
       "      <td>0</td>\n",
       "      <td>0</td>\n",
       "      <td>0</td>\n",
       "      <td>NaN</td>\n",
       "      <td>NaN</td>\n",
       "      <td>NaN</td>\n",
       "      <td>NaN</td>\n",
       "      <td>0</td>\n",
       "      <td>NaN</td>\n",
       "      <td>NaN</td>\n",
       "      <td>NaN</td>\n",
       "      <td>NaN</td>\n",
       "      <td>NaN</td>\n",
       "      <td>NaN</td>\n",
       "      <td>3</td>\n",
       "      <td>DF</td>\n",
       "      <td>DF</td>\n",
       "      <td>1</td>\n",
       "      <td>1</td>\n",
       "      <td>1</td>\n",
       "      <td>1</td>\n",
       "      <td>NaN</td>\n",
       "      <td>NaN</td>\n",
       "    </tr>\n",
       "    <tr>\n",
       "      <th>2</th>\n",
       "      <td>210057280536</td>\n",
       "      <td>2022</td>\n",
       "      <td>5</td>\n",
       "      <td>F</td>\n",
       "      <td>1</td>\n",
       "      <td>2</td>\n",
       "      <td>1</td>\n",
       "      <td>1</td>\n",
       "      <td>1</td>\n",
       "      <td>NaN</td>\n",
       "      <td>NaN</td>\n",
       "      <td>NaN</td>\n",
       "      <td>NaN</td>\n",
       "      <td>2925758</td>\n",
       "      <td>Presidente Tancredo Neves</td>\n",
       "      <td>BA</td>\n",
       "      <td>1</td>\n",
       "      <td>1</td>\n",
       "      <td>1</td>\n",
       "      <td>1</td>\n",
       "      <td>421.1</td>\n",
       "      <td>546.0</td>\n",
       "      <td>498.8</td>\n",
       "      <td>565.3</td>\n",
       "      <td>1</td>\n",
       "      <td>140.0</td>\n",
       "      <td>200.0</td>\n",
       "      <td>120.0</td>\n",
       "      <td>140.0</td>\n",
       "      <td>160.0</td>\n",
       "      <td>760.0</td>\n",
       "      <td>2</td>\n",
       "      <td>Nordeste</td>\n",
       "      <td>Nordeste</td>\n",
       "      <td>0</td>\n",
       "      <td>0</td>\n",
       "      <td>0</td>\n",
       "      <td>1</td>\n",
       "      <td>507.800</td>\n",
       "      <td>558.24</td>\n",
       "    </tr>\n",
       "    <tr>\n",
       "      <th>3</th>\n",
       "      <td>210055724397</td>\n",
       "      <td>2022</td>\n",
       "      <td>6</td>\n",
       "      <td>M</td>\n",
       "      <td>1</td>\n",
       "      <td>3</td>\n",
       "      <td>1</td>\n",
       "      <td>1</td>\n",
       "      <td>1</td>\n",
       "      <td>NaN</td>\n",
       "      <td>NaN</td>\n",
       "      <td>NaN</td>\n",
       "      <td>NaN</td>\n",
       "      <td>3201308</td>\n",
       "      <td>Cariacica</td>\n",
       "      <td>ES</td>\n",
       "      <td>1</td>\n",
       "      <td>1</td>\n",
       "      <td>1</td>\n",
       "      <td>1</td>\n",
       "      <td>490.7</td>\n",
       "      <td>388.6</td>\n",
       "      <td>357.8</td>\n",
       "      <td>416.0</td>\n",
       "      <td>1</td>\n",
       "      <td>120.0</td>\n",
       "      <td>40.0</td>\n",
       "      <td>40.0</td>\n",
       "      <td>100.0</td>\n",
       "      <td>20.0</td>\n",
       "      <td>320.0</td>\n",
       "      <td>3</td>\n",
       "      <td>Sudeste</td>\n",
       "      <td>Sudeste</td>\n",
       "      <td>0</td>\n",
       "      <td>0</td>\n",
       "      <td>0</td>\n",
       "      <td>1</td>\n",
       "      <td>413.275</td>\n",
       "      <td>394.62</td>\n",
       "    </tr>\n",
       "    <tr>\n",
       "      <th>4</th>\n",
       "      <td>210055097896</td>\n",
       "      <td>2022</td>\n",
       "      <td>4</td>\n",
       "      <td>M</td>\n",
       "      <td>0</td>\n",
       "      <td>3</td>\n",
       "      <td>1</td>\n",
       "      <td>1</td>\n",
       "      <td>1</td>\n",
       "      <td>NaN</td>\n",
       "      <td>NaN</td>\n",
       "      <td>NaN</td>\n",
       "      <td>NaN</td>\n",
       "      <td>1506203</td>\n",
       "      <td>Salinópolis</td>\n",
       "      <td>PA</td>\n",
       "      <td>0</td>\n",
       "      <td>0</td>\n",
       "      <td>0</td>\n",
       "      <td>0</td>\n",
       "      <td>NaN</td>\n",
       "      <td>NaN</td>\n",
       "      <td>NaN</td>\n",
       "      <td>NaN</td>\n",
       "      <td>0</td>\n",
       "      <td>NaN</td>\n",
       "      <td>NaN</td>\n",
       "      <td>NaN</td>\n",
       "      <td>NaN</td>\n",
       "      <td>NaN</td>\n",
       "      <td>NaN</td>\n",
       "      <td>2</td>\n",
       "      <td>Norte</td>\n",
       "      <td>Norte</td>\n",
       "      <td>1</td>\n",
       "      <td>1</td>\n",
       "      <td>1</td>\n",
       "      <td>1</td>\n",
       "      <td>NaN</td>\n",
       "      <td>NaN</td>\n",
       "    </tr>\n",
       "    <tr>\n",
       "      <th>...</th>\n",
       "      <td>...</td>\n",
       "      <td>...</td>\n",
       "      <td>...</td>\n",
       "      <td>...</td>\n",
       "      <td>...</td>\n",
       "      <td>...</td>\n",
       "      <td>...</td>\n",
       "      <td>...</td>\n",
       "      <td>...</td>\n",
       "      <td>...</td>\n",
       "      <td>...</td>\n",
       "      <td>...</td>\n",
       "      <td>...</td>\n",
       "      <td>...</td>\n",
       "      <td>...</td>\n",
       "      <td>...</td>\n",
       "      <td>...</td>\n",
       "      <td>...</td>\n",
       "      <td>...</td>\n",
       "      <td>...</td>\n",
       "      <td>...</td>\n",
       "      <td>...</td>\n",
       "      <td>...</td>\n",
       "      <td>...</td>\n",
       "      <td>...</td>\n",
       "      <td>...</td>\n",
       "      <td>...</td>\n",
       "      <td>...</td>\n",
       "      <td>...</td>\n",
       "      <td>...</td>\n",
       "      <td>...</td>\n",
       "      <td>...</td>\n",
       "      <td>...</td>\n",
       "      <td>...</td>\n",
       "      <td>...</td>\n",
       "      <td>...</td>\n",
       "      <td>...</td>\n",
       "      <td>...</td>\n",
       "      <td>...</td>\n",
       "      <td>...</td>\n",
       "    </tr>\n",
       "    <tr>\n",
       "      <th>3476100</th>\n",
       "      <td>210056389903</td>\n",
       "      <td>2022</td>\n",
       "      <td>3</td>\n",
       "      <td>M</td>\n",
       "      <td>1</td>\n",
       "      <td>1</td>\n",
       "      <td>1</td>\n",
       "      <td>2</td>\n",
       "      <td>2</td>\n",
       "      <td>NaN</td>\n",
       "      <td>NaN</td>\n",
       "      <td>NaN</td>\n",
       "      <td>NaN</td>\n",
       "      <td>3524709</td>\n",
       "      <td>Jaguariúna</td>\n",
       "      <td>SP</td>\n",
       "      <td>0</td>\n",
       "      <td>0</td>\n",
       "      <td>0</td>\n",
       "      <td>0</td>\n",
       "      <td>NaN</td>\n",
       "      <td>NaN</td>\n",
       "      <td>NaN</td>\n",
       "      <td>NaN</td>\n",
       "      <td>1</td>\n",
       "      <td>NaN</td>\n",
       "      <td>NaN</td>\n",
       "      <td>NaN</td>\n",
       "      <td>NaN</td>\n",
       "      <td>NaN</td>\n",
       "      <td>NaN</td>\n",
       "      <td>4</td>\n",
       "      <td>Sudeste</td>\n",
       "      <td>Sudeste</td>\n",
       "      <td>1</td>\n",
       "      <td>1</td>\n",
       "      <td>1</td>\n",
       "      <td>1</td>\n",
       "      <td>NaN</td>\n",
       "      <td>NaN</td>\n",
       "    </tr>\n",
       "    <tr>\n",
       "      <th>3476101</th>\n",
       "      <td>210057205644</td>\n",
       "      <td>2022</td>\n",
       "      <td>14</td>\n",
       "      <td>F</td>\n",
       "      <td>2</td>\n",
       "      <td>1</td>\n",
       "      <td>1</td>\n",
       "      <td>2</td>\n",
       "      <td>2</td>\n",
       "      <td>Caruaru</td>\n",
       "      <td>2.0</td>\n",
       "      <td>1.0</td>\n",
       "      <td>1.0</td>\n",
       "      <td>2604106</td>\n",
       "      <td>Caruaru</td>\n",
       "      <td>PE</td>\n",
       "      <td>0</td>\n",
       "      <td>0</td>\n",
       "      <td>0</td>\n",
       "      <td>0</td>\n",
       "      <td>NaN</td>\n",
       "      <td>NaN</td>\n",
       "      <td>NaN</td>\n",
       "      <td>NaN</td>\n",
       "      <td>1</td>\n",
       "      <td>NaN</td>\n",
       "      <td>NaN</td>\n",
       "      <td>NaN</td>\n",
       "      <td>NaN</td>\n",
       "      <td>NaN</td>\n",
       "      <td>NaN</td>\n",
       "      <td>3</td>\n",
       "      <td>Nordeste</td>\n",
       "      <td>Nordeste</td>\n",
       "      <td>1</td>\n",
       "      <td>1</td>\n",
       "      <td>1</td>\n",
       "      <td>0</td>\n",
       "      <td>NaN</td>\n",
       "      <td>NaN</td>\n",
       "    </tr>\n",
       "    <tr>\n",
       "      <th>3476102</th>\n",
       "      <td>210056699189</td>\n",
       "      <td>2022</td>\n",
       "      <td>2</td>\n",
       "      <td>M</td>\n",
       "      <td>1</td>\n",
       "      <td>1</td>\n",
       "      <td>1</td>\n",
       "      <td>2</td>\n",
       "      <td>2</td>\n",
       "      <td>Lages</td>\n",
       "      <td>2.0</td>\n",
       "      <td>1.0</td>\n",
       "      <td>1.0</td>\n",
       "      <td>4209300</td>\n",
       "      <td>Lages</td>\n",
       "      <td>SC</td>\n",
       "      <td>1</td>\n",
       "      <td>1</td>\n",
       "      <td>1</td>\n",
       "      <td>1</td>\n",
       "      <td>527.9</td>\n",
       "      <td>627.0</td>\n",
       "      <td>583.3</td>\n",
       "      <td>637.1</td>\n",
       "      <td>0</td>\n",
       "      <td>140.0</td>\n",
       "      <td>120.0</td>\n",
       "      <td>140.0</td>\n",
       "      <td>140.0</td>\n",
       "      <td>120.0</td>\n",
       "      <td>660.0</td>\n",
       "      <td>4</td>\n",
       "      <td>Sul</td>\n",
       "      <td>Sul</td>\n",
       "      <td>0</td>\n",
       "      <td>0</td>\n",
       "      <td>0</td>\n",
       "      <td>0</td>\n",
       "      <td>593.825</td>\n",
       "      <td>607.06</td>\n",
       "    </tr>\n",
       "    <tr>\n",
       "      <th>3476103</th>\n",
       "      <td>210056983033</td>\n",
       "      <td>2022</td>\n",
       "      <td>3</td>\n",
       "      <td>M</td>\n",
       "      <td>1</td>\n",
       "      <td>3</td>\n",
       "      <td>1</td>\n",
       "      <td>2</td>\n",
       "      <td>3</td>\n",
       "      <td>Guaíra</td>\n",
       "      <td>4.0</td>\n",
       "      <td>1.0</td>\n",
       "      <td>1.0</td>\n",
       "      <td>3517406</td>\n",
       "      <td>Guaíra</td>\n",
       "      <td>SP</td>\n",
       "      <td>0</td>\n",
       "      <td>0</td>\n",
       "      <td>0</td>\n",
       "      <td>0</td>\n",
       "      <td>NaN</td>\n",
       "      <td>NaN</td>\n",
       "      <td>NaN</td>\n",
       "      <td>NaN</td>\n",
       "      <td>0</td>\n",
       "      <td>NaN</td>\n",
       "      <td>NaN</td>\n",
       "      <td>NaN</td>\n",
       "      <td>NaN</td>\n",
       "      <td>NaN</td>\n",
       "      <td>NaN</td>\n",
       "      <td>5</td>\n",
       "      <td>Sudeste</td>\n",
       "      <td>Sudeste</td>\n",
       "      <td>1</td>\n",
       "      <td>1</td>\n",
       "      <td>1</td>\n",
       "      <td>0</td>\n",
       "      <td>NaN</td>\n",
       "      <td>NaN</td>\n",
       "    </tr>\n",
       "    <tr>\n",
       "      <th>3476104</th>\n",
       "      <td>210056307777</td>\n",
       "      <td>2022</td>\n",
       "      <td>2</td>\n",
       "      <td>F</td>\n",
       "      <td>2</td>\n",
       "      <td>3</td>\n",
       "      <td>1</td>\n",
       "      <td>2</td>\n",
       "      <td>2</td>\n",
       "      <td>Goiânia</td>\n",
       "      <td>2.0</td>\n",
       "      <td>1.0</td>\n",
       "      <td>1.0</td>\n",
       "      <td>5208707</td>\n",
       "      <td>Goiânia</td>\n",
       "      <td>GO</td>\n",
       "      <td>0</td>\n",
       "      <td>0</td>\n",
       "      <td>0</td>\n",
       "      <td>0</td>\n",
       "      <td>NaN</td>\n",
       "      <td>NaN</td>\n",
       "      <td>NaN</td>\n",
       "      <td>NaN</td>\n",
       "      <td>1</td>\n",
       "      <td>NaN</td>\n",
       "      <td>NaN</td>\n",
       "      <td>NaN</td>\n",
       "      <td>NaN</td>\n",
       "      <td>NaN</td>\n",
       "      <td>NaN</td>\n",
       "      <td>2</td>\n",
       "      <td>Centro-Oeste</td>\n",
       "      <td>Centro-Oeste</td>\n",
       "      <td>1</td>\n",
       "      <td>1</td>\n",
       "      <td>1</td>\n",
       "      <td>0</td>\n",
       "      <td>NaN</td>\n",
       "      <td>NaN</td>\n",
       "    </tr>\n",
       "  </tbody>\n",
       "</table>\n",
       "<p>2963373 rows × 40 columns</p>\n",
       "</div>"
      ],
      "text/plain": [
       "         NU_INSCRICAO  NU_ANO  TP_FAIXA_ETARIA TP_SEXO  TP_ESTADO_CIVIL  \\\n",
       "0        210057943671    2022               14       M                2   \n",
       "1        210057516120    2022               14       M                2   \n",
       "2        210057280536    2022                5       F                1   \n",
       "3        210055724397    2022                6       M                1   \n",
       "4        210055097896    2022                4       M                0   \n",
       "...               ...     ...              ...     ...              ...   \n",
       "3476100  210056389903    2022                3       M                1   \n",
       "3476101  210057205644    2022               14       F                2   \n",
       "3476102  210056699189    2022                2       M                1   \n",
       "3476103  210056983033    2022                3       M                1   \n",
       "3476104  210056307777    2022                2       F                2   \n",
       "\n",
       "         TP_COR_RACA  TP_NACIONALIDADE  TP_ST_CONCLUSAO  TP_ESCOLA  \\\n",
       "0                  2                 1                1          1   \n",
       "1                  1                 1                1          1   \n",
       "2                  2                 1                1          1   \n",
       "3                  3                 1                1          1   \n",
       "4                  3                 1                1          1   \n",
       "...              ...               ...              ...        ...   \n",
       "3476100            1                 1                2          2   \n",
       "3476101            1                 1                2          2   \n",
       "3476102            1                 1                2          2   \n",
       "3476103            3                 1                2          3   \n",
       "3476104            3                 1                2          2   \n",
       "\n",
       "        NO_MUNICIPIO_ESC  TP_DEPENDENCIA_ADM_ESC  TP_LOCALIZACAO_ESC  \\\n",
       "0                    NaN                     NaN                 NaN   \n",
       "1                    NaN                     NaN                 NaN   \n",
       "2                    NaN                     NaN                 NaN   \n",
       "3                    NaN                     NaN                 NaN   \n",
       "4                    NaN                     NaN                 NaN   \n",
       "...                  ...                     ...                 ...   \n",
       "3476100              NaN                     NaN                 NaN   \n",
       "3476101          Caruaru                     2.0                 1.0   \n",
       "3476102            Lages                     2.0                 1.0   \n",
       "3476103           Guaíra                     4.0                 1.0   \n",
       "3476104          Goiânia                     2.0                 1.0   \n",
       "\n",
       "         TP_SIT_FUNC_ESC  CO_MUNICIPIO_PROVA         NO_MUNICIPIO_PROVA  \\\n",
       "0                    NaN             5300108                   Brasília   \n",
       "1                    NaN             5300108                   Brasília   \n",
       "2                    NaN             2925758  Presidente Tancredo Neves   \n",
       "3                    NaN             3201308                  Cariacica   \n",
       "4                    NaN             1506203                Salinópolis   \n",
       "...                  ...                 ...                        ...   \n",
       "3476100              NaN             3524709                 Jaguariúna   \n",
       "3476101              1.0             2604106                    Caruaru   \n",
       "3476102              1.0             4209300                      Lages   \n",
       "3476103              1.0             3517406                     Guaíra   \n",
       "3476104              1.0             5208707                    Goiânia   \n",
       "\n",
       "        SG_UF_PROVA  TP_PRESENCA_CN  TP_PRESENCA_CH  TP_PRESENCA_LC  \\\n",
       "0                DF               0               0               0   \n",
       "1                DF               0               0               0   \n",
       "2                BA               1               1               1   \n",
       "3                ES               1               1               1   \n",
       "4                PA               0               0               0   \n",
       "...             ...             ...             ...             ...   \n",
       "3476100          SP               0               0               0   \n",
       "3476101          PE               0               0               0   \n",
       "3476102          SC               1               1               1   \n",
       "3476103          SP               0               0               0   \n",
       "3476104          GO               0               0               0   \n",
       "\n",
       "         TP_PRESENCA_MT  NU_NOTA_CN  NU_NOTA_CH  NU_NOTA_LC  NU_NOTA_MT  \\\n",
       "0                     0         NaN         NaN         NaN         NaN   \n",
       "1                     0         NaN         NaN         NaN         NaN   \n",
       "2                     1       421.1       546.0       498.8       565.3   \n",
       "3                     1       490.7       388.6       357.8       416.0   \n",
       "4                     0         NaN         NaN         NaN         NaN   \n",
       "...                 ...         ...         ...         ...         ...   \n",
       "3476100               0         NaN         NaN         NaN         NaN   \n",
       "3476101               0         NaN         NaN         NaN         NaN   \n",
       "3476102               1       527.9       627.0       583.3       637.1   \n",
       "3476103               0         NaN         NaN         NaN         NaN   \n",
       "3476104               0         NaN         NaN         NaN         NaN   \n",
       "\n",
       "         TP_LINGUA  NU_NOTA_COMP1  NU_NOTA_COMP2  NU_NOTA_COMP3  \\\n",
       "0                0            NaN            NaN            NaN   \n",
       "1                0            NaN            NaN            NaN   \n",
       "2                1          140.0          200.0          120.0   \n",
       "3                1          120.0           40.0           40.0   \n",
       "4                0            NaN            NaN            NaN   \n",
       "...            ...            ...            ...            ...   \n",
       "3476100          1            NaN            NaN            NaN   \n",
       "3476101          1            NaN            NaN            NaN   \n",
       "3476102          0          140.0          120.0          140.0   \n",
       "3476103          0            NaN            NaN            NaN   \n",
       "3476104          1            NaN            NaN            NaN   \n",
       "\n",
       "         NU_NOTA_COMP4  NU_NOTA_COMP5  NU_NOTA_REDACAO  Q005 TP_REGIAO_PROVA  \\\n",
       "0                  NaN            NaN              NaN     3              DF   \n",
       "1                  NaN            NaN              NaN     3              DF   \n",
       "2                140.0          160.0            760.0     2        Nordeste   \n",
       "3                100.0           20.0            320.0     3         Sudeste   \n",
       "4                  NaN            NaN              NaN     2           Norte   \n",
       "...                ...            ...              ...   ...             ...   \n",
       "3476100            NaN            NaN              NaN     4         Sudeste   \n",
       "3476101            NaN            NaN              NaN     3        Nordeste   \n",
       "3476102          140.0          120.0            660.0     4             Sul   \n",
       "3476103            NaN            NaN              NaN     5         Sudeste   \n",
       "3476104            NaN            NaN              NaN     2    Centro-Oeste   \n",
       "\n",
       "        TP_REGIAO_ESC  ABS_DIA_1  ABS_DIA_2  ABS_ALL  FLAG_NULL_ESC  \\\n",
       "0                  DF          1          1        1              1   \n",
       "1                  DF          1          1        1              1   \n",
       "2            Nordeste          0          0        0              1   \n",
       "3             Sudeste          0          0        0              1   \n",
       "4               Norte          1          1        1              1   \n",
       "...               ...        ...        ...      ...            ...   \n",
       "3476100       Sudeste          1          1        1              1   \n",
       "3476101      Nordeste          1          1        1              0   \n",
       "3476102           Sul          0          0        0              0   \n",
       "3476103       Sudeste          1          1        1              0   \n",
       "3476104  Centro-Oeste          1          1        1              0   \n",
       "\n",
       "         MEDIA_OBJ  MEDIA_GLOBAL  \n",
       "0              NaN           NaN  \n",
       "1              NaN           NaN  \n",
       "2          507.800        558.24  \n",
       "3          413.275        394.62  \n",
       "4              NaN           NaN  \n",
       "...            ...           ...  \n",
       "3476100        NaN           NaN  \n",
       "3476101        NaN           NaN  \n",
       "3476102    593.825        607.06  \n",
       "3476103        NaN           NaN  \n",
       "3476104        NaN           NaN  \n",
       "\n",
       "[2963373 rows x 40 columns]"
      ]
     },
     "execution_count": 33,
     "metadata": {},
     "output_type": "execute_result"
    }
   ],
   "source": [
    "df_enem.loc[df_enem['NU_ANO'].between(2012, 2016), 'TP_ESTADO_CIVIL'] = df_enem['TP_ESTADO_CIVIL'] + 1\n",
    "df_enem.loc[df_enem['NU_ANO'].isin([2010, 2018]), 'TP_ESTADO_CIVIL'] = df_enem['TP_ESTADO_CIVIL'] + 1\n",
    "df_enem[df_enem['NU_ANO'] == 2022]"
   ]
  },
  {
   "cell_type": "markdown",
   "metadata": {},
   "source": [
    "#### 5º Ajuste. Os municípios não seguem mesmo padrão, alguns tem acentos, outros nomes tem hífen outros tem maíusculo outros não, etc... Procurar solução com Lucas, mas amenizei com uma tentativa de padronização. Depois tirar umas dúvidas."
   ]
  },
  {
   "cell_type": "code",
   "execution_count": 34,
   "metadata": {},
   "outputs": [],
   "source": [
    "from unidecode import unidecode"
   ]
  },
  {
   "cell_type": "code",
   "execution_count": 35,
   "metadata": {},
   "outputs": [],
   "source": [
    "df_enem['NO_MUNICIPIO_PROVA'] = df_enem['NO_MUNICIPIO_PROVA'].astype(str)"
   ]
  },
  {
   "cell_type": "code",
   "execution_count": 36,
   "metadata": {},
   "outputs": [],
   "source": [
    "df_enem['NO_MUNICIPIO_PROVA'] = df_enem['NO_MUNICIPIO_PROVA'].apply(lambda x: unidecode(x))"
   ]
  },
  {
   "cell_type": "code",
   "execution_count": 37,
   "metadata": {},
   "outputs": [],
   "source": [
    "df_enem['NO_MUNICIPIO_PROVA'] = df_enem['NO_MUNICIPIO_PROVA'].str.replace('[^\\w\\s]', '').str.upper()"
   ]
  },
  {
   "cell_type": "code",
   "execution_count": null,
   "metadata": {},
   "outputs": [],
   "source": [
    "df_enem['NO_MUNICIPIO_PROVA'].info"
   ]
  },
  {
   "cell_type": "code",
   "execution_count": null,
   "metadata": {},
   "outputs": [],
   "source": [
    "df_enem.info()"
   ]
  },
  {
   "cell_type": "code",
   "execution_count": 102,
   "metadata": {},
   "outputs": [],
   "source": [
    "df_enem.to_parquet('C:\\\\Users\\\\Bruno\\\\OneDrive\\\\Área de Trabalho\\\\Microdados\\\\Datas\\\\MICRODADOS_ENEM_2021.parquet', index=False)"
   ]
  },
  {
   "cell_type": "code",
   "execution_count": 38,
   "metadata": {},
   "outputs": [],
   "source": [
    "df_enem.to_parquet('C:\\\\Users\\\\Bruno\\\\OneDrive\\\\Área de Trabalho\\\\Microdados\\\\Datas\\\\MICRODADOS_ENEM_2022.parquet', index=False)"
   ]
  },
  {
   "cell_type": "code",
   "execution_count": null,
   "metadata": {},
   "outputs": [],
   "source": [
    "ano_enem = 2022\n",
    "df_enem = pd.read_parquet(f'MICRODADOS_ENEM_{ano_enem}.parquet')"
   ]
  },
  {
   "cell_type": "markdown",
   "metadata": {},
   "source": [
    "#### 6º Ajuste. O ano de 2010 está diferente, não sei como inseri-lo, mas os outros anos os ajustes foram relacionados a estarem em outras colunas, unifiquei tudo numa coluna chamada FAMILIA."
   ]
  },
  {
   "cell_type": "code",
   "execution_count": 39,
   "metadata": {},
   "outputs": [],
   "source": [
    "def criar_familia(row):\n",
    "    if row['NU_ANO'] == 2011:\n",
    "        return row['Q001']\n",
    "    elif row['NU_ANO'] == 2012:\n",
    "        return row['Q004']\n",
    "    elif row['NU_ANO'] == 2013:\n",
    "        return row['Q004']\n",
    "    elif row['NU_ANO'] == 2014:\n",
    "        return row['Q004']\n",
    "    elif row['NU_ANO'] == 2015:\n",
    "        return row['Q005']\n",
    "    elif row['NU_ANO'] == 2016:\n",
    "        return row['Q005']\n",
    "    elif row['NU_ANO'] == 2017:\n",
    "        return row['Q005']\n",
    "    elif row['NU_ANO'] == 2018:\n",
    "        return row['Q005']\n",
    "    elif row['NU_ANO'] == 2019:\n",
    "        return row['Q005']\n",
    "    elif row['NU_ANO'] == 2020:\n",
    "        return row['Q005']\n",
    "    elif row['NU_ANO'] == 2021:\n",
    "        return row['Q005']\n",
    "    elif row['NU_ANO'] == 2022:\n",
    "        return row['Q005']"
   ]
  },
  {
   "cell_type": "code",
   "execution_count": 40,
   "metadata": {},
   "outputs": [
    {
     "data": {
      "text/html": [
       "<div>\n",
       "<style scoped>\n",
       "    .dataframe tbody tr th:only-of-type {\n",
       "        vertical-align: middle;\n",
       "    }\n",
       "\n",
       "    .dataframe tbody tr th {\n",
       "        vertical-align: top;\n",
       "    }\n",
       "\n",
       "    .dataframe thead th {\n",
       "        text-align: right;\n",
       "    }\n",
       "</style>\n",
       "<table border=\"1\" class=\"dataframe\">\n",
       "  <thead>\n",
       "    <tr style=\"text-align: right;\">\n",
       "      <th></th>\n",
       "      <th>NU_INSCRICAO</th>\n",
       "      <th>NU_ANO</th>\n",
       "      <th>TP_FAIXA_ETARIA</th>\n",
       "      <th>TP_SEXO</th>\n",
       "      <th>TP_ESTADO_CIVIL</th>\n",
       "      <th>TP_COR_RACA</th>\n",
       "      <th>TP_NACIONALIDADE</th>\n",
       "      <th>TP_ST_CONCLUSAO</th>\n",
       "      <th>TP_ESCOLA</th>\n",
       "      <th>NO_MUNICIPIO_ESC</th>\n",
       "      <th>TP_DEPENDENCIA_ADM_ESC</th>\n",
       "      <th>TP_LOCALIZACAO_ESC</th>\n",
       "      <th>TP_SIT_FUNC_ESC</th>\n",
       "      <th>CO_MUNICIPIO_PROVA</th>\n",
       "      <th>NO_MUNICIPIO_PROVA</th>\n",
       "      <th>SG_UF_PROVA</th>\n",
       "      <th>TP_PRESENCA_CN</th>\n",
       "      <th>TP_PRESENCA_CH</th>\n",
       "      <th>TP_PRESENCA_LC</th>\n",
       "      <th>TP_PRESENCA_MT</th>\n",
       "      <th>NU_NOTA_CN</th>\n",
       "      <th>NU_NOTA_CH</th>\n",
       "      <th>NU_NOTA_LC</th>\n",
       "      <th>NU_NOTA_MT</th>\n",
       "      <th>TP_LINGUA</th>\n",
       "      <th>NU_NOTA_COMP1</th>\n",
       "      <th>NU_NOTA_COMP2</th>\n",
       "      <th>NU_NOTA_COMP3</th>\n",
       "      <th>NU_NOTA_COMP4</th>\n",
       "      <th>NU_NOTA_COMP5</th>\n",
       "      <th>NU_NOTA_REDACAO</th>\n",
       "      <th>Q005</th>\n",
       "      <th>TP_REGIAO_PROVA</th>\n",
       "      <th>TP_REGIAO_ESC</th>\n",
       "      <th>ABS_DIA_1</th>\n",
       "      <th>ABS_DIA_2</th>\n",
       "      <th>ABS_ALL</th>\n",
       "      <th>FLAG_NULL_ESC</th>\n",
       "      <th>MEDIA_OBJ</th>\n",
       "      <th>MEDIA_GLOBAL</th>\n",
       "      <th>FAMILIA</th>\n",
       "    </tr>\n",
       "  </thead>\n",
       "  <tbody>\n",
       "    <tr>\n",
       "      <th>3476100</th>\n",
       "      <td>210056389903</td>\n",
       "      <td>2022</td>\n",
       "      <td>3</td>\n",
       "      <td>M</td>\n",
       "      <td>1</td>\n",
       "      <td>1</td>\n",
       "      <td>1</td>\n",
       "      <td>2</td>\n",
       "      <td>2</td>\n",
       "      <td>NaN</td>\n",
       "      <td>NaN</td>\n",
       "      <td>NaN</td>\n",
       "      <td>NaN</td>\n",
       "      <td>3524709</td>\n",
       "      <td>JAGUARIUNA</td>\n",
       "      <td>SP</td>\n",
       "      <td>0</td>\n",
       "      <td>0</td>\n",
       "      <td>0</td>\n",
       "      <td>0</td>\n",
       "      <td>NaN</td>\n",
       "      <td>NaN</td>\n",
       "      <td>NaN</td>\n",
       "      <td>NaN</td>\n",
       "      <td>1</td>\n",
       "      <td>NaN</td>\n",
       "      <td>NaN</td>\n",
       "      <td>NaN</td>\n",
       "      <td>NaN</td>\n",
       "      <td>NaN</td>\n",
       "      <td>NaN</td>\n",
       "      <td>4</td>\n",
       "      <td>Sudeste</td>\n",
       "      <td>Sudeste</td>\n",
       "      <td>1</td>\n",
       "      <td>1</td>\n",
       "      <td>1</td>\n",
       "      <td>1</td>\n",
       "      <td>NaN</td>\n",
       "      <td>NaN</td>\n",
       "      <td>4</td>\n",
       "    </tr>\n",
       "    <tr>\n",
       "      <th>3476101</th>\n",
       "      <td>210057205644</td>\n",
       "      <td>2022</td>\n",
       "      <td>14</td>\n",
       "      <td>F</td>\n",
       "      <td>2</td>\n",
       "      <td>1</td>\n",
       "      <td>1</td>\n",
       "      <td>2</td>\n",
       "      <td>2</td>\n",
       "      <td>Caruaru</td>\n",
       "      <td>2.0</td>\n",
       "      <td>1.0</td>\n",
       "      <td>1.0</td>\n",
       "      <td>2604106</td>\n",
       "      <td>CARUARU</td>\n",
       "      <td>PE</td>\n",
       "      <td>0</td>\n",
       "      <td>0</td>\n",
       "      <td>0</td>\n",
       "      <td>0</td>\n",
       "      <td>NaN</td>\n",
       "      <td>NaN</td>\n",
       "      <td>NaN</td>\n",
       "      <td>NaN</td>\n",
       "      <td>1</td>\n",
       "      <td>NaN</td>\n",
       "      <td>NaN</td>\n",
       "      <td>NaN</td>\n",
       "      <td>NaN</td>\n",
       "      <td>NaN</td>\n",
       "      <td>NaN</td>\n",
       "      <td>3</td>\n",
       "      <td>Nordeste</td>\n",
       "      <td>Nordeste</td>\n",
       "      <td>1</td>\n",
       "      <td>1</td>\n",
       "      <td>1</td>\n",
       "      <td>0</td>\n",
       "      <td>NaN</td>\n",
       "      <td>NaN</td>\n",
       "      <td>3</td>\n",
       "    </tr>\n",
       "    <tr>\n",
       "      <th>3476102</th>\n",
       "      <td>210056699189</td>\n",
       "      <td>2022</td>\n",
       "      <td>2</td>\n",
       "      <td>M</td>\n",
       "      <td>1</td>\n",
       "      <td>1</td>\n",
       "      <td>1</td>\n",
       "      <td>2</td>\n",
       "      <td>2</td>\n",
       "      <td>Lages</td>\n",
       "      <td>2.0</td>\n",
       "      <td>1.0</td>\n",
       "      <td>1.0</td>\n",
       "      <td>4209300</td>\n",
       "      <td>LAGES</td>\n",
       "      <td>SC</td>\n",
       "      <td>1</td>\n",
       "      <td>1</td>\n",
       "      <td>1</td>\n",
       "      <td>1</td>\n",
       "      <td>527.9</td>\n",
       "      <td>627.0</td>\n",
       "      <td>583.3</td>\n",
       "      <td>637.1</td>\n",
       "      <td>0</td>\n",
       "      <td>140.0</td>\n",
       "      <td>120.0</td>\n",
       "      <td>140.0</td>\n",
       "      <td>140.0</td>\n",
       "      <td>120.0</td>\n",
       "      <td>660.0</td>\n",
       "      <td>4</td>\n",
       "      <td>Sul</td>\n",
       "      <td>Sul</td>\n",
       "      <td>0</td>\n",
       "      <td>0</td>\n",
       "      <td>0</td>\n",
       "      <td>0</td>\n",
       "      <td>593.825</td>\n",
       "      <td>607.06</td>\n",
       "      <td>4</td>\n",
       "    </tr>\n",
       "    <tr>\n",
       "      <th>3476103</th>\n",
       "      <td>210056983033</td>\n",
       "      <td>2022</td>\n",
       "      <td>3</td>\n",
       "      <td>M</td>\n",
       "      <td>1</td>\n",
       "      <td>3</td>\n",
       "      <td>1</td>\n",
       "      <td>2</td>\n",
       "      <td>3</td>\n",
       "      <td>Guaíra</td>\n",
       "      <td>4.0</td>\n",
       "      <td>1.0</td>\n",
       "      <td>1.0</td>\n",
       "      <td>3517406</td>\n",
       "      <td>GUAIRA</td>\n",
       "      <td>SP</td>\n",
       "      <td>0</td>\n",
       "      <td>0</td>\n",
       "      <td>0</td>\n",
       "      <td>0</td>\n",
       "      <td>NaN</td>\n",
       "      <td>NaN</td>\n",
       "      <td>NaN</td>\n",
       "      <td>NaN</td>\n",
       "      <td>0</td>\n",
       "      <td>NaN</td>\n",
       "      <td>NaN</td>\n",
       "      <td>NaN</td>\n",
       "      <td>NaN</td>\n",
       "      <td>NaN</td>\n",
       "      <td>NaN</td>\n",
       "      <td>5</td>\n",
       "      <td>Sudeste</td>\n",
       "      <td>Sudeste</td>\n",
       "      <td>1</td>\n",
       "      <td>1</td>\n",
       "      <td>1</td>\n",
       "      <td>0</td>\n",
       "      <td>NaN</td>\n",
       "      <td>NaN</td>\n",
       "      <td>5</td>\n",
       "    </tr>\n",
       "    <tr>\n",
       "      <th>3476104</th>\n",
       "      <td>210056307777</td>\n",
       "      <td>2022</td>\n",
       "      <td>2</td>\n",
       "      <td>F</td>\n",
       "      <td>2</td>\n",
       "      <td>3</td>\n",
       "      <td>1</td>\n",
       "      <td>2</td>\n",
       "      <td>2</td>\n",
       "      <td>Goiânia</td>\n",
       "      <td>2.0</td>\n",
       "      <td>1.0</td>\n",
       "      <td>1.0</td>\n",
       "      <td>5208707</td>\n",
       "      <td>GOIANIA</td>\n",
       "      <td>GO</td>\n",
       "      <td>0</td>\n",
       "      <td>0</td>\n",
       "      <td>0</td>\n",
       "      <td>0</td>\n",
       "      <td>NaN</td>\n",
       "      <td>NaN</td>\n",
       "      <td>NaN</td>\n",
       "      <td>NaN</td>\n",
       "      <td>1</td>\n",
       "      <td>NaN</td>\n",
       "      <td>NaN</td>\n",
       "      <td>NaN</td>\n",
       "      <td>NaN</td>\n",
       "      <td>NaN</td>\n",
       "      <td>NaN</td>\n",
       "      <td>2</td>\n",
       "      <td>Centro-Oeste</td>\n",
       "      <td>Centro-Oeste</td>\n",
       "      <td>1</td>\n",
       "      <td>1</td>\n",
       "      <td>1</td>\n",
       "      <td>0</td>\n",
       "      <td>NaN</td>\n",
       "      <td>NaN</td>\n",
       "      <td>2</td>\n",
       "    </tr>\n",
       "  </tbody>\n",
       "</table>\n",
       "</div>"
      ],
      "text/plain": [
       "         NU_INSCRICAO  NU_ANO  TP_FAIXA_ETARIA TP_SEXO  TP_ESTADO_CIVIL  \\\n",
       "3476100  210056389903    2022                3       M                1   \n",
       "3476101  210057205644    2022               14       F                2   \n",
       "3476102  210056699189    2022                2       M                1   \n",
       "3476103  210056983033    2022                3       M                1   \n",
       "3476104  210056307777    2022                2       F                2   \n",
       "\n",
       "         TP_COR_RACA  TP_NACIONALIDADE  TP_ST_CONCLUSAO  TP_ESCOLA  \\\n",
       "3476100            1                 1                2          2   \n",
       "3476101            1                 1                2          2   \n",
       "3476102            1                 1                2          2   \n",
       "3476103            3                 1                2          3   \n",
       "3476104            3                 1                2          2   \n",
       "\n",
       "        NO_MUNICIPIO_ESC  TP_DEPENDENCIA_ADM_ESC  TP_LOCALIZACAO_ESC  \\\n",
       "3476100              NaN                     NaN                 NaN   \n",
       "3476101          Caruaru                     2.0                 1.0   \n",
       "3476102            Lages                     2.0                 1.0   \n",
       "3476103           Guaíra                     4.0                 1.0   \n",
       "3476104          Goiânia                     2.0                 1.0   \n",
       "\n",
       "         TP_SIT_FUNC_ESC  CO_MUNICIPIO_PROVA NO_MUNICIPIO_PROVA SG_UF_PROVA  \\\n",
       "3476100              NaN             3524709         JAGUARIUNA          SP   \n",
       "3476101              1.0             2604106            CARUARU          PE   \n",
       "3476102              1.0             4209300              LAGES          SC   \n",
       "3476103              1.0             3517406             GUAIRA          SP   \n",
       "3476104              1.0             5208707            GOIANIA          GO   \n",
       "\n",
       "         TP_PRESENCA_CN  TP_PRESENCA_CH  TP_PRESENCA_LC  TP_PRESENCA_MT  \\\n",
       "3476100               0               0               0               0   \n",
       "3476101               0               0               0               0   \n",
       "3476102               1               1               1               1   \n",
       "3476103               0               0               0               0   \n",
       "3476104               0               0               0               0   \n",
       "\n",
       "         NU_NOTA_CN  NU_NOTA_CH  NU_NOTA_LC  NU_NOTA_MT  TP_LINGUA  \\\n",
       "3476100         NaN         NaN         NaN         NaN          1   \n",
       "3476101         NaN         NaN         NaN         NaN          1   \n",
       "3476102       527.9       627.0       583.3       637.1          0   \n",
       "3476103         NaN         NaN         NaN         NaN          0   \n",
       "3476104         NaN         NaN         NaN         NaN          1   \n",
       "\n",
       "         NU_NOTA_COMP1  NU_NOTA_COMP2  NU_NOTA_COMP3  NU_NOTA_COMP4  \\\n",
       "3476100            NaN            NaN            NaN            NaN   \n",
       "3476101            NaN            NaN            NaN            NaN   \n",
       "3476102          140.0          120.0          140.0          140.0   \n",
       "3476103            NaN            NaN            NaN            NaN   \n",
       "3476104            NaN            NaN            NaN            NaN   \n",
       "\n",
       "         NU_NOTA_COMP5  NU_NOTA_REDACAO  Q005 TP_REGIAO_PROVA TP_REGIAO_ESC  \\\n",
       "3476100            NaN              NaN     4         Sudeste       Sudeste   \n",
       "3476101            NaN              NaN     3        Nordeste      Nordeste   \n",
       "3476102          120.0            660.0     4             Sul           Sul   \n",
       "3476103            NaN              NaN     5         Sudeste       Sudeste   \n",
       "3476104            NaN              NaN     2    Centro-Oeste  Centro-Oeste   \n",
       "\n",
       "         ABS_DIA_1  ABS_DIA_2  ABS_ALL  FLAG_NULL_ESC  MEDIA_OBJ  \\\n",
       "3476100          1          1        1              1        NaN   \n",
       "3476101          1          1        1              0        NaN   \n",
       "3476102          0          0        0              0    593.825   \n",
       "3476103          1          1        1              0        NaN   \n",
       "3476104          1          1        1              0        NaN   \n",
       "\n",
       "         MEDIA_GLOBAL  FAMILIA  \n",
       "3476100           NaN        4  \n",
       "3476101           NaN        3  \n",
       "3476102        607.06        4  \n",
       "3476103           NaN        5  \n",
       "3476104           NaN        2  "
      ]
     },
     "execution_count": 40,
     "metadata": {},
     "output_type": "execute_result"
    }
   ],
   "source": [
    "df_enem['FAMILIA'] = df_enem.apply(criar_familia, axis=1)\n",
    "df_enem.tail()"
   ]
  },
  {
   "cell_type": "code",
   "execution_count": 43,
   "metadata": {},
   "outputs": [
    {
     "name": "stdout",
     "output_type": "stream",
     "text": [
      "Contagem de 0s: 0\n",
      "Contagem de NaNs: 2\n"
     ]
    }
   ],
   "source": [
    "# Contar os 0s\n",
    "contagem_zeros = (df_enem['FAMILIA'] == 0).sum()\n",
    "\n",
    "# Contar os NaNs\n",
    "contagem_nans = df_enem['FAMILIA'].isna().sum()\n",
    "\n",
    "# Exibir os resultados\n",
    "print(f'Contagem de 0s: {contagem_zeros}')\n",
    "print(f'Contagem de NaNs: {contagem_nans}')"
   ]
  },
  {
   "cell_type": "code",
   "execution_count": 41,
   "metadata": {},
   "outputs": [],
   "source": [
    "df_enem['FAMILIA'] = df_enem['FAMILIA'].astype('int8')"
   ]
  },
  {
   "cell_type": "code",
   "execution_count": 105,
   "metadata": {},
   "outputs": [],
   "source": [
    "df_enem.to_parquet('C:\\\\Users\\\\Bruno\\\\OneDrive\\\\Área de Trabalho\\\\Microdados\\\\Datas\\\\MICRODADOS_ENEM_2021.parquet', index=False)"
   ]
  },
  {
   "cell_type": "code",
   "execution_count": 42,
   "metadata": {},
   "outputs": [],
   "source": [
    "df_enem.to_parquet('C:\\\\Users\\\\Bruno\\\\OneDrive\\\\Área de Trabalho\\\\Microdados\\\\Datas\\\\MICRODADOS_ENEM_2022.parquet', index=False)"
   ]
  },
  {
   "cell_type": "markdown",
   "metadata": {},
   "source": [
    "#### Ajustes de tamanho de outras variáveis."
   ]
  },
  {
   "cell_type": "code",
   "execution_count": 20,
   "metadata": {},
   "outputs": [],
   "source": [
    "df['TP_COR_RACA'] = df['TP_COR_RACA'].astype('int8')"
   ]
  },
  {
   "cell_type": "code",
   "execution_count": 21,
   "metadata": {},
   "outputs": [],
   "source": [
    "df['TP_FAIXA_ETARIA'] = df['TP_FAIXA_ETARIA'].astype('int8')"
   ]
  },
  {
   "cell_type": "code",
   "execution_count": 22,
   "metadata": {},
   "outputs": [],
   "source": [
    "df['Q005'] = df['Q005'].astype('int8')"
   ]
  },
  {
   "cell_type": "code",
   "execution_count": 23,
   "metadata": {},
   "outputs": [],
   "source": [
    "df['TP_LINGUA'] = df['TP_LINGUA'].astype('int8')"
   ]
  },
  {
   "cell_type": "code",
   "execution_count": 24,
   "metadata": {},
   "outputs": [],
   "source": [
    "df['TP_NACIONALIDADE'] = df['TP_NACIONALIDADE'].astype('int8')"
   ]
  },
  {
   "cell_type": "code",
   "execution_count": 25,
   "metadata": {},
   "outputs": [],
   "source": [
    "df['TP_ST_CONCLUSAO'] = df['TP_ST_CONCLUSAO'].astype('int8')"
   ]
  },
  {
   "cell_type": "code",
   "execution_count": 26,
   "metadata": {},
   "outputs": [],
   "source": [
    "df['CO_MUNICIPIO_PROVA'] = df['CO_MUNICIPIO_PROVA'].astype('int32')"
   ]
  },
  {
   "cell_type": "code",
   "execution_count": null,
   "metadata": {},
   "outputs": [],
   "source": [
    "df.info()"
   ]
  },
  {
   "cell_type": "code",
   "execution_count": 114,
   "metadata": {},
   "outputs": [],
   "source": [
    "df_enem.to_parquet('C:\\\\Users\\\\Bruno\\\\OneDrive\\\\Área de Trabalho\\\\Microdados\\\\Datas\\\\MICRODADOS_ENEM_2021.parquet', index=False)"
   ]
  },
  {
   "cell_type": "code",
   "execution_count": 28,
   "metadata": {},
   "outputs": [],
   "source": [
    "df_enem.to_parquet('C:\\\\Users\\\\Bruno\\\\OneDrive\\\\Área de Trabalho\\\\Microdados\\\\Datas\\\\MICRODADOS_ENEM_2022.parquet', index=False)"
   ]
  },
  {
   "cell_type": "markdown",
   "metadata": {},
   "source": [
    "#### Usar esse para carregar."
   ]
  },
  {
   "cell_type": "code",
   "execution_count": 2,
   "metadata": {},
   "outputs": [],
   "source": [
    "import pandas as pd\n",
    "import numpy as np\n",
    "import matplotlib.pyplot as plt\n",
    "import seaborn as sns\n",
    "import sqlite3\n",
    "import geobr\n",
    "import warnings\n",
    "warnings.filterwarnings('ignore')\n",
    "pd.set_option('display.max_columns', 250);pd.set_option('display.max_rows', 250)\n",
    "import os"
   ]
  },
  {
   "cell_type": "code",
   "execution_count": 3,
   "metadata": {},
   "outputs": [],
   "source": [
    "os.chdir('C:\\\\Users\\\\Bruno\\\\OneDrive\\\\Área de Trabalho\\\\Microdados\\\\Datas')"
   ]
  },
  {
   "cell_type": "code",
   "execution_count": 4,
   "metadata": {},
   "outputs": [],
   "source": [
    "ano_enem = 2021\n",
    "df = pd.read_parquet(f'MICRODADOS_ENEM_{ano_enem}.parquet')\n"
   ]
  },
  {
   "cell_type": "code",
   "execution_count": 18,
   "metadata": {},
   "outputs": [],
   "source": [
    "ano_enem = 2022\n",
    "df = pd.read_parquet(f'MICRODADOS_ENEM_{ano_enem}.parquet')\n"
   ]
  },
  {
   "cell_type": "code",
   "execution_count": 19,
   "metadata": {},
   "outputs": [],
   "source": [
    "df_enem = df\n"
   ]
  },
  {
   "cell_type": "code",
   "execution_count": null,
   "metadata": {},
   "outputs": [],
   "source": [
    "df.head()"
   ]
  },
  {
   "cell_type": "code",
   "execution_count": null,
   "metadata": {},
   "outputs": [],
   "source": [
    "df.info()"
   ]
  },
  {
   "cell_type": "markdown",
   "metadata": {},
   "source": [
    "## 1) Inscritos e abstenções por ano."
   ]
  },
  {
   "cell_type": "code",
   "execution_count": 110,
   "metadata": {},
   "outputs": [
    {
     "name": "stdout",
     "output_type": "stream",
     "text": [
      "<class 'pandas.core.series.Series'>\n",
      "Int64Index: 2952642 entries, 0 to 3389831\n",
      "Series name: NU_ANO\n",
      "Non-Null Count    Dtype\n",
      "--------------    -----\n",
      "2952642 non-null  int16\n",
      "dtypes: int16(1)\n",
      "memory usage: 28.2 MB\n"
     ]
    }
   ],
   "source": [
    "df_enem['NU_ANO'].info()"
   ]
  },
  {
   "cell_type": "code",
   "execution_count": 14,
   "metadata": {},
   "outputs": [],
   "source": [
    "df_enem = df[['NU_ANO']]"
   ]
  },
  {
   "cell_type": "code",
   "execution_count": 15,
   "metadata": {},
   "outputs": [],
   "source": [
    "# Realizar as operações desejadas\n",
    "geral = df_enem['NU_ANO'].value_counts().reset_index()\n",
    "geral.rename(columns={'index': 'NU_ANO', 'NU_ANO': 'QTD_INSCRITOS'}, inplace=True)\n",
    "geral = geral.sort_values(by='NU_ANO', ascending=True)\n",
    "\n",
    "# Salvar o DataFrame em um novo DataFrame com nome dinâmico\n",
    "nome_df = f'geral{ano_enem}'\n",
    "globals()[nome_df] = geral"
   ]
  },
  {
   "cell_type": "markdown",
   "metadata": {},
   "source": [
    "#### Zerar df"
   ]
  },
  {
   "cell_type": "code",
   "execution_count": 128,
   "metadata": {},
   "outputs": [],
   "source": [
    "geral = pd.DataFrame()\n"
   ]
  },
  {
   "cell_type": "code",
   "execution_count": 8,
   "metadata": {},
   "outputs": [
    {
     "data": {
      "text/html": [
       "<div>\n",
       "<style scoped>\n",
       "    .dataframe tbody tr th:only-of-type {\n",
       "        vertical-align: middle;\n",
       "    }\n",
       "\n",
       "    .dataframe tbody tr th {\n",
       "        vertical-align: top;\n",
       "    }\n",
       "\n",
       "    .dataframe thead th {\n",
       "        text-align: right;\n",
       "    }\n",
       "</style>\n",
       "<table border=\"1\" class=\"dataframe\">\n",
       "  <thead>\n",
       "    <tr style=\"text-align: right;\">\n",
       "      <th></th>\n",
       "      <th>NU_ANO</th>\n",
       "      <th>QTD_INSCRITOS</th>\n",
       "    </tr>\n",
       "  </thead>\n",
       "  <tbody>\n",
       "    <tr>\n",
       "      <th>0</th>\n",
       "      <td>2021</td>\n",
       "      <td>2952642</td>\n",
       "    </tr>\n",
       "  </tbody>\n",
       "</table>\n",
       "</div>"
      ],
      "text/plain": [
       "   NU_ANO  QTD_INSCRITOS\n",
       "0    2021        2952642"
      ]
     },
     "execution_count": 8,
     "metadata": {},
     "output_type": "execute_result"
    }
   ],
   "source": [
    "geral2021.head()"
   ]
  },
  {
   "cell_type": "code",
   "execution_count": 16,
   "metadata": {},
   "outputs": [
    {
     "data": {
      "text/html": [
       "<div>\n",
       "<style scoped>\n",
       "    .dataframe tbody tr th:only-of-type {\n",
       "        vertical-align: middle;\n",
       "    }\n",
       "\n",
       "    .dataframe tbody tr th {\n",
       "        vertical-align: top;\n",
       "    }\n",
       "\n",
       "    .dataframe thead th {\n",
       "        text-align: right;\n",
       "    }\n",
       "</style>\n",
       "<table border=\"1\" class=\"dataframe\">\n",
       "  <thead>\n",
       "    <tr style=\"text-align: right;\">\n",
       "      <th></th>\n",
       "      <th>NU_ANO</th>\n",
       "      <th>QTD_INSCRITOS</th>\n",
       "    </tr>\n",
       "  </thead>\n",
       "  <tbody>\n",
       "    <tr>\n",
       "      <th>0</th>\n",
       "      <td>2022</td>\n",
       "      <td>2963373</td>\n",
       "    </tr>\n",
       "  </tbody>\n",
       "</table>\n",
       "</div>"
      ],
      "text/plain": [
       "   NU_ANO  QTD_INSCRITOS\n",
       "0    2022        2963373"
      ]
     },
     "execution_count": 16,
     "metadata": {},
     "output_type": "execute_result"
    }
   ],
   "source": [
    "geral2022.head()"
   ]
  },
  {
   "cell_type": "markdown",
   "metadata": {},
   "source": [
    "#### Caso queira concatenar."
   ]
  },
  {
   "cell_type": "code",
   "execution_count": 17,
   "metadata": {},
   "outputs": [
    {
     "data": {
      "text/html": [
       "<div>\n",
       "<style scoped>\n",
       "    .dataframe tbody tr th:only-of-type {\n",
       "        vertical-align: middle;\n",
       "    }\n",
       "\n",
       "    .dataframe tbody tr th {\n",
       "        vertical-align: top;\n",
       "    }\n",
       "\n",
       "    .dataframe thead th {\n",
       "        text-align: right;\n",
       "    }\n",
       "</style>\n",
       "<table border=\"1\" class=\"dataframe\">\n",
       "  <thead>\n",
       "    <tr style=\"text-align: right;\">\n",
       "      <th></th>\n",
       "      <th>NU_ANO</th>\n",
       "      <th>QTD_INSCRITOS</th>\n",
       "    </tr>\n",
       "  </thead>\n",
       "  <tbody>\n",
       "    <tr>\n",
       "      <th>0</th>\n",
       "      <td>2021</td>\n",
       "      <td>2952642</td>\n",
       "    </tr>\n",
       "    <tr>\n",
       "      <th>0</th>\n",
       "      <td>2022</td>\n",
       "      <td>2963373</td>\n",
       "    </tr>\n",
       "  </tbody>\n",
       "</table>\n",
       "</div>"
      ],
      "text/plain": [
       "   NU_ANO  QTD_INSCRITOS\n",
       "0    2021        2952642\n",
       "0    2022        2963373"
      ]
     },
     "execution_count": 17,
     "metadata": {},
     "output_type": "execute_result"
    }
   ],
   "source": [
    "geral = pd.concat([geral2021,geral2022])\n",
    "geral.head()"
   ]
  },
  {
   "cell_type": "code",
   "execution_count": 40,
   "metadata": {},
   "outputs": [
    {
     "data": {
      "text/html": [
       "<div>\n",
       "<style scoped>\n",
       "    .dataframe tbody tr th:only-of-type {\n",
       "        vertical-align: middle;\n",
       "    }\n",
       "\n",
       "    .dataframe tbody tr th {\n",
       "        vertical-align: top;\n",
       "    }\n",
       "\n",
       "    .dataframe thead th {\n",
       "        text-align: right;\n",
       "    }\n",
       "</style>\n",
       "<table border=\"1\" class=\"dataframe\">\n",
       "  <thead>\n",
       "    <tr style=\"text-align: right;\">\n",
       "      <th></th>\n",
       "      <th>NU_ANO</th>\n",
       "      <th>QTD_INSCRITOS</th>\n",
       "      <th>ABS_ALL</th>\n",
       "      <th>ABS_ALL_%</th>\n",
       "    </tr>\n",
       "  </thead>\n",
       "  <tbody>\n",
       "    <tr>\n",
       "      <th>0</th>\n",
       "      <td>2021</td>\n",
       "      <td>2952642</td>\n",
       "      <td>960101</td>\n",
       "      <td>32.52</td>\n",
       "    </tr>\n",
       "    <tr>\n",
       "      <th>1</th>\n",
       "      <td>2022</td>\n",
       "      <td>2963373</td>\n",
       "      <td>913713</td>\n",
       "      <td>30.83</td>\n",
       "    </tr>\n",
       "  </tbody>\n",
       "</table>\n",
       "</div>"
      ],
      "text/plain": [
       "   NU_ANO  QTD_INSCRITOS  ABS_ALL  ABS_ALL_%\n",
       "0    2021        2952642   960101      32.52\n",
       "1    2022        2963373   913713      30.83"
      ]
     },
     "execution_count": 40,
     "metadata": {},
     "output_type": "execute_result"
    }
   ],
   "source": [
    "geral.head()"
   ]
  },
  {
   "cell_type": "markdown",
   "metadata": {},
   "source": [
    "#### Abstenção por ano:"
   ]
  },
  {
   "cell_type": "code",
   "execution_count": 18,
   "metadata": {},
   "outputs": [
    {
     "data": {
      "text/html": [
       "<div>\n",
       "<style scoped>\n",
       "    .dataframe tbody tr th:only-of-type {\n",
       "        vertical-align: middle;\n",
       "    }\n",
       "\n",
       "    .dataframe tbody tr th {\n",
       "        vertical-align: top;\n",
       "    }\n",
       "\n",
       "    .dataframe thead th {\n",
       "        text-align: right;\n",
       "    }\n",
       "</style>\n",
       "<table border=\"1\" class=\"dataframe\">\n",
       "  <thead>\n",
       "    <tr style=\"text-align: right;\">\n",
       "      <th></th>\n",
       "      <th>NU_ANO</th>\n",
       "      <th>ABS_ALL</th>\n",
       "    </tr>\n",
       "  </thead>\n",
       "  <tbody>\n",
       "    <tr>\n",
       "      <th>0</th>\n",
       "      <td>2022</td>\n",
       "      <td>1</td>\n",
       "    </tr>\n",
       "    <tr>\n",
       "      <th>1</th>\n",
       "      <td>2022</td>\n",
       "      <td>1</td>\n",
       "    </tr>\n",
       "    <tr>\n",
       "      <th>2</th>\n",
       "      <td>2022</td>\n",
       "      <td>0</td>\n",
       "    </tr>\n",
       "    <tr>\n",
       "      <th>3</th>\n",
       "      <td>2022</td>\n",
       "      <td>0</td>\n",
       "    </tr>\n",
       "    <tr>\n",
       "      <th>4</th>\n",
       "      <td>2022</td>\n",
       "      <td>1</td>\n",
       "    </tr>\n",
       "  </tbody>\n",
       "</table>\n",
       "</div>"
      ],
      "text/plain": [
       "   NU_ANO  ABS_ALL\n",
       "0    2022        1\n",
       "1    2022        1\n",
       "2    2022        0\n",
       "3    2022        0\n",
       "4    2022        1"
      ]
     },
     "execution_count": 18,
     "metadata": {},
     "output_type": "execute_result"
    }
   ],
   "source": [
    "df_enem = df[['NU_ANO','ABS_ALL']]\n",
    "df_enem.head()"
   ]
  },
  {
   "cell_type": "code",
   "execution_count": 19,
   "metadata": {},
   "outputs": [],
   "source": [
    "# Realizar as operações desejadas\n",
    "geral_abs = df_enem.groupby('NU_ANO')['ABS_ALL'].sum().reset_index()\n",
    "geral_abs = geral_abs.sort_values(by='NU_ANO', ascending=True)\n",
    "\n",
    "# Salvar o DataFrame em um novo DataFrame com nome dinâmico\n",
    "nome_df = f'geral{ano_enem}_abs'\n",
    "globals()[nome_df] = geral_abs\n"
   ]
  },
  {
   "cell_type": "code",
   "execution_count": 11,
   "metadata": {},
   "outputs": [
    {
     "data": {
      "text/html": [
       "<div>\n",
       "<style scoped>\n",
       "    .dataframe tbody tr th:only-of-type {\n",
       "        vertical-align: middle;\n",
       "    }\n",
       "\n",
       "    .dataframe tbody tr th {\n",
       "        vertical-align: top;\n",
       "    }\n",
       "\n",
       "    .dataframe thead th {\n",
       "        text-align: right;\n",
       "    }\n",
       "</style>\n",
       "<table border=\"1\" class=\"dataframe\">\n",
       "  <thead>\n",
       "    <tr style=\"text-align: right;\">\n",
       "      <th></th>\n",
       "      <th>NU_ANO</th>\n",
       "      <th>ABS_ALL</th>\n",
       "    </tr>\n",
       "  </thead>\n",
       "  <tbody>\n",
       "    <tr>\n",
       "      <th>0</th>\n",
       "      <td>2021</td>\n",
       "      <td>960101</td>\n",
       "    </tr>\n",
       "  </tbody>\n",
       "</table>\n",
       "</div>"
      ],
      "text/plain": [
       "   NU_ANO  ABS_ALL\n",
       "0    2021   960101"
      ]
     },
     "execution_count": 11,
     "metadata": {},
     "output_type": "execute_result"
    }
   ],
   "source": [
    "geral2021_abs.head()"
   ]
  },
  {
   "cell_type": "code",
   "execution_count": 20,
   "metadata": {},
   "outputs": [
    {
     "data": {
      "text/html": [
       "<div>\n",
       "<style scoped>\n",
       "    .dataframe tbody tr th:only-of-type {\n",
       "        vertical-align: middle;\n",
       "    }\n",
       "\n",
       "    .dataframe tbody tr th {\n",
       "        vertical-align: top;\n",
       "    }\n",
       "\n",
       "    .dataframe thead th {\n",
       "        text-align: right;\n",
       "    }\n",
       "</style>\n",
       "<table border=\"1\" class=\"dataframe\">\n",
       "  <thead>\n",
       "    <tr style=\"text-align: right;\">\n",
       "      <th></th>\n",
       "      <th>NU_ANO</th>\n",
       "      <th>ABS_ALL</th>\n",
       "    </tr>\n",
       "  </thead>\n",
       "  <tbody>\n",
       "    <tr>\n",
       "      <th>0</th>\n",
       "      <td>2022</td>\n",
       "      <td>913713</td>\n",
       "    </tr>\n",
       "  </tbody>\n",
       "</table>\n",
       "</div>"
      ],
      "text/plain": [
       "   NU_ANO  ABS_ALL\n",
       "0    2022   913713"
      ]
     },
     "execution_count": 20,
     "metadata": {},
     "output_type": "execute_result"
    }
   ],
   "source": [
    "geral2022_abs.head()"
   ]
  },
  {
   "cell_type": "markdown",
   "metadata": {},
   "source": [
    "#### Caso queira concatenar "
   ]
  },
  {
   "cell_type": "code",
   "execution_count": 21,
   "metadata": {},
   "outputs": [
    {
     "data": {
      "text/html": [
       "<div>\n",
       "<style scoped>\n",
       "    .dataframe tbody tr th:only-of-type {\n",
       "        vertical-align: middle;\n",
       "    }\n",
       "\n",
       "    .dataframe tbody tr th {\n",
       "        vertical-align: top;\n",
       "    }\n",
       "\n",
       "    .dataframe thead th {\n",
       "        text-align: right;\n",
       "    }\n",
       "</style>\n",
       "<table border=\"1\" class=\"dataframe\">\n",
       "  <thead>\n",
       "    <tr style=\"text-align: right;\">\n",
       "      <th></th>\n",
       "      <th>NU_ANO</th>\n",
       "      <th>ABS_ALL</th>\n",
       "    </tr>\n",
       "  </thead>\n",
       "  <tbody>\n",
       "    <tr>\n",
       "      <th>0</th>\n",
       "      <td>2021</td>\n",
       "      <td>960101</td>\n",
       "    </tr>\n",
       "    <tr>\n",
       "      <th>0</th>\n",
       "      <td>2022</td>\n",
       "      <td>913713</td>\n",
       "    </tr>\n",
       "  </tbody>\n",
       "</table>\n",
       "</div>"
      ],
      "text/plain": [
       "   NU_ANO  ABS_ALL\n",
       "0    2021   960101\n",
       "0    2022   913713"
      ]
     },
     "execution_count": 21,
     "metadata": {},
     "output_type": "execute_result"
    }
   ],
   "source": [
    "geral_abs = pd.concat([geral2021_abs,geral2022_abs])\n",
    "geral_abs.head()"
   ]
  },
  {
   "cell_type": "markdown",
   "metadata": {},
   "source": [
    "#### Unir qtd de inscritos e abstenções:"
   ]
  },
  {
   "cell_type": "code",
   "execution_count": 22,
   "metadata": {},
   "outputs": [
    {
     "data": {
      "text/html": [
       "<div>\n",
       "<style scoped>\n",
       "    .dataframe tbody tr th:only-of-type {\n",
       "        vertical-align: middle;\n",
       "    }\n",
       "\n",
       "    .dataframe tbody tr th {\n",
       "        vertical-align: top;\n",
       "    }\n",
       "\n",
       "    .dataframe thead th {\n",
       "        text-align: right;\n",
       "    }\n",
       "</style>\n",
       "<table border=\"1\" class=\"dataframe\">\n",
       "  <thead>\n",
       "    <tr style=\"text-align: right;\">\n",
       "      <th></th>\n",
       "      <th>NU_ANO</th>\n",
       "      <th>QTD_INSCRITOS</th>\n",
       "      <th>ABS_ALL</th>\n",
       "    </tr>\n",
       "  </thead>\n",
       "  <tbody>\n",
       "    <tr>\n",
       "      <th>0</th>\n",
       "      <td>2021</td>\n",
       "      <td>2952642</td>\n",
       "      <td>960101</td>\n",
       "    </tr>\n",
       "    <tr>\n",
       "      <th>1</th>\n",
       "      <td>2022</td>\n",
       "      <td>2963373</td>\n",
       "      <td>913713</td>\n",
       "    </tr>\n",
       "  </tbody>\n",
       "</table>\n",
       "</div>"
      ],
      "text/plain": [
       "   NU_ANO  QTD_INSCRITOS  ABS_ALL\n",
       "0    2021        2952642   960101\n",
       "1    2022        2963373   913713"
      ]
     },
     "execution_count": 22,
     "metadata": {},
     "output_type": "execute_result"
    }
   ],
   "source": [
    "geral = geral.merge(geral_abs, on='NU_ANO', how='left')\n",
    "geral.head()"
   ]
  },
  {
   "cell_type": "markdown",
   "metadata": {},
   "source": [
    "#### Absoluto\\Proporção de inscritos por ano."
   ]
  },
  {
   "cell_type": "code",
   "execution_count": 23,
   "metadata": {},
   "outputs": [
    {
     "data": {
      "text/html": [
       "<div>\n",
       "<style scoped>\n",
       "    .dataframe tbody tr th:only-of-type {\n",
       "        vertical-align: middle;\n",
       "    }\n",
       "\n",
       "    .dataframe tbody tr th {\n",
       "        vertical-align: top;\n",
       "    }\n",
       "\n",
       "    .dataframe thead th {\n",
       "        text-align: right;\n",
       "    }\n",
       "</style>\n",
       "<table border=\"1\" class=\"dataframe\">\n",
       "  <thead>\n",
       "    <tr style=\"text-align: right;\">\n",
       "      <th></th>\n",
       "      <th>NU_ANO</th>\n",
       "      <th>QTD_INSCRITOS</th>\n",
       "      <th>ABS_ALL</th>\n",
       "      <th>ABS_ALL_%</th>\n",
       "    </tr>\n",
       "  </thead>\n",
       "  <tbody>\n",
       "    <tr>\n",
       "      <th>0</th>\n",
       "      <td>2021</td>\n",
       "      <td>2952642</td>\n",
       "      <td>960101</td>\n",
       "      <td>32.52</td>\n",
       "    </tr>\n",
       "    <tr>\n",
       "      <th>1</th>\n",
       "      <td>2022</td>\n",
       "      <td>2963373</td>\n",
       "      <td>913713</td>\n",
       "      <td>30.83</td>\n",
       "    </tr>\n",
       "  </tbody>\n",
       "</table>\n",
       "</div>"
      ],
      "text/plain": [
       "   NU_ANO  QTD_INSCRITOS  ABS_ALL  ABS_ALL_%\n",
       "0    2021        2952642   960101      32.52\n",
       "1    2022        2963373   913713      30.83"
      ]
     },
     "execution_count": 23,
     "metadata": {},
     "output_type": "execute_result"
    }
   ],
   "source": [
    "geral['ABS_ALL_%'] = ((geral['ABS_ALL'] / geral['QTD_INSCRITOS'])*100).round(2)\n",
    "geral.head()"
   ]
  },
  {
   "cell_type": "markdown",
   "metadata": {},
   "source": [
    "#### Salvar"
   ]
  },
  {
   "cell_type": "code",
   "execution_count": 39,
   "metadata": {},
   "outputs": [],
   "source": [
    "geral.to_excel('C:\\\\Users\\\\Bruno\\\\OneDrive\\\\Área de Trabalho\\\\Microdados\\\\Datas\\\\Material apresentação\\\\Inscritos_ano.xlsx', index=False)"
   ]
  },
  {
   "cell_type": "markdown",
   "metadata": {},
   "source": [
    "#### Média Objetiva e Geral por ano."
   ]
  },
  {
   "cell_type": "code",
   "execution_count": 26,
   "metadata": {},
   "outputs": [
    {
     "data": {
      "text/html": [
       "<div>\n",
       "<style scoped>\n",
       "    .dataframe tbody tr th:only-of-type {\n",
       "        vertical-align: middle;\n",
       "    }\n",
       "\n",
       "    .dataframe tbody tr th {\n",
       "        vertical-align: top;\n",
       "    }\n",
       "\n",
       "    .dataframe thead th {\n",
       "        text-align: right;\n",
       "    }\n",
       "</style>\n",
       "<table border=\"1\" class=\"dataframe\">\n",
       "  <thead>\n",
       "    <tr style=\"text-align: right;\">\n",
       "      <th></th>\n",
       "      <th>NU_ANO</th>\n",
       "      <th>TP_FAIXA_ETARIA</th>\n",
       "      <th>TP_SEXO</th>\n",
       "      <th>TP_ESTADO_CIVIL</th>\n",
       "      <th>TP_COR_RACA</th>\n",
       "      <th>TP_NACIONALIDADE</th>\n",
       "      <th>TP_ST_CONCLUSAO</th>\n",
       "      <th>TP_ESCOLA</th>\n",
       "      <th>NO_MUNICIPIO_ESC</th>\n",
       "      <th>TP_DEPENDENCIA_ADM_ESC</th>\n",
       "      <th>TP_LOCALIZACAO_ESC</th>\n",
       "      <th>TP_SIT_FUNC_ESC</th>\n",
       "      <th>CO_MUNICIPIO_PROVA</th>\n",
       "      <th>NO_MUNICIPIO_PROVA</th>\n",
       "      <th>SG_UF_PROVA</th>\n",
       "      <th>TP_PRESENCA_CN</th>\n",
       "      <th>TP_PRESENCA_CH</th>\n",
       "      <th>TP_PRESENCA_LC</th>\n",
       "      <th>TP_PRESENCA_MT</th>\n",
       "      <th>NU_NOTA_CN</th>\n",
       "      <th>NU_NOTA_CH</th>\n",
       "      <th>NU_NOTA_LC</th>\n",
       "      <th>NU_NOTA_MT</th>\n",
       "      <th>TP_LINGUA</th>\n",
       "      <th>NU_NOTA_REDACAO</th>\n",
       "      <th>Q005</th>\n",
       "      <th>TP_REGIAO_PROVA</th>\n",
       "      <th>TP_REGIAO_ESC</th>\n",
       "      <th>ABS_DIA_1</th>\n",
       "      <th>ABS_DIA_2</th>\n",
       "      <th>ABS_ALL</th>\n",
       "      <th>FLAG_NULL_ESC</th>\n",
       "      <th>MEDIA_OBJ</th>\n",
       "      <th>MEDIA_GLOBAL</th>\n",
       "      <th>FAMILIA</th>\n",
       "    </tr>\n",
       "  </thead>\n",
       "  <tbody>\n",
       "    <tr>\n",
       "      <th>0</th>\n",
       "      <td>2022</td>\n",
       "      <td>14</td>\n",
       "      <td>M</td>\n",
       "      <td>2</td>\n",
       "      <td>2</td>\n",
       "      <td>1</td>\n",
       "      <td>1</td>\n",
       "      <td>1</td>\n",
       "      <td>None</td>\n",
       "      <td>NaN</td>\n",
       "      <td>NaN</td>\n",
       "      <td>NaN</td>\n",
       "      <td>5300108</td>\n",
       "      <td>BRASILIA</td>\n",
       "      <td>DF</td>\n",
       "      <td>0</td>\n",
       "      <td>0</td>\n",
       "      <td>0</td>\n",
       "      <td>0</td>\n",
       "      <td>NaN</td>\n",
       "      <td>NaN</td>\n",
       "      <td>NaN</td>\n",
       "      <td>NaN</td>\n",
       "      <td>0</td>\n",
       "      <td>NaN</td>\n",
       "      <td>3</td>\n",
       "      <td>DF</td>\n",
       "      <td>DF</td>\n",
       "      <td>1</td>\n",
       "      <td>1</td>\n",
       "      <td>1</td>\n",
       "      <td>1</td>\n",
       "      <td>NaN</td>\n",
       "      <td>NaN</td>\n",
       "      <td>3</td>\n",
       "    </tr>\n",
       "    <tr>\n",
       "      <th>1</th>\n",
       "      <td>2022</td>\n",
       "      <td>14</td>\n",
       "      <td>M</td>\n",
       "      <td>2</td>\n",
       "      <td>1</td>\n",
       "      <td>1</td>\n",
       "      <td>1</td>\n",
       "      <td>1</td>\n",
       "      <td>None</td>\n",
       "      <td>NaN</td>\n",
       "      <td>NaN</td>\n",
       "      <td>NaN</td>\n",
       "      <td>5300108</td>\n",
       "      <td>BRASILIA</td>\n",
       "      <td>DF</td>\n",
       "      <td>0</td>\n",
       "      <td>0</td>\n",
       "      <td>0</td>\n",
       "      <td>0</td>\n",
       "      <td>NaN</td>\n",
       "      <td>NaN</td>\n",
       "      <td>NaN</td>\n",
       "      <td>NaN</td>\n",
       "      <td>0</td>\n",
       "      <td>NaN</td>\n",
       "      <td>3</td>\n",
       "      <td>DF</td>\n",
       "      <td>DF</td>\n",
       "      <td>1</td>\n",
       "      <td>1</td>\n",
       "      <td>1</td>\n",
       "      <td>1</td>\n",
       "      <td>NaN</td>\n",
       "      <td>NaN</td>\n",
       "      <td>3</td>\n",
       "    </tr>\n",
       "    <tr>\n",
       "      <th>2</th>\n",
       "      <td>2022</td>\n",
       "      <td>5</td>\n",
       "      <td>F</td>\n",
       "      <td>1</td>\n",
       "      <td>2</td>\n",
       "      <td>1</td>\n",
       "      <td>1</td>\n",
       "      <td>1</td>\n",
       "      <td>None</td>\n",
       "      <td>NaN</td>\n",
       "      <td>NaN</td>\n",
       "      <td>NaN</td>\n",
       "      <td>2925758</td>\n",
       "      <td>PRESIDENTE TANCREDO NEVES</td>\n",
       "      <td>BA</td>\n",
       "      <td>1</td>\n",
       "      <td>1</td>\n",
       "      <td>1</td>\n",
       "      <td>1</td>\n",
       "      <td>421.1</td>\n",
       "      <td>546.0</td>\n",
       "      <td>498.8</td>\n",
       "      <td>565.3</td>\n",
       "      <td>1</td>\n",
       "      <td>760.0</td>\n",
       "      <td>2</td>\n",
       "      <td>Nordeste</td>\n",
       "      <td>Nordeste</td>\n",
       "      <td>0</td>\n",
       "      <td>0</td>\n",
       "      <td>0</td>\n",
       "      <td>1</td>\n",
       "      <td>507.800</td>\n",
       "      <td>558.24</td>\n",
       "      <td>2</td>\n",
       "    </tr>\n",
       "    <tr>\n",
       "      <th>3</th>\n",
       "      <td>2022</td>\n",
       "      <td>6</td>\n",
       "      <td>M</td>\n",
       "      <td>1</td>\n",
       "      <td>3</td>\n",
       "      <td>1</td>\n",
       "      <td>1</td>\n",
       "      <td>1</td>\n",
       "      <td>None</td>\n",
       "      <td>NaN</td>\n",
       "      <td>NaN</td>\n",
       "      <td>NaN</td>\n",
       "      <td>3201308</td>\n",
       "      <td>CARIACICA</td>\n",
       "      <td>ES</td>\n",
       "      <td>1</td>\n",
       "      <td>1</td>\n",
       "      <td>1</td>\n",
       "      <td>1</td>\n",
       "      <td>490.7</td>\n",
       "      <td>388.6</td>\n",
       "      <td>357.8</td>\n",
       "      <td>416.0</td>\n",
       "      <td>1</td>\n",
       "      <td>320.0</td>\n",
       "      <td>3</td>\n",
       "      <td>Sudeste</td>\n",
       "      <td>Sudeste</td>\n",
       "      <td>0</td>\n",
       "      <td>0</td>\n",
       "      <td>0</td>\n",
       "      <td>1</td>\n",
       "      <td>413.275</td>\n",
       "      <td>394.62</td>\n",
       "      <td>3</td>\n",
       "    </tr>\n",
       "    <tr>\n",
       "      <th>4</th>\n",
       "      <td>2022</td>\n",
       "      <td>4</td>\n",
       "      <td>M</td>\n",
       "      <td>0</td>\n",
       "      <td>3</td>\n",
       "      <td>1</td>\n",
       "      <td>1</td>\n",
       "      <td>1</td>\n",
       "      <td>None</td>\n",
       "      <td>NaN</td>\n",
       "      <td>NaN</td>\n",
       "      <td>NaN</td>\n",
       "      <td>1506203</td>\n",
       "      <td>SALINOPOLIS</td>\n",
       "      <td>PA</td>\n",
       "      <td>0</td>\n",
       "      <td>0</td>\n",
       "      <td>0</td>\n",
       "      <td>0</td>\n",
       "      <td>NaN</td>\n",
       "      <td>NaN</td>\n",
       "      <td>NaN</td>\n",
       "      <td>NaN</td>\n",
       "      <td>0</td>\n",
       "      <td>NaN</td>\n",
       "      <td>2</td>\n",
       "      <td>Norte</td>\n",
       "      <td>Norte</td>\n",
       "      <td>1</td>\n",
       "      <td>1</td>\n",
       "      <td>1</td>\n",
       "      <td>1</td>\n",
       "      <td>NaN</td>\n",
       "      <td>NaN</td>\n",
       "      <td>2</td>\n",
       "    </tr>\n",
       "  </tbody>\n",
       "</table>\n",
       "</div>"
      ],
      "text/plain": [
       "   NU_ANO  TP_FAIXA_ETARIA TP_SEXO  TP_ESTADO_CIVIL  TP_COR_RACA  \\\n",
       "0    2022               14       M                2            2   \n",
       "1    2022               14       M                2            1   \n",
       "2    2022                5       F                1            2   \n",
       "3    2022                6       M                1            3   \n",
       "4    2022                4       M                0            3   \n",
       "\n",
       "   TP_NACIONALIDADE  TP_ST_CONCLUSAO  TP_ESCOLA NO_MUNICIPIO_ESC  \\\n",
       "0                 1                1          1             None   \n",
       "1                 1                1          1             None   \n",
       "2                 1                1          1             None   \n",
       "3                 1                1          1             None   \n",
       "4                 1                1          1             None   \n",
       "\n",
       "   TP_DEPENDENCIA_ADM_ESC  TP_LOCALIZACAO_ESC  TP_SIT_FUNC_ESC  \\\n",
       "0                     NaN                 NaN              NaN   \n",
       "1                     NaN                 NaN              NaN   \n",
       "2                     NaN                 NaN              NaN   \n",
       "3                     NaN                 NaN              NaN   \n",
       "4                     NaN                 NaN              NaN   \n",
       "\n",
       "   CO_MUNICIPIO_PROVA         NO_MUNICIPIO_PROVA SG_UF_PROVA  TP_PRESENCA_CN  \\\n",
       "0             5300108                   BRASILIA          DF               0   \n",
       "1             5300108                   BRASILIA          DF               0   \n",
       "2             2925758  PRESIDENTE TANCREDO NEVES          BA               1   \n",
       "3             3201308                  CARIACICA          ES               1   \n",
       "4             1506203                SALINOPOLIS          PA               0   \n",
       "\n",
       "   TP_PRESENCA_CH  TP_PRESENCA_LC  TP_PRESENCA_MT  NU_NOTA_CN  NU_NOTA_CH  \\\n",
       "0               0               0               0         NaN         NaN   \n",
       "1               0               0               0         NaN         NaN   \n",
       "2               1               1               1       421.1       546.0   \n",
       "3               1               1               1       490.7       388.6   \n",
       "4               0               0               0         NaN         NaN   \n",
       "\n",
       "   NU_NOTA_LC  NU_NOTA_MT  TP_LINGUA  NU_NOTA_REDACAO  Q005 TP_REGIAO_PROVA  \\\n",
       "0         NaN         NaN          0              NaN     3              DF   \n",
       "1         NaN         NaN          0              NaN     3              DF   \n",
       "2       498.8       565.3          1            760.0     2        Nordeste   \n",
       "3       357.8       416.0          1            320.0     3         Sudeste   \n",
       "4         NaN         NaN          0              NaN     2           Norte   \n",
       "\n",
       "  TP_REGIAO_ESC  ABS_DIA_1  ABS_DIA_2  ABS_ALL  FLAG_NULL_ESC  MEDIA_OBJ  \\\n",
       "0            DF          1          1        1              1        NaN   \n",
       "1            DF          1          1        1              1        NaN   \n",
       "2      Nordeste          0          0        0              1    507.800   \n",
       "3       Sudeste          0          0        0              1    413.275   \n",
       "4         Norte          1          1        1              1        NaN   \n",
       "\n",
       "   MEDIA_GLOBAL  FAMILIA  \n",
       "0           NaN        3  \n",
       "1           NaN        3  \n",
       "2        558.24        2  \n",
       "3        394.62        3  \n",
       "4           NaN        2  "
      ]
     },
     "execution_count": 26,
     "metadata": {},
     "output_type": "execute_result"
    }
   ],
   "source": [
    "df.head()"
   ]
  },
  {
   "cell_type": "code",
   "execution_count": 27,
   "metadata": {},
   "outputs": [],
   "source": [
    "df_enem = df[['NU_ANO', 'MEDIA_OBJ','MEDIA_GLOBAL']]"
   ]
  },
  {
   "cell_type": "code",
   "execution_count": 28,
   "metadata": {},
   "outputs": [],
   "source": [
    "# Realizar as operações desejadas\n",
    "geral_media = df_enem.groupby('NU_ANO')['MEDIA_OBJ','MEDIA_GLOBAL'].mean().reset_index().round(2)\n",
    "geral_media = geral_media.sort_values(by='NU_ANO', ascending=True)\n",
    "\n",
    "# Salvar o DataFrame em um novo DataFrame com nome dinâmico\n",
    "nome_df = f'geral{ano_enem}_media'\n",
    "globals()[nome_df] = geral_media\n"
   ]
  },
  {
   "cell_type": "code",
   "execution_count": 29,
   "metadata": {},
   "outputs": [
    {
     "data": {
      "text/html": [
       "<div>\n",
       "<style scoped>\n",
       "    .dataframe tbody tr th:only-of-type {\n",
       "        vertical-align: middle;\n",
       "    }\n",
       "\n",
       "    .dataframe tbody tr th {\n",
       "        vertical-align: top;\n",
       "    }\n",
       "\n",
       "    .dataframe thead th {\n",
       "        text-align: right;\n",
       "    }\n",
       "</style>\n",
       "<table border=\"1\" class=\"dataframe\">\n",
       "  <thead>\n",
       "    <tr style=\"text-align: right;\">\n",
       "      <th></th>\n",
       "      <th>NU_ANO</th>\n",
       "      <th>MEDIA_OBJ</th>\n",
       "      <th>MEDIA_GLOBAL</th>\n",
       "    </tr>\n",
       "  </thead>\n",
       "  <tbody>\n",
       "    <tr>\n",
       "      <th>0</th>\n",
       "      <td>2022</td>\n",
       "      <td>519.62</td>\n",
       "      <td>538.54</td>\n",
       "    </tr>\n",
       "  </tbody>\n",
       "</table>\n",
       "</div>"
      ],
      "text/plain": [
       "   NU_ANO  MEDIA_OBJ  MEDIA_GLOBAL\n",
       "0    2022     519.62        538.54"
      ]
     },
     "execution_count": 29,
     "metadata": {},
     "output_type": "execute_result"
    }
   ],
   "source": [
    "geral2022_media.head()"
   ]
  },
  {
   "cell_type": "code",
   "execution_count": null,
   "metadata": {},
   "outputs": [],
   "source": [
    "geral2021_media.head()"
   ]
  },
  {
   "cell_type": "code",
   "execution_count": null,
   "metadata": {},
   "outputs": [],
   "source": [
    "geral_media = pd.concat([geral2021_media,geral2022_media])\n",
    "geral_media.head()"
   ]
  },
  {
   "cell_type": "markdown",
   "metadata": {},
   "source": [
    "#### Salvar"
   ]
  },
  {
   "cell_type": "code",
   "execution_count": null,
   "metadata": {},
   "outputs": [],
   "source": [
    "geral_media.to_excel('C:\\\\Users\\\\Bruno\\\\OneDrive\\\\Área de Trabalho\\\\Microdados\\\\Datas\\\\Material apresentação\\\\Media_ano.xlsx', index=False)"
   ]
  },
  {
   "cell_type": "markdown",
   "metadata": {},
   "source": [
    "## 2) Tipo de língua.\n"
   ]
  },
  {
   "cell_type": "markdown",
   "metadata": {},
   "source": [
    "#### 0 - Inglês\n",
    "#### 1 - Espanhol\n"
   ]
  },
  {
   "cell_type": "code",
   "execution_count": 84,
   "metadata": {},
   "outputs": [],
   "source": [
    "df_enem = df[['NU_INSCRICAO','NU_ANO','TP_LINGUA','ABS_ALL','MEDIA_GLOBAL','MEDIA_OBJ']]"
   ]
  },
  {
   "cell_type": "markdown",
   "metadata": {},
   "source": [
    "#### Quantidade por ano."
   ]
  },
  {
   "cell_type": "code",
   "execution_count": 24,
   "metadata": {},
   "outputs": [],
   "source": [
    "geral2 = df_enem.groupby(['NU_ANO', 'TP_LINGUA'])['NU_INSCRICAO'].count().reset_index()\n",
    "geral2 = geral2.pivot(index='NU_ANO', columns='TP_LINGUA', values='NU_INSCRICAO').reset_index()\n",
    "geral2.columns = ['NU_ANO', 'QTD_INGLES', 'QTD_ESPANHOL']\n",
    "nome_df = f'geral{ano_enem}2'\n",
    "globals()[nome_df] = geral2"
   ]
  },
  {
   "cell_type": "code",
   "execution_count": 25,
   "metadata": {},
   "outputs": [
    {
     "data": {
      "text/html": [
       "<div>\n",
       "<style scoped>\n",
       "    .dataframe tbody tr th:only-of-type {\n",
       "        vertical-align: middle;\n",
       "    }\n",
       "\n",
       "    .dataframe tbody tr th {\n",
       "        vertical-align: top;\n",
       "    }\n",
       "\n",
       "    .dataframe thead th {\n",
       "        text-align: right;\n",
       "    }\n",
       "</style>\n",
       "<table border=\"1\" class=\"dataframe\">\n",
       "  <thead>\n",
       "    <tr style=\"text-align: right;\">\n",
       "      <th></th>\n",
       "      <th>NU_ANO</th>\n",
       "      <th>QTD_INGLES</th>\n",
       "      <th>QTD_ESPANHOL</th>\n",
       "    </tr>\n",
       "  </thead>\n",
       "  <tbody>\n",
       "    <tr>\n",
       "      <th>0</th>\n",
       "      <td>2021</td>\n",
       "      <td>1496604</td>\n",
       "      <td>1456038</td>\n",
       "    </tr>\n",
       "  </tbody>\n",
       "</table>\n",
       "</div>"
      ],
      "text/plain": [
       "   NU_ANO  QTD_INGLES  QTD_ESPANHOL\n",
       "0    2021     1496604       1456038"
      ]
     },
     "execution_count": 25,
     "metadata": {},
     "output_type": "execute_result"
    }
   ],
   "source": [
    "geral20212.head()"
   ]
  },
  {
   "cell_type": "code",
   "execution_count": 20,
   "metadata": {},
   "outputs": [
    {
     "data": {
      "text/html": [
       "<div>\n",
       "<style scoped>\n",
       "    .dataframe tbody tr th:only-of-type {\n",
       "        vertical-align: middle;\n",
       "    }\n",
       "\n",
       "    .dataframe tbody tr th {\n",
       "        vertical-align: top;\n",
       "    }\n",
       "\n",
       "    .dataframe thead th {\n",
       "        text-align: right;\n",
       "    }\n",
       "</style>\n",
       "<table border=\"1\" class=\"dataframe\">\n",
       "  <thead>\n",
       "    <tr style=\"text-align: right;\">\n",
       "      <th></th>\n",
       "      <th>NU_ANO</th>\n",
       "      <th>QTD_INGLES</th>\n",
       "      <th>QTD_ESPANHOL</th>\n",
       "    </tr>\n",
       "  </thead>\n",
       "  <tbody>\n",
       "    <tr>\n",
       "      <th>0</th>\n",
       "      <td>2022</td>\n",
       "      <td>1548122</td>\n",
       "      <td>1415251</td>\n",
       "    </tr>\n",
       "  </tbody>\n",
       "</table>\n",
       "</div>"
      ],
      "text/plain": [
       "   NU_ANO  QTD_INGLES  QTD_ESPANHOL\n",
       "0    2022     1548122       1415251"
      ]
     },
     "execution_count": 20,
     "metadata": {},
     "output_type": "execute_result"
    }
   ],
   "source": [
    "geral20222.head()"
   ]
  },
  {
   "cell_type": "code",
   "execution_count": 26,
   "metadata": {},
   "outputs": [
    {
     "data": {
      "text/html": [
       "<div>\n",
       "<style scoped>\n",
       "    .dataframe tbody tr th:only-of-type {\n",
       "        vertical-align: middle;\n",
       "    }\n",
       "\n",
       "    .dataframe tbody tr th {\n",
       "        vertical-align: top;\n",
       "    }\n",
       "\n",
       "    .dataframe thead th {\n",
       "        text-align: right;\n",
       "    }\n",
       "</style>\n",
       "<table border=\"1\" class=\"dataframe\">\n",
       "  <thead>\n",
       "    <tr style=\"text-align: right;\">\n",
       "      <th></th>\n",
       "      <th>NU_ANO</th>\n",
       "      <th>QTD_INGLES</th>\n",
       "      <th>QTD_ESPANHOL</th>\n",
       "    </tr>\n",
       "  </thead>\n",
       "  <tbody>\n",
       "    <tr>\n",
       "      <th>0</th>\n",
       "      <td>2021</td>\n",
       "      <td>1496604</td>\n",
       "      <td>1456038</td>\n",
       "    </tr>\n",
       "    <tr>\n",
       "      <th>0</th>\n",
       "      <td>2022</td>\n",
       "      <td>1548122</td>\n",
       "      <td>1415251</td>\n",
       "    </tr>\n",
       "  </tbody>\n",
       "</table>\n",
       "</div>"
      ],
      "text/plain": [
       "   NU_ANO  QTD_INGLES  QTD_ESPANHOL\n",
       "0    2021     1496604       1456038\n",
       "0    2022     1548122       1415251"
      ]
     },
     "execution_count": 26,
     "metadata": {},
     "output_type": "execute_result"
    }
   ],
   "source": [
    "geral2 = pd.concat([geral20212,geral20222])\n",
    "geral2.head()"
   ]
  },
  {
   "cell_type": "markdown",
   "metadata": {},
   "source": [
    "#### Salvar"
   ]
  },
  {
   "cell_type": "code",
   "execution_count": 39,
   "metadata": {},
   "outputs": [],
   "source": [
    "geral2.to_excel('C:\\\\Users\\\\Bruno\\\\OneDrive\\\\Área de Trabalho\\\\Microdados\\\\Datas\\\\Material apresentação\\\\Inscritos_Lingua_ano.xlsx', index=False)"
   ]
  },
  {
   "cell_type": "markdown",
   "metadata": {},
   "source": [
    "#### Absoluto|Proporção por ano."
   ]
  },
  {
   "cell_type": "code",
   "execution_count": 27,
   "metadata": {},
   "outputs": [
    {
     "data": {
      "text/html": [
       "<div>\n",
       "<style scoped>\n",
       "    .dataframe tbody tr th:only-of-type {\n",
       "        vertical-align: middle;\n",
       "    }\n",
       "\n",
       "    .dataframe tbody tr th {\n",
       "        vertical-align: top;\n",
       "    }\n",
       "\n",
       "    .dataframe thead th {\n",
       "        text-align: right;\n",
       "    }\n",
       "</style>\n",
       "<table border=\"1\" class=\"dataframe\">\n",
       "  <thead>\n",
       "    <tr style=\"text-align: right;\">\n",
       "      <th></th>\n",
       "      <th>QTD_INGLES</th>\n",
       "      <th>QTD_ESPANHOL</th>\n",
       "    </tr>\n",
       "  </thead>\n",
       "  <tbody>\n",
       "    <tr>\n",
       "      <th>0</th>\n",
       "      <td>1496604</td>\n",
       "      <td>1456038</td>\n",
       "    </tr>\n",
       "    <tr>\n",
       "      <th>0</th>\n",
       "      <td>1548122</td>\n",
       "      <td>1415251</td>\n",
       "    </tr>\n",
       "  </tbody>\n",
       "</table>\n",
       "</div>"
      ],
      "text/plain": [
       "   QTD_INGLES  QTD_ESPANHOL\n",
       "0     1496604       1456038\n",
       "0     1548122       1415251"
      ]
     },
     "execution_count": 27,
     "metadata": {},
     "output_type": "execute_result"
    }
   ],
   "source": [
    "geral2_pct = geral2[['QTD_INGLES','QTD_ESPANHOL']]\n",
    "geral2_pct.head()"
   ]
  },
  {
   "cell_type": "code",
   "execution_count": 28,
   "metadata": {},
   "outputs": [
    {
     "data": {
      "text/html": [
       "<div>\n",
       "<style scoped>\n",
       "    .dataframe tbody tr th:only-of-type {\n",
       "        vertical-align: middle;\n",
       "    }\n",
       "\n",
       "    .dataframe tbody tr th {\n",
       "        vertical-align: top;\n",
       "    }\n",
       "\n",
       "    .dataframe thead th {\n",
       "        text-align: right;\n",
       "    }\n",
       "</style>\n",
       "<table border=\"1\" class=\"dataframe\">\n",
       "  <thead>\n",
       "    <tr style=\"text-align: right;\">\n",
       "      <th></th>\n",
       "      <th>NU_ANO</th>\n",
       "      <th>QTD_INGLES</th>\n",
       "      <th>QTD_ESPANHOL</th>\n",
       "      <th>QTD_INGLES_%</th>\n",
       "      <th>QTD_ESPANHOL_%</th>\n",
       "    </tr>\n",
       "  </thead>\n",
       "  <tbody>\n",
       "    <tr>\n",
       "      <th>0</th>\n",
       "      <td>2021</td>\n",
       "      <td>1496604</td>\n",
       "      <td>1456038</td>\n",
       "      <td>50.69</td>\n",
       "      <td>49.31</td>\n",
       "    </tr>\n",
       "    <tr>\n",
       "      <th>1</th>\n",
       "      <td>2022</td>\n",
       "      <td>1548122</td>\n",
       "      <td>1415251</td>\n",
       "      <td>52.24</td>\n",
       "      <td>47.76</td>\n",
       "    </tr>\n",
       "  </tbody>\n",
       "</table>\n",
       "</div>"
      ],
      "text/plain": [
       "   NU_ANO  QTD_INGLES  QTD_ESPANHOL  QTD_INGLES_%  QTD_ESPANHOL_%\n",
       "0    2021     1496604       1456038         50.69           49.31\n",
       "1    2022     1548122       1415251         52.24           47.76"
      ]
     },
     "execution_count": 28,
     "metadata": {},
     "output_type": "execute_result"
    }
   ],
   "source": [
    "soma_total = geral2_pct.sum(axis=1)\n",
    "\n",
    "# Iterar sobre as colunas e criar as colunas percentuais automaticamente\n",
    "for coluna in geral2_pct.columns:\n",
    "    if coluna.startswith('QTD_'):  # Certifica-se de que estamos lidando apenas com as colunas relevantes\n",
    "        coluna_percentual = coluna + '_%'\n",
    "        proporcao_coluna = geral2_pct[coluna] / soma_total\n",
    "        geral2_pct[coluna_percentual] = (proporcao_coluna * 100).round(2)\n",
    "\n",
    "\n",
    "geral2 = geral2.merge(geral2_pct, on=['QTD_INGLES','QTD_ESPANHOL'], how='outer')\n",
    "geral2.head()"
   ]
  },
  {
   "cell_type": "markdown",
   "metadata": {},
   "source": [
    "#### Salvar"
   ]
  },
  {
   "cell_type": "code",
   "execution_count": null,
   "metadata": {},
   "outputs": [],
   "source": [
    "geral2.to_excel('C:\\\\Users\\\\Bruno\\\\OneDrive\\\\Área de Trabalho\\\\Microdados\\\\Datas\\\\Material apresentação\\\\Absoluto_Proporcional_Lingua_ano.xlsx', index=False)"
   ]
  },
  {
   "cell_type": "markdown",
   "metadata": {},
   "source": [
    "#### Absoluto|Proporção total."
   ]
  },
  {
   "cell_type": "code",
   "execution_count": 79,
   "metadata": {},
   "outputs": [
    {
     "data": {
      "text/html": [
       "<div>\n",
       "<style scoped>\n",
       "    .dataframe tbody tr th:only-of-type {\n",
       "        vertical-align: middle;\n",
       "    }\n",
       "\n",
       "    .dataframe tbody tr th {\n",
       "        vertical-align: top;\n",
       "    }\n",
       "\n",
       "    .dataframe thead th {\n",
       "        text-align: right;\n",
       "    }\n",
       "</style>\n",
       "<table border=\"1\" class=\"dataframe\">\n",
       "  <thead>\n",
       "    <tr style=\"text-align: right;\">\n",
       "      <th></th>\n",
       "      <th>TP_LINGUA</th>\n",
       "      <th>QTD_LINGUA</th>\n",
       "      <th>QTD_LINGUA_%</th>\n",
       "    </tr>\n",
       "  </thead>\n",
       "  <tbody>\n",
       "    <tr>\n",
       "      <th>0</th>\n",
       "      <td>Inglês</td>\n",
       "      <td>1496604</td>\n",
       "      <td>50.69</td>\n",
       "    </tr>\n",
       "    <tr>\n",
       "      <th>1</th>\n",
       "      <td>Espanhol</td>\n",
       "      <td>1456038</td>\n",
       "      <td>49.31</td>\n",
       "    </tr>\n",
       "  </tbody>\n",
       "</table>\n",
       "</div>"
      ],
      "text/plain": [
       "  TP_LINGUA  QTD_LINGUA  QTD_LINGUA_%\n",
       "0    Inglês     1496604         50.69\n",
       "1  Espanhol     1456038         49.31"
      ]
     },
     "execution_count": 79,
     "metadata": {},
     "output_type": "execute_result"
    }
   ],
   "source": [
    "geral2_prop = df_enem['TP_LINGUA'].value_counts().sort_index()\n",
    "\n",
    "geral2_prop = pd.DataFrame({'TP_LINGUA': geral2_prop.index, 'QTD_LINGUA': geral2_prop.values})\n",
    "geral2_prop['QTD_LINGUA_%'] = ((geral2_prop['QTD_LINGUA'] / geral2_prop['QTD_LINGUA'].sum())*100).round(2)\n",
    "geral2_prop['TP_LINGUA'] = geral2_prop['TP_LINGUA'].map({0: 'Inglês', 1: 'Espanhol'})\n",
    "geral2_prop.head()"
   ]
  },
  {
   "cell_type": "markdown",
   "metadata": {},
   "source": [
    "#### Salvar"
   ]
  },
  {
   "cell_type": "code",
   "execution_count": 43,
   "metadata": {},
   "outputs": [],
   "source": [
    "geral2_prop.to_excel('C:\\\\Users\\\\Bruno\\\\OneDrive\\\\Área de Trabalho\\\\Microdados\\\\Datas\\\\Material apresentação\\\\Absoluto_Proporcional_Lingua.xlsx', index=False)"
   ]
  },
  {
   "cell_type": "markdown",
   "metadata": {},
   "source": [
    "#### Abstenções por língua."
   ]
  },
  {
   "cell_type": "code",
   "execution_count": 35,
   "metadata": {},
   "outputs": [
    {
     "data": {
      "text/html": [
       "<div>\n",
       "<style scoped>\n",
       "    .dataframe tbody tr th:only-of-type {\n",
       "        vertical-align: middle;\n",
       "    }\n",
       "\n",
       "    .dataframe tbody tr th {\n",
       "        vertical-align: top;\n",
       "    }\n",
       "\n",
       "    .dataframe thead th {\n",
       "        text-align: right;\n",
       "    }\n",
       "</style>\n",
       "<table border=\"1\" class=\"dataframe\">\n",
       "  <thead>\n",
       "    <tr style=\"text-align: right;\">\n",
       "      <th></th>\n",
       "      <th>TP_LINGUA</th>\n",
       "      <th>ABS_ALL</th>\n",
       "      <th>ABS_ALL_%</th>\n",
       "    </tr>\n",
       "  </thead>\n",
       "  <tbody>\n",
       "    <tr>\n",
       "      <th>0</th>\n",
       "      <td>Inglês</td>\n",
       "      <td>422169</td>\n",
       "      <td>46.2</td>\n",
       "    </tr>\n",
       "    <tr>\n",
       "      <th>1</th>\n",
       "      <td>Espanhol</td>\n",
       "      <td>491544</td>\n",
       "      <td>53.8</td>\n",
       "    </tr>\n",
       "  </tbody>\n",
       "</table>\n",
       "</div>"
      ],
      "text/plain": [
       "  TP_LINGUA  ABS_ALL  ABS_ALL_%\n",
       "0    Inglês   422169       46.2\n",
       "1  Espanhol   491544       53.8"
      ]
     },
     "execution_count": 35,
     "metadata": {},
     "output_type": "execute_result"
    }
   ],
   "source": [
    "geral2_ABS = df_enem.groupby(['TP_LINGUA'])['ABS_ALL'].sum().reset_index()\n",
    "geral2_ABS['ABS_ALL_%'] = ((geral2_ABS['ABS_ALL'] / geral2_ABS['ABS_ALL'].sum())*100).round(2)\n",
    "geral2_ABS['TP_LINGUA'] = geral2_ABS['TP_LINGUA'].map({0: 'Inglês', 1: 'Espanhol'})\n",
    "geral2_ABS.head()"
   ]
  },
  {
   "cell_type": "markdown",
   "metadata": {},
   "source": [
    "#### Salvar"
   ]
  },
  {
   "cell_type": "code",
   "execution_count": 44,
   "metadata": {},
   "outputs": [],
   "source": [
    "geral2_ABS.to_excel('C:\\\\Users\\\\Bruno\\\\OneDrive\\\\Área de Trabalho\\\\Microdados\\\\Datas\\\\Material apresentação\\\\Abstenções_Lingua.xlsx', index=False)"
   ]
  },
  {
   "cell_type": "markdown",
   "metadata": {},
   "source": [
    "#### Média por ano das línguas."
   ]
  },
  {
   "cell_type": "code",
   "execution_count": 90,
   "metadata": {},
   "outputs": [],
   "source": [
    "df_enem = df[['NU_INSCRICAO','NU_ANO','TP_LINGUA','ABS_ALL','MEDIA_GLOBAL','MEDIA_OBJ']]"
   ]
  },
  {
   "cell_type": "code",
   "execution_count": 92,
   "metadata": {},
   "outputs": [],
   "source": [
    "geral2_media_ano = df_enem.groupby(['NU_ANO', 'TP_LINGUA'])[['MEDIA_OBJ', 'MEDIA_GLOBAL']].mean().reset_index().round(2)\n",
    "geral2_media_ano['TP_LINGUA'] = geral2_media_ano['TP_LINGUA'].map({0: 'Inglês', 1: 'Espanhol'})\n",
    "geral2_media_ano = geral2_media_ano.pivot(index='NU_ANO', columns='TP_LINGUA')\n",
    "geral2_media_ano = geral2_media_ano.reorder_levels([0 , 1], axis=1).sort_index(axis=1, level=0)\n",
    "nome_df = f'geral{ano_enem}2_media_ano'\n",
    "globals()[nome_df] = geral2_media_ano"
   ]
  },
  {
   "cell_type": "code",
   "execution_count": 87,
   "metadata": {},
   "outputs": [
    {
     "data": {
      "text/html": [
       "<div>\n",
       "<style scoped>\n",
       "    .dataframe tbody tr th:only-of-type {\n",
       "        vertical-align: middle;\n",
       "    }\n",
       "\n",
       "    .dataframe tbody tr th {\n",
       "        vertical-align: top;\n",
       "    }\n",
       "\n",
       "    .dataframe thead tr th {\n",
       "        text-align: left;\n",
       "    }\n",
       "\n",
       "    .dataframe thead tr:last-of-type th {\n",
       "        text-align: right;\n",
       "    }\n",
       "</style>\n",
       "<table border=\"1\" class=\"dataframe\">\n",
       "  <thead>\n",
       "    <tr>\n",
       "      <th></th>\n",
       "      <th colspan=\"2\" halign=\"left\">MEDIA_GLOBAL</th>\n",
       "      <th colspan=\"2\" halign=\"left\">MEDIA_OBJ</th>\n",
       "    </tr>\n",
       "    <tr>\n",
       "      <th>TP_LINGUA</th>\n",
       "      <th>Espanhol</th>\n",
       "      <th>Inglês</th>\n",
       "      <th>Espanhol</th>\n",
       "      <th>Inglês</th>\n",
       "    </tr>\n",
       "    <tr>\n",
       "      <th>NU_ANO</th>\n",
       "      <th></th>\n",
       "      <th></th>\n",
       "      <th></th>\n",
       "      <th></th>\n",
       "    </tr>\n",
       "  </thead>\n",
       "  <tbody>\n",
       "    <tr>\n",
       "      <th>2021</th>\n",
       "      <td>502.44</td>\n",
       "      <td>556.57</td>\n",
       "      <td>484.37</td>\n",
       "      <td>534.08</td>\n",
       "    </tr>\n",
       "  </tbody>\n",
       "</table>\n",
       "</div>"
      ],
      "text/plain": [
       "          MEDIA_GLOBAL         MEDIA_OBJ        \n",
       "TP_LINGUA     Espanhol  Inglês  Espanhol  Inglês\n",
       "NU_ANO                                          \n",
       "2021            502.44  556.57    484.37  534.08"
      ]
     },
     "execution_count": 87,
     "metadata": {},
     "output_type": "execute_result"
    }
   ],
   "source": [
    "geral20212_media_ano.head()"
   ]
  },
  {
   "cell_type": "code",
   "execution_count": 93,
   "metadata": {},
   "outputs": [
    {
     "data": {
      "text/html": [
       "<div>\n",
       "<style scoped>\n",
       "    .dataframe tbody tr th:only-of-type {\n",
       "        vertical-align: middle;\n",
       "    }\n",
       "\n",
       "    .dataframe tbody tr th {\n",
       "        vertical-align: top;\n",
       "    }\n",
       "\n",
       "    .dataframe thead tr th {\n",
       "        text-align: left;\n",
       "    }\n",
       "\n",
       "    .dataframe thead tr:last-of-type th {\n",
       "        text-align: right;\n",
       "    }\n",
       "</style>\n",
       "<table border=\"1\" class=\"dataframe\">\n",
       "  <thead>\n",
       "    <tr>\n",
       "      <th></th>\n",
       "      <th colspan=\"2\" halign=\"left\">MEDIA_GLOBAL</th>\n",
       "      <th colspan=\"2\" halign=\"left\">MEDIA_OBJ</th>\n",
       "    </tr>\n",
       "    <tr>\n",
       "      <th>TP_LINGUA</th>\n",
       "      <th>Espanhol</th>\n",
       "      <th>Inglês</th>\n",
       "      <th>Espanhol</th>\n",
       "      <th>Inglês</th>\n",
       "    </tr>\n",
       "    <tr>\n",
       "      <th>NU_ANO</th>\n",
       "      <th></th>\n",
       "      <th></th>\n",
       "      <th></th>\n",
       "      <th></th>\n",
       "    </tr>\n",
       "  </thead>\n",
       "  <tbody>\n",
       "    <tr>\n",
       "      <th>2022</th>\n",
       "      <td>510.85</td>\n",
       "      <td>561.25</td>\n",
       "      <td>495.51</td>\n",
       "      <td>539.4</td>\n",
       "    </tr>\n",
       "  </tbody>\n",
       "</table>\n",
       "</div>"
      ],
      "text/plain": [
       "          MEDIA_GLOBAL         MEDIA_OBJ       \n",
       "TP_LINGUA     Espanhol  Inglês  Espanhol Inglês\n",
       "NU_ANO                                         \n",
       "2022            510.85  561.25    495.51  539.4"
      ]
     },
     "execution_count": 93,
     "metadata": {},
     "output_type": "execute_result"
    }
   ],
   "source": [
    "geral20222_media_ano.head()"
   ]
  },
  {
   "cell_type": "code",
   "execution_count": 94,
   "metadata": {},
   "outputs": [
    {
     "data": {
      "text/html": [
       "<div>\n",
       "<style scoped>\n",
       "    .dataframe tbody tr th:only-of-type {\n",
       "        vertical-align: middle;\n",
       "    }\n",
       "\n",
       "    .dataframe tbody tr th {\n",
       "        vertical-align: top;\n",
       "    }\n",
       "\n",
       "    .dataframe thead tr th {\n",
       "        text-align: left;\n",
       "    }\n",
       "\n",
       "    .dataframe thead tr:last-of-type th {\n",
       "        text-align: right;\n",
       "    }\n",
       "</style>\n",
       "<table border=\"1\" class=\"dataframe\">\n",
       "  <thead>\n",
       "    <tr>\n",
       "      <th></th>\n",
       "      <th colspan=\"2\" halign=\"left\">MEDIA_GLOBAL</th>\n",
       "      <th colspan=\"2\" halign=\"left\">MEDIA_OBJ</th>\n",
       "    </tr>\n",
       "    <tr>\n",
       "      <th>TP_LINGUA</th>\n",
       "      <th>Espanhol</th>\n",
       "      <th>Inglês</th>\n",
       "      <th>Espanhol</th>\n",
       "      <th>Inglês</th>\n",
       "    </tr>\n",
       "    <tr>\n",
       "      <th>NU_ANO</th>\n",
       "      <th></th>\n",
       "      <th></th>\n",
       "      <th></th>\n",
       "      <th></th>\n",
       "    </tr>\n",
       "  </thead>\n",
       "  <tbody>\n",
       "    <tr>\n",
       "      <th>2021</th>\n",
       "      <td>502.44</td>\n",
       "      <td>556.57</td>\n",
       "      <td>484.37</td>\n",
       "      <td>534.08</td>\n",
       "    </tr>\n",
       "    <tr>\n",
       "      <th>2022</th>\n",
       "      <td>510.85</td>\n",
       "      <td>561.25</td>\n",
       "      <td>495.51</td>\n",
       "      <td>539.40</td>\n",
       "    </tr>\n",
       "  </tbody>\n",
       "</table>\n",
       "</div>"
      ],
      "text/plain": [
       "          MEDIA_GLOBAL         MEDIA_OBJ        \n",
       "TP_LINGUA     Espanhol  Inglês  Espanhol  Inglês\n",
       "NU_ANO                                          \n",
       "2021            502.44  556.57    484.37  534.08\n",
       "2022            510.85  561.25    495.51  539.40"
      ]
     },
     "execution_count": 94,
     "metadata": {},
     "output_type": "execute_result"
    }
   ],
   "source": [
    "geral2_media_ano = pd.concat([geral20212_media_ano,geral20222_media_ano])\n",
    "geral2_media_ano.head()"
   ]
  },
  {
   "cell_type": "markdown",
   "metadata": {},
   "source": [
    "#### Salvar. True para salvar o multindex."
   ]
  },
  {
   "cell_type": "code",
   "execution_count": 95,
   "metadata": {},
   "outputs": [],
   "source": [
    "geral2_media_ano.to_excel('C:\\\\Users\\\\Bruno\\\\OneDrive\\\\Área de Trabalho\\\\Microdados\\\\Datas\\\\Material apresentação\\\\Media_Lingua_ano.xlsx', index=True)"
   ]
  },
  {
   "cell_type": "markdown",
   "metadata": {},
   "source": [
    "#### Média por língua."
   ]
  },
  {
   "cell_type": "code",
   "execution_count": 37,
   "metadata": {},
   "outputs": [
    {
     "data": {
      "text/html": [
       "<div>\n",
       "<style scoped>\n",
       "    .dataframe tbody tr th:only-of-type {\n",
       "        vertical-align: middle;\n",
       "    }\n",
       "\n",
       "    .dataframe tbody tr th {\n",
       "        vertical-align: top;\n",
       "    }\n",
       "\n",
       "    .dataframe thead th {\n",
       "        text-align: right;\n",
       "    }\n",
       "</style>\n",
       "<table border=\"1\" class=\"dataframe\">\n",
       "  <thead>\n",
       "    <tr style=\"text-align: right;\">\n",
       "      <th></th>\n",
       "      <th>TP_LINGUA</th>\n",
       "      <th>MEDIA_OBJ</th>\n",
       "      <th>MEDIA_GLOBAL</th>\n",
       "    </tr>\n",
       "  </thead>\n",
       "  <tbody>\n",
       "    <tr>\n",
       "      <th>0</th>\n",
       "      <td>Inglês</td>\n",
       "      <td>539.40</td>\n",
       "      <td>561.25</td>\n",
       "    </tr>\n",
       "    <tr>\n",
       "      <th>1</th>\n",
       "      <td>Espanhol</td>\n",
       "      <td>495.51</td>\n",
       "      <td>510.85</td>\n",
       "    </tr>\n",
       "  </tbody>\n",
       "</table>\n",
       "</div>"
      ],
      "text/plain": [
       "  TP_LINGUA  MEDIA_OBJ  MEDIA_GLOBAL\n",
       "0    Inglês     539.40        561.25\n",
       "1  Espanhol     495.51        510.85"
      ]
     },
     "execution_count": 37,
     "metadata": {},
     "output_type": "execute_result"
    }
   ],
   "source": [
    "geral2_media = df_enem.groupby('TP_LINGUA')[['MEDIA_OBJ', 'MEDIA_GLOBAL']].mean().reset_index().round(2)\n",
    "geral2_media['TP_LINGUA'] = geral2_media['TP_LINGUA'].map({0: 'Inglês', 1: 'Espanhol'})\n",
    "geral2_media.head()"
   ]
  },
  {
   "cell_type": "markdown",
   "metadata": {},
   "source": [
    "#### Salvar"
   ]
  },
  {
   "cell_type": "code",
   "execution_count": 82,
   "metadata": {},
   "outputs": [
    {
     "ename": "NameError",
     "evalue": "name 'geral2_media' is not defined",
     "output_type": "error",
     "traceback": [
      "\u001b[1;31m---------------------------------------------------------------------------\u001b[0m",
      "\u001b[1;31mNameError\u001b[0m                                 Traceback (most recent call last)",
      "Cell \u001b[1;32mIn[82], line 1\u001b[0m\n\u001b[1;32m----> 1\u001b[0m \u001b[43mgeral2_media\u001b[49m\u001b[38;5;241m.\u001b[39mto_excel(\u001b[38;5;124m'\u001b[39m\u001b[38;5;124mC:\u001b[39m\u001b[38;5;130;01m\\\\\u001b[39;00m\u001b[38;5;124mUsers\u001b[39m\u001b[38;5;130;01m\\\\\u001b[39;00m\u001b[38;5;124mBruno\u001b[39m\u001b[38;5;130;01m\\\\\u001b[39;00m\u001b[38;5;124mOneDrive\u001b[39m\u001b[38;5;130;01m\\\\\u001b[39;00m\u001b[38;5;124mÁrea de Trabalho\u001b[39m\u001b[38;5;130;01m\\\\\u001b[39;00m\u001b[38;5;124mMicrodados\u001b[39m\u001b[38;5;130;01m\\\\\u001b[39;00m\u001b[38;5;124mDatas\u001b[39m\u001b[38;5;130;01m\\\\\u001b[39;00m\u001b[38;5;124mMaterial apresentação\u001b[39m\u001b[38;5;130;01m\\\\\u001b[39;00m\u001b[38;5;124mMedia_Lingua.xlsx\u001b[39m\u001b[38;5;124m'\u001b[39m, index\u001b[38;5;241m=\u001b[39m\u001b[38;5;28;01mTrue\u001b[39;00m)\n",
      "\u001b[1;31mNameError\u001b[0m: name 'geral2_media' is not defined"
     ]
    }
   ],
   "source": [
    "geral2_media.to_excel('C:\\\\Users\\\\Bruno\\\\OneDrive\\\\Área de Trabalho\\\\Microdados\\\\Datas\\\\Material apresentação\\\\Media_Lingua.xlsx', index=False)"
   ]
  },
  {
   "cell_type": "markdown",
   "metadata": {},
   "source": [
    "## 3) Por tipo de escola."
   ]
  },
  {
   "cell_type": "code",
   "execution_count": 10,
   "metadata": {},
   "outputs": [],
   "source": [
    "df_enem = df[['NU_INSCRICAO','NU_ANO','TP_ESCOLA', 'ABS_ALL','MEDIA_GLOBAL','MEDIA_OBJ']]"
   ]
  },
  {
   "cell_type": "markdown",
   "metadata": {},
   "source": [
    "#### Quantidade por tipo de escola por ano."
   ]
  },
  {
   "cell_type": "code",
   "execution_count": 36,
   "metadata": {},
   "outputs": [],
   "source": [
    "geral3 = df_enem.groupby(['NU_ANO', 'TP_ESCOLA'])['NU_INSCRICAO'].count().reset_index()\n",
    "geral3 = geral3.pivot(index='NU_ANO', columns='TP_ESCOLA', values='NU_INSCRICAO').reset_index()\n",
    "if 'QTD_EXTERIOR' not in geral3.columns:\n",
    "    # Se não estiver presente, criar a coluna com valores zero\n",
    "    geral3['QTD_EXTERIOR'] = 0\n",
    "geral3.columns = ['NU_ANO', 'QTD_NAO_RESP','QTD_PUBLICA','QTD_PRIVADA','QTD_EXTERIOR']\n",
    "geral3 = geral3.fillna(0).astype(int) # Possui dados faltantes e possui a falta da variável 'QTD_EXTERIOR' em alguns anos.\n",
    "nome_df = f'geral{ano_enem}3'\n",
    "globals()[nome_df] = geral3"
   ]
  },
  {
   "cell_type": "code",
   "execution_count": 34,
   "metadata": {},
   "outputs": [
    {
     "data": {
      "text/html": [
       "<div>\n",
       "<style scoped>\n",
       "    .dataframe tbody tr th:only-of-type {\n",
       "        vertical-align: middle;\n",
       "    }\n",
       "\n",
       "    .dataframe tbody tr th {\n",
       "        vertical-align: top;\n",
       "    }\n",
       "\n",
       "    .dataframe thead th {\n",
       "        text-align: right;\n",
       "    }\n",
       "</style>\n",
       "<table border=\"1\" class=\"dataframe\">\n",
       "  <thead>\n",
       "    <tr style=\"text-align: right;\">\n",
       "      <th></th>\n",
       "      <th>NU_ANO</th>\n",
       "      <th>QTD_NAO_RESP</th>\n",
       "      <th>QTD_PUBLICA</th>\n",
       "      <th>QTD_PRIVADA</th>\n",
       "      <th>QTD_EXTERIOR</th>\n",
       "    </tr>\n",
       "  </thead>\n",
       "  <tbody>\n",
       "    <tr>\n",
       "      <th>0</th>\n",
       "      <td>2021</td>\n",
       "      <td>1801787</td>\n",
       "      <td>958611</td>\n",
       "      <td>192244</td>\n",
       "      <td>0</td>\n",
       "    </tr>\n",
       "  </tbody>\n",
       "</table>\n",
       "</div>"
      ],
      "text/plain": [
       "   NU_ANO  QTD_NAO_RESP  QTD_PUBLICA  QTD_PRIVADA  QTD_EXTERIOR\n",
       "0    2021       1801787       958611       192244             0"
      ]
     },
     "execution_count": 34,
     "metadata": {},
     "output_type": "execute_result"
    }
   ],
   "source": [
    "geral20213.head()"
   ]
  },
  {
   "cell_type": "code",
   "execution_count": 37,
   "metadata": {},
   "outputs": [
    {
     "data": {
      "text/html": [
       "<div>\n",
       "<style scoped>\n",
       "    .dataframe tbody tr th:only-of-type {\n",
       "        vertical-align: middle;\n",
       "    }\n",
       "\n",
       "    .dataframe tbody tr th {\n",
       "        vertical-align: top;\n",
       "    }\n",
       "\n",
       "    .dataframe thead th {\n",
       "        text-align: right;\n",
       "    }\n",
       "</style>\n",
       "<table border=\"1\" class=\"dataframe\">\n",
       "  <thead>\n",
       "    <tr style=\"text-align: right;\">\n",
       "      <th></th>\n",
       "      <th>NU_ANO</th>\n",
       "      <th>QTD_NAO_RESP</th>\n",
       "      <th>QTD_PUBLICA</th>\n",
       "      <th>QTD_PRIVADA</th>\n",
       "      <th>QTD_EXTERIOR</th>\n",
       "    </tr>\n",
       "  </thead>\n",
       "  <tbody>\n",
       "    <tr>\n",
       "      <th>0</th>\n",
       "      <td>2022</td>\n",
       "      <td>1645813</td>\n",
       "      <td>1105355</td>\n",
       "      <td>212205</td>\n",
       "      <td>0</td>\n",
       "    </tr>\n",
       "  </tbody>\n",
       "</table>\n",
       "</div>"
      ],
      "text/plain": [
       "   NU_ANO  QTD_NAO_RESP  QTD_PUBLICA  QTD_PRIVADA  QTD_EXTERIOR\n",
       "0    2022       1645813      1105355       212205             0"
      ]
     },
     "execution_count": 37,
     "metadata": {},
     "output_type": "execute_result"
    }
   ],
   "source": [
    "geral20223.head()"
   ]
  },
  {
   "cell_type": "code",
   "execution_count": 38,
   "metadata": {},
   "outputs": [
    {
     "data": {
      "text/html": [
       "<div>\n",
       "<style scoped>\n",
       "    .dataframe tbody tr th:only-of-type {\n",
       "        vertical-align: middle;\n",
       "    }\n",
       "\n",
       "    .dataframe tbody tr th {\n",
       "        vertical-align: top;\n",
       "    }\n",
       "\n",
       "    .dataframe thead th {\n",
       "        text-align: right;\n",
       "    }\n",
       "</style>\n",
       "<table border=\"1\" class=\"dataframe\">\n",
       "  <thead>\n",
       "    <tr style=\"text-align: right;\">\n",
       "      <th></th>\n",
       "      <th>NU_ANO</th>\n",
       "      <th>QTD_NAO_RESP</th>\n",
       "      <th>QTD_PUBLICA</th>\n",
       "      <th>QTD_PRIVADA</th>\n",
       "      <th>QTD_EXTERIOR</th>\n",
       "    </tr>\n",
       "  </thead>\n",
       "  <tbody>\n",
       "    <tr>\n",
       "      <th>0</th>\n",
       "      <td>2021</td>\n",
       "      <td>1801787</td>\n",
       "      <td>958611</td>\n",
       "      <td>192244</td>\n",
       "      <td>0</td>\n",
       "    </tr>\n",
       "    <tr>\n",
       "      <th>0</th>\n",
       "      <td>2022</td>\n",
       "      <td>1645813</td>\n",
       "      <td>1105355</td>\n",
       "      <td>212205</td>\n",
       "      <td>0</td>\n",
       "    </tr>\n",
       "  </tbody>\n",
       "</table>\n",
       "</div>"
      ],
      "text/plain": [
       "   NU_ANO  QTD_NAO_RESP  QTD_PUBLICA  QTD_PRIVADA  QTD_EXTERIOR\n",
       "0    2021       1801787       958611       192244             0\n",
       "0    2022       1645813      1105355       212205             0"
      ]
     },
     "execution_count": 38,
     "metadata": {},
     "output_type": "execute_result"
    }
   ],
   "source": [
    "geral3 = pd.concat([geral20213,geral20223])\n",
    "geral3.head()"
   ]
  },
  {
   "cell_type": "markdown",
   "metadata": {},
   "source": [
    "#### Salvar"
   ]
  },
  {
   "cell_type": "code",
   "execution_count": 40,
   "metadata": {},
   "outputs": [],
   "source": [
    "geral3.to_excel('C:\\\\Users\\\\Bruno\\\\OneDrive\\\\Área de Trabalho\\\\Microdados\\\\Datas\\\\Material apresentação\\\\Inscritos_Escola_ano.xlsx', index=False)"
   ]
  },
  {
   "cell_type": "markdown",
   "metadata": {},
   "source": [
    "#### Absoluto|Proporção por ano. Foi retirado o item \"Não respondida\" pois faz muita\n",
    "#### parte da população mas não acrescenta informação (Ver com Lucas)"
   ]
  },
  {
   "cell_type": "code",
   "execution_count": 41,
   "metadata": {},
   "outputs": [
    {
     "data": {
      "text/html": [
       "<div>\n",
       "<style scoped>\n",
       "    .dataframe tbody tr th:only-of-type {\n",
       "        vertical-align: middle;\n",
       "    }\n",
       "\n",
       "    .dataframe tbody tr th {\n",
       "        vertical-align: top;\n",
       "    }\n",
       "\n",
       "    .dataframe thead th {\n",
       "        text-align: right;\n",
       "    }\n",
       "</style>\n",
       "<table border=\"1\" class=\"dataframe\">\n",
       "  <thead>\n",
       "    <tr style=\"text-align: right;\">\n",
       "      <th></th>\n",
       "      <th>QTD_PUBLICA</th>\n",
       "      <th>QTD_PRIVADA</th>\n",
       "      <th>QTD_EXTERIOR</th>\n",
       "    </tr>\n",
       "  </thead>\n",
       "  <tbody>\n",
       "    <tr>\n",
       "      <th>0</th>\n",
       "      <td>958611</td>\n",
       "      <td>192244</td>\n",
       "      <td>0</td>\n",
       "    </tr>\n",
       "    <tr>\n",
       "      <th>0</th>\n",
       "      <td>1105355</td>\n",
       "      <td>212205</td>\n",
       "      <td>0</td>\n",
       "    </tr>\n",
       "  </tbody>\n",
       "</table>\n",
       "</div>"
      ],
      "text/plain": [
       "   QTD_PUBLICA  QTD_PRIVADA  QTD_EXTERIOR\n",
       "0       958611       192244             0\n",
       "0      1105355       212205             0"
      ]
     },
     "execution_count": 41,
     "metadata": {},
     "output_type": "execute_result"
    }
   ],
   "source": [
    "geral3_pct = geral3[['QTD_PUBLICA','QTD_PRIVADA','QTD_EXTERIOR']]\n",
    "geral3_pct.head()"
   ]
  },
  {
   "cell_type": "code",
   "execution_count": 42,
   "metadata": {},
   "outputs": [
    {
     "data": {
      "text/html": [
       "<div>\n",
       "<style scoped>\n",
       "    .dataframe tbody tr th:only-of-type {\n",
       "        vertical-align: middle;\n",
       "    }\n",
       "\n",
       "    .dataframe tbody tr th {\n",
       "        vertical-align: top;\n",
       "    }\n",
       "\n",
       "    .dataframe thead th {\n",
       "        text-align: right;\n",
       "    }\n",
       "</style>\n",
       "<table border=\"1\" class=\"dataframe\">\n",
       "  <thead>\n",
       "    <tr style=\"text-align: right;\">\n",
       "      <th></th>\n",
       "      <th>NU_ANO</th>\n",
       "      <th>QTD_PUBLICA</th>\n",
       "      <th>QTD_PRIVADA</th>\n",
       "      <th>QTD_EXTERIOR</th>\n",
       "      <th>QTD_PUBLICA_%</th>\n",
       "      <th>QTD_PRIVADA_%</th>\n",
       "      <th>QTD_EXTERIOR_%</th>\n",
       "    </tr>\n",
       "  </thead>\n",
       "  <tbody>\n",
       "    <tr>\n",
       "      <th>0</th>\n",
       "      <td>2021</td>\n",
       "      <td>958611</td>\n",
       "      <td>192244</td>\n",
       "      <td>0</td>\n",
       "      <td>83.30</td>\n",
       "      <td>16.70</td>\n",
       "      <td>0.0</td>\n",
       "    </tr>\n",
       "    <tr>\n",
       "      <th>1</th>\n",
       "      <td>2022</td>\n",
       "      <td>1105355</td>\n",
       "      <td>212205</td>\n",
       "      <td>0</td>\n",
       "      <td>83.89</td>\n",
       "      <td>16.11</td>\n",
       "      <td>0.0</td>\n",
       "    </tr>\n",
       "  </tbody>\n",
       "</table>\n",
       "</div>"
      ],
      "text/plain": [
       "   NU_ANO  QTD_PUBLICA  QTD_PRIVADA  QTD_EXTERIOR  QTD_PUBLICA_%  \\\n",
       "0    2021       958611       192244             0          83.30   \n",
       "1    2022      1105355       212205             0          83.89   \n",
       "\n",
       "   QTD_PRIVADA_%  QTD_EXTERIOR_%  \n",
       "0          16.70             0.0  \n",
       "1          16.11             0.0  "
      ]
     },
     "execution_count": 42,
     "metadata": {},
     "output_type": "execute_result"
    }
   ],
   "source": [
    "soma_total = geral3_pct.sum(axis=1)\n",
    "\n",
    "# Iterar sobre as colunas e criar as colunas percentuais automaticamente\n",
    "for coluna in geral3_pct.columns:\n",
    "    if coluna.startswith('QTD_'):  # Certifica-se de que estamos lidando apenas com as colunas relevantes\n",
    "        coluna_percentual = coluna + '_%'\n",
    "        proporcao_coluna = geral3_pct[coluna] / soma_total\n",
    "        geral3_pct[coluna_percentual] = (proporcao_coluna * 100).round(2)\n",
    "\n",
    "\n",
    "geral3 = geral3.merge(geral3_pct, on=['QTD_PUBLICA', 'QTD_PRIVADA','QTD_EXTERIOR'], how='outer')\n",
    "geral3 = geral3.drop('QTD_NAO_RESP', axis=1)\n",
    "geral3.head()"
   ]
  },
  {
   "cell_type": "markdown",
   "metadata": {},
   "source": [
    "#### Salvar"
   ]
  },
  {
   "cell_type": "code",
   "execution_count": null,
   "metadata": {},
   "outputs": [],
   "source": [
    "geral3.to_excel('C:\\\\Users\\\\Bruno\\\\OneDrive\\\\Área de Trabalho\\\\Microdados\\\\Datas\\\\Material apresentação\\\\Absoluto_Proporcional_Escola_ano.xlsx', index=False)"
   ]
  },
  {
   "cell_type": "markdown",
   "metadata": {},
   "source": [
    "#### Absoluto|Proporção Total."
   ]
  },
  {
   "cell_type": "code",
   "execution_count": 47,
   "metadata": {},
   "outputs": [
    {
     "data": {
      "text/html": [
       "<div>\n",
       "<style scoped>\n",
       "    .dataframe tbody tr th:only-of-type {\n",
       "        vertical-align: middle;\n",
       "    }\n",
       "\n",
       "    .dataframe tbody tr th {\n",
       "        vertical-align: top;\n",
       "    }\n",
       "\n",
       "    .dataframe thead th {\n",
       "        text-align: right;\n",
       "    }\n",
       "</style>\n",
       "<table border=\"1\" class=\"dataframe\">\n",
       "  <thead>\n",
       "    <tr style=\"text-align: right;\">\n",
       "      <th></th>\n",
       "      <th>TP_ESCOLA</th>\n",
       "      <th>CONTAGEM</th>\n",
       "      <th>PROPORCAO</th>\n",
       "    </tr>\n",
       "  </thead>\n",
       "  <tbody>\n",
       "    <tr>\n",
       "      <th>0</th>\n",
       "      <td>Não respondeu</td>\n",
       "      <td>1645813</td>\n",
       "      <td>55.54</td>\n",
       "    </tr>\n",
       "    <tr>\n",
       "      <th>1</th>\n",
       "      <td>Escola Pública</td>\n",
       "      <td>1105355</td>\n",
       "      <td>37.30</td>\n",
       "    </tr>\n",
       "    <tr>\n",
       "      <th>2</th>\n",
       "      <td>Escola Privada</td>\n",
       "      <td>212205</td>\n",
       "      <td>7.16</td>\n",
       "    </tr>\n",
       "  </tbody>\n",
       "</table>\n",
       "</div>"
      ],
      "text/plain": [
       "        TP_ESCOLA  CONTAGEM  PROPORCAO\n",
       "0   Não respondeu   1645813      55.54\n",
       "1  Escola Pública   1105355      37.30\n",
       "2  Escola Privada    212205       7.16"
      ]
     },
     "execution_count": 47,
     "metadata": {},
     "output_type": "execute_result"
    }
   ],
   "source": [
    "geral3_prop = df_enem['TP_ESCOLA'].value_counts().sort_index()\n",
    "\n",
    "geral3_prop = pd.DataFrame({'TP_ESCOLA': geral3_prop.index, 'CONTAGEM': geral3_prop.values})\n",
    "geral3_prop['PROPORCAO'] = ((geral3_prop['CONTAGEM'] / geral3_prop['CONTAGEM'].sum())*100).round(2)\n",
    "geral3_prop['TP_ESCOLA'] = geral3_prop['TP_ESCOLA'].map({1: 'Não respondeu', 2: 'Escola Pública',3: 'Escola Privada',4: 'Exterior'})\n",
    "geral3_prop.head()"
   ]
  },
  {
   "cell_type": "markdown",
   "metadata": {},
   "source": [
    "#### Salvar"
   ]
  },
  {
   "cell_type": "code",
   "execution_count": 52,
   "metadata": {},
   "outputs": [],
   "source": [
    "geral3_prop.to_excel('C:\\\\Users\\\\Bruno\\\\OneDrive\\\\Área de Trabalho\\\\Microdados\\\\Datas\\\\Material apresentação\\\\Absoluto_proporcional_Escola.xlsx', index=False)"
   ]
  },
  {
   "cell_type": "markdown",
   "metadata": {},
   "source": [
    "#### Absoluto|Proporção Total sem os \"Não respondeu\"."
   ]
  },
  {
   "cell_type": "code",
   "execution_count": 48,
   "metadata": {},
   "outputs": [
    {
     "data": {
      "text/html": [
       "<div>\n",
       "<style scoped>\n",
       "    .dataframe tbody tr th:only-of-type {\n",
       "        vertical-align: middle;\n",
       "    }\n",
       "\n",
       "    .dataframe tbody tr th {\n",
       "        vertical-align: top;\n",
       "    }\n",
       "\n",
       "    .dataframe thead th {\n",
       "        text-align: right;\n",
       "    }\n",
       "</style>\n",
       "<table border=\"1\" class=\"dataframe\">\n",
       "  <thead>\n",
       "    <tr style=\"text-align: right;\">\n",
       "      <th></th>\n",
       "      <th>TP_ESCOLA</th>\n",
       "      <th>CONTAGEM</th>\n",
       "      <th>PROPORCAO</th>\n",
       "    </tr>\n",
       "  </thead>\n",
       "  <tbody>\n",
       "    <tr>\n",
       "      <th>0</th>\n",
       "      <td>Escola Pública</td>\n",
       "      <td>1105355</td>\n",
       "      <td>83.89</td>\n",
       "    </tr>\n",
       "    <tr>\n",
       "      <th>1</th>\n",
       "      <td>Escola Privada</td>\n",
       "      <td>212205</td>\n",
       "      <td>16.11</td>\n",
       "    </tr>\n",
       "  </tbody>\n",
       "</table>\n",
       "</div>"
      ],
      "text/plain": [
       "        TP_ESCOLA  CONTAGEM  PROPORCAO\n",
       "0  Escola Pública   1105355      83.89\n",
       "1  Escola Privada    212205      16.11"
      ]
     },
     "execution_count": 48,
     "metadata": {},
     "output_type": "execute_result"
    }
   ],
   "source": [
    "df_filtrado = df_enem[df_enem['TP_ESCOLA'] != 1]\n",
    "geral3_prop = df_filtrado['TP_ESCOLA'].value_counts().sort_index()\n",
    "geral3_prop = pd.DataFrame({'TP_ESCOLA': geral3_prop.index, 'CONTAGEM': geral3_prop.values})\n",
    "geral3_prop['PROPORCAO'] = ((geral3_prop['CONTAGEM'] / geral3_prop['CONTAGEM'].sum()) * 100).round(2)\n",
    "\n",
    "geral3_prop['TP_ESCOLA'] = geral3_prop['TP_ESCOLA'].map({2: 'Escola Pública', 3: 'Escola Privada', 4: 'Exterior'})\n",
    "geral3_prop.head()"
   ]
  },
  {
   "cell_type": "markdown",
   "metadata": {},
   "source": [
    "#### Salvar"
   ]
  },
  {
   "cell_type": "code",
   "execution_count": 53,
   "metadata": {},
   "outputs": [],
   "source": [
    "geral3_prop.to_excel('C:\\\\Users\\\\Bruno\\\\OneDrive\\\\Área de Trabalho\\\\Microdados\\\\Datas\\\\Material apresentação\\\\Absoluto_proporcional_Escola1.xlsx', index=False)"
   ]
  },
  {
   "cell_type": "markdown",
   "metadata": {},
   "source": [
    "#### Abstenção por tipo de escola."
   ]
  },
  {
   "cell_type": "code",
   "execution_count": 49,
   "metadata": {},
   "outputs": [
    {
     "data": {
      "text/html": [
       "<div>\n",
       "<style scoped>\n",
       "    .dataframe tbody tr th:only-of-type {\n",
       "        vertical-align: middle;\n",
       "    }\n",
       "\n",
       "    .dataframe tbody tr th {\n",
       "        vertical-align: top;\n",
       "    }\n",
       "\n",
       "    .dataframe thead th {\n",
       "        text-align: right;\n",
       "    }\n",
       "</style>\n",
       "<table border=\"1\" class=\"dataframe\">\n",
       "  <thead>\n",
       "    <tr style=\"text-align: right;\">\n",
       "      <th></th>\n",
       "      <th>TP_ESCOLA</th>\n",
       "      <th>ABS_ALL</th>\n",
       "      <th>ABS_ALL_%</th>\n",
       "    </tr>\n",
       "  </thead>\n",
       "  <tbody>\n",
       "    <tr>\n",
       "      <th>0</th>\n",
       "      <td>Não respondeu</td>\n",
       "      <td>611626</td>\n",
       "      <td>66.94</td>\n",
       "    </tr>\n",
       "    <tr>\n",
       "      <th>1</th>\n",
       "      <td>Escola Pública</td>\n",
       "      <td>291102</td>\n",
       "      <td>31.86</td>\n",
       "    </tr>\n",
       "    <tr>\n",
       "      <th>2</th>\n",
       "      <td>Escola Privada</td>\n",
       "      <td>10985</td>\n",
       "      <td>1.20</td>\n",
       "    </tr>\n",
       "  </tbody>\n",
       "</table>\n",
       "</div>"
      ],
      "text/plain": [
       "        TP_ESCOLA  ABS_ALL  ABS_ALL_%\n",
       "0   Não respondeu   611626      66.94\n",
       "1  Escola Pública   291102      31.86\n",
       "2  Escola Privada    10985       1.20"
      ]
     },
     "execution_count": 49,
     "metadata": {},
     "output_type": "execute_result"
    }
   ],
   "source": [
    "geral3_ABS = df_enem.groupby(['TP_ESCOLA'])['ABS_ALL'].sum().reset_index()\n",
    "geral3_ABS['ABS_ALL_%'] = ((geral3_ABS['ABS_ALL'] / geral3_ABS['ABS_ALL'].sum())*100).round(2)\n",
    "geral3_ABS['TP_ESCOLA'] = geral3_ABS['TP_ESCOLA'].map({1: 'Não respondeu', 2: 'Escola Pública', 3: 'Escola Privada', 4: 'Exterior'})\n",
    "geral3_ABS.head()"
   ]
  },
  {
   "cell_type": "markdown",
   "metadata": {},
   "source": [
    "#### Salvar"
   ]
  },
  {
   "cell_type": "code",
   "execution_count": 54,
   "metadata": {},
   "outputs": [],
   "source": [
    "geral3_ABS.to_excel('C:\\\\Users\\\\Bruno\\\\OneDrive\\\\Área de Trabalho\\\\Microdados\\\\Datas\\\\Material apresentação\\\\Abstenções_Escola.xlsx', index=False)"
   ]
  },
  {
   "cell_type": "markdown",
   "metadata": {},
   "source": [
    "#### Abstenção por tipo de escola sem os \"Não respondeu\""
   ]
  },
  {
   "cell_type": "code",
   "execution_count": 50,
   "metadata": {},
   "outputs": [
    {
     "data": {
      "text/html": [
       "<div>\n",
       "<style scoped>\n",
       "    .dataframe tbody tr th:only-of-type {\n",
       "        vertical-align: middle;\n",
       "    }\n",
       "\n",
       "    .dataframe tbody tr th {\n",
       "        vertical-align: top;\n",
       "    }\n",
       "\n",
       "    .dataframe thead th {\n",
       "        text-align: right;\n",
       "    }\n",
       "</style>\n",
       "<table border=\"1\" class=\"dataframe\">\n",
       "  <thead>\n",
       "    <tr style=\"text-align: right;\">\n",
       "      <th></th>\n",
       "      <th>TP_ESCOLA</th>\n",
       "      <th>ABS_ALL</th>\n",
       "      <th>ABS_ALL_%</th>\n",
       "    </tr>\n",
       "  </thead>\n",
       "  <tbody>\n",
       "    <tr>\n",
       "      <th>0</th>\n",
       "      <td>Escola Pública</td>\n",
       "      <td>291102</td>\n",
       "      <td>96.36</td>\n",
       "    </tr>\n",
       "    <tr>\n",
       "      <th>1</th>\n",
       "      <td>Escola Privada</td>\n",
       "      <td>10985</td>\n",
       "      <td>3.64</td>\n",
       "    </tr>\n",
       "  </tbody>\n",
       "</table>\n",
       "</div>"
      ],
      "text/plain": [
       "        TP_ESCOLA  ABS_ALL  ABS_ALL_%\n",
       "0  Escola Pública   291102      96.36\n",
       "1  Escola Privada    10985       3.64"
      ]
     },
     "execution_count": 50,
     "metadata": {},
     "output_type": "execute_result"
    }
   ],
   "source": [
    "df_filtrado = df_enem[df_enem['TP_ESCOLA'] != 1]\n",
    "geral3_ABS = df_filtrado.groupby(['TP_ESCOLA'])['ABS_ALL'].sum().reset_index()\n",
    "geral3_ABS['ABS_ALL_%'] = ((geral3_ABS['ABS_ALL'] / geral3_ABS['ABS_ALL'].sum()) * 100).round(2)\n",
    "geral3_ABS['TP_ESCOLA'] = geral3_ABS['TP_ESCOLA'].map({2: 'Escola Pública', 3: 'Escola Privada', 4: 'Exterior'})\n",
    "geral3_ABS.head()"
   ]
  },
  {
   "cell_type": "markdown",
   "metadata": {},
   "source": [
    "#### Salvar"
   ]
  },
  {
   "cell_type": "code",
   "execution_count": 55,
   "metadata": {},
   "outputs": [],
   "source": [
    "geral3_ABS.to_excel('C:\\\\Users\\\\Bruno\\\\OneDrive\\\\Área de Trabalho\\\\Microdados\\\\Datas\\\\Material apresentação\\\\Abstenções_Escola1.xlsx', index=False)"
   ]
  },
  {
   "cell_type": "markdown",
   "metadata": {},
   "source": [
    "#### Média por tipo de escola por ano."
   ]
  },
  {
   "cell_type": "code",
   "execution_count": 12,
   "metadata": {},
   "outputs": [],
   "source": [
    "geral3_media_ano = df_enem.groupby(['NU_ANO', 'TP_ESCOLA'])[['MEDIA_OBJ', 'MEDIA_GLOBAL']].mean().reset_index().round(2)\n",
    "geral3_media_ano['TP_ESCOLA'] = geral3_media_ano['TP_ESCOLA'].map({1: 'Não respondeu', 2: 'Escola Pública', 3: 'Escola Privada', 4: 'Exterior'})\n",
    "geral3_media_ano = geral3_media_ano.pivot(index='NU_ANO', columns='TP_ESCOLA')\n",
    "geral3_media_ano = geral3_media_ano.reorder_levels([1 , 0], axis=1).sort_index(axis=1, level=0)\n",
    "nome_df = f'geral{ano_enem}3_media_ano'\n",
    "globals()[nome_df] = geral3_media_ano"
   ]
  },
  {
   "cell_type": "code",
   "execution_count": 8,
   "metadata": {},
   "outputs": [
    {
     "data": {
      "text/html": [
       "<div>\n",
       "<style scoped>\n",
       "    .dataframe tbody tr th:only-of-type {\n",
       "        vertical-align: middle;\n",
       "    }\n",
       "\n",
       "    .dataframe tbody tr th {\n",
       "        vertical-align: top;\n",
       "    }\n",
       "\n",
       "    .dataframe thead tr th {\n",
       "        text-align: left;\n",
       "    }\n",
       "\n",
       "    .dataframe thead tr:last-of-type th {\n",
       "        text-align: right;\n",
       "    }\n",
       "</style>\n",
       "<table border=\"1\" class=\"dataframe\">\n",
       "  <thead>\n",
       "    <tr>\n",
       "      <th>TP_ESCOLA</th>\n",
       "      <th colspan=\"2\" halign=\"left\">Escola Privada</th>\n",
       "      <th colspan=\"2\" halign=\"left\">Escola Pública</th>\n",
       "      <th colspan=\"2\" halign=\"left\">Não respondeu</th>\n",
       "    </tr>\n",
       "    <tr>\n",
       "      <th></th>\n",
       "      <th>MEDIA_GLOBAL</th>\n",
       "      <th>MEDIA_OBJ</th>\n",
       "      <th>MEDIA_GLOBAL</th>\n",
       "      <th>MEDIA_OBJ</th>\n",
       "      <th>MEDIA_GLOBAL</th>\n",
       "      <th>MEDIA_OBJ</th>\n",
       "    </tr>\n",
       "    <tr>\n",
       "      <th>NU_ANO</th>\n",
       "      <th></th>\n",
       "      <th></th>\n",
       "      <th></th>\n",
       "      <th></th>\n",
       "      <th></th>\n",
       "      <th></th>\n",
       "    </tr>\n",
       "  </thead>\n",
       "  <tbody>\n",
       "    <tr>\n",
       "      <th>2021</th>\n",
       "      <td>597.11</td>\n",
       "      <td>563.66</td>\n",
       "      <td>504.43</td>\n",
       "      <td>487.78</td>\n",
       "      <td>538.58</td>\n",
       "      <td>517.8</td>\n",
       "    </tr>\n",
       "  </tbody>\n",
       "</table>\n",
       "</div>"
      ],
      "text/plain": [
       "TP_ESCOLA Escola Privada           Escola Pública           Não respondeu  \\\n",
       "            MEDIA_GLOBAL MEDIA_OBJ   MEDIA_GLOBAL MEDIA_OBJ  MEDIA_GLOBAL   \n",
       "NU_ANO                                                                      \n",
       "2021              597.11    563.66         504.43    487.78        538.58   \n",
       "\n",
       "TP_ESCOLA            \n",
       "          MEDIA_OBJ  \n",
       "NU_ANO               \n",
       "2021          517.8  "
      ]
     },
     "execution_count": 8,
     "metadata": {},
     "output_type": "execute_result"
    }
   ],
   "source": [
    "geral20213_media_ano.head()"
   ]
  },
  {
   "cell_type": "code",
   "execution_count": 13,
   "metadata": {},
   "outputs": [
    {
     "data": {
      "text/html": [
       "<div>\n",
       "<style scoped>\n",
       "    .dataframe tbody tr th:only-of-type {\n",
       "        vertical-align: middle;\n",
       "    }\n",
       "\n",
       "    .dataframe tbody tr th {\n",
       "        vertical-align: top;\n",
       "    }\n",
       "\n",
       "    .dataframe thead tr th {\n",
       "        text-align: left;\n",
       "    }\n",
       "\n",
       "    .dataframe thead tr:last-of-type th {\n",
       "        text-align: right;\n",
       "    }\n",
       "</style>\n",
       "<table border=\"1\" class=\"dataframe\">\n",
       "  <thead>\n",
       "    <tr>\n",
       "      <th>TP_ESCOLA</th>\n",
       "      <th colspan=\"2\" halign=\"left\">Escola Privada</th>\n",
       "      <th colspan=\"2\" halign=\"left\">Escola Pública</th>\n",
       "      <th colspan=\"2\" halign=\"left\">Não respondeu</th>\n",
       "    </tr>\n",
       "    <tr>\n",
       "      <th></th>\n",
       "      <th>MEDIA_GLOBAL</th>\n",
       "      <th>MEDIA_OBJ</th>\n",
       "      <th>MEDIA_GLOBAL</th>\n",
       "      <th>MEDIA_OBJ</th>\n",
       "      <th>MEDIA_GLOBAL</th>\n",
       "      <th>MEDIA_OBJ</th>\n",
       "    </tr>\n",
       "    <tr>\n",
       "      <th>NU_ANO</th>\n",
       "      <th></th>\n",
       "      <th></th>\n",
       "      <th></th>\n",
       "      <th></th>\n",
       "      <th></th>\n",
       "      <th></th>\n",
       "    </tr>\n",
       "  </thead>\n",
       "  <tbody>\n",
       "    <tr>\n",
       "      <th>2022</th>\n",
       "      <td>606.71</td>\n",
       "      <td>570.43</td>\n",
       "      <td>513.52</td>\n",
       "      <td>498.63</td>\n",
       "      <td>544.96</td>\n",
       "      <td>526.25</td>\n",
       "    </tr>\n",
       "  </tbody>\n",
       "</table>\n",
       "</div>"
      ],
      "text/plain": [
       "TP_ESCOLA Escola Privada           Escola Pública           Não respondeu  \\\n",
       "            MEDIA_GLOBAL MEDIA_OBJ   MEDIA_GLOBAL MEDIA_OBJ  MEDIA_GLOBAL   \n",
       "NU_ANO                                                                      \n",
       "2022              606.71    570.43         513.52    498.63        544.96   \n",
       "\n",
       "TP_ESCOLA            \n",
       "          MEDIA_OBJ  \n",
       "NU_ANO               \n",
       "2022         526.25  "
      ]
     },
     "execution_count": 13,
     "metadata": {},
     "output_type": "execute_result"
    }
   ],
   "source": [
    "geral20223_media_ano.head()"
   ]
  },
  {
   "cell_type": "code",
   "execution_count": 29,
   "metadata": {},
   "outputs": [
    {
     "data": {
      "text/html": [
       "<div>\n",
       "<style scoped>\n",
       "    .dataframe tbody tr th:only-of-type {\n",
       "        vertical-align: middle;\n",
       "    }\n",
       "\n",
       "    .dataframe tbody tr th {\n",
       "        vertical-align: top;\n",
       "    }\n",
       "\n",
       "    .dataframe thead tr th {\n",
       "        text-align: left;\n",
       "    }\n",
       "\n",
       "    .dataframe thead tr:last-of-type th {\n",
       "        text-align: right;\n",
       "    }\n",
       "</style>\n",
       "<table border=\"1\" class=\"dataframe\">\n",
       "  <thead>\n",
       "    <tr>\n",
       "      <th>TP_ESCOLA</th>\n",
       "      <th colspan=\"2\" halign=\"left\">Escola Privada</th>\n",
       "      <th colspan=\"2\" halign=\"left\">Escola Pública</th>\n",
       "      <th colspan=\"2\" halign=\"left\">Não respondeu</th>\n",
       "    </tr>\n",
       "    <tr>\n",
       "      <th></th>\n",
       "      <th>MEDIA_GLOBAL</th>\n",
       "      <th>MEDIA_OBJ</th>\n",
       "      <th>MEDIA_GLOBAL</th>\n",
       "      <th>MEDIA_OBJ</th>\n",
       "      <th>MEDIA_GLOBAL</th>\n",
       "      <th>MEDIA_OBJ</th>\n",
       "    </tr>\n",
       "    <tr>\n",
       "      <th>NU_ANO</th>\n",
       "      <th></th>\n",
       "      <th></th>\n",
       "      <th></th>\n",
       "      <th></th>\n",
       "      <th></th>\n",
       "      <th></th>\n",
       "    </tr>\n",
       "  </thead>\n",
       "  <tbody>\n",
       "    <tr>\n",
       "      <th>2021</th>\n",
       "      <td>597.11</td>\n",
       "      <td>563.66</td>\n",
       "      <td>504.43</td>\n",
       "      <td>487.78</td>\n",
       "      <td>538.58</td>\n",
       "      <td>517.80</td>\n",
       "    </tr>\n",
       "    <tr>\n",
       "      <th>2022</th>\n",
       "      <td>606.71</td>\n",
       "      <td>570.43</td>\n",
       "      <td>513.52</td>\n",
       "      <td>498.63</td>\n",
       "      <td>544.96</td>\n",
       "      <td>526.25</td>\n",
       "    </tr>\n",
       "  </tbody>\n",
       "</table>\n",
       "</div>"
      ],
      "text/plain": [
       "TP_ESCOLA Escola Privada           Escola Pública           Não respondeu  \\\n",
       "            MEDIA_GLOBAL MEDIA_OBJ   MEDIA_GLOBAL MEDIA_OBJ  MEDIA_GLOBAL   \n",
       "NU_ANO                                                                      \n",
       "2021              597.11    563.66         504.43    487.78        538.58   \n",
       "2022              606.71    570.43         513.52    498.63        544.96   \n",
       "\n",
       "TP_ESCOLA            \n",
       "          MEDIA_OBJ  \n",
       "NU_ANO               \n",
       "2021         517.80  \n",
       "2022         526.25  "
      ]
     },
     "execution_count": 29,
     "metadata": {},
     "output_type": "execute_result"
    }
   ],
   "source": [
    "geral3_media_ano = pd.concat([geral20213_media_ano,geral20223_media_ano])\n",
    "geral3_media_ano.head()"
   ]
  },
  {
   "cell_type": "markdown",
   "metadata": {},
   "source": [
    "#### Salvar, tive que colocar True pois havia problea com multindex que ainda não sei resolver."
   ]
  },
  {
   "cell_type": "code",
   "execution_count": 30,
   "metadata": {},
   "outputs": [],
   "source": [
    "geral3_media_ano.to_excel('C:\\\\Users\\\\Bruno\\\\OneDrive\\\\Área de Trabalho\\\\Microdados\\\\Datas\\\\Material apresentação\\\\Media_Escola_ano.xlsx', index=True)"
   ]
  },
  {
   "cell_type": "markdown",
   "metadata": {},
   "source": [
    "#### Média por tipo de escola."
   ]
  },
  {
   "cell_type": "code",
   "execution_count": 51,
   "metadata": {},
   "outputs": [
    {
     "data": {
      "text/html": [
       "<div>\n",
       "<style scoped>\n",
       "    .dataframe tbody tr th:only-of-type {\n",
       "        vertical-align: middle;\n",
       "    }\n",
       "\n",
       "    .dataframe tbody tr th {\n",
       "        vertical-align: top;\n",
       "    }\n",
       "\n",
       "    .dataframe thead th {\n",
       "        text-align: right;\n",
       "    }\n",
       "</style>\n",
       "<table border=\"1\" class=\"dataframe\">\n",
       "  <thead>\n",
       "    <tr style=\"text-align: right;\">\n",
       "      <th></th>\n",
       "      <th>TP_ESCOLA</th>\n",
       "      <th>MEDIA_OBJ</th>\n",
       "      <th>MEDIA_GLOBAL</th>\n",
       "    </tr>\n",
       "  </thead>\n",
       "  <tbody>\n",
       "    <tr>\n",
       "      <th>0</th>\n",
       "      <td>Não respondeu</td>\n",
       "      <td>526.25</td>\n",
       "      <td>544.96</td>\n",
       "    </tr>\n",
       "    <tr>\n",
       "      <th>1</th>\n",
       "      <td>Escola Pública</td>\n",
       "      <td>498.63</td>\n",
       "      <td>513.52</td>\n",
       "    </tr>\n",
       "    <tr>\n",
       "      <th>2</th>\n",
       "      <td>Escola Privada</td>\n",
       "      <td>570.43</td>\n",
       "      <td>606.71</td>\n",
       "    </tr>\n",
       "  </tbody>\n",
       "</table>\n",
       "</div>"
      ],
      "text/plain": [
       "        TP_ESCOLA  MEDIA_OBJ  MEDIA_GLOBAL\n",
       "0   Não respondeu     526.25        544.96\n",
       "1  Escola Pública     498.63        513.52\n",
       "2  Escola Privada     570.43        606.71"
      ]
     },
     "execution_count": 51,
     "metadata": {},
     "output_type": "execute_result"
    }
   ],
   "source": [
    "geral3_media = df_enem.groupby('TP_ESCOLA')[['MEDIA_OBJ', 'MEDIA_GLOBAL']].mean().reset_index().round(2)\n",
    "geral3_media['TP_ESCOLA'] = geral3_media['TP_ESCOLA'].map({1: 'Não respondeu', 2: 'Escola Pública', 3: 'Escola Privada', 4: 'Exterior'})\n",
    "geral3_media.head()"
   ]
  },
  {
   "cell_type": "markdown",
   "metadata": {},
   "source": [
    "#### Salvar"
   ]
  },
  {
   "cell_type": "code",
   "execution_count": 56,
   "metadata": {},
   "outputs": [],
   "source": [
    "geral3_media.to_excel('C:\\\\Users\\\\Bruno\\\\OneDrive\\\\Área de Trabalho\\\\Microdados\\\\Datas\\\\Material apresentação\\\\Media_Escola.xlsx', index=False)"
   ]
  },
  {
   "cell_type": "markdown",
   "metadata": {},
   "source": [
    "## 4) Gênero."
   ]
  },
  {
   "cell_type": "code",
   "execution_count": 49,
   "metadata": {},
   "outputs": [],
   "source": [
    "df_enem = df[['NU_INSCRICAO','NU_ANO','TP_SEXO','ABS_ALL','MEDIA_GLOBAL','MEDIA_OBJ']]"
   ]
  },
  {
   "cell_type": "markdown",
   "metadata": {},
   "source": [
    "#### Quantidade."
   ]
  },
  {
   "cell_type": "code",
   "execution_count": 38,
   "metadata": {},
   "outputs": [],
   "source": [
    "geral4 = df_enem.groupby(['NU_ANO', 'TP_SEXO'])['NU_INSCRICAO'].count().reset_index()\n",
    "geral4 = geral4.pivot(index='NU_ANO', columns='TP_SEXO', values='NU_INSCRICAO').reset_index()\n",
    "geral4.columns = ['NU_ANO', 'QTD_FEM','QTD_MASC']\n",
    "nome_df = f'geral{ano_enem}4'\n",
    "globals()[nome_df] = geral4"
   ]
  },
  {
   "cell_type": "code",
   "execution_count": 39,
   "metadata": {},
   "outputs": [
    {
     "data": {
      "text/html": [
       "<div>\n",
       "<style scoped>\n",
       "    .dataframe tbody tr th:only-of-type {\n",
       "        vertical-align: middle;\n",
       "    }\n",
       "\n",
       "    .dataframe tbody tr th {\n",
       "        vertical-align: top;\n",
       "    }\n",
       "\n",
       "    .dataframe thead th {\n",
       "        text-align: right;\n",
       "    }\n",
       "</style>\n",
       "<table border=\"1\" class=\"dataframe\">\n",
       "  <thead>\n",
       "    <tr style=\"text-align: right;\">\n",
       "      <th></th>\n",
       "      <th>NU_ANO</th>\n",
       "      <th>QTD_FEM</th>\n",
       "      <th>QTD_MASC</th>\n",
       "    </tr>\n",
       "  </thead>\n",
       "  <tbody>\n",
       "    <tr>\n",
       "      <th>0</th>\n",
       "      <td>2021</td>\n",
       "      <td>1801670</td>\n",
       "      <td>1150972</td>\n",
       "    </tr>\n",
       "  </tbody>\n",
       "</table>\n",
       "</div>"
      ],
      "text/plain": [
       "   NU_ANO  QTD_FEM  QTD_MASC\n",
       "0    2021  1801670   1150972"
      ]
     },
     "execution_count": 39,
     "metadata": {},
     "output_type": "execute_result"
    }
   ],
   "source": [
    "geral20214.head()"
   ]
  },
  {
   "cell_type": "code",
   "execution_count": 35,
   "metadata": {},
   "outputs": [
    {
     "data": {
      "text/html": [
       "<div>\n",
       "<style scoped>\n",
       "    .dataframe tbody tr th:only-of-type {\n",
       "        vertical-align: middle;\n",
       "    }\n",
       "\n",
       "    .dataframe tbody tr th {\n",
       "        vertical-align: top;\n",
       "    }\n",
       "\n",
       "    .dataframe thead th {\n",
       "        text-align: right;\n",
       "    }\n",
       "</style>\n",
       "<table border=\"1\" class=\"dataframe\">\n",
       "  <thead>\n",
       "    <tr style=\"text-align: right;\">\n",
       "      <th></th>\n",
       "      <th>NU_ANO</th>\n",
       "      <th>QTD_FEM</th>\n",
       "      <th>QTD_MASC</th>\n",
       "    </tr>\n",
       "  </thead>\n",
       "  <tbody>\n",
       "    <tr>\n",
       "      <th>0</th>\n",
       "      <td>2022</td>\n",
       "      <td>1786341</td>\n",
       "      <td>1177032</td>\n",
       "    </tr>\n",
       "  </tbody>\n",
       "</table>\n",
       "</div>"
      ],
      "text/plain": [
       "   NU_ANO  QTD_FEM  QTD_MASC\n",
       "0    2022  1786341   1177032"
      ]
     },
     "execution_count": 35,
     "metadata": {},
     "output_type": "execute_result"
    }
   ],
   "source": [
    "geral20224.head()"
   ]
  },
  {
   "cell_type": "code",
   "execution_count": 40,
   "metadata": {},
   "outputs": [
    {
     "data": {
      "text/html": [
       "<div>\n",
       "<style scoped>\n",
       "    .dataframe tbody tr th:only-of-type {\n",
       "        vertical-align: middle;\n",
       "    }\n",
       "\n",
       "    .dataframe tbody tr th {\n",
       "        vertical-align: top;\n",
       "    }\n",
       "\n",
       "    .dataframe thead th {\n",
       "        text-align: right;\n",
       "    }\n",
       "</style>\n",
       "<table border=\"1\" class=\"dataframe\">\n",
       "  <thead>\n",
       "    <tr style=\"text-align: right;\">\n",
       "      <th></th>\n",
       "      <th>NU_ANO</th>\n",
       "      <th>QTD_FEM</th>\n",
       "      <th>QTD_MASC</th>\n",
       "    </tr>\n",
       "  </thead>\n",
       "  <tbody>\n",
       "    <tr>\n",
       "      <th>0</th>\n",
       "      <td>2021</td>\n",
       "      <td>1801670</td>\n",
       "      <td>1150972</td>\n",
       "    </tr>\n",
       "    <tr>\n",
       "      <th>0</th>\n",
       "      <td>2022</td>\n",
       "      <td>1786341</td>\n",
       "      <td>1177032</td>\n",
       "    </tr>\n",
       "  </tbody>\n",
       "</table>\n",
       "</div>"
      ],
      "text/plain": [
       "   NU_ANO  QTD_FEM  QTD_MASC\n",
       "0    2021  1801670   1150972\n",
       "0    2022  1786341   1177032"
      ]
     },
     "execution_count": 40,
     "metadata": {},
     "output_type": "execute_result"
    }
   ],
   "source": [
    "geral4 = pd.concat([geral20214,geral20224])\n",
    "geral4.head()"
   ]
  },
  {
   "cell_type": "markdown",
   "metadata": {},
   "source": [
    "#### Salvar"
   ]
  },
  {
   "cell_type": "code",
   "execution_count": 41,
   "metadata": {},
   "outputs": [],
   "source": [
    "geral4.to_excel('C:\\\\Users\\\\Bruno\\\\OneDrive\\\\Área de Trabalho\\\\Microdados\\\\Datas\\\\Material apresentação\\\\Inscritos_Sexo_ano.xlsx', index=False)"
   ]
  },
  {
   "cell_type": "markdown",
   "metadata": {},
   "source": [
    "#### Absoluto|Proporção por ano por gênero."
   ]
  },
  {
   "cell_type": "code",
   "execution_count": 42,
   "metadata": {},
   "outputs": [
    {
     "data": {
      "text/html": [
       "<div>\n",
       "<style scoped>\n",
       "    .dataframe tbody tr th:only-of-type {\n",
       "        vertical-align: middle;\n",
       "    }\n",
       "\n",
       "    .dataframe tbody tr th {\n",
       "        vertical-align: top;\n",
       "    }\n",
       "\n",
       "    .dataframe thead th {\n",
       "        text-align: right;\n",
       "    }\n",
       "</style>\n",
       "<table border=\"1\" class=\"dataframe\">\n",
       "  <thead>\n",
       "    <tr style=\"text-align: right;\">\n",
       "      <th></th>\n",
       "      <th>QTD_FEM</th>\n",
       "      <th>QTD_MASC</th>\n",
       "    </tr>\n",
       "  </thead>\n",
       "  <tbody>\n",
       "    <tr>\n",
       "      <th>0</th>\n",
       "      <td>1801670</td>\n",
       "      <td>1150972</td>\n",
       "    </tr>\n",
       "    <tr>\n",
       "      <th>0</th>\n",
       "      <td>1786341</td>\n",
       "      <td>1177032</td>\n",
       "    </tr>\n",
       "  </tbody>\n",
       "</table>\n",
       "</div>"
      ],
      "text/plain": [
       "   QTD_FEM  QTD_MASC\n",
       "0  1801670   1150972\n",
       "0  1786341   1177032"
      ]
     },
     "execution_count": 42,
     "metadata": {},
     "output_type": "execute_result"
    }
   ],
   "source": [
    "geral4_pct = geral4[['QTD_FEM','QTD_MASC']]\n",
    "geral4_pct.head()"
   ]
  },
  {
   "cell_type": "code",
   "execution_count": 43,
   "metadata": {},
   "outputs": [
    {
     "data": {
      "text/html": [
       "<div>\n",
       "<style scoped>\n",
       "    .dataframe tbody tr th:only-of-type {\n",
       "        vertical-align: middle;\n",
       "    }\n",
       "\n",
       "    .dataframe tbody tr th {\n",
       "        vertical-align: top;\n",
       "    }\n",
       "\n",
       "    .dataframe thead th {\n",
       "        text-align: right;\n",
       "    }\n",
       "</style>\n",
       "<table border=\"1\" class=\"dataframe\">\n",
       "  <thead>\n",
       "    <tr style=\"text-align: right;\">\n",
       "      <th></th>\n",
       "      <th>QTD_FEM</th>\n",
       "      <th>QTD_MASC</th>\n",
       "      <th>QTD_FEM_%</th>\n",
       "      <th>QTD_MASC_%</th>\n",
       "    </tr>\n",
       "  </thead>\n",
       "  <tbody>\n",
       "    <tr>\n",
       "      <th>0</th>\n",
       "      <td>1801670</td>\n",
       "      <td>1150972</td>\n",
       "      <td>61.02</td>\n",
       "      <td>38.98</td>\n",
       "    </tr>\n",
       "    <tr>\n",
       "      <th>0</th>\n",
       "      <td>1786341</td>\n",
       "      <td>1177032</td>\n",
       "      <td>60.28</td>\n",
       "      <td>39.72</td>\n",
       "    </tr>\n",
       "  </tbody>\n",
       "</table>\n",
       "</div>"
      ],
      "text/plain": [
       "   QTD_FEM  QTD_MASC  QTD_FEM_%  QTD_MASC_%\n",
       "0  1801670   1150972      61.02       38.98\n",
       "0  1786341   1177032      60.28       39.72"
      ]
     },
     "execution_count": 43,
     "metadata": {},
     "output_type": "execute_result"
    }
   ],
   "source": [
    "soma_total = geral4_pct.sum(axis=1)\n",
    "\n",
    "# Iterar sobre as colunas e criar as colunas percentuais automaticamente\n",
    "for coluna in geral4_pct.columns:\n",
    "    if coluna.startswith('QTD_'):  # Certifica-se de que estamos lidando apenas com as colunas relevantes\n",
    "        coluna_percentual = coluna + '_%'\n",
    "        proporcao_coluna = geral4_pct[coluna] / soma_total\n",
    "        geral4_pct[coluna_percentual] = (proporcao_coluna * 100).round(2)\n",
    "\n",
    "geral4_pct.head()"
   ]
  },
  {
   "cell_type": "code",
   "execution_count": 44,
   "metadata": {},
   "outputs": [
    {
     "data": {
      "text/html": [
       "<div>\n",
       "<style scoped>\n",
       "    .dataframe tbody tr th:only-of-type {\n",
       "        vertical-align: middle;\n",
       "    }\n",
       "\n",
       "    .dataframe tbody tr th {\n",
       "        vertical-align: top;\n",
       "    }\n",
       "\n",
       "    .dataframe thead th {\n",
       "        text-align: right;\n",
       "    }\n",
       "</style>\n",
       "<table border=\"1\" class=\"dataframe\">\n",
       "  <thead>\n",
       "    <tr style=\"text-align: right;\">\n",
       "      <th></th>\n",
       "      <th>NU_ANO</th>\n",
       "      <th>QTD_FEM</th>\n",
       "      <th>QTD_MASC</th>\n",
       "      <th>QTD_FEM_%</th>\n",
       "      <th>QTD_MASC_%</th>\n",
       "    </tr>\n",
       "  </thead>\n",
       "  <tbody>\n",
       "    <tr>\n",
       "      <th>0</th>\n",
       "      <td>2021</td>\n",
       "      <td>1801670</td>\n",
       "      <td>1150972</td>\n",
       "      <td>61.02</td>\n",
       "      <td>38.98</td>\n",
       "    </tr>\n",
       "    <tr>\n",
       "      <th>1</th>\n",
       "      <td>2022</td>\n",
       "      <td>1786341</td>\n",
       "      <td>1177032</td>\n",
       "      <td>60.28</td>\n",
       "      <td>39.72</td>\n",
       "    </tr>\n",
       "  </tbody>\n",
       "</table>\n",
       "</div>"
      ],
      "text/plain": [
       "   NU_ANO  QTD_FEM  QTD_MASC  QTD_FEM_%  QTD_MASC_%\n",
       "0    2021  1801670   1150972      61.02       38.98\n",
       "1    2022  1786341   1177032      60.28       39.72"
      ]
     },
     "execution_count": 44,
     "metadata": {},
     "output_type": "execute_result"
    }
   ],
   "source": [
    "geral4 = geral4.merge(geral4_pct, on=['QTD_MASC', 'QTD_FEM'], how='outer')\n",
    "geral4.head()"
   ]
  },
  {
   "cell_type": "markdown",
   "metadata": {},
   "source": [
    "#### Salvar"
   ]
  },
  {
   "cell_type": "code",
   "execution_count": 45,
   "metadata": {},
   "outputs": [],
   "source": [
    "geral4.to_excel('C:\\\\Users\\\\Bruno\\\\OneDrive\\\\Área de Trabalho\\\\Microdados\\\\Datas\\\\Material apresentação\\\\Absoluto_Proporcional_Sexo_ano.xlsx', index=False)"
   ]
  },
  {
   "cell_type": "markdown",
   "metadata": {},
   "source": [
    "#### Absoluto|Proporção do total."
   ]
  },
  {
   "cell_type": "code",
   "execution_count": 61,
   "metadata": {},
   "outputs": [
    {
     "data": {
      "text/html": [
       "<div>\n",
       "<style scoped>\n",
       "    .dataframe tbody tr th:only-of-type {\n",
       "        vertical-align: middle;\n",
       "    }\n",
       "\n",
       "    .dataframe tbody tr th {\n",
       "        vertical-align: top;\n",
       "    }\n",
       "\n",
       "    .dataframe thead th {\n",
       "        text-align: right;\n",
       "    }\n",
       "</style>\n",
       "<table border=\"1\" class=\"dataframe\">\n",
       "  <thead>\n",
       "    <tr style=\"text-align: right;\">\n",
       "      <th></th>\n",
       "      <th>TP_SEXO</th>\n",
       "      <th>CONTAGEM</th>\n",
       "      <th>PROPORCAO</th>\n",
       "    </tr>\n",
       "  </thead>\n",
       "  <tbody>\n",
       "    <tr>\n",
       "      <th>0</th>\n",
       "      <td>Feminino</td>\n",
       "      <td>1786341</td>\n",
       "      <td>60.28</td>\n",
       "    </tr>\n",
       "    <tr>\n",
       "      <th>1</th>\n",
       "      <td>Masculino</td>\n",
       "      <td>1177032</td>\n",
       "      <td>39.72</td>\n",
       "    </tr>\n",
       "  </tbody>\n",
       "</table>\n",
       "</div>"
      ],
      "text/plain": [
       "     TP_SEXO  CONTAGEM  PROPORCAO\n",
       "0   Feminino   1786341      60.28\n",
       "1  Masculino   1177032      39.72"
      ]
     },
     "execution_count": 61,
     "metadata": {},
     "output_type": "execute_result"
    }
   ],
   "source": [
    "geral4_prop = df_enem['TP_SEXO'].value_counts().sort_index()\n",
    "\n",
    "geral4_prop = pd.DataFrame({'TP_SEXO': geral4_prop.index, 'CONTAGEM': geral4_prop.values})\n",
    "geral4_prop['PROPORCAO'] = ((geral4_prop['CONTAGEM'] / geral4_prop['CONTAGEM'].sum())*100).round(2)\n",
    "geral4_prop['TP_SEXO'] = geral4_prop['TP_SEXO'].map({'M': 'Masculino', 'F': 'Feminino'})\n",
    "geral4_prop.head()"
   ]
  },
  {
   "cell_type": "markdown",
   "metadata": {},
   "source": [
    "#### Salvar"
   ]
  },
  {
   "cell_type": "code",
   "execution_count": 62,
   "metadata": {},
   "outputs": [],
   "source": [
    "geral4_prop.to_excel('C:\\\\Users\\\\Bruno\\\\OneDrive\\\\Área de Trabalho\\\\Microdados\\\\Datas\\\\Material apresentação\\\\Absoluto_Proporcional_Sexo.xlsx', index=False)"
   ]
  },
  {
   "cell_type": "markdown",
   "metadata": {},
   "source": [
    "#### Abstenção por gênero."
   ]
  },
  {
   "cell_type": "code",
   "execution_count": 59,
   "metadata": {},
   "outputs": [
    {
     "data": {
      "text/html": [
       "<div>\n",
       "<style scoped>\n",
       "    .dataframe tbody tr th:only-of-type {\n",
       "        vertical-align: middle;\n",
       "    }\n",
       "\n",
       "    .dataframe tbody tr th {\n",
       "        vertical-align: top;\n",
       "    }\n",
       "\n",
       "    .dataframe thead th {\n",
       "        text-align: right;\n",
       "    }\n",
       "</style>\n",
       "<table border=\"1\" class=\"dataframe\">\n",
       "  <thead>\n",
       "    <tr style=\"text-align: right;\">\n",
       "      <th></th>\n",
       "      <th>TP_SEXO</th>\n",
       "      <th>ABS_ALL</th>\n",
       "      <th>ABS_ALL_%</th>\n",
       "    </tr>\n",
       "  </thead>\n",
       "  <tbody>\n",
       "    <tr>\n",
       "      <th>0</th>\n",
       "      <td>Feminino</td>\n",
       "      <td>547412</td>\n",
       "      <td>59.91</td>\n",
       "    </tr>\n",
       "    <tr>\n",
       "      <th>1</th>\n",
       "      <td>Masculino</td>\n",
       "      <td>366301</td>\n",
       "      <td>40.09</td>\n",
       "    </tr>\n",
       "  </tbody>\n",
       "</table>\n",
       "</div>"
      ],
      "text/plain": [
       "     TP_SEXO  ABS_ALL  ABS_ALL_%\n",
       "0   Feminino   547412      59.91\n",
       "1  Masculino   366301      40.09"
      ]
     },
     "execution_count": 59,
     "metadata": {},
     "output_type": "execute_result"
    }
   ],
   "source": [
    "geral4_ABS = df_enem.groupby(['TP_SEXO'])['ABS_ALL'].sum().reset_index()\n",
    "geral4_ABS['ABS_ALL_%'] = ((geral4_ABS['ABS_ALL'] / geral4_ABS['ABS_ALL'].sum())*100).round(2)\n",
    "geral4_ABS['TP_SEXO'] = geral4_ABS['TP_SEXO'].map({'M': 'Masculino', 'F': 'Feminino'})\n",
    "geral4_ABS.head()"
   ]
  },
  {
   "cell_type": "markdown",
   "metadata": {},
   "source": [
    "#### Salvar"
   ]
  },
  {
   "cell_type": "code",
   "execution_count": 63,
   "metadata": {},
   "outputs": [],
   "source": [
    "geral4_ABS.to_excel('C:\\\\Users\\\\Bruno\\\\OneDrive\\\\Área de Trabalho\\\\Microdados\\\\Datas\\\\Material apresentação\\\\Abstenções_Sexo.xlsx', index=False)"
   ]
  },
  {
   "cell_type": "markdown",
   "metadata": {},
   "source": [
    "#### Média de gênero por ano."
   ]
  },
  {
   "cell_type": "code",
   "execution_count": 50,
   "metadata": {},
   "outputs": [],
   "source": [
    "geral4_media_ano = df_enem.groupby(['NU_ANO', 'TP_SEXO'])[['MEDIA_OBJ', 'MEDIA_GLOBAL']].mean().reset_index().round(2)\n",
    "geral4_media_ano['TP_SEXO'] = geral4_media_ano['TP_SEXO'].map({'M': 'Masculino', 'F': 'Feminino'})\n",
    "geral4_media_ano = geral4_media_ano.pivot(index='NU_ANO', columns='TP_SEXO')\n",
    "geral4_media_ano = geral4_media_ano.reorder_levels([1 , 0], axis=1).sort_index(axis=1, level=0)\n",
    "nome_df = f'geral{ano_enem}4_media_ano'\n",
    "globals()[nome_df] = geral4_media_ano\n"
   ]
  },
  {
   "cell_type": "code",
   "execution_count": 47,
   "metadata": {},
   "outputs": [
    {
     "data": {
      "text/html": [
       "<div>\n",
       "<style scoped>\n",
       "    .dataframe tbody tr th:only-of-type {\n",
       "        vertical-align: middle;\n",
       "    }\n",
       "\n",
       "    .dataframe tbody tr th {\n",
       "        vertical-align: top;\n",
       "    }\n",
       "\n",
       "    .dataframe thead tr th {\n",
       "        text-align: left;\n",
       "    }\n",
       "\n",
       "    .dataframe thead tr:last-of-type th {\n",
       "        text-align: right;\n",
       "    }\n",
       "</style>\n",
       "<table border=\"1\" class=\"dataframe\">\n",
       "  <thead>\n",
       "    <tr>\n",
       "      <th>TP_SEXO</th>\n",
       "      <th colspan=\"2\" halign=\"left\">Feminino</th>\n",
       "      <th colspan=\"2\" halign=\"left\">Masculino</th>\n",
       "    </tr>\n",
       "    <tr>\n",
       "      <th></th>\n",
       "      <th>MEDIA_GLOBAL</th>\n",
       "      <th>MEDIA_OBJ</th>\n",
       "      <th>MEDIA_GLOBAL</th>\n",
       "      <th>MEDIA_OBJ</th>\n",
       "    </tr>\n",
       "    <tr>\n",
       "      <th>NU_ANO</th>\n",
       "      <th></th>\n",
       "      <th></th>\n",
       "      <th></th>\n",
       "      <th></th>\n",
       "    </tr>\n",
       "  </thead>\n",
       "  <tbody>\n",
       "    <tr>\n",
       "      <th>2021</th>\n",
       "      <td>527.4</td>\n",
       "      <td>502.92</td>\n",
       "      <td>538.54</td>\n",
       "      <td>524.34</td>\n",
       "    </tr>\n",
       "  </tbody>\n",
       "</table>\n",
       "</div>"
      ],
      "text/plain": [
       "TP_SEXO     Feminino              Masculino          \n",
       "        MEDIA_GLOBAL MEDIA_OBJ MEDIA_GLOBAL MEDIA_OBJ\n",
       "NU_ANO                                               \n",
       "2021           527.4    502.92       538.54    524.34"
      ]
     },
     "execution_count": 47,
     "metadata": {},
     "output_type": "execute_result"
    }
   ],
   "source": [
    "geral20214_media_ano.head()"
   ]
  },
  {
   "cell_type": "code",
   "execution_count": 51,
   "metadata": {},
   "outputs": [
    {
     "data": {
      "text/html": [
       "<div>\n",
       "<style scoped>\n",
       "    .dataframe tbody tr th:only-of-type {\n",
       "        vertical-align: middle;\n",
       "    }\n",
       "\n",
       "    .dataframe tbody tr th {\n",
       "        vertical-align: top;\n",
       "    }\n",
       "\n",
       "    .dataframe thead tr th {\n",
       "        text-align: left;\n",
       "    }\n",
       "\n",
       "    .dataframe thead tr:last-of-type th {\n",
       "        text-align: right;\n",
       "    }\n",
       "</style>\n",
       "<table border=\"1\" class=\"dataframe\">\n",
       "  <thead>\n",
       "    <tr>\n",
       "      <th>TP_SEXO</th>\n",
       "      <th colspan=\"2\" halign=\"left\">Feminino</th>\n",
       "      <th colspan=\"2\" halign=\"left\">Masculino</th>\n",
       "    </tr>\n",
       "    <tr>\n",
       "      <th></th>\n",
       "      <th>MEDIA_GLOBAL</th>\n",
       "      <th>MEDIA_OBJ</th>\n",
       "      <th>MEDIA_GLOBAL</th>\n",
       "      <th>MEDIA_OBJ</th>\n",
       "    </tr>\n",
       "    <tr>\n",
       "      <th>NU_ANO</th>\n",
       "      <th></th>\n",
       "      <th></th>\n",
       "      <th></th>\n",
       "      <th></th>\n",
       "    </tr>\n",
       "  </thead>\n",
       "  <tbody>\n",
       "    <tr>\n",
       "      <th>2022</th>\n",
       "      <td>535.32</td>\n",
       "      <td>512.89</td>\n",
       "      <td>543.45</td>\n",
       "      <td>529.9</td>\n",
       "    </tr>\n",
       "  </tbody>\n",
       "</table>\n",
       "</div>"
      ],
      "text/plain": [
       "TP_SEXO     Feminino              Masculino          \n",
       "        MEDIA_GLOBAL MEDIA_OBJ MEDIA_GLOBAL MEDIA_OBJ\n",
       "NU_ANO                                               \n",
       "2022          535.32    512.89       543.45     529.9"
      ]
     },
     "execution_count": 51,
     "metadata": {},
     "output_type": "execute_result"
    }
   ],
   "source": [
    "geral20224_media_ano.head()"
   ]
  },
  {
   "cell_type": "code",
   "execution_count": 52,
   "metadata": {},
   "outputs": [
    {
     "data": {
      "text/html": [
       "<div>\n",
       "<style scoped>\n",
       "    .dataframe tbody tr th:only-of-type {\n",
       "        vertical-align: middle;\n",
       "    }\n",
       "\n",
       "    .dataframe tbody tr th {\n",
       "        vertical-align: top;\n",
       "    }\n",
       "\n",
       "    .dataframe thead tr th {\n",
       "        text-align: left;\n",
       "    }\n",
       "\n",
       "    .dataframe thead tr:last-of-type th {\n",
       "        text-align: right;\n",
       "    }\n",
       "</style>\n",
       "<table border=\"1\" class=\"dataframe\">\n",
       "  <thead>\n",
       "    <tr>\n",
       "      <th>TP_SEXO</th>\n",
       "      <th colspan=\"2\" halign=\"left\">Feminino</th>\n",
       "      <th colspan=\"2\" halign=\"left\">Masculino</th>\n",
       "    </tr>\n",
       "    <tr>\n",
       "      <th></th>\n",
       "      <th>MEDIA_GLOBAL</th>\n",
       "      <th>MEDIA_OBJ</th>\n",
       "      <th>MEDIA_GLOBAL</th>\n",
       "      <th>MEDIA_OBJ</th>\n",
       "    </tr>\n",
       "    <tr>\n",
       "      <th>NU_ANO</th>\n",
       "      <th></th>\n",
       "      <th></th>\n",
       "      <th></th>\n",
       "      <th></th>\n",
       "    </tr>\n",
       "  </thead>\n",
       "  <tbody>\n",
       "    <tr>\n",
       "      <th>2021</th>\n",
       "      <td>527.40</td>\n",
       "      <td>502.92</td>\n",
       "      <td>538.54</td>\n",
       "      <td>524.34</td>\n",
       "    </tr>\n",
       "    <tr>\n",
       "      <th>2022</th>\n",
       "      <td>535.32</td>\n",
       "      <td>512.89</td>\n",
       "      <td>543.45</td>\n",
       "      <td>529.90</td>\n",
       "    </tr>\n",
       "  </tbody>\n",
       "</table>\n",
       "</div>"
      ],
      "text/plain": [
       "TP_SEXO     Feminino              Masculino          \n",
       "        MEDIA_GLOBAL MEDIA_OBJ MEDIA_GLOBAL MEDIA_OBJ\n",
       "NU_ANO                                               \n",
       "2021          527.40    502.92       538.54    524.34\n",
       "2022          535.32    512.89       543.45    529.90"
      ]
     },
     "execution_count": 52,
     "metadata": {},
     "output_type": "execute_result"
    }
   ],
   "source": [
    "geral4_media_ano = pd.concat([geral20214_media_ano,geral20224_media_ano])\n",
    "geral4_media_ano.head()"
   ]
  },
  {
   "cell_type": "markdown",
   "metadata": {},
   "source": [
    "#### Salvar"
   ]
  },
  {
   "cell_type": "code",
   "execution_count": 53,
   "metadata": {},
   "outputs": [],
   "source": [
    "geral4_media_ano.to_excel('C:\\\\Users\\\\Bruno\\\\OneDrive\\\\Área de Trabalho\\\\Microdados\\\\Datas\\\\Material apresentação\\\\Media_Sexo_ano.xlsx', index=True)"
   ]
  },
  {
   "cell_type": "markdown",
   "metadata": {},
   "source": [
    "#### Média por gênero."
   ]
  },
  {
   "cell_type": "code",
   "execution_count": 60,
   "metadata": {},
   "outputs": [
    {
     "data": {
      "text/html": [
       "<div>\n",
       "<style scoped>\n",
       "    .dataframe tbody tr th:only-of-type {\n",
       "        vertical-align: middle;\n",
       "    }\n",
       "\n",
       "    .dataframe tbody tr th {\n",
       "        vertical-align: top;\n",
       "    }\n",
       "\n",
       "    .dataframe thead th {\n",
       "        text-align: right;\n",
       "    }\n",
       "</style>\n",
       "<table border=\"1\" class=\"dataframe\">\n",
       "  <thead>\n",
       "    <tr style=\"text-align: right;\">\n",
       "      <th></th>\n",
       "      <th>TP_SEXO</th>\n",
       "      <th>MEDIA_OBJ</th>\n",
       "      <th>MEDIA_GLOBAL</th>\n",
       "    </tr>\n",
       "  </thead>\n",
       "  <tbody>\n",
       "    <tr>\n",
       "      <th>0</th>\n",
       "      <td>Feminino</td>\n",
       "      <td>512.89</td>\n",
       "      <td>535.32</td>\n",
       "    </tr>\n",
       "    <tr>\n",
       "      <th>1</th>\n",
       "      <td>Masculino</td>\n",
       "      <td>529.90</td>\n",
       "      <td>543.45</td>\n",
       "    </tr>\n",
       "  </tbody>\n",
       "</table>\n",
       "</div>"
      ],
      "text/plain": [
       "     TP_SEXO  MEDIA_OBJ  MEDIA_GLOBAL\n",
       "0   Feminino     512.89        535.32\n",
       "1  Masculino     529.90        543.45"
      ]
     },
     "execution_count": 60,
     "metadata": {},
     "output_type": "execute_result"
    }
   ],
   "source": [
    "geral4_media = df_enem.groupby('TP_SEXO')[['MEDIA_OBJ', 'MEDIA_GLOBAL']].mean().reset_index().round(2)\n",
    "geral4_media['TP_SEXO'] = geral4_media['TP_SEXO'].map({'F': 'Feminino', 'M': 'Masculino'})\n",
    "geral4_media.head()"
   ]
  },
  {
   "cell_type": "markdown",
   "metadata": {},
   "source": [
    "#### Salvar"
   ]
  },
  {
   "cell_type": "code",
   "execution_count": 64,
   "metadata": {},
   "outputs": [],
   "source": [
    "geral4_media.to_excel('C:\\\\Users\\\\Bruno\\\\OneDrive\\\\Área de Trabalho\\\\Microdados\\\\Datas\\\\Material apresentação\\\\Media_Sexo.xlsx', index=False)"
   ]
  },
  {
   "cell_type": "markdown",
   "metadata": {},
   "source": [
    "## 5) Escola por tipo de administração."
   ]
  },
  {
   "cell_type": "code",
   "execution_count": 59,
   "metadata": {},
   "outputs": [],
   "source": [
    "df_enem = df[['NU_INSCRICAO','NU_ANO','TP_DEPENDENCIA_ADM_ESC','ABS_ALL','MEDIA_GLOBAL','MEDIA_OBJ']]"
   ]
  },
  {
   "cell_type": "markdown",
   "metadata": {},
   "source": [
    "#### Quantidade por ano."
   ]
  },
  {
   "cell_type": "code",
   "execution_count": 60,
   "metadata": {},
   "outputs": [],
   "source": [
    "geral5 = df_enem.groupby(['NU_ANO', 'TP_DEPENDENCIA_ADM_ESC'])['NU_INSCRICAO'].count().reset_index()\n",
    "geral5 = geral5.pivot(index='NU_ANO', columns='TP_DEPENDENCIA_ADM_ESC', values='NU_INSCRICAO').reset_index()\n",
    "geral5.columns = ['NU_ANO', 'QTD_FEDERAL', 'QTD_ESTADUAL', 'QTD_MUNICIPAL', 'QTD_PRIVADA']\n",
    "geral5 = geral5.fillna(0).astype(int) #Possui dados faltantes\n",
    "nome_df = f'geral{ano_enem}5'\n",
    "globals()[nome_df] = geral5"
   ]
  },
  {
   "cell_type": "code",
   "execution_count": 61,
   "metadata": {},
   "outputs": [
    {
     "data": {
      "text/html": [
       "<div>\n",
       "<style scoped>\n",
       "    .dataframe tbody tr th:only-of-type {\n",
       "        vertical-align: middle;\n",
       "    }\n",
       "\n",
       "    .dataframe tbody tr th {\n",
       "        vertical-align: top;\n",
       "    }\n",
       "\n",
       "    .dataframe thead th {\n",
       "        text-align: right;\n",
       "    }\n",
       "</style>\n",
       "<table border=\"1\" class=\"dataframe\">\n",
       "  <thead>\n",
       "    <tr style=\"text-align: right;\">\n",
       "      <th></th>\n",
       "      <th>NU_ANO</th>\n",
       "      <th>QTD_FEDERAL</th>\n",
       "      <th>QTD_ESTADUAL</th>\n",
       "      <th>QTD_MUNICIPAL</th>\n",
       "      <th>QTD_PRIVADA</th>\n",
       "    </tr>\n",
       "  </thead>\n",
       "  <tbody>\n",
       "    <tr>\n",
       "      <th>0</th>\n",
       "      <td>2021</td>\n",
       "      <td>46789</td>\n",
       "      <td>548998</td>\n",
       "      <td>7254</td>\n",
       "      <td>210765</td>\n",
       "    </tr>\n",
       "  </tbody>\n",
       "</table>\n",
       "</div>"
      ],
      "text/plain": [
       "   NU_ANO  QTD_FEDERAL  QTD_ESTADUAL  QTD_MUNICIPAL  QTD_PRIVADA\n",
       "0    2021        46789        548998           7254       210765"
      ]
     },
     "execution_count": 61,
     "metadata": {},
     "output_type": "execute_result"
    }
   ],
   "source": [
    "geral20215.head()"
   ]
  },
  {
   "cell_type": "code",
   "execution_count": 57,
   "metadata": {},
   "outputs": [
    {
     "data": {
      "text/html": [
       "<div>\n",
       "<style scoped>\n",
       "    .dataframe tbody tr th:only-of-type {\n",
       "        vertical-align: middle;\n",
       "    }\n",
       "\n",
       "    .dataframe tbody tr th {\n",
       "        vertical-align: top;\n",
       "    }\n",
       "\n",
       "    .dataframe thead th {\n",
       "        text-align: right;\n",
       "    }\n",
       "</style>\n",
       "<table border=\"1\" class=\"dataframe\">\n",
       "  <thead>\n",
       "    <tr style=\"text-align: right;\">\n",
       "      <th></th>\n",
       "      <th>NU_ANO</th>\n",
       "      <th>QTD_FEDERAL</th>\n",
       "      <th>QTD_ESTADUAL</th>\n",
       "      <th>QTD_MUNICIPAL</th>\n",
       "      <th>QTD_PRIVADA</th>\n",
       "    </tr>\n",
       "  </thead>\n",
       "  <tbody>\n",
       "    <tr>\n",
       "      <th>0</th>\n",
       "      <td>2022</td>\n",
       "      <td>49452</td>\n",
       "      <td>666020</td>\n",
       "      <td>9051</td>\n",
       "      <td>227421</td>\n",
       "    </tr>\n",
       "  </tbody>\n",
       "</table>\n",
       "</div>"
      ],
      "text/plain": [
       "   NU_ANO  QTD_FEDERAL  QTD_ESTADUAL  QTD_MUNICIPAL  QTD_PRIVADA\n",
       "0    2022        49452        666020           9051       227421"
      ]
     },
     "execution_count": 57,
     "metadata": {},
     "output_type": "execute_result"
    }
   ],
   "source": [
    "geral20225.head()"
   ]
  },
  {
   "cell_type": "code",
   "execution_count": 62,
   "metadata": {},
   "outputs": [
    {
     "data": {
      "text/html": [
       "<div>\n",
       "<style scoped>\n",
       "    .dataframe tbody tr th:only-of-type {\n",
       "        vertical-align: middle;\n",
       "    }\n",
       "\n",
       "    .dataframe tbody tr th {\n",
       "        vertical-align: top;\n",
       "    }\n",
       "\n",
       "    .dataframe thead th {\n",
       "        text-align: right;\n",
       "    }\n",
       "</style>\n",
       "<table border=\"1\" class=\"dataframe\">\n",
       "  <thead>\n",
       "    <tr style=\"text-align: right;\">\n",
       "      <th></th>\n",
       "      <th>NU_ANO</th>\n",
       "      <th>QTD_FEDERAL</th>\n",
       "      <th>QTD_ESTADUAL</th>\n",
       "      <th>QTD_MUNICIPAL</th>\n",
       "      <th>QTD_PRIVADA</th>\n",
       "    </tr>\n",
       "  </thead>\n",
       "  <tbody>\n",
       "    <tr>\n",
       "      <th>0</th>\n",
       "      <td>2021</td>\n",
       "      <td>46789</td>\n",
       "      <td>548998</td>\n",
       "      <td>7254</td>\n",
       "      <td>210765</td>\n",
       "    </tr>\n",
       "    <tr>\n",
       "      <th>0</th>\n",
       "      <td>2022</td>\n",
       "      <td>49452</td>\n",
       "      <td>666020</td>\n",
       "      <td>9051</td>\n",
       "      <td>227421</td>\n",
       "    </tr>\n",
       "  </tbody>\n",
       "</table>\n",
       "</div>"
      ],
      "text/plain": [
       "   NU_ANO  QTD_FEDERAL  QTD_ESTADUAL  QTD_MUNICIPAL  QTD_PRIVADA\n",
       "0    2021        46789        548998           7254       210765\n",
       "0    2022        49452        666020           9051       227421"
      ]
     },
     "execution_count": 62,
     "metadata": {},
     "output_type": "execute_result"
    }
   ],
   "source": [
    "geral5 = pd.concat([geral20215,geral20225])\n",
    "geral5.head()"
   ]
  },
  {
   "cell_type": "markdown",
   "metadata": {},
   "source": [
    "#### Salvar"
   ]
  },
  {
   "cell_type": "code",
   "execution_count": 63,
   "metadata": {},
   "outputs": [],
   "source": [
    "geral5.to_excel('C:\\\\Users\\\\Bruno\\\\OneDrive\\\\Área de Trabalho\\\\Microdados\\\\Datas\\\\Material apresentação\\\\Inscritos_Adm_ano.xlsx', index=False)"
   ]
  },
  {
   "cell_type": "markdown",
   "metadata": {},
   "source": [
    "#### Absoluto|Proporção por ano dos dados disponíveis e não totais pois há muito dados faltantes."
   ]
  },
  {
   "cell_type": "code",
   "execution_count": 64,
   "metadata": {},
   "outputs": [
    {
     "data": {
      "text/html": [
       "<div>\n",
       "<style scoped>\n",
       "    .dataframe tbody tr th:only-of-type {\n",
       "        vertical-align: middle;\n",
       "    }\n",
       "\n",
       "    .dataframe tbody tr th {\n",
       "        vertical-align: top;\n",
       "    }\n",
       "\n",
       "    .dataframe thead th {\n",
       "        text-align: right;\n",
       "    }\n",
       "</style>\n",
       "<table border=\"1\" class=\"dataframe\">\n",
       "  <thead>\n",
       "    <tr style=\"text-align: right;\">\n",
       "      <th></th>\n",
       "      <th>NU_ANO</th>\n",
       "      <th>QTD_FEDERAL</th>\n",
       "      <th>QTD_ESTADUAL</th>\n",
       "      <th>QTD_MUNICIPAL</th>\n",
       "      <th>QTD_PRIVADA</th>\n",
       "      <th>TOTAL</th>\n",
       "      <th>QTD_FEDERAL_%</th>\n",
       "      <th>QTD_ESTADUAL_%</th>\n",
       "      <th>QTD_MUNICIPAL_%</th>\n",
       "      <th>QTD_PRIVADA_%</th>\n",
       "    </tr>\n",
       "  </thead>\n",
       "  <tbody>\n",
       "    <tr>\n",
       "      <th>0</th>\n",
       "      <td>2021</td>\n",
       "      <td>46789</td>\n",
       "      <td>548998</td>\n",
       "      <td>7254</td>\n",
       "      <td>210765</td>\n",
       "      <td>813806</td>\n",
       "      <td>5.75</td>\n",
       "      <td>67.46</td>\n",
       "      <td>0.89</td>\n",
       "      <td>25.90</td>\n",
       "    </tr>\n",
       "    <tr>\n",
       "      <th>0</th>\n",
       "      <td>2022</td>\n",
       "      <td>49452</td>\n",
       "      <td>666020</td>\n",
       "      <td>9051</td>\n",
       "      <td>227421</td>\n",
       "      <td>951944</td>\n",
       "      <td>5.19</td>\n",
       "      <td>69.96</td>\n",
       "      <td>0.95</td>\n",
       "      <td>23.89</td>\n",
       "    </tr>\n",
       "  </tbody>\n",
       "</table>\n",
       "</div>"
      ],
      "text/plain": [
       "   NU_ANO  QTD_FEDERAL  QTD_ESTADUAL  QTD_MUNICIPAL  QTD_PRIVADA   TOTAL  \\\n",
       "0    2021        46789        548998           7254       210765  813806   \n",
       "0    2022        49452        666020           9051       227421  951944   \n",
       "\n",
       "   QTD_FEDERAL_%  QTD_ESTADUAL_%  QTD_MUNICIPAL_%  QTD_PRIVADA_%  \n",
       "0           5.75           67.46             0.89          25.90  \n",
       "0           5.19           69.96             0.95          23.89  "
      ]
     },
     "execution_count": 64,
     "metadata": {},
     "output_type": "execute_result"
    }
   ],
   "source": [
    "geral5['TOTAL'] = geral5['QTD_FEDERAL'] + geral5['QTD_ESTADUAL'] + geral5['QTD_MUNICIPAL'] + geral5['QTD_PRIVADA']\n",
    "\n",
    "for tipo in ['FEDERAL', 'ESTADUAL', 'MUNICIPAL', 'PRIVADA']:\n",
    "    coluna_qtd = f'QTD_{tipo}'\n",
    "    coluna_percentual = f'QTD_{tipo}_%'\n",
    "\n",
    "    geral5[coluna_percentual] = ((geral5[coluna_qtd] / geral5['TOTAL']) * 100).round(2)\n",
    "\n",
    "geral5.head()"
   ]
  },
  {
   "cell_type": "markdown",
   "metadata": {},
   "source": [
    "#### Salvar"
   ]
  },
  {
   "cell_type": "code",
   "execution_count": 65,
   "metadata": {},
   "outputs": [],
   "source": [
    "geral5.to_excel('C:\\\\Users\\\\Bruno\\\\OneDrive\\\\Área de Trabalho\\\\Microdados\\\\Datas\\\\Material apresentação\\\\Absoluto_Proporcional_Adm_ano.xlsx', index=False)"
   ]
  },
  {
   "cell_type": "markdown",
   "metadata": {},
   "source": [
    "#### Absoluto|Proporçao total por tipo de adminstraçao na escola."
   ]
  },
  {
   "cell_type": "code",
   "execution_count": 66,
   "metadata": {},
   "outputs": [
    {
     "data": {
      "text/html": [
       "<div>\n",
       "<style scoped>\n",
       "    .dataframe tbody tr th:only-of-type {\n",
       "        vertical-align: middle;\n",
       "    }\n",
       "\n",
       "    .dataframe tbody tr th {\n",
       "        vertical-align: top;\n",
       "    }\n",
       "\n",
       "    .dataframe thead th {\n",
       "        text-align: right;\n",
       "    }\n",
       "</style>\n",
       "<table border=\"1\" class=\"dataframe\">\n",
       "  <thead>\n",
       "    <tr style=\"text-align: right;\">\n",
       "      <th></th>\n",
       "      <th>TP_DEPENDENCIA_ADM_ESC</th>\n",
       "      <th>CONTAGEM</th>\n",
       "      <th>PROPORCAO</th>\n",
       "    </tr>\n",
       "  </thead>\n",
       "  <tbody>\n",
       "    <tr>\n",
       "      <th>0</th>\n",
       "      <td>Federal</td>\n",
       "      <td>49452</td>\n",
       "      <td>5.19</td>\n",
       "    </tr>\n",
       "    <tr>\n",
       "      <th>1</th>\n",
       "      <td>Estadual</td>\n",
       "      <td>666020</td>\n",
       "      <td>69.96</td>\n",
       "    </tr>\n",
       "    <tr>\n",
       "      <th>2</th>\n",
       "      <td>Municipal</td>\n",
       "      <td>9051</td>\n",
       "      <td>0.95</td>\n",
       "    </tr>\n",
       "    <tr>\n",
       "      <th>3</th>\n",
       "      <td>Privada</td>\n",
       "      <td>227421</td>\n",
       "      <td>23.89</td>\n",
       "    </tr>\n",
       "  </tbody>\n",
       "</table>\n",
       "</div>"
      ],
      "text/plain": [
       "  TP_DEPENDENCIA_ADM_ESC  CONTAGEM  PROPORCAO\n",
       "0                Federal     49452       5.19\n",
       "1               Estadual    666020      69.96\n",
       "2              Municipal      9051       0.95\n",
       "3                Privada    227421      23.89"
      ]
     },
     "execution_count": 66,
     "metadata": {},
     "output_type": "execute_result"
    }
   ],
   "source": [
    "geral5_prop = df_enem['TP_DEPENDENCIA_ADM_ESC'].value_counts().sort_index()\n",
    "geral5_prop = pd.DataFrame({'TP_DEPENDENCIA_ADM_ESC': geral5_prop.index, 'CONTAGEM': geral5_prop.values})\n",
    "geral5_prop['PROPORCAO'] = ((geral5_prop['CONTAGEM'] / geral5_prop['CONTAGEM'].sum())*100).round(2)\n",
    "geral5_prop['TP_DEPENDENCIA_ADM_ESC'] = geral5_prop['TP_DEPENDENCIA_ADM_ESC'].map({1: 'Federal', 2: 'Estadual',3: 'Municipal',4: 'Privada'})\n",
    "geral5_prop.head()"
   ]
  },
  {
   "cell_type": "markdown",
   "metadata": {},
   "source": [
    "#### Salvar"
   ]
  },
  {
   "cell_type": "code",
   "execution_count": 69,
   "metadata": {},
   "outputs": [],
   "source": [
    "geral5_prop.to_excel('C:\\\\Users\\\\Bruno\\\\OneDrive\\\\Área de Trabalho\\\\Microdados\\\\Datas\\\\Material apresentação\\\\Absoluto_proporcional_Adm.xlsx', index=False)"
   ]
  },
  {
   "cell_type": "markdown",
   "metadata": {},
   "source": [
    "#### Abstenção por tipo de administração da escola."
   ]
  },
  {
   "cell_type": "code",
   "execution_count": 67,
   "metadata": {},
   "outputs": [
    {
     "data": {
      "text/html": [
       "<div>\n",
       "<style scoped>\n",
       "    .dataframe tbody tr th:only-of-type {\n",
       "        vertical-align: middle;\n",
       "    }\n",
       "\n",
       "    .dataframe tbody tr th {\n",
       "        vertical-align: top;\n",
       "    }\n",
       "\n",
       "    .dataframe thead th {\n",
       "        text-align: right;\n",
       "    }\n",
       "</style>\n",
       "<table border=\"1\" class=\"dataframe\">\n",
       "  <thead>\n",
       "    <tr style=\"text-align: right;\">\n",
       "      <th></th>\n",
       "      <th>TP_DEPENDENCIA_ADM_ESC</th>\n",
       "      <th>ABS_ALL</th>\n",
       "      <th>ABS_ALL_%</th>\n",
       "    </tr>\n",
       "  </thead>\n",
       "  <tbody>\n",
       "    <tr>\n",
       "      <th>0</th>\n",
       "      <td>Federal</td>\n",
       "      <td>4161</td>\n",
       "      <td>1.90</td>\n",
       "    </tr>\n",
       "    <tr>\n",
       "      <th>1</th>\n",
       "      <td>Estadual</td>\n",
       "      <td>198393</td>\n",
       "      <td>90.54</td>\n",
       "    </tr>\n",
       "    <tr>\n",
       "      <th>2</th>\n",
       "      <td>Municipal</td>\n",
       "      <td>2859</td>\n",
       "      <td>1.30</td>\n",
       "    </tr>\n",
       "    <tr>\n",
       "      <th>3</th>\n",
       "      <td>Privada</td>\n",
       "      <td>13714</td>\n",
       "      <td>6.26</td>\n",
       "    </tr>\n",
       "  </tbody>\n",
       "</table>\n",
       "</div>"
      ],
      "text/plain": [
       "  TP_DEPENDENCIA_ADM_ESC  ABS_ALL  ABS_ALL_%\n",
       "0                Federal     4161       1.90\n",
       "1               Estadual   198393      90.54\n",
       "2              Municipal     2859       1.30\n",
       "3                Privada    13714       6.26"
      ]
     },
     "execution_count": 67,
     "metadata": {},
     "output_type": "execute_result"
    }
   ],
   "source": [
    "geral5_ABS = df_enem.groupby(['TP_DEPENDENCIA_ADM_ESC'])['ABS_ALL'].sum().reset_index()\n",
    "geral5_ABS['ABS_ALL_%'] = ((geral5_ABS['ABS_ALL'] / geral5_ABS['ABS_ALL'].sum())*100).round(2)\n",
    "geral5_ABS['TP_DEPENDENCIA_ADM_ESC'] = geral5_ABS['TP_DEPENDENCIA_ADM_ESC'].map({1: 'Federal', 2: 'Estadual',3: 'Municipal',4: 'Privada'})\n",
    "geral5_ABS.head()"
   ]
  },
  {
   "cell_type": "markdown",
   "metadata": {},
   "source": [
    "#### Salvar"
   ]
  },
  {
   "cell_type": "code",
   "execution_count": 70,
   "metadata": {},
   "outputs": [],
   "source": [
    "geral5_ABS.to_excel('C:\\\\Users\\\\Bruno\\\\OneDrive\\\\Área de Trabalho\\\\Microdados\\\\Datas\\\\Material apresentação\\\\Abstenções_Adm.xlsx', index=False)"
   ]
  },
  {
   "cell_type": "markdown",
   "metadata": {},
   "source": [
    "#### Média por ano por tipo de dependencia administrativa."
   ]
  },
  {
   "cell_type": "code",
   "execution_count": 76,
   "metadata": {},
   "outputs": [],
   "source": [
    "df_enem = df[['NU_INSCRICAO','NU_ANO','TP_DEPENDENCIA_ADM_ESC','ABS_ALL','MEDIA_GLOBAL','MEDIA_OBJ']]"
   ]
  },
  {
   "cell_type": "code",
   "execution_count": 77,
   "metadata": {},
   "outputs": [],
   "source": [
    "geral5_media_ano = df_enem.groupby(['NU_ANO', 'TP_DEPENDENCIA_ADM_ESC'])[['MEDIA_OBJ', 'MEDIA_GLOBAL']].mean().reset_index().round(2)\n",
    "geral5_media_ano['TP_DEPENDENCIA_ADM_ESC'] = geral5_media_ano['TP_DEPENDENCIA_ADM_ESC'].map({1: 'Federal', 2: 'Estadual', 3: 'Municipal', 4: 'Privada'})\n",
    "geral5_media_ano = geral5_media_ano.pivot(index='NU_ANO', columns='TP_DEPENDENCIA_ADM_ESC')\n",
    "geral5_media_ano = geral5_media_ano.reorder_levels([1 , 0], axis=1).sort_index(axis=1, level=0)\n",
    "nome_df = f'geral{ano_enem}5_media_ano'\n",
    "globals()[nome_df] = geral5_media_ano"
   ]
  },
  {
   "cell_type": "code",
   "execution_count": 78,
   "metadata": {},
   "outputs": [
    {
     "data": {
      "text/html": [
       "<div>\n",
       "<style scoped>\n",
       "    .dataframe tbody tr th:only-of-type {\n",
       "        vertical-align: middle;\n",
       "    }\n",
       "\n",
       "    .dataframe tbody tr th {\n",
       "        vertical-align: top;\n",
       "    }\n",
       "\n",
       "    .dataframe thead tr th {\n",
       "        text-align: left;\n",
       "    }\n",
       "\n",
       "    .dataframe thead tr:last-of-type th {\n",
       "        text-align: right;\n",
       "    }\n",
       "</style>\n",
       "<table border=\"1\" class=\"dataframe\">\n",
       "  <thead>\n",
       "    <tr>\n",
       "      <th>TP_DEPENDENCIA_ADM_ESC</th>\n",
       "      <th colspan=\"2\" halign=\"left\">Estadual</th>\n",
       "      <th colspan=\"2\" halign=\"left\">Federal</th>\n",
       "      <th colspan=\"2\" halign=\"left\">Municipal</th>\n",
       "      <th colspan=\"2\" halign=\"left\">Privada</th>\n",
       "    </tr>\n",
       "    <tr>\n",
       "      <th></th>\n",
       "      <th>MEDIA_GLOBAL</th>\n",
       "      <th>MEDIA_OBJ</th>\n",
       "      <th>MEDIA_GLOBAL</th>\n",
       "      <th>MEDIA_OBJ</th>\n",
       "      <th>MEDIA_GLOBAL</th>\n",
       "      <th>MEDIA_OBJ</th>\n",
       "      <th>MEDIA_GLOBAL</th>\n",
       "      <th>MEDIA_OBJ</th>\n",
       "    </tr>\n",
       "    <tr>\n",
       "      <th>NU_ANO</th>\n",
       "      <th></th>\n",
       "      <th></th>\n",
       "      <th></th>\n",
       "      <th></th>\n",
       "      <th></th>\n",
       "      <th></th>\n",
       "      <th></th>\n",
       "      <th></th>\n",
       "    </tr>\n",
       "  </thead>\n",
       "  <tbody>\n",
       "    <tr>\n",
       "      <th>2021</th>\n",
       "      <td>495.78</td>\n",
       "      <td>482.32</td>\n",
       "      <td>586.08</td>\n",
       "      <td>558.85</td>\n",
       "      <td>510.44</td>\n",
       "      <td>496.25</td>\n",
       "      <td>595.99</td>\n",
       "      <td>563.02</td>\n",
       "    </tr>\n",
       "  </tbody>\n",
       "</table>\n",
       "</div>"
      ],
      "text/plain": [
       "TP_DEPENDENCIA_ADM_ESC     Estadual                Federal            \\\n",
       "                       MEDIA_GLOBAL MEDIA_OBJ MEDIA_GLOBAL MEDIA_OBJ   \n",
       "NU_ANO                                                                 \n",
       "2021                         495.78    482.32       586.08    558.85   \n",
       "\n",
       "TP_DEPENDENCIA_ADM_ESC    Municipal                Privada            \n",
       "                       MEDIA_GLOBAL MEDIA_OBJ MEDIA_GLOBAL MEDIA_OBJ  \n",
       "NU_ANO                                                                \n",
       "2021                         510.44    496.25       595.99    563.02  "
      ]
     },
     "execution_count": 78,
     "metadata": {},
     "output_type": "execute_result"
    }
   ],
   "source": [
    "geral20215_media_ano.head()"
   ]
  },
  {
   "cell_type": "code",
   "execution_count": 74,
   "metadata": {},
   "outputs": [
    {
     "data": {
      "text/html": [
       "<div>\n",
       "<style scoped>\n",
       "    .dataframe tbody tr th:only-of-type {\n",
       "        vertical-align: middle;\n",
       "    }\n",
       "\n",
       "    .dataframe tbody tr th {\n",
       "        vertical-align: top;\n",
       "    }\n",
       "\n",
       "    .dataframe thead tr th {\n",
       "        text-align: left;\n",
       "    }\n",
       "\n",
       "    .dataframe thead tr:last-of-type th {\n",
       "        text-align: right;\n",
       "    }\n",
       "</style>\n",
       "<table border=\"1\" class=\"dataframe\">\n",
       "  <thead>\n",
       "    <tr>\n",
       "      <th>TP_DEPENDENCIA_ADM_ESC</th>\n",
       "      <th colspan=\"2\" halign=\"left\">Estadual</th>\n",
       "      <th colspan=\"2\" halign=\"left\">Federal</th>\n",
       "      <th colspan=\"2\" halign=\"left\">Municipal</th>\n",
       "      <th colspan=\"2\" halign=\"left\">Privada</th>\n",
       "    </tr>\n",
       "    <tr>\n",
       "      <th></th>\n",
       "      <th>MEDIA_GLOBAL</th>\n",
       "      <th>MEDIA_OBJ</th>\n",
       "      <th>MEDIA_GLOBAL</th>\n",
       "      <th>MEDIA_OBJ</th>\n",
       "      <th>MEDIA_GLOBAL</th>\n",
       "      <th>MEDIA_OBJ</th>\n",
       "      <th>MEDIA_GLOBAL</th>\n",
       "      <th>MEDIA_OBJ</th>\n",
       "    </tr>\n",
       "    <tr>\n",
       "      <th>NU_ANO</th>\n",
       "      <th></th>\n",
       "      <th></th>\n",
       "      <th></th>\n",
       "      <th></th>\n",
       "      <th></th>\n",
       "      <th></th>\n",
       "      <th></th>\n",
       "      <th></th>\n",
       "    </tr>\n",
       "  </thead>\n",
       "  <tbody>\n",
       "    <tr>\n",
       "      <th>2022</th>\n",
       "      <td>505.11</td>\n",
       "      <td>493.83</td>\n",
       "      <td>594.29</td>\n",
       "      <td>562.83</td>\n",
       "      <td>519.29</td>\n",
       "      <td>506.19</td>\n",
       "      <td>606.68</td>\n",
       "      <td>570.53</td>\n",
       "    </tr>\n",
       "  </tbody>\n",
       "</table>\n",
       "</div>"
      ],
      "text/plain": [
       "TP_DEPENDENCIA_ADM_ESC     Estadual                Federal            \\\n",
       "                       MEDIA_GLOBAL MEDIA_OBJ MEDIA_GLOBAL MEDIA_OBJ   \n",
       "NU_ANO                                                                 \n",
       "2022                         505.11    493.83       594.29    562.83   \n",
       "\n",
       "TP_DEPENDENCIA_ADM_ESC    Municipal                Privada            \n",
       "                       MEDIA_GLOBAL MEDIA_OBJ MEDIA_GLOBAL MEDIA_OBJ  \n",
       "NU_ANO                                                                \n",
       "2022                         519.29    506.19       606.68    570.53  "
      ]
     },
     "execution_count": 74,
     "metadata": {},
     "output_type": "execute_result"
    }
   ],
   "source": [
    "geral20225_media_ano.head()"
   ]
  },
  {
   "cell_type": "code",
   "execution_count": 79,
   "metadata": {},
   "outputs": [
    {
     "data": {
      "text/html": [
       "<div>\n",
       "<style scoped>\n",
       "    .dataframe tbody tr th:only-of-type {\n",
       "        vertical-align: middle;\n",
       "    }\n",
       "\n",
       "    .dataframe tbody tr th {\n",
       "        vertical-align: top;\n",
       "    }\n",
       "\n",
       "    .dataframe thead tr th {\n",
       "        text-align: left;\n",
       "    }\n",
       "\n",
       "    .dataframe thead tr:last-of-type th {\n",
       "        text-align: right;\n",
       "    }\n",
       "</style>\n",
       "<table border=\"1\" class=\"dataframe\">\n",
       "  <thead>\n",
       "    <tr>\n",
       "      <th>TP_DEPENDENCIA_ADM_ESC</th>\n",
       "      <th colspan=\"2\" halign=\"left\">Estadual</th>\n",
       "      <th colspan=\"2\" halign=\"left\">Federal</th>\n",
       "      <th colspan=\"2\" halign=\"left\">Municipal</th>\n",
       "      <th colspan=\"2\" halign=\"left\">Privada</th>\n",
       "    </tr>\n",
       "    <tr>\n",
       "      <th></th>\n",
       "      <th>MEDIA_GLOBAL</th>\n",
       "      <th>MEDIA_OBJ</th>\n",
       "      <th>MEDIA_GLOBAL</th>\n",
       "      <th>MEDIA_OBJ</th>\n",
       "      <th>MEDIA_GLOBAL</th>\n",
       "      <th>MEDIA_OBJ</th>\n",
       "      <th>MEDIA_GLOBAL</th>\n",
       "      <th>MEDIA_OBJ</th>\n",
       "    </tr>\n",
       "    <tr>\n",
       "      <th>NU_ANO</th>\n",
       "      <th></th>\n",
       "      <th></th>\n",
       "      <th></th>\n",
       "      <th></th>\n",
       "      <th></th>\n",
       "      <th></th>\n",
       "      <th></th>\n",
       "      <th></th>\n",
       "    </tr>\n",
       "  </thead>\n",
       "  <tbody>\n",
       "    <tr>\n",
       "      <th>2021</th>\n",
       "      <td>495.78</td>\n",
       "      <td>482.32</td>\n",
       "      <td>586.08</td>\n",
       "      <td>558.85</td>\n",
       "      <td>510.44</td>\n",
       "      <td>496.25</td>\n",
       "      <td>595.99</td>\n",
       "      <td>563.02</td>\n",
       "    </tr>\n",
       "    <tr>\n",
       "      <th>2022</th>\n",
       "      <td>505.11</td>\n",
       "      <td>493.83</td>\n",
       "      <td>594.29</td>\n",
       "      <td>562.83</td>\n",
       "      <td>519.29</td>\n",
       "      <td>506.19</td>\n",
       "      <td>606.68</td>\n",
       "      <td>570.53</td>\n",
       "    </tr>\n",
       "  </tbody>\n",
       "</table>\n",
       "</div>"
      ],
      "text/plain": [
       "TP_DEPENDENCIA_ADM_ESC     Estadual                Federal            \\\n",
       "                       MEDIA_GLOBAL MEDIA_OBJ MEDIA_GLOBAL MEDIA_OBJ   \n",
       "NU_ANO                                                                 \n",
       "2021                         495.78    482.32       586.08    558.85   \n",
       "2022                         505.11    493.83       594.29    562.83   \n",
       "\n",
       "TP_DEPENDENCIA_ADM_ESC    Municipal                Privada            \n",
       "                       MEDIA_GLOBAL MEDIA_OBJ MEDIA_GLOBAL MEDIA_OBJ  \n",
       "NU_ANO                                                                \n",
       "2021                         510.44    496.25       595.99    563.02  \n",
       "2022                         519.29    506.19       606.68    570.53  "
      ]
     },
     "execution_count": 79,
     "metadata": {},
     "output_type": "execute_result"
    }
   ],
   "source": [
    "geral5_media_ano = pd.concat([geral20215_media_ano,geral20225_media_ano])\n",
    "geral5_media_ano.head()"
   ]
  },
  {
   "cell_type": "markdown",
   "metadata": {},
   "source": [
    "#### Salvar. True para salvar o multindex que ainda não sei resolver."
   ]
  },
  {
   "cell_type": "code",
   "execution_count": 81,
   "metadata": {},
   "outputs": [],
   "source": [
    "geral5_media_ano.to_excel('C:\\\\Users\\\\Bruno\\\\OneDrive\\\\Área de Trabalho\\\\Microdados\\\\Datas\\\\Material apresentação\\\\Media_Adm_ano.xlsx', index=True)"
   ]
  },
  {
   "cell_type": "markdown",
   "metadata": {},
   "source": [
    "#### Média por tipo de dependência administrativa."
   ]
  },
  {
   "cell_type": "code",
   "execution_count": 68,
   "metadata": {},
   "outputs": [
    {
     "data": {
      "text/html": [
       "<div>\n",
       "<style scoped>\n",
       "    .dataframe tbody tr th:only-of-type {\n",
       "        vertical-align: middle;\n",
       "    }\n",
       "\n",
       "    .dataframe tbody tr th {\n",
       "        vertical-align: top;\n",
       "    }\n",
       "\n",
       "    .dataframe thead th {\n",
       "        text-align: right;\n",
       "    }\n",
       "</style>\n",
       "<table border=\"1\" class=\"dataframe\">\n",
       "  <thead>\n",
       "    <tr style=\"text-align: right;\">\n",
       "      <th></th>\n",
       "      <th>TP_DEPENDENCIA_ADM_ESC</th>\n",
       "      <th>MEDIA_OBJ</th>\n",
       "      <th>MEDIA_GLOBAL</th>\n",
       "    </tr>\n",
       "  </thead>\n",
       "  <tbody>\n",
       "    <tr>\n",
       "      <th>0</th>\n",
       "      <td>Federal</td>\n",
       "      <td>562.83</td>\n",
       "      <td>594.29</td>\n",
       "    </tr>\n",
       "    <tr>\n",
       "      <th>1</th>\n",
       "      <td>Estadual</td>\n",
       "      <td>493.83</td>\n",
       "      <td>505.11</td>\n",
       "    </tr>\n",
       "    <tr>\n",
       "      <th>2</th>\n",
       "      <td>Municipal</td>\n",
       "      <td>506.19</td>\n",
       "      <td>519.29</td>\n",
       "    </tr>\n",
       "    <tr>\n",
       "      <th>3</th>\n",
       "      <td>Privada</td>\n",
       "      <td>570.53</td>\n",
       "      <td>606.68</td>\n",
       "    </tr>\n",
       "  </tbody>\n",
       "</table>\n",
       "</div>"
      ],
      "text/plain": [
       "  TP_DEPENDENCIA_ADM_ESC  MEDIA_OBJ  MEDIA_GLOBAL\n",
       "0                Federal     562.83        594.29\n",
       "1               Estadual     493.83        505.11\n",
       "2              Municipal     506.19        519.29\n",
       "3                Privada     570.53        606.68"
      ]
     },
     "execution_count": 68,
     "metadata": {},
     "output_type": "execute_result"
    }
   ],
   "source": [
    "geral5_media = df_enem.groupby('TP_DEPENDENCIA_ADM_ESC')[['MEDIA_OBJ', 'MEDIA_GLOBAL']].mean().reset_index().round(2)\n",
    "geral5_media['TP_DEPENDENCIA_ADM_ESC'] = geral5_media['TP_DEPENDENCIA_ADM_ESC'].map({1: 'Federal', 2: 'Estadual', 3: 'Municipal', 4: 'Privada'})\n",
    "geral5_media.head()"
   ]
  },
  {
   "cell_type": "markdown",
   "metadata": {},
   "source": [
    "#### Salvar"
   ]
  },
  {
   "cell_type": "code",
   "execution_count": 71,
   "metadata": {},
   "outputs": [],
   "source": [
    "geral5_media.to_excel('C:\\\\Users\\\\Bruno\\\\OneDrive\\\\Área de Trabalho\\\\Microdados\\\\Datas\\\\Material apresentação\\\\Media_Adm.xlsx', index=False)"
   ]
  },
  {
   "cell_type": "markdown",
   "metadata": {},
   "source": [
    "## 6) Etnia."
   ]
  },
  {
   "cell_type": "code",
   "execution_count": 84,
   "metadata": {},
   "outputs": [],
   "source": [
    "df_enem = df[['NU_INSCRICAO','NU_ANO','TP_COR_RACA','ABS_ALL','MEDIA_GLOBAL','MEDIA_OBJ']]"
   ]
  },
  {
   "cell_type": "code",
   "execution_count": 73,
   "metadata": {},
   "outputs": [
    {
     "data": {
      "text/plain": [
       "3    1301016\n",
       "1    1158773\n",
       "2     372491\n",
       "4      56885\n",
       "0      56084\n",
       "5      18124\n",
       "Name: TP_COR_RACA, dtype: int64"
      ]
     },
     "execution_count": 73,
     "metadata": {},
     "output_type": "execute_result"
    }
   ],
   "source": [
    "df_enem['TP_COR_RACA'].value_counts()"
   ]
  },
  {
   "cell_type": "markdown",
   "metadata": {},
   "source": [
    "#### Mostra como está ordenado as colunas"
   ]
  },
  {
   "cell_type": "code",
   "execution_count": 68,
   "metadata": {},
   "outputs": [
    {
     "name": "stdout",
     "output_type": "stream",
     "text": [
      "Index(['NU_ANO', 0, 1, 2, 3, 4, 5, 6, '6'], dtype='object', name='TP_COR_RACA')\n"
     ]
    }
   ],
   "source": [
    "print(geral6.columns)"
   ]
  },
  {
   "cell_type": "markdown",
   "metadata": {},
   "source": [
    "#### Quantidade Etnia"
   ]
  },
  {
   "cell_type": "code",
   "execution_count": 74,
   "metadata": {},
   "outputs": [],
   "source": [
    "geral6 = df_enem.groupby(['NU_ANO', 'TP_COR_RACA'])['NU_INSCRICAO'].count().reset_index()\n",
    "geral6 = geral6.pivot(index='NU_ANO', columns='TP_COR_RACA', values='NU_INSCRICAO').reset_index()\n",
    "if '6' not in geral6.columns.map(str):\n",
    "    geral6['6'] = 0\n",
    "# Renomear as colunas para facilitar a compreensão\n",
    "geral6.columns = ['NU_ANO', 'QTD_NAO_DECLARADO','QTD_BRANCA','QTD_PRETA','QTD_PARDA','QTD_AMARELA','QTD_INDIGENA','QTD_NAO_DISPOE']\n",
    "geral6 = geral6.fillna(0).astype(int)\n",
    "nome_df = f'geral{ano_enem}6'\n",
    "globals()[nome_df] = geral6"
   ]
  },
  {
   "cell_type": "code",
   "execution_count": 70,
   "metadata": {},
   "outputs": [
    {
     "data": {
      "text/html": [
       "<div>\n",
       "<style scoped>\n",
       "    .dataframe tbody tr th:only-of-type {\n",
       "        vertical-align: middle;\n",
       "    }\n",
       "\n",
       "    .dataframe tbody tr th {\n",
       "        vertical-align: top;\n",
       "    }\n",
       "\n",
       "    .dataframe thead th {\n",
       "        text-align: right;\n",
       "    }\n",
       "</style>\n",
       "<table border=\"1\" class=\"dataframe\">\n",
       "  <thead>\n",
       "    <tr style=\"text-align: right;\">\n",
       "      <th></th>\n",
       "      <th>NU_ANO</th>\n",
       "      <th>QTD_NAO_DECLARADO</th>\n",
       "      <th>QTD_BRANCA</th>\n",
       "      <th>QTD_PRETA</th>\n",
       "      <th>QTD_PARDA</th>\n",
       "      <th>QTD_AMARELA</th>\n",
       "      <th>QTD_INDIGENA</th>\n",
       "      <th>QTD_NAO_DISPOE</th>\n",
       "    </tr>\n",
       "  </thead>\n",
       "  <tbody>\n",
       "    <tr>\n",
       "      <th>0</th>\n",
       "      <td>2021</td>\n",
       "      <td>62587</td>\n",
       "      <td>1129348</td>\n",
       "      <td>379834</td>\n",
       "      <td>1303149</td>\n",
       "      <td>60009</td>\n",
       "      <td>17710</td>\n",
       "      <td>5</td>\n",
       "    </tr>\n",
       "  </tbody>\n",
       "</table>\n",
       "</div>"
      ],
      "text/plain": [
       "   NU_ANO  QTD_NAO_DECLARADO  QTD_BRANCA  QTD_PRETA  QTD_PARDA  QTD_AMARELA  \\\n",
       "0    2021              62587     1129348     379834    1303149        60009   \n",
       "\n",
       "   QTD_INDIGENA  QTD_NAO_DISPOE  \n",
       "0         17710               5  "
      ]
     },
     "execution_count": 70,
     "metadata": {},
     "output_type": "execute_result"
    }
   ],
   "source": [
    "geral20216.head()"
   ]
  },
  {
   "cell_type": "code",
   "execution_count": 75,
   "metadata": {},
   "outputs": [
    {
     "data": {
      "text/html": [
       "<div>\n",
       "<style scoped>\n",
       "    .dataframe tbody tr th:only-of-type {\n",
       "        vertical-align: middle;\n",
       "    }\n",
       "\n",
       "    .dataframe tbody tr th {\n",
       "        vertical-align: top;\n",
       "    }\n",
       "\n",
       "    .dataframe thead th {\n",
       "        text-align: right;\n",
       "    }\n",
       "</style>\n",
       "<table border=\"1\" class=\"dataframe\">\n",
       "  <thead>\n",
       "    <tr style=\"text-align: right;\">\n",
       "      <th></th>\n",
       "      <th>NU_ANO</th>\n",
       "      <th>QTD_NAO_DECLARADO</th>\n",
       "      <th>QTD_BRANCA</th>\n",
       "      <th>QTD_PRETA</th>\n",
       "      <th>QTD_PARDA</th>\n",
       "      <th>QTD_AMARELA</th>\n",
       "      <th>QTD_INDIGENA</th>\n",
       "      <th>QTD_NAO_DISPOE</th>\n",
       "    </tr>\n",
       "  </thead>\n",
       "  <tbody>\n",
       "    <tr>\n",
       "      <th>0</th>\n",
       "      <td>2022</td>\n",
       "      <td>56084</td>\n",
       "      <td>1158773</td>\n",
       "      <td>372491</td>\n",
       "      <td>1301016</td>\n",
       "      <td>56885</td>\n",
       "      <td>18124</td>\n",
       "      <td>0</td>\n",
       "    </tr>\n",
       "  </tbody>\n",
       "</table>\n",
       "</div>"
      ],
      "text/plain": [
       "   NU_ANO  QTD_NAO_DECLARADO  QTD_BRANCA  QTD_PRETA  QTD_PARDA  QTD_AMARELA  \\\n",
       "0    2022              56084     1158773     372491    1301016        56885   \n",
       "\n",
       "   QTD_INDIGENA  QTD_NAO_DISPOE  \n",
       "0         18124               0  "
      ]
     },
     "execution_count": 75,
     "metadata": {},
     "output_type": "execute_result"
    }
   ],
   "source": [
    "geral20226.head()"
   ]
  },
  {
   "cell_type": "code",
   "execution_count": 76,
   "metadata": {},
   "outputs": [
    {
     "data": {
      "text/html": [
       "<div>\n",
       "<style scoped>\n",
       "    .dataframe tbody tr th:only-of-type {\n",
       "        vertical-align: middle;\n",
       "    }\n",
       "\n",
       "    .dataframe tbody tr th {\n",
       "        vertical-align: top;\n",
       "    }\n",
       "\n",
       "    .dataframe thead th {\n",
       "        text-align: right;\n",
       "    }\n",
       "</style>\n",
       "<table border=\"1\" class=\"dataframe\">\n",
       "  <thead>\n",
       "    <tr style=\"text-align: right;\">\n",
       "      <th></th>\n",
       "      <th>NU_ANO</th>\n",
       "      <th>QTD_NAO_DECLARADO</th>\n",
       "      <th>QTD_BRANCA</th>\n",
       "      <th>QTD_PRETA</th>\n",
       "      <th>QTD_PARDA</th>\n",
       "      <th>QTD_AMARELA</th>\n",
       "      <th>QTD_INDIGENA</th>\n",
       "      <th>QTD_NAO_DISPOE</th>\n",
       "    </tr>\n",
       "  </thead>\n",
       "  <tbody>\n",
       "    <tr>\n",
       "      <th>0</th>\n",
       "      <td>2021</td>\n",
       "      <td>62587</td>\n",
       "      <td>1129348</td>\n",
       "      <td>379834</td>\n",
       "      <td>1303149</td>\n",
       "      <td>60009</td>\n",
       "      <td>17710</td>\n",
       "      <td>5</td>\n",
       "    </tr>\n",
       "    <tr>\n",
       "      <th>0</th>\n",
       "      <td>2022</td>\n",
       "      <td>56084</td>\n",
       "      <td>1158773</td>\n",
       "      <td>372491</td>\n",
       "      <td>1301016</td>\n",
       "      <td>56885</td>\n",
       "      <td>18124</td>\n",
       "      <td>0</td>\n",
       "    </tr>\n",
       "  </tbody>\n",
       "</table>\n",
       "</div>"
      ],
      "text/plain": [
       "   NU_ANO  QTD_NAO_DECLARADO  QTD_BRANCA  QTD_PRETA  QTD_PARDA  QTD_AMARELA  \\\n",
       "0    2021              62587     1129348     379834    1303149        60009   \n",
       "0    2022              56084     1158773     372491    1301016        56885   \n",
       "\n",
       "   QTD_INDIGENA  QTD_NAO_DISPOE  \n",
       "0         17710               5  \n",
       "0         18124               0  "
      ]
     },
     "execution_count": 76,
     "metadata": {},
     "output_type": "execute_result"
    }
   ],
   "source": [
    "geral6 = pd.concat([geral20216,geral20226])\n",
    "geral6.head()"
   ]
  },
  {
   "cell_type": "markdown",
   "metadata": {},
   "source": [
    "#### Salvar"
   ]
  },
  {
   "cell_type": "code",
   "execution_count": 77,
   "metadata": {},
   "outputs": [],
   "source": [
    "geral6.to_excel('C:\\\\Users\\\\Bruno\\\\OneDrive\\\\Área de Trabalho\\\\Microdados\\\\Datas\\\\Material apresentação\\\\Inscritos_Cor_ano.xlsx', index=False)"
   ]
  },
  {
   "cell_type": "markdown",
   "metadata": {},
   "source": [
    "#### Absoluto|Proporções por ano."
   ]
  },
  {
   "cell_type": "code",
   "execution_count": 78,
   "metadata": {},
   "outputs": [
    {
     "data": {
      "text/html": [
       "<div>\n",
       "<style scoped>\n",
       "    .dataframe tbody tr th:only-of-type {\n",
       "        vertical-align: middle;\n",
       "    }\n",
       "\n",
       "    .dataframe tbody tr th {\n",
       "        vertical-align: top;\n",
       "    }\n",
       "\n",
       "    .dataframe thead th {\n",
       "        text-align: right;\n",
       "    }\n",
       "</style>\n",
       "<table border=\"1\" class=\"dataframe\">\n",
       "  <thead>\n",
       "    <tr style=\"text-align: right;\">\n",
       "      <th></th>\n",
       "      <th>QTD_NAO_DECLARADO</th>\n",
       "      <th>QTD_BRANCA</th>\n",
       "      <th>QTD_PRETA</th>\n",
       "      <th>QTD_PARDA</th>\n",
       "      <th>QTD_AMARELA</th>\n",
       "      <th>QTD_INDIGENA</th>\n",
       "      <th>QTD_NAO_DISPOE</th>\n",
       "    </tr>\n",
       "  </thead>\n",
       "  <tbody>\n",
       "    <tr>\n",
       "      <th>0</th>\n",
       "      <td>62587</td>\n",
       "      <td>1129348</td>\n",
       "      <td>379834</td>\n",
       "      <td>1303149</td>\n",
       "      <td>60009</td>\n",
       "      <td>17710</td>\n",
       "      <td>5</td>\n",
       "    </tr>\n",
       "    <tr>\n",
       "      <th>0</th>\n",
       "      <td>56084</td>\n",
       "      <td>1158773</td>\n",
       "      <td>372491</td>\n",
       "      <td>1301016</td>\n",
       "      <td>56885</td>\n",
       "      <td>18124</td>\n",
       "      <td>0</td>\n",
       "    </tr>\n",
       "  </tbody>\n",
       "</table>\n",
       "</div>"
      ],
      "text/plain": [
       "   QTD_NAO_DECLARADO  QTD_BRANCA  QTD_PRETA  QTD_PARDA  QTD_AMARELA  \\\n",
       "0              62587     1129348     379834    1303149        60009   \n",
       "0              56084     1158773     372491    1301016        56885   \n",
       "\n",
       "   QTD_INDIGENA  QTD_NAO_DISPOE  \n",
       "0         17710               5  \n",
       "0         18124               0  "
      ]
     },
     "execution_count": 78,
     "metadata": {},
     "output_type": "execute_result"
    }
   ],
   "source": [
    "geral6_pct = geral6[['QTD_NAO_DECLARADO','QTD_BRANCA','QTD_PRETA','QTD_PARDA','QTD_AMARELA','QTD_INDIGENA','QTD_NAO_DISPOE']]\n",
    "geral6_pct.head()"
   ]
  },
  {
   "cell_type": "code",
   "execution_count": 79,
   "metadata": {},
   "outputs": [
    {
     "data": {
      "text/html": [
       "<div>\n",
       "<style scoped>\n",
       "    .dataframe tbody tr th:only-of-type {\n",
       "        vertical-align: middle;\n",
       "    }\n",
       "\n",
       "    .dataframe tbody tr th {\n",
       "        vertical-align: top;\n",
       "    }\n",
       "\n",
       "    .dataframe thead th {\n",
       "        text-align: right;\n",
       "    }\n",
       "</style>\n",
       "<table border=\"1\" class=\"dataframe\">\n",
       "  <thead>\n",
       "    <tr style=\"text-align: right;\">\n",
       "      <th></th>\n",
       "      <th>NU_ANO</th>\n",
       "      <th>QTD_NAO_DECLARADO</th>\n",
       "      <th>QTD_BRANCA</th>\n",
       "      <th>QTD_PRETA</th>\n",
       "      <th>QTD_PARDA</th>\n",
       "      <th>QTD_AMARELA</th>\n",
       "      <th>QTD_INDIGENA</th>\n",
       "      <th>QTD_NAO_DISPOE</th>\n",
       "      <th>QTD_NAO_DECLARADO_%</th>\n",
       "      <th>QTD_BRANCA_%</th>\n",
       "      <th>QTD_PRETA_%</th>\n",
       "      <th>QTD_PARDA_%</th>\n",
       "      <th>QTD_AMARELA_%</th>\n",
       "      <th>QTD_INDIGENA_%</th>\n",
       "      <th>QTD_NAO_DISPOE_%</th>\n",
       "    </tr>\n",
       "  </thead>\n",
       "  <tbody>\n",
       "    <tr>\n",
       "      <th>0</th>\n",
       "      <td>2021</td>\n",
       "      <td>62587</td>\n",
       "      <td>1129348</td>\n",
       "      <td>379834</td>\n",
       "      <td>1303149</td>\n",
       "      <td>60009</td>\n",
       "      <td>17710</td>\n",
       "      <td>5</td>\n",
       "      <td>2.12</td>\n",
       "      <td>38.25</td>\n",
       "      <td>12.86</td>\n",
       "      <td>44.14</td>\n",
       "      <td>2.03</td>\n",
       "      <td>0.60</td>\n",
       "      <td>0.0</td>\n",
       "    </tr>\n",
       "    <tr>\n",
       "      <th>1</th>\n",
       "      <td>2022</td>\n",
       "      <td>56084</td>\n",
       "      <td>1158773</td>\n",
       "      <td>372491</td>\n",
       "      <td>1301016</td>\n",
       "      <td>56885</td>\n",
       "      <td>18124</td>\n",
       "      <td>0</td>\n",
       "      <td>1.89</td>\n",
       "      <td>39.10</td>\n",
       "      <td>12.57</td>\n",
       "      <td>43.90</td>\n",
       "      <td>1.92</td>\n",
       "      <td>0.61</td>\n",
       "      <td>0.0</td>\n",
       "    </tr>\n",
       "  </tbody>\n",
       "</table>\n",
       "</div>"
      ],
      "text/plain": [
       "   NU_ANO  QTD_NAO_DECLARADO  QTD_BRANCA  QTD_PRETA  QTD_PARDA  QTD_AMARELA  \\\n",
       "0    2021              62587     1129348     379834    1303149        60009   \n",
       "1    2022              56084     1158773     372491    1301016        56885   \n",
       "\n",
       "   QTD_INDIGENA  QTD_NAO_DISPOE  QTD_NAO_DECLARADO_%  QTD_BRANCA_%  \\\n",
       "0         17710               5                 2.12         38.25   \n",
       "1         18124               0                 1.89         39.10   \n",
       "\n",
       "   QTD_PRETA_%  QTD_PARDA_%  QTD_AMARELA_%  QTD_INDIGENA_%  QTD_NAO_DISPOE_%  \n",
       "0        12.86        44.14           2.03            0.60               0.0  \n",
       "1        12.57        43.90           1.92            0.61               0.0  "
      ]
     },
     "execution_count": 79,
     "metadata": {},
     "output_type": "execute_result"
    }
   ],
   "source": [
    "soma_total = geral6_pct.sum(axis=1)\n",
    "\n",
    "# Iterar sobre as colunas e criar as colunas percentuais automaticamente\n",
    "for coluna in geral6_pct.columns:\n",
    "    if coluna.startswith('QTD_'):  # Certifica-se de que estamos lidando apenas com as colunas relevantes\n",
    "        coluna_percentual = coluna + '_%'\n",
    "        proporcao_coluna = geral6_pct[coluna] / soma_total\n",
    "        geral6_pct[coluna_percentual] = (proporcao_coluna * 100).round(2)\n",
    "\n",
    "geral6_pct.head()\n",
    "\n",
    "geral6 = geral6.merge(geral6_pct, on=['QTD_NAO_DECLARADO','QTD_BRANCA','QTD_PRETA','QTD_PARDA','QTD_AMARELA','QTD_INDIGENA','QTD_NAO_DISPOE'], how='outer')\n",
    "geral6.head(13)"
   ]
  },
  {
   "cell_type": "markdown",
   "metadata": {},
   "source": [
    "#### Salvar"
   ]
  },
  {
   "cell_type": "code",
   "execution_count": 81,
   "metadata": {},
   "outputs": [],
   "source": [
    "geral6.to_excel('C:\\\\Users\\\\Bruno\\\\OneDrive\\\\Área de Trabalho\\\\Microdados\\\\Datas\\\\Material apresentação\\\\Absoluto_proporcional_Cor_ano.xlsx', index=False)"
   ]
  },
  {
   "cell_type": "markdown",
   "metadata": {},
   "source": [
    "#### Absoluto|Proporções totais."
   ]
  },
  {
   "cell_type": "code",
   "execution_count": 85,
   "metadata": {},
   "outputs": [
    {
     "data": {
      "text/html": [
       "<div>\n",
       "<style scoped>\n",
       "    .dataframe tbody tr th:only-of-type {\n",
       "        vertical-align: middle;\n",
       "    }\n",
       "\n",
       "    .dataframe tbody tr th {\n",
       "        vertical-align: top;\n",
       "    }\n",
       "\n",
       "    .dataframe thead th {\n",
       "        text-align: right;\n",
       "    }\n",
       "</style>\n",
       "<table border=\"1\" class=\"dataframe\">\n",
       "  <thead>\n",
       "    <tr style=\"text-align: right;\">\n",
       "      <th></th>\n",
       "      <th>TP_COR_RACA</th>\n",
       "      <th>CONTAGEM</th>\n",
       "      <th>PROPORCAO</th>\n",
       "    </tr>\n",
       "  </thead>\n",
       "  <tbody>\n",
       "    <tr>\n",
       "      <th>0</th>\n",
       "      <td>Não declarado</td>\n",
       "      <td>56084</td>\n",
       "      <td>1.89</td>\n",
       "    </tr>\n",
       "    <tr>\n",
       "      <th>1</th>\n",
       "      <td>Branca</td>\n",
       "      <td>1158773</td>\n",
       "      <td>39.10</td>\n",
       "    </tr>\n",
       "    <tr>\n",
       "      <th>2</th>\n",
       "      <td>Preta</td>\n",
       "      <td>372491</td>\n",
       "      <td>12.57</td>\n",
       "    </tr>\n",
       "    <tr>\n",
       "      <th>3</th>\n",
       "      <td>Parda</td>\n",
       "      <td>1301016</td>\n",
       "      <td>43.90</td>\n",
       "    </tr>\n",
       "    <tr>\n",
       "      <th>4</th>\n",
       "      <td>Amarela</td>\n",
       "      <td>56885</td>\n",
       "      <td>1.92</td>\n",
       "    </tr>\n",
       "    <tr>\n",
       "      <th>5</th>\n",
       "      <td>Indígena</td>\n",
       "      <td>18124</td>\n",
       "      <td>0.61</td>\n",
       "    </tr>\n",
       "  </tbody>\n",
       "</table>\n",
       "</div>"
      ],
      "text/plain": [
       "     TP_COR_RACA  CONTAGEM  PROPORCAO\n",
       "0  Não declarado     56084       1.89\n",
       "1         Branca   1158773      39.10\n",
       "2          Preta    372491      12.57\n",
       "3          Parda   1301016      43.90\n",
       "4        Amarela     56885       1.92\n",
       "5       Indígena     18124       0.61"
      ]
     },
     "execution_count": 85,
     "metadata": {},
     "output_type": "execute_result"
    }
   ],
   "source": [
    "geral6_prop = df_enem['TP_COR_RACA'].value_counts().sort_index()\n",
    "\n",
    "geral6_prop = pd.DataFrame({'TP_COR_RACA': geral6_prop.index, 'CONTAGEM': geral6_prop.values})\n",
    "geral6_prop['PROPORCAO'] = ((geral6_prop['CONTAGEM'] / geral6_prop['CONTAGEM'].sum())*100).round(2)\n",
    "geral6_prop['TP_COR_RACA'] = geral6_prop['TP_COR_RACA'].map({0: 'Não declarado',1: 'Branca', 2: 'Preta',3: 'Parda',4: 'Amarela', 5:'Indígena', 6:'Não dispões da informação'})\n",
    "geral6_prop.head(7)"
   ]
  },
  {
   "cell_type": "markdown",
   "metadata": {},
   "source": [
    "#### Salvar"
   ]
  },
  {
   "cell_type": "code",
   "execution_count": 86,
   "metadata": {},
   "outputs": [],
   "source": [
    "geral6_prop.to_excel('C:\\\\Users\\\\Bruno\\\\OneDrive\\\\Área de Trabalho\\\\Microdados\\\\Datas\\\\Material apresentação\\\\Absoluto_proporcional_Cor.xlsx', index=False)"
   ]
  },
  {
   "cell_type": "markdown",
   "metadata": {},
   "source": [
    "#### Abstenções por etnia."
   ]
  },
  {
   "cell_type": "code",
   "execution_count": 87,
   "metadata": {},
   "outputs": [
    {
     "data": {
      "text/html": [
       "<div>\n",
       "<style scoped>\n",
       "    .dataframe tbody tr th:only-of-type {\n",
       "        vertical-align: middle;\n",
       "    }\n",
       "\n",
       "    .dataframe tbody tr th {\n",
       "        vertical-align: top;\n",
       "    }\n",
       "\n",
       "    .dataframe thead th {\n",
       "        text-align: right;\n",
       "    }\n",
       "</style>\n",
       "<table border=\"1\" class=\"dataframe\">\n",
       "  <thead>\n",
       "    <tr style=\"text-align: right;\">\n",
       "      <th></th>\n",
       "      <th>TP_COR_RACA</th>\n",
       "      <th>ABS_ALL</th>\n",
       "      <th>ABS_ALL_%</th>\n",
       "    </tr>\n",
       "  </thead>\n",
       "  <tbody>\n",
       "    <tr>\n",
       "      <th>0</th>\n",
       "      <td>Não declaro</td>\n",
       "      <td>19572</td>\n",
       "      <td>2.14</td>\n",
       "    </tr>\n",
       "    <tr>\n",
       "      <th>1</th>\n",
       "      <td>Branca</td>\n",
       "      <td>311303</td>\n",
       "      <td>34.07</td>\n",
       "    </tr>\n",
       "    <tr>\n",
       "      <th>2</th>\n",
       "      <td>Preta</td>\n",
       "      <td>128010</td>\n",
       "      <td>14.01</td>\n",
       "    </tr>\n",
       "    <tr>\n",
       "      <th>3</th>\n",
       "      <td>Parda</td>\n",
       "      <td>429600</td>\n",
       "      <td>47.02</td>\n",
       "    </tr>\n",
       "    <tr>\n",
       "      <th>4</th>\n",
       "      <td>Amarela</td>\n",
       "      <td>18111</td>\n",
       "      <td>1.98</td>\n",
       "    </tr>\n",
       "  </tbody>\n",
       "</table>\n",
       "</div>"
      ],
      "text/plain": [
       "   TP_COR_RACA  ABS_ALL  ABS_ALL_%\n",
       "0  Não declaro    19572       2.14\n",
       "1       Branca   311303      34.07\n",
       "2        Preta   128010      14.01\n",
       "3        Parda   429600      47.02\n",
       "4      Amarela    18111       1.98"
      ]
     },
     "execution_count": 87,
     "metadata": {},
     "output_type": "execute_result"
    }
   ],
   "source": [
    "geral6_ABS = df_enem.groupby(['TP_COR_RACA'])['ABS_ALL'].sum().reset_index()\n",
    "geral6_ABS['ABS_ALL_%'] = ((geral6_ABS['ABS_ALL'] / geral6_ABS['ABS_ALL'].sum())*100).round(2)\n",
    "geral6_ABS['TP_COR_RACA'] = geral6_ABS['TP_COR_RACA'].map({0: 'Não declaro', 1: 'Branca', 2: 'Preta', 3: 'Parda', 4: 'Amarela',5:'Indígena', 6:'Não dispões da informação'})\n",
    "geral6_ABS.head()"
   ]
  },
  {
   "cell_type": "markdown",
   "metadata": {},
   "source": [
    "#### Salvar"
   ]
  },
  {
   "cell_type": "code",
   "execution_count": 88,
   "metadata": {},
   "outputs": [],
   "source": [
    "geral6_ABS.to_excel('C:\\\\Users\\\\Bruno\\\\OneDrive\\\\Área de Trabalho\\\\Microdados\\\\Datas\\\\Material apresentação\\\\Abstenções_Cor.xlsx', index=False)"
   ]
  },
  {
   "cell_type": "markdown",
   "metadata": {},
   "source": [
    "#### Média de etnia por ano."
   ]
  },
  {
   "cell_type": "code",
   "execution_count": 101,
   "metadata": {},
   "outputs": [],
   "source": [
    "df_enem = df[['NU_INSCRICAO','NU_ANO','TP_COR_RACA','ABS_ALL','MEDIA_GLOBAL','MEDIA_OBJ']]"
   ]
  },
  {
   "cell_type": "code",
   "execution_count": 102,
   "metadata": {},
   "outputs": [],
   "source": [
    "geral6_media_ano = df_enem.groupby(['NU_ANO', 'TP_COR_RACA'])[['MEDIA_OBJ', 'MEDIA_GLOBAL']].mean().reset_index().round(2)\n",
    "geral6_media_ano['TP_COR_RACA'] = geral6_media_ano['TP_COR_RACA'].map({0: 'Não declaro', 1: 'Branca', 2: 'Preta', 3: 'Parda', 4: 'Amarela',5:'Indígena', 6:'Não dispões da informação'})\n",
    "geral6_media_ano = geral6_media_ano.pivot(index='NU_ANO', columns='TP_COR_RACA')\n",
    "geral6_media_ano = geral6_media_ano.reorder_levels([0 , 1], axis=1).sort_index(axis=1, level=0)\n",
    "nome_df = f'geral{ano_enem}6_media_ano'\n",
    "globals()[nome_df] = geral6_media_ano"
   ]
  },
  {
   "cell_type": "code",
   "execution_count": 98,
   "metadata": {},
   "outputs": [
    {
     "data": {
      "text/html": [
       "<div>\n",
       "<style scoped>\n",
       "    .dataframe tbody tr th:only-of-type {\n",
       "        vertical-align: middle;\n",
       "    }\n",
       "\n",
       "    .dataframe tbody tr th {\n",
       "        vertical-align: top;\n",
       "    }\n",
       "\n",
       "    .dataframe thead tr th {\n",
       "        text-align: left;\n",
       "    }\n",
       "\n",
       "    .dataframe thead tr:last-of-type th {\n",
       "        text-align: right;\n",
       "    }\n",
       "</style>\n",
       "<table border=\"1\" class=\"dataframe\">\n",
       "  <thead>\n",
       "    <tr>\n",
       "      <th></th>\n",
       "      <th colspan=\"7\" halign=\"left\">MEDIA_GLOBAL</th>\n",
       "      <th colspan=\"7\" halign=\"left\">MEDIA_OBJ</th>\n",
       "    </tr>\n",
       "    <tr>\n",
       "      <th>TP_COR_RACA</th>\n",
       "      <th>Amarela</th>\n",
       "      <th>Branca</th>\n",
       "      <th>Indígena</th>\n",
       "      <th>Não declaro</th>\n",
       "      <th>Não dispões da informação</th>\n",
       "      <th>Parda</th>\n",
       "      <th>Preta</th>\n",
       "      <th>Amarela</th>\n",
       "      <th>Branca</th>\n",
       "      <th>Indígena</th>\n",
       "      <th>Não declaro</th>\n",
       "      <th>Não dispões da informação</th>\n",
       "      <th>Parda</th>\n",
       "      <th>Preta</th>\n",
       "    </tr>\n",
       "    <tr>\n",
       "      <th>NU_ANO</th>\n",
       "      <th></th>\n",
       "      <th></th>\n",
       "      <th></th>\n",
       "      <th></th>\n",
       "      <th></th>\n",
       "      <th></th>\n",
       "      <th></th>\n",
       "      <th></th>\n",
       "      <th></th>\n",
       "      <th></th>\n",
       "      <th></th>\n",
       "      <th></th>\n",
       "      <th></th>\n",
       "      <th></th>\n",
       "    </tr>\n",
       "  </thead>\n",
       "  <tbody>\n",
       "    <tr>\n",
       "      <th>2021</th>\n",
       "      <td>529.57</td>\n",
       "      <td>559.52</td>\n",
       "      <td>470.5</td>\n",
       "      <td>527.68</td>\n",
       "      <td>481.58</td>\n",
       "      <td>512.53</td>\n",
       "      <td>507.52</td>\n",
       "      <td>509.42</td>\n",
       "      <td>536.48</td>\n",
       "      <td>460.26</td>\n",
       "      <td>512.09</td>\n",
       "      <td>479.48</td>\n",
       "      <td>493.46</td>\n",
       "      <td>489.67</td>\n",
       "    </tr>\n",
       "  </tbody>\n",
       "</table>\n",
       "</div>"
      ],
      "text/plain": [
       "            MEDIA_GLOBAL                               \\\n",
       "TP_COR_RACA      Amarela  Branca Indígena Não declaro   \n",
       "NU_ANO                                                  \n",
       "2021              529.57  559.52    470.5      527.68   \n",
       "\n",
       "                                                      MEDIA_OBJ          \\\n",
       "TP_COR_RACA Não dispões da informação   Parda   Preta   Amarela  Branca   \n",
       "NU_ANO                                                                    \n",
       "2021                           481.58  512.53  507.52    509.42  536.48   \n",
       "\n",
       "                                                                            \n",
       "TP_COR_RACA Indígena Não declaro Não dispões da informação   Parda   Preta  \n",
       "NU_ANO                                                                      \n",
       "2021          460.26      512.09                    479.48  493.46  489.67  "
      ]
     },
     "execution_count": 98,
     "metadata": {},
     "output_type": "execute_result"
    }
   ],
   "source": [
    "geral20216_media_ano.head()"
   ]
  },
  {
   "cell_type": "code",
   "execution_count": 103,
   "metadata": {},
   "outputs": [
    {
     "data": {
      "text/html": [
       "<div>\n",
       "<style scoped>\n",
       "    .dataframe tbody tr th:only-of-type {\n",
       "        vertical-align: middle;\n",
       "    }\n",
       "\n",
       "    .dataframe tbody tr th {\n",
       "        vertical-align: top;\n",
       "    }\n",
       "\n",
       "    .dataframe thead tr th {\n",
       "        text-align: left;\n",
       "    }\n",
       "\n",
       "    .dataframe thead tr:last-of-type th {\n",
       "        text-align: right;\n",
       "    }\n",
       "</style>\n",
       "<table border=\"1\" class=\"dataframe\">\n",
       "  <thead>\n",
       "    <tr>\n",
       "      <th></th>\n",
       "      <th colspan=\"6\" halign=\"left\">MEDIA_GLOBAL</th>\n",
       "      <th colspan=\"6\" halign=\"left\">MEDIA_OBJ</th>\n",
       "    </tr>\n",
       "    <tr>\n",
       "      <th>TP_COR_RACA</th>\n",
       "      <th>Amarela</th>\n",
       "      <th>Branca</th>\n",
       "      <th>Indígena</th>\n",
       "      <th>Não declaro</th>\n",
       "      <th>Parda</th>\n",
       "      <th>Preta</th>\n",
       "      <th>Amarela</th>\n",
       "      <th>Branca</th>\n",
       "      <th>Indígena</th>\n",
       "      <th>Não declaro</th>\n",
       "      <th>Parda</th>\n",
       "      <th>Preta</th>\n",
       "    </tr>\n",
       "    <tr>\n",
       "      <th>NU_ANO</th>\n",
       "      <th></th>\n",
       "      <th></th>\n",
       "      <th></th>\n",
       "      <th></th>\n",
       "      <th></th>\n",
       "      <th></th>\n",
       "      <th></th>\n",
       "      <th></th>\n",
       "      <th></th>\n",
       "      <th></th>\n",
       "      <th></th>\n",
       "      <th></th>\n",
       "    </tr>\n",
       "  </thead>\n",
       "  <tbody>\n",
       "    <tr>\n",
       "      <th>2022</th>\n",
       "      <td>533.98</td>\n",
       "      <td>566.57</td>\n",
       "      <td>479.71</td>\n",
       "      <td>528.42</td>\n",
       "      <td>519.52</td>\n",
       "      <td>514.01</td>\n",
       "      <td>516.47</td>\n",
       "      <td>543.37</td>\n",
       "      <td>471.0</td>\n",
       "      <td>515.48</td>\n",
       "      <td>503.22</td>\n",
       "      <td>499.02</td>\n",
       "    </tr>\n",
       "  </tbody>\n",
       "</table>\n",
       "</div>"
      ],
      "text/plain": [
       "            MEDIA_GLOBAL                                               \\\n",
       "TP_COR_RACA      Amarela  Branca Indígena Não declaro   Parda   Preta   \n",
       "NU_ANO                                                                  \n",
       "2022              533.98  566.57   479.71      528.42  519.52  514.01   \n",
       "\n",
       "            MEDIA_OBJ                                               \n",
       "TP_COR_RACA   Amarela  Branca Indígena Não declaro   Parda   Preta  \n",
       "NU_ANO                                                              \n",
       "2022           516.47  543.37    471.0      515.48  503.22  499.02  "
      ]
     },
     "execution_count": 103,
     "metadata": {},
     "output_type": "execute_result"
    }
   ],
   "source": [
    "geral20226_media_ano.head()"
   ]
  },
  {
   "cell_type": "code",
   "execution_count": 104,
   "metadata": {},
   "outputs": [
    {
     "data": {
      "text/html": [
       "<div>\n",
       "<style scoped>\n",
       "    .dataframe tbody tr th:only-of-type {\n",
       "        vertical-align: middle;\n",
       "    }\n",
       "\n",
       "    .dataframe tbody tr th {\n",
       "        vertical-align: top;\n",
       "    }\n",
       "\n",
       "    .dataframe thead tr th {\n",
       "        text-align: left;\n",
       "    }\n",
       "\n",
       "    .dataframe thead tr:last-of-type th {\n",
       "        text-align: right;\n",
       "    }\n",
       "</style>\n",
       "<table border=\"1\" class=\"dataframe\">\n",
       "  <thead>\n",
       "    <tr>\n",
       "      <th></th>\n",
       "      <th colspan=\"7\" halign=\"left\">MEDIA_GLOBAL</th>\n",
       "      <th colspan=\"7\" halign=\"left\">MEDIA_OBJ</th>\n",
       "    </tr>\n",
       "    <tr>\n",
       "      <th>TP_COR_RACA</th>\n",
       "      <th>Amarela</th>\n",
       "      <th>Branca</th>\n",
       "      <th>Indígena</th>\n",
       "      <th>Não declaro</th>\n",
       "      <th>Não dispões da informação</th>\n",
       "      <th>Parda</th>\n",
       "      <th>Preta</th>\n",
       "      <th>Amarela</th>\n",
       "      <th>Branca</th>\n",
       "      <th>Indígena</th>\n",
       "      <th>Não declaro</th>\n",
       "      <th>Não dispões da informação</th>\n",
       "      <th>Parda</th>\n",
       "      <th>Preta</th>\n",
       "    </tr>\n",
       "    <tr>\n",
       "      <th>NU_ANO</th>\n",
       "      <th></th>\n",
       "      <th></th>\n",
       "      <th></th>\n",
       "      <th></th>\n",
       "      <th></th>\n",
       "      <th></th>\n",
       "      <th></th>\n",
       "      <th></th>\n",
       "      <th></th>\n",
       "      <th></th>\n",
       "      <th></th>\n",
       "      <th></th>\n",
       "      <th></th>\n",
       "      <th></th>\n",
       "    </tr>\n",
       "  </thead>\n",
       "  <tbody>\n",
       "    <tr>\n",
       "      <th>2021</th>\n",
       "      <td>529.57</td>\n",
       "      <td>559.52</td>\n",
       "      <td>470.50</td>\n",
       "      <td>527.68</td>\n",
       "      <td>481.58</td>\n",
       "      <td>512.53</td>\n",
       "      <td>507.52</td>\n",
       "      <td>509.42</td>\n",
       "      <td>536.48</td>\n",
       "      <td>460.26</td>\n",
       "      <td>512.09</td>\n",
       "      <td>479.48</td>\n",
       "      <td>493.46</td>\n",
       "      <td>489.67</td>\n",
       "    </tr>\n",
       "    <tr>\n",
       "      <th>2022</th>\n",
       "      <td>533.98</td>\n",
       "      <td>566.57</td>\n",
       "      <td>479.71</td>\n",
       "      <td>528.42</td>\n",
       "      <td>NaN</td>\n",
       "      <td>519.52</td>\n",
       "      <td>514.01</td>\n",
       "      <td>516.47</td>\n",
       "      <td>543.37</td>\n",
       "      <td>471.00</td>\n",
       "      <td>515.48</td>\n",
       "      <td>NaN</td>\n",
       "      <td>503.22</td>\n",
       "      <td>499.02</td>\n",
       "    </tr>\n",
       "  </tbody>\n",
       "</table>\n",
       "</div>"
      ],
      "text/plain": [
       "            MEDIA_GLOBAL                               \\\n",
       "TP_COR_RACA      Amarela  Branca Indígena Não declaro   \n",
       "NU_ANO                                                  \n",
       "2021              529.57  559.52   470.50      527.68   \n",
       "2022              533.98  566.57   479.71      528.42   \n",
       "\n",
       "                                                      MEDIA_OBJ          \\\n",
       "TP_COR_RACA Não dispões da informação   Parda   Preta   Amarela  Branca   \n",
       "NU_ANO                                                                    \n",
       "2021                           481.58  512.53  507.52    509.42  536.48   \n",
       "2022                              NaN  519.52  514.01    516.47  543.37   \n",
       "\n",
       "                                                                            \n",
       "TP_COR_RACA Indígena Não declaro Não dispões da informação   Parda   Preta  \n",
       "NU_ANO                                                                      \n",
       "2021          460.26      512.09                    479.48  493.46  489.67  \n",
       "2022          471.00      515.48                       NaN  503.22  499.02  "
      ]
     },
     "execution_count": 104,
     "metadata": {},
     "output_type": "execute_result"
    }
   ],
   "source": [
    "geral6_media_ano = pd.concat([geral20216_media_ano,geral20226_media_ano])\n",
    "geral6_media_ano.head()"
   ]
  },
  {
   "cell_type": "markdown",
   "metadata": {},
   "source": [
    "#### Salvar. True para salvar o multindex."
   ]
  },
  {
   "cell_type": "code",
   "execution_count": 105,
   "metadata": {},
   "outputs": [],
   "source": [
    "geral6_media_ano.to_excel('C:\\\\Users\\\\Bruno\\\\OneDrive\\\\Área de Trabalho\\\\Microdados\\\\Datas\\\\Material apresentação\\\\Media_Cor_ano.xlsx', index=True)"
   ]
  },
  {
   "cell_type": "markdown",
   "metadata": {},
   "source": [
    "#### Média por Etnia"
   ]
  },
  {
   "cell_type": "code",
   "execution_count": 106,
   "metadata": {},
   "outputs": [
    {
     "data": {
      "text/html": [
       "<div>\n",
       "<style scoped>\n",
       "    .dataframe tbody tr th:only-of-type {\n",
       "        vertical-align: middle;\n",
       "    }\n",
       "\n",
       "    .dataframe tbody tr th {\n",
       "        vertical-align: top;\n",
       "    }\n",
       "\n",
       "    .dataframe thead th {\n",
       "        text-align: right;\n",
       "    }\n",
       "</style>\n",
       "<table border=\"1\" class=\"dataframe\">\n",
       "  <thead>\n",
       "    <tr style=\"text-align: right;\">\n",
       "      <th></th>\n",
       "      <th>TP_COR_RACA</th>\n",
       "      <th>MEDIA_OBJ</th>\n",
       "      <th>MEDIA_GLOBAL</th>\n",
       "    </tr>\n",
       "  </thead>\n",
       "  <tbody>\n",
       "    <tr>\n",
       "      <th>0</th>\n",
       "      <td>Não declarado</td>\n",
       "      <td>515.48</td>\n",
       "      <td>528.42</td>\n",
       "    </tr>\n",
       "    <tr>\n",
       "      <th>1</th>\n",
       "      <td>Branca</td>\n",
       "      <td>543.37</td>\n",
       "      <td>566.57</td>\n",
       "    </tr>\n",
       "    <tr>\n",
       "      <th>2</th>\n",
       "      <td>Preta</td>\n",
       "      <td>499.02</td>\n",
       "      <td>514.01</td>\n",
       "    </tr>\n",
       "    <tr>\n",
       "      <th>3</th>\n",
       "      <td>Parda</td>\n",
       "      <td>503.22</td>\n",
       "      <td>519.52</td>\n",
       "    </tr>\n",
       "    <tr>\n",
       "      <th>4</th>\n",
       "      <td>Amarela</td>\n",
       "      <td>516.47</td>\n",
       "      <td>533.98</td>\n",
       "    </tr>\n",
       "    <tr>\n",
       "      <th>5</th>\n",
       "      <td>Indígena</td>\n",
       "      <td>471.00</td>\n",
       "      <td>479.71</td>\n",
       "    </tr>\n",
       "  </tbody>\n",
       "</table>\n",
       "</div>"
      ],
      "text/plain": [
       "     TP_COR_RACA  MEDIA_OBJ  MEDIA_GLOBAL\n",
       "0  Não declarado     515.48        528.42\n",
       "1         Branca     543.37        566.57\n",
       "2          Preta     499.02        514.01\n",
       "3          Parda     503.22        519.52\n",
       "4        Amarela     516.47        533.98\n",
       "5       Indígena     471.00        479.71"
      ]
     },
     "execution_count": 106,
     "metadata": {},
     "output_type": "execute_result"
    }
   ],
   "source": [
    "geral6_media = df_enem.groupby('TP_COR_RACA')[['MEDIA_OBJ', 'MEDIA_GLOBAL']].mean().reset_index().round(2)\n",
    "geral6_media['TP_COR_RACA'] = geral6_media['TP_COR_RACA'].map({0: 'Não declarado', 1: 'Branca', 2: 'Preta', 3: 'Parda', 4: 'Amarela', 5: 'Indígena', 6: 'Não dispões da informação'})\n",
    "geral6_media.head(7)"
   ]
  },
  {
   "cell_type": "markdown",
   "metadata": {},
   "source": [
    "#### Salvar"
   ]
  },
  {
   "cell_type": "code",
   "execution_count": 107,
   "metadata": {},
   "outputs": [],
   "source": [
    "geral6_media.to_excel('C:\\\\Users\\\\Bruno\\\\OneDrive\\\\Área de Trabalho\\\\Microdados\\\\Datas\\\\Material apresentação\\\\Media_Cor.xlsx', index=False)"
   ]
  },
  {
   "cell_type": "markdown",
   "metadata": {},
   "source": [
    "## 7) Estado Civil."
   ]
  },
  {
   "cell_type": "code",
   "execution_count": 128,
   "metadata": {},
   "outputs": [],
   "source": [
    "df_enem = df[['NU_INSCRICAO','NU_ANO','TP_ESTADO_CIVIL','ABS_ALL','MEDIA_GLOBAL','MEDIA_OBJ']]"
   ]
  },
  {
   "cell_type": "code",
   "execution_count": 129,
   "metadata": {},
   "outputs": [
    {
     "data": {
      "text/plain": [
       "1    2637014\n",
       "2     164016\n",
       "0     111643\n",
       "3      47231\n",
       "4       3469\n",
       "Name: TP_ESTADO_CIVIL, dtype: int64"
      ]
     },
     "execution_count": 129,
     "metadata": {},
     "output_type": "execute_result"
    }
   ],
   "source": [
    "df_enem['TP_ESTADO_CIVIL'].value_counts()"
   ]
  },
  {
   "cell_type": "markdown",
   "metadata": {},
   "source": [
    "#### Quantidade."
   ]
  },
  {
   "cell_type": "code",
   "execution_count": 130,
   "metadata": {},
   "outputs": [],
   "source": [
    "geral7 = df_enem.groupby(['NU_ANO', 'TP_ESTADO_CIVIL'])['NU_INSCRICAO'].count().reset_index()\n",
    "geral7 = geral7.pivot(index='NU_ANO', columns='TP_ESTADO_CIVIL', values='NU_INSCRICAO').reset_index()\n",
    "# Renomear as colunas para facilitar a compreensão\n",
    "geral7.columns = ['NU_ANO', 'QTD_NAO_INFORMADO','QTD_SOLTEIRO','QTD_CASADO','QTD_DIVORCIADO','QTD_VIUVO']\n",
    "geral7 = geral7.fillna(0).astype(int) #Possui NAn\n",
    "nome_df = f'geral{ano_enem}7'\n",
    "globals()[nome_df] = geral7\n"
   ]
  },
  {
   "cell_type": "code",
   "execution_count": 125,
   "metadata": {},
   "outputs": [
    {
     "data": {
      "text/html": [
       "<div>\n",
       "<style scoped>\n",
       "    .dataframe tbody tr th:only-of-type {\n",
       "        vertical-align: middle;\n",
       "    }\n",
       "\n",
       "    .dataframe tbody tr th {\n",
       "        vertical-align: top;\n",
       "    }\n",
       "\n",
       "    .dataframe thead th {\n",
       "        text-align: right;\n",
       "    }\n",
       "</style>\n",
       "<table border=\"1\" class=\"dataframe\">\n",
       "  <thead>\n",
       "    <tr style=\"text-align: right;\">\n",
       "      <th></th>\n",
       "      <th>NU_ANO</th>\n",
       "      <th>QTD_NAO_INFORMADO</th>\n",
       "      <th>QTD_SOLTEIRO</th>\n",
       "      <th>QTD_CASADO</th>\n",
       "      <th>QTD_DIVORCIADO</th>\n",
       "      <th>QTD_VIUVO</th>\n",
       "    </tr>\n",
       "  </thead>\n",
       "  <tbody>\n",
       "    <tr>\n",
       "      <th>0</th>\n",
       "      <td>2021</td>\n",
       "      <td>125288</td>\n",
       "      <td>2576830</td>\n",
       "      <td>194855</td>\n",
       "      <td>51880</td>\n",
       "      <td>3789</td>\n",
       "    </tr>\n",
       "  </tbody>\n",
       "</table>\n",
       "</div>"
      ],
      "text/plain": [
       "   NU_ANO  QTD_NAO_INFORMADO  QTD_SOLTEIRO  QTD_CASADO  QTD_DIVORCIADO  \\\n",
       "0    2021             125288       2576830      194855           51880   \n",
       "\n",
       "   QTD_VIUVO  \n",
       "0       3789  "
      ]
     },
     "execution_count": 125,
     "metadata": {},
     "output_type": "execute_result"
    }
   ],
   "source": [
    "geral20217.head()"
   ]
  },
  {
   "cell_type": "code",
   "execution_count": 131,
   "metadata": {},
   "outputs": [
    {
     "data": {
      "text/html": [
       "<div>\n",
       "<style scoped>\n",
       "    .dataframe tbody tr th:only-of-type {\n",
       "        vertical-align: middle;\n",
       "    }\n",
       "\n",
       "    .dataframe tbody tr th {\n",
       "        vertical-align: top;\n",
       "    }\n",
       "\n",
       "    .dataframe thead th {\n",
       "        text-align: right;\n",
       "    }\n",
       "</style>\n",
       "<table border=\"1\" class=\"dataframe\">\n",
       "  <thead>\n",
       "    <tr style=\"text-align: right;\">\n",
       "      <th></th>\n",
       "      <th>NU_ANO</th>\n",
       "      <th>QTD_NAO_INFORMADO</th>\n",
       "      <th>QTD_SOLTEIRO</th>\n",
       "      <th>QTD_CASADO</th>\n",
       "      <th>QTD_DIVORCIADO</th>\n",
       "      <th>QTD_VIUVO</th>\n",
       "    </tr>\n",
       "  </thead>\n",
       "  <tbody>\n",
       "    <tr>\n",
       "      <th>0</th>\n",
       "      <td>2022</td>\n",
       "      <td>111643</td>\n",
       "      <td>2637014</td>\n",
       "      <td>164016</td>\n",
       "      <td>47231</td>\n",
       "      <td>3469</td>\n",
       "    </tr>\n",
       "  </tbody>\n",
       "</table>\n",
       "</div>"
      ],
      "text/plain": [
       "   NU_ANO  QTD_NAO_INFORMADO  QTD_SOLTEIRO  QTD_CASADO  QTD_DIVORCIADO  \\\n",
       "0    2022             111643       2637014      164016           47231   \n",
       "\n",
       "   QTD_VIUVO  \n",
       "0       3469  "
      ]
     },
     "execution_count": 131,
     "metadata": {},
     "output_type": "execute_result"
    }
   ],
   "source": [
    "geral20227.head()"
   ]
  },
  {
   "cell_type": "code",
   "execution_count": 132,
   "metadata": {},
   "outputs": [
    {
     "data": {
      "text/html": [
       "<div>\n",
       "<style scoped>\n",
       "    .dataframe tbody tr th:only-of-type {\n",
       "        vertical-align: middle;\n",
       "    }\n",
       "\n",
       "    .dataframe tbody tr th {\n",
       "        vertical-align: top;\n",
       "    }\n",
       "\n",
       "    .dataframe thead th {\n",
       "        text-align: right;\n",
       "    }\n",
       "</style>\n",
       "<table border=\"1\" class=\"dataframe\">\n",
       "  <thead>\n",
       "    <tr style=\"text-align: right;\">\n",
       "      <th></th>\n",
       "      <th>NU_ANO</th>\n",
       "      <th>QTD_NAO_INFORMADO</th>\n",
       "      <th>QTD_SOLTEIRO</th>\n",
       "      <th>QTD_CASADO</th>\n",
       "      <th>QTD_DIVORCIADO</th>\n",
       "      <th>QTD_VIUVO</th>\n",
       "    </tr>\n",
       "  </thead>\n",
       "  <tbody>\n",
       "    <tr>\n",
       "      <th>0</th>\n",
       "      <td>2021</td>\n",
       "      <td>125288</td>\n",
       "      <td>2576830</td>\n",
       "      <td>194855</td>\n",
       "      <td>51880</td>\n",
       "      <td>3789</td>\n",
       "    </tr>\n",
       "    <tr>\n",
       "      <th>0</th>\n",
       "      <td>2022</td>\n",
       "      <td>111643</td>\n",
       "      <td>2637014</td>\n",
       "      <td>164016</td>\n",
       "      <td>47231</td>\n",
       "      <td>3469</td>\n",
       "    </tr>\n",
       "  </tbody>\n",
       "</table>\n",
       "</div>"
      ],
      "text/plain": [
       "   NU_ANO  QTD_NAO_INFORMADO  QTD_SOLTEIRO  QTD_CASADO  QTD_DIVORCIADO  \\\n",
       "0    2021             125288       2576830      194855           51880   \n",
       "0    2022             111643       2637014      164016           47231   \n",
       "\n",
       "   QTD_VIUVO  \n",
       "0       3789  \n",
       "0       3469  "
      ]
     },
     "execution_count": 132,
     "metadata": {},
     "output_type": "execute_result"
    }
   ],
   "source": [
    "geral7 = pd.concat([geral20217,geral20227])\n",
    "geral7.head()"
   ]
  },
  {
   "cell_type": "markdown",
   "metadata": {},
   "source": [
    "#### Salvar"
   ]
  },
  {
   "cell_type": "code",
   "execution_count": 133,
   "metadata": {},
   "outputs": [],
   "source": [
    "geral7.to_excel('C:\\\\Users\\\\Bruno\\\\OneDrive\\\\Área de Trabalho\\\\Microdados\\\\Datas\\\\Material apresentação\\\\Inscritos_Civil_ano.xlsx', index=False)"
   ]
  },
  {
   "cell_type": "markdown",
   "metadata": {},
   "source": [
    "#### Absoluto|Proporção de estado civil por ano."
   ]
  },
  {
   "cell_type": "code",
   "execution_count": 134,
   "metadata": {},
   "outputs": [
    {
     "data": {
      "text/html": [
       "<div>\n",
       "<style scoped>\n",
       "    .dataframe tbody tr th:only-of-type {\n",
       "        vertical-align: middle;\n",
       "    }\n",
       "\n",
       "    .dataframe tbody tr th {\n",
       "        vertical-align: top;\n",
       "    }\n",
       "\n",
       "    .dataframe thead th {\n",
       "        text-align: right;\n",
       "    }\n",
       "</style>\n",
       "<table border=\"1\" class=\"dataframe\">\n",
       "  <thead>\n",
       "    <tr style=\"text-align: right;\">\n",
       "      <th></th>\n",
       "      <th>NU_ANO</th>\n",
       "      <th>QTD_NAO_INFORMADO</th>\n",
       "      <th>QTD_SOLTEIRO</th>\n",
       "      <th>QTD_CASADO</th>\n",
       "      <th>QTD_DIVORCIADO</th>\n",
       "      <th>QTD_VIUVO</th>\n",
       "      <th>QTD_NAO_INFORMADO_%</th>\n",
       "      <th>QTD_SOLTEIRO_%</th>\n",
       "      <th>QTD_CASADO_%</th>\n",
       "      <th>QTD_DIVORCIADO_%</th>\n",
       "      <th>QTD_VIUVO_%</th>\n",
       "    </tr>\n",
       "  </thead>\n",
       "  <tbody>\n",
       "    <tr>\n",
       "      <th>0</th>\n",
       "      <td>2021</td>\n",
       "      <td>125288</td>\n",
       "      <td>2576830</td>\n",
       "      <td>194855</td>\n",
       "      <td>51880</td>\n",
       "      <td>3789</td>\n",
       "      <td>4.24</td>\n",
       "      <td>87.27</td>\n",
       "      <td>6.60</td>\n",
       "      <td>1.76</td>\n",
       "      <td>0.13</td>\n",
       "    </tr>\n",
       "    <tr>\n",
       "      <th>1</th>\n",
       "      <td>2022</td>\n",
       "      <td>111643</td>\n",
       "      <td>2637014</td>\n",
       "      <td>164016</td>\n",
       "      <td>47231</td>\n",
       "      <td>3469</td>\n",
       "      <td>3.77</td>\n",
       "      <td>88.99</td>\n",
       "      <td>5.53</td>\n",
       "      <td>1.59</td>\n",
       "      <td>0.12</td>\n",
       "    </tr>\n",
       "  </tbody>\n",
       "</table>\n",
       "</div>"
      ],
      "text/plain": [
       "   NU_ANO  QTD_NAO_INFORMADO  QTD_SOLTEIRO  QTD_CASADO  QTD_DIVORCIADO  \\\n",
       "0    2021             125288       2576830      194855           51880   \n",
       "1    2022             111643       2637014      164016           47231   \n",
       "\n",
       "   QTD_VIUVO  QTD_NAO_INFORMADO_%  QTD_SOLTEIRO_%  QTD_CASADO_%  \\\n",
       "0       3789                 4.24           87.27          6.60   \n",
       "1       3469                 3.77           88.99          5.53   \n",
       "\n",
       "   QTD_DIVORCIADO_%  QTD_VIUVO_%  \n",
       "0              1.76         0.13  \n",
       "1              1.59         0.12  "
      ]
     },
     "execution_count": 134,
     "metadata": {},
     "output_type": "execute_result"
    }
   ],
   "source": [
    "geral7_pct = geral7[['QTD_NAO_INFORMADO','QTD_SOLTEIRO','QTD_CASADO','QTD_DIVORCIADO','QTD_VIUVO']]\n",
    "soma_total = geral7_pct.sum(axis=1)\n",
    "# Iterar sobre as colunas e criar as colunas percentuais automaticamente\n",
    "for coluna in geral7_pct.columns:\n",
    "    if coluna.startswith('QTD_'):  # Certifica-se de que estamos lidando apenas com as colunas relevantes\n",
    "        coluna_percentual = coluna + '_%'\n",
    "        proporcao_coluna = geral7_pct[coluna] / soma_total\n",
    "        geral7_pct[coluna_percentual] = (proporcao_coluna * 100).round(2)\n",
    "\n",
    "geral7 = geral7.merge(geral7_pct, on=['QTD_NAO_INFORMADO','QTD_SOLTEIRO','QTD_CASADO','QTD_DIVORCIADO','QTD_VIUVO'], how='outer')\n",
    "geral7.head()"
   ]
  },
  {
   "cell_type": "markdown",
   "metadata": {},
   "source": [
    "#### Salvar"
   ]
  },
  {
   "cell_type": "code",
   "execution_count": 135,
   "metadata": {},
   "outputs": [],
   "source": [
    "geral7.to_excel('C:\\\\Users\\\\Bruno\\\\OneDrive\\\\Área de Trabalho\\\\Microdados\\\\Datas\\\\Material apresentação\\\\Absoluto_Proporcional_Civil_ano.xlsx', index=False)"
   ]
  },
  {
   "cell_type": "markdown",
   "metadata": {},
   "source": [
    "#### Absoluto|Proporção estado civil total."
   ]
  },
  {
   "cell_type": "code",
   "execution_count": 136,
   "metadata": {},
   "outputs": [
    {
     "data": {
      "text/html": [
       "<div>\n",
       "<style scoped>\n",
       "    .dataframe tbody tr th:only-of-type {\n",
       "        vertical-align: middle;\n",
       "    }\n",
       "\n",
       "    .dataframe tbody tr th {\n",
       "        vertical-align: top;\n",
       "    }\n",
       "\n",
       "    .dataframe thead th {\n",
       "        text-align: right;\n",
       "    }\n",
       "</style>\n",
       "<table border=\"1\" class=\"dataframe\">\n",
       "  <thead>\n",
       "    <tr style=\"text-align: right;\">\n",
       "      <th></th>\n",
       "      <th>TP_ESTADO_CIVIL</th>\n",
       "      <th>CONTAGEM</th>\n",
       "      <th>PROPORCAO</th>\n",
       "    </tr>\n",
       "  </thead>\n",
       "  <tbody>\n",
       "    <tr>\n",
       "      <th>0</th>\n",
       "      <td>Não informado</td>\n",
       "      <td>111643</td>\n",
       "      <td>3.77</td>\n",
       "    </tr>\n",
       "    <tr>\n",
       "      <th>1</th>\n",
       "      <td>Solteiro(a)</td>\n",
       "      <td>2637014</td>\n",
       "      <td>88.99</td>\n",
       "    </tr>\n",
       "    <tr>\n",
       "      <th>2</th>\n",
       "      <td>Casado(a)</td>\n",
       "      <td>164016</td>\n",
       "      <td>5.53</td>\n",
       "    </tr>\n",
       "    <tr>\n",
       "      <th>3</th>\n",
       "      <td>Divorciado(a)</td>\n",
       "      <td>47231</td>\n",
       "      <td>1.59</td>\n",
       "    </tr>\n",
       "    <tr>\n",
       "      <th>4</th>\n",
       "      <td>Viúvo(a)</td>\n",
       "      <td>3469</td>\n",
       "      <td>0.12</td>\n",
       "    </tr>\n",
       "  </tbody>\n",
       "</table>\n",
       "</div>"
      ],
      "text/plain": [
       "  TP_ESTADO_CIVIL  CONTAGEM  PROPORCAO\n",
       "0   Não informado    111643       3.77\n",
       "1     Solteiro(a)   2637014      88.99\n",
       "2       Casado(a)    164016       5.53\n",
       "3   Divorciado(a)     47231       1.59\n",
       "4        Viúvo(a)      3469       0.12"
      ]
     },
     "execution_count": 136,
     "metadata": {},
     "output_type": "execute_result"
    }
   ],
   "source": [
    "geral7_prop = df_enem['TP_ESTADO_CIVIL'].value_counts().sort_index()\n",
    "\n",
    "geral7_prop = pd.DataFrame({'TP_ESTADO_CIVIL': geral7_prop.index, 'CONTAGEM': geral7_prop.values})\n",
    "geral7_prop['PROPORCAO'] = ((geral7_prop['CONTAGEM'] / geral7_prop['CONTAGEM'].sum())*100).round(2)\n",
    "geral7_prop['TP_ESTADO_CIVIL'] = geral7_prop['TP_ESTADO_CIVIL'].map({0: 'Não informado',1: 'Solteiro(a)', 2: 'Casado(a)',3: 'Divorciado(a)',4: 'Viúvo(a)'})\n",
    "geral7_prop.head(5)"
   ]
  },
  {
   "cell_type": "markdown",
   "metadata": {},
   "source": [
    "#### Salvar"
   ]
  },
  {
   "cell_type": "code",
   "execution_count": 137,
   "metadata": {},
   "outputs": [],
   "source": [
    "geral7_prop.to_excel('C:\\\\Users\\\\Bruno\\\\OneDrive\\\\Área de Trabalho\\\\Microdados\\\\Datas\\\\Material apresentação\\\\Absoluto_proporcional_Civil.xlsx', index=False)"
   ]
  },
  {
   "cell_type": "markdown",
   "metadata": {},
   "source": [
    "#### Abstenção por estado civil."
   ]
  },
  {
   "cell_type": "code",
   "execution_count": 138,
   "metadata": {},
   "outputs": [
    {
     "data": {
      "text/html": [
       "<div>\n",
       "<style scoped>\n",
       "    .dataframe tbody tr th:only-of-type {\n",
       "        vertical-align: middle;\n",
       "    }\n",
       "\n",
       "    .dataframe tbody tr th {\n",
       "        vertical-align: top;\n",
       "    }\n",
       "\n",
       "    .dataframe thead th {\n",
       "        text-align: right;\n",
       "    }\n",
       "</style>\n",
       "<table border=\"1\" class=\"dataframe\">\n",
       "  <thead>\n",
       "    <tr style=\"text-align: right;\">\n",
       "      <th></th>\n",
       "      <th>TP_ESTADO_CIVIL</th>\n",
       "      <th>ABS_ALL</th>\n",
       "      <th>ABS_ALL_%</th>\n",
       "    </tr>\n",
       "  </thead>\n",
       "  <tbody>\n",
       "    <tr>\n",
       "      <th>0</th>\n",
       "      <td>Não informado</td>\n",
       "      <td>46368</td>\n",
       "      <td>5.07</td>\n",
       "    </tr>\n",
       "    <tr>\n",
       "      <th>1</th>\n",
       "      <td>Solteiro(a)</td>\n",
       "      <td>765319</td>\n",
       "      <td>83.76</td>\n",
       "    </tr>\n",
       "    <tr>\n",
       "      <th>2</th>\n",
       "      <td>Casado(a)</td>\n",
       "      <td>79860</td>\n",
       "      <td>8.74</td>\n",
       "    </tr>\n",
       "    <tr>\n",
       "      <th>3</th>\n",
       "      <td>Divorciado(a)</td>\n",
       "      <td>20622</td>\n",
       "      <td>2.26</td>\n",
       "    </tr>\n",
       "    <tr>\n",
       "      <th>4</th>\n",
       "      <td>Viúvo(a)</td>\n",
       "      <td>1544</td>\n",
       "      <td>0.17</td>\n",
       "    </tr>\n",
       "  </tbody>\n",
       "</table>\n",
       "</div>"
      ],
      "text/plain": [
       "  TP_ESTADO_CIVIL  ABS_ALL  ABS_ALL_%\n",
       "0   Não informado    46368       5.07\n",
       "1     Solteiro(a)   765319      83.76\n",
       "2       Casado(a)    79860       8.74\n",
       "3   Divorciado(a)    20622       2.26\n",
       "4        Viúvo(a)     1544       0.17"
      ]
     },
     "execution_count": 138,
     "metadata": {},
     "output_type": "execute_result"
    }
   ],
   "source": [
    "geral7_ABS = df_enem.groupby(['TP_ESTADO_CIVIL'])['ABS_ALL'].sum().reset_index()\n",
    "geral7_ABS['ABS_ALL_%'] = ((geral7_ABS['ABS_ALL'] / geral7_ABS['ABS_ALL'].sum())*100).round(2)\n",
    "geral7_ABS['TP_ESTADO_CIVIL'] = geral7_ABS['TP_ESTADO_CIVIL'].map({0: 'Não informado', 1: 'Solteiro(a)', 2: 'Casado(a)', 3: 'Divorciado(a)', 4: 'Viúvo(a)'})\n",
    "geral7_ABS.head()"
   ]
  },
  {
   "cell_type": "markdown",
   "metadata": {},
   "source": [
    "#### Salvar"
   ]
  },
  {
   "cell_type": "code",
   "execution_count": 139,
   "metadata": {},
   "outputs": [],
   "source": [
    "geral7_ABS.to_excel('C:\\\\Users\\\\Bruno\\\\OneDrive\\\\Área de Trabalho\\\\Microdados\\\\Datas\\\\Material apresentação\\\\Abstenções_Civil.xlsx', index=False)"
   ]
  },
  {
   "cell_type": "markdown",
   "metadata": {},
   "source": [
    "#### Média por ano."
   ]
  },
  {
   "cell_type": "code",
   "execution_count": 144,
   "metadata": {},
   "outputs": [],
   "source": [
    "df_enem = df[['NU_INSCRICAO','NU_ANO','TP_ESTADO_CIVIL','ABS_ALL','MEDIA_GLOBAL','MEDIA_OBJ']]"
   ]
  },
  {
   "cell_type": "code",
   "execution_count": 145,
   "metadata": {},
   "outputs": [],
   "source": [
    "geral7_media_ano = df_enem.groupby(['NU_ANO', 'TP_ESTADO_CIVIL'])[['MEDIA_OBJ', 'MEDIA_GLOBAL']].mean().reset_index().round(2)\n",
    "geral7_media_ano['TP_ESTADO_CIVIL'] = geral7_media_ano['TP_ESTADO_CIVIL'].map({0: 'Não informado', 1: 'Solteiro(a)', 2: 'Casado(a)', 3: 'Divorciado(a)', 4: 'Viúvo(a)'})\n",
    "geral7_media_ano = geral7_media_ano.pivot(index='NU_ANO', columns='TP_ESTADO_CIVIL')\n",
    "geral7_media_ano = geral7_media_ano.reorder_levels([1 , 0], axis=1).sort_index(axis=1, level=0)\n",
    "nome_df = f'geral{ano_enem}7_media_ano'\n",
    "globals()[nome_df] = geral7_media_ano"
   ]
  },
  {
   "cell_type": "code",
   "execution_count": 146,
   "metadata": {},
   "outputs": [
    {
     "data": {
      "text/html": [
       "<div>\n",
       "<style scoped>\n",
       "    .dataframe tbody tr th:only-of-type {\n",
       "        vertical-align: middle;\n",
       "    }\n",
       "\n",
       "    .dataframe tbody tr th {\n",
       "        vertical-align: top;\n",
       "    }\n",
       "\n",
       "    .dataframe thead tr th {\n",
       "        text-align: left;\n",
       "    }\n",
       "\n",
       "    .dataframe thead tr:last-of-type th {\n",
       "        text-align: right;\n",
       "    }\n",
       "</style>\n",
       "<table border=\"1\" class=\"dataframe\">\n",
       "  <thead>\n",
       "    <tr>\n",
       "      <th>TP_ESTADO_CIVIL</th>\n",
       "      <th colspan=\"2\" halign=\"left\">Casado(a)</th>\n",
       "      <th colspan=\"2\" halign=\"left\">Divorciado(a)</th>\n",
       "      <th colspan=\"2\" halign=\"left\">Não informado</th>\n",
       "      <th colspan=\"2\" halign=\"left\">Solteiro(a)</th>\n",
       "      <th colspan=\"2\" halign=\"left\">Viúvo(a)</th>\n",
       "    </tr>\n",
       "    <tr>\n",
       "      <th></th>\n",
       "      <th>MEDIA_GLOBAL</th>\n",
       "      <th>MEDIA_OBJ</th>\n",
       "      <th>MEDIA_GLOBAL</th>\n",
       "      <th>MEDIA_OBJ</th>\n",
       "      <th>MEDIA_GLOBAL</th>\n",
       "      <th>MEDIA_OBJ</th>\n",
       "      <th>MEDIA_GLOBAL</th>\n",
       "      <th>MEDIA_OBJ</th>\n",
       "      <th>MEDIA_GLOBAL</th>\n",
       "      <th>MEDIA_OBJ</th>\n",
       "    </tr>\n",
       "    <tr>\n",
       "      <th>NU_ANO</th>\n",
       "      <th></th>\n",
       "      <th></th>\n",
       "      <th></th>\n",
       "      <th></th>\n",
       "      <th></th>\n",
       "      <th></th>\n",
       "      <th></th>\n",
       "      <th></th>\n",
       "      <th></th>\n",
       "      <th></th>\n",
       "    </tr>\n",
       "  </thead>\n",
       "  <tbody>\n",
       "    <tr>\n",
       "      <th>2021</th>\n",
       "      <td>507.95</td>\n",
       "      <td>499.51</td>\n",
       "      <td>507.4</td>\n",
       "      <td>498.19</td>\n",
       "      <td>517.63</td>\n",
       "      <td>504.79</td>\n",
       "      <td>534.0</td>\n",
       "      <td>512.4</td>\n",
       "      <td>476.53</td>\n",
       "      <td>474.06</td>\n",
       "    </tr>\n",
       "  </tbody>\n",
       "</table>\n",
       "</div>"
      ],
      "text/plain": [
       "TP_ESTADO_CIVIL    Casado(a)           Divorciado(a)           Não informado  \\\n",
       "                MEDIA_GLOBAL MEDIA_OBJ  MEDIA_GLOBAL MEDIA_OBJ  MEDIA_GLOBAL   \n",
       "NU_ANO                                                                         \n",
       "2021                  507.95    499.51         507.4    498.19        517.63   \n",
       "\n",
       "TP_ESTADO_CIVIL            Solteiro(a)               Viúvo(a)            \n",
       "                MEDIA_OBJ MEDIA_GLOBAL MEDIA_OBJ MEDIA_GLOBAL MEDIA_OBJ  \n",
       "NU_ANO                                                                   \n",
       "2021               504.79        534.0     512.4       476.53    474.06  "
      ]
     },
     "execution_count": 146,
     "metadata": {},
     "output_type": "execute_result"
    }
   ],
   "source": [
    "geral20217_media_ano.head()"
   ]
  },
  {
   "cell_type": "code",
   "execution_count": 142,
   "metadata": {},
   "outputs": [
    {
     "data": {
      "text/html": [
       "<div>\n",
       "<style scoped>\n",
       "    .dataframe tbody tr th:only-of-type {\n",
       "        vertical-align: middle;\n",
       "    }\n",
       "\n",
       "    .dataframe tbody tr th {\n",
       "        vertical-align: top;\n",
       "    }\n",
       "\n",
       "    .dataframe thead tr th {\n",
       "        text-align: left;\n",
       "    }\n",
       "\n",
       "    .dataframe thead tr:last-of-type th {\n",
       "        text-align: right;\n",
       "    }\n",
       "</style>\n",
       "<table border=\"1\" class=\"dataframe\">\n",
       "  <thead>\n",
       "    <tr>\n",
       "      <th>TP_ESTADO_CIVIL</th>\n",
       "      <th colspan=\"2\" halign=\"left\">Casado(a)</th>\n",
       "      <th colspan=\"2\" halign=\"left\">Divorciado(a)</th>\n",
       "      <th colspan=\"2\" halign=\"left\">Não informado</th>\n",
       "      <th colspan=\"2\" halign=\"left\">Solteiro(a)</th>\n",
       "      <th colspan=\"2\" halign=\"left\">Viúvo(a)</th>\n",
       "    </tr>\n",
       "    <tr>\n",
       "      <th></th>\n",
       "      <th>MEDIA_GLOBAL</th>\n",
       "      <th>MEDIA_OBJ</th>\n",
       "      <th>MEDIA_GLOBAL</th>\n",
       "      <th>MEDIA_OBJ</th>\n",
       "      <th>MEDIA_GLOBAL</th>\n",
       "      <th>MEDIA_OBJ</th>\n",
       "      <th>MEDIA_GLOBAL</th>\n",
       "      <th>MEDIA_OBJ</th>\n",
       "      <th>MEDIA_GLOBAL</th>\n",
       "      <th>MEDIA_OBJ</th>\n",
       "    </tr>\n",
       "    <tr>\n",
       "      <th>NU_ANO</th>\n",
       "      <th></th>\n",
       "      <th></th>\n",
       "      <th></th>\n",
       "      <th></th>\n",
       "      <th></th>\n",
       "      <th></th>\n",
       "      <th></th>\n",
       "      <th></th>\n",
       "      <th></th>\n",
       "      <th></th>\n",
       "    </tr>\n",
       "  </thead>\n",
       "  <tbody>\n",
       "    <tr>\n",
       "      <th>2022</th>\n",
       "      <td>511.49</td>\n",
       "      <td>507.8</td>\n",
       "      <td>512.09</td>\n",
       "      <td>506.81</td>\n",
       "      <td>522.44</td>\n",
       "      <td>511.8</td>\n",
       "      <td>540.75</td>\n",
       "      <td>520.64</td>\n",
       "      <td>478.49</td>\n",
       "      <td>482.95</td>\n",
       "    </tr>\n",
       "  </tbody>\n",
       "</table>\n",
       "</div>"
      ],
      "text/plain": [
       "TP_ESTADO_CIVIL    Casado(a)           Divorciado(a)           Não informado  \\\n",
       "                MEDIA_GLOBAL MEDIA_OBJ  MEDIA_GLOBAL MEDIA_OBJ  MEDIA_GLOBAL   \n",
       "NU_ANO                                                                         \n",
       "2022                  511.49     507.8        512.09    506.81        522.44   \n",
       "\n",
       "TP_ESTADO_CIVIL            Solteiro(a)               Viúvo(a)            \n",
       "                MEDIA_OBJ MEDIA_GLOBAL MEDIA_OBJ MEDIA_GLOBAL MEDIA_OBJ  \n",
       "NU_ANO                                                                   \n",
       "2022                511.8       540.75    520.64       478.49    482.95  "
      ]
     },
     "execution_count": 142,
     "metadata": {},
     "output_type": "execute_result"
    }
   ],
   "source": [
    "geral20227_media_ano.head()"
   ]
  },
  {
   "cell_type": "code",
   "execution_count": 147,
   "metadata": {},
   "outputs": [
    {
     "data": {
      "text/html": [
       "<div>\n",
       "<style scoped>\n",
       "    .dataframe tbody tr th:only-of-type {\n",
       "        vertical-align: middle;\n",
       "    }\n",
       "\n",
       "    .dataframe tbody tr th {\n",
       "        vertical-align: top;\n",
       "    }\n",
       "\n",
       "    .dataframe thead tr th {\n",
       "        text-align: left;\n",
       "    }\n",
       "\n",
       "    .dataframe thead tr:last-of-type th {\n",
       "        text-align: right;\n",
       "    }\n",
       "</style>\n",
       "<table border=\"1\" class=\"dataframe\">\n",
       "  <thead>\n",
       "    <tr>\n",
       "      <th>TP_ESTADO_CIVIL</th>\n",
       "      <th colspan=\"2\" halign=\"left\">Casado(a)</th>\n",
       "      <th colspan=\"2\" halign=\"left\">Divorciado(a)</th>\n",
       "      <th colspan=\"2\" halign=\"left\">Não informado</th>\n",
       "      <th colspan=\"2\" halign=\"left\">Solteiro(a)</th>\n",
       "      <th colspan=\"2\" halign=\"left\">Viúvo(a)</th>\n",
       "    </tr>\n",
       "    <tr>\n",
       "      <th></th>\n",
       "      <th>MEDIA_GLOBAL</th>\n",
       "      <th>MEDIA_OBJ</th>\n",
       "      <th>MEDIA_GLOBAL</th>\n",
       "      <th>MEDIA_OBJ</th>\n",
       "      <th>MEDIA_GLOBAL</th>\n",
       "      <th>MEDIA_OBJ</th>\n",
       "      <th>MEDIA_GLOBAL</th>\n",
       "      <th>MEDIA_OBJ</th>\n",
       "      <th>MEDIA_GLOBAL</th>\n",
       "      <th>MEDIA_OBJ</th>\n",
       "    </tr>\n",
       "    <tr>\n",
       "      <th>NU_ANO</th>\n",
       "      <th></th>\n",
       "      <th></th>\n",
       "      <th></th>\n",
       "      <th></th>\n",
       "      <th></th>\n",
       "      <th></th>\n",
       "      <th></th>\n",
       "      <th></th>\n",
       "      <th></th>\n",
       "      <th></th>\n",
       "    </tr>\n",
       "  </thead>\n",
       "  <tbody>\n",
       "    <tr>\n",
       "      <th>2021</th>\n",
       "      <td>507.95</td>\n",
       "      <td>499.51</td>\n",
       "      <td>507.40</td>\n",
       "      <td>498.19</td>\n",
       "      <td>517.63</td>\n",
       "      <td>504.79</td>\n",
       "      <td>534.00</td>\n",
       "      <td>512.40</td>\n",
       "      <td>476.53</td>\n",
       "      <td>474.06</td>\n",
       "    </tr>\n",
       "    <tr>\n",
       "      <th>2022</th>\n",
       "      <td>511.49</td>\n",
       "      <td>507.80</td>\n",
       "      <td>512.09</td>\n",
       "      <td>506.81</td>\n",
       "      <td>522.44</td>\n",
       "      <td>511.80</td>\n",
       "      <td>540.75</td>\n",
       "      <td>520.64</td>\n",
       "      <td>478.49</td>\n",
       "      <td>482.95</td>\n",
       "    </tr>\n",
       "  </tbody>\n",
       "</table>\n",
       "</div>"
      ],
      "text/plain": [
       "TP_ESTADO_CIVIL    Casado(a)           Divorciado(a)           Não informado  \\\n",
       "                MEDIA_GLOBAL MEDIA_OBJ  MEDIA_GLOBAL MEDIA_OBJ  MEDIA_GLOBAL   \n",
       "NU_ANO                                                                         \n",
       "2021                  507.95    499.51        507.40    498.19        517.63   \n",
       "2022                  511.49    507.80        512.09    506.81        522.44   \n",
       "\n",
       "TP_ESTADO_CIVIL            Solteiro(a)               Viúvo(a)            \n",
       "                MEDIA_OBJ MEDIA_GLOBAL MEDIA_OBJ MEDIA_GLOBAL MEDIA_OBJ  \n",
       "NU_ANO                                                                   \n",
       "2021               504.79       534.00    512.40       476.53    474.06  \n",
       "2022               511.80       540.75    520.64       478.49    482.95  "
      ]
     },
     "execution_count": 147,
     "metadata": {},
     "output_type": "execute_result"
    }
   ],
   "source": [
    "geral7_media_ano = pd.concat([geral20217_media_ano,geral20227_media_ano])\n",
    "geral7_media_ano.head()"
   ]
  },
  {
   "cell_type": "markdown",
   "metadata": {},
   "source": [
    "#### Salvar. True para salvar o multindex que ainda não sei resolver."
   ]
  },
  {
   "cell_type": "code",
   "execution_count": 148,
   "metadata": {},
   "outputs": [],
   "source": [
    "geral7_media_ano.to_excel('C:\\\\Users\\\\Bruno\\\\OneDrive\\\\Área de Trabalho\\\\Microdados\\\\Datas\\\\Material apresentação\\\\Media_Civil_ano.xlsx', index=True)"
   ]
  },
  {
   "cell_type": "markdown",
   "metadata": {},
   "source": [
    "#### Média por estado civil."
   ]
  },
  {
   "cell_type": "code",
   "execution_count": 154,
   "metadata": {},
   "outputs": [
    {
     "data": {
      "text/html": [
       "<div>\n",
       "<style scoped>\n",
       "    .dataframe tbody tr th:only-of-type {\n",
       "        vertical-align: middle;\n",
       "    }\n",
       "\n",
       "    .dataframe tbody tr th {\n",
       "        vertical-align: top;\n",
       "    }\n",
       "\n",
       "    .dataframe thead th {\n",
       "        text-align: right;\n",
       "    }\n",
       "</style>\n",
       "<table border=\"1\" class=\"dataframe\">\n",
       "  <thead>\n",
       "    <tr style=\"text-align: right;\">\n",
       "      <th></th>\n",
       "      <th>TP_ESTADO_CIVIL</th>\n",
       "      <th>MEDIA_OBJ</th>\n",
       "      <th>MEDIA_GLOBAL</th>\n",
       "    </tr>\n",
       "  </thead>\n",
       "  <tbody>\n",
       "    <tr>\n",
       "      <th>0</th>\n",
       "      <td>Não informado</td>\n",
       "      <td>511.80</td>\n",
       "      <td>522.44</td>\n",
       "    </tr>\n",
       "    <tr>\n",
       "      <th>1</th>\n",
       "      <td>Solteiro(a)</td>\n",
       "      <td>520.64</td>\n",
       "      <td>540.75</td>\n",
       "    </tr>\n",
       "    <tr>\n",
       "      <th>2</th>\n",
       "      <td>Casado(a)</td>\n",
       "      <td>507.80</td>\n",
       "      <td>511.49</td>\n",
       "    </tr>\n",
       "    <tr>\n",
       "      <th>3</th>\n",
       "      <td>Divorciado(a)</td>\n",
       "      <td>506.81</td>\n",
       "      <td>512.09</td>\n",
       "    </tr>\n",
       "    <tr>\n",
       "      <th>4</th>\n",
       "      <td>Viúvo(a)</td>\n",
       "      <td>482.95</td>\n",
       "      <td>478.49</td>\n",
       "    </tr>\n",
       "  </tbody>\n",
       "</table>\n",
       "</div>"
      ],
      "text/plain": [
       "  TP_ESTADO_CIVIL  MEDIA_OBJ  MEDIA_GLOBAL\n",
       "0   Não informado     511.80        522.44\n",
       "1     Solteiro(a)     520.64        540.75\n",
       "2       Casado(a)     507.80        511.49\n",
       "3   Divorciado(a)     506.81        512.09\n",
       "4        Viúvo(a)     482.95        478.49"
      ]
     },
     "execution_count": 154,
     "metadata": {},
     "output_type": "execute_result"
    }
   ],
   "source": [
    "geral7_media = df_enem.groupby('TP_ESTADO_CIVIL')[['MEDIA_OBJ', 'MEDIA_GLOBAL']].mean().reset_index().round(2)\n",
    "geral7_media['TP_ESTADO_CIVIL'] = geral7_media['TP_ESTADO_CIVIL'].map({0: 'Não informado', 1: 'Solteiro(a)', 2: 'Casado(a)', 3: 'Divorciado(a)', 4: 'Viúvo(a)'})\n",
    "geral7_media.head(6)"
   ]
  },
  {
   "cell_type": "markdown",
   "metadata": {},
   "source": [
    "#### Salvar"
   ]
  },
  {
   "cell_type": "code",
   "execution_count": 155,
   "metadata": {},
   "outputs": [],
   "source": [
    "geral7_media.to_excel('C:\\\\Users\\\\Bruno\\\\OneDrive\\\\Área de Trabalho\\\\Microdados\\\\Datas\\\\Material apresentação\\\\Media_Civil.xlsx', index=False)"
   ]
  },
  {
   "cell_type": "markdown",
   "metadata": {},
   "source": [
    "## 8) Região geográfica."
   ]
  },
  {
   "cell_type": "markdown",
   "metadata": {},
   "source": [
    "#### Média por ano por região geográfica."
   ]
  },
  {
   "cell_type": "code",
   "execution_count": 38,
   "metadata": {},
   "outputs": [],
   "source": [
    "df_enem = df[['NU_INSCRICAO','NU_ANO','TP_REGIAO_PROVA','ABS_ALL','MEDIA_GLOBAL','MEDIA_OBJ']]"
   ]
  },
  {
   "cell_type": "code",
   "execution_count": 162,
   "metadata": {},
   "outputs": [],
   "source": [
    "geral8_media_ano = df_enem.groupby(['NU_ANO', 'TP_REGIAO_PROVA'])[['MEDIA_OBJ', 'MEDIA_GLOBAL']].mean().reset_index().round(2)\n",
    "geral8_media_ano = geral8_media_ano.pivot(index='NU_ANO', columns='TP_REGIAO_PROVA')\n",
    "geral8_media_ano = geral8_media_ano.reorder_levels([1 , 0], axis=1).sort_index(axis=1, level=0)\n",
    "nome_df = f'geral{ano_enem}8_media_ano'\n",
    "globals()[nome_df] = geral8_media_ano"
   ]
  },
  {
   "cell_type": "code",
   "execution_count": 159,
   "metadata": {},
   "outputs": [
    {
     "data": {
      "text/html": [
       "<div>\n",
       "<style scoped>\n",
       "    .dataframe tbody tr th:only-of-type {\n",
       "        vertical-align: middle;\n",
       "    }\n",
       "\n",
       "    .dataframe tbody tr th {\n",
       "        vertical-align: top;\n",
       "    }\n",
       "\n",
       "    .dataframe thead tr th {\n",
       "        text-align: left;\n",
       "    }\n",
       "\n",
       "    .dataframe thead tr:last-of-type th {\n",
       "        text-align: right;\n",
       "    }\n",
       "</style>\n",
       "<table border=\"1\" class=\"dataframe\">\n",
       "  <thead>\n",
       "    <tr>\n",
       "      <th>TP_REGIAO_PROVA</th>\n",
       "      <th colspan=\"2\" halign=\"left\">Centro-Oeste</th>\n",
       "      <th colspan=\"2\" halign=\"left\">DF</th>\n",
       "      <th colspan=\"2\" halign=\"left\">Nordeste</th>\n",
       "      <th colspan=\"2\" halign=\"left\">Norte</th>\n",
       "      <th colspan=\"2\" halign=\"left\">Sudeste</th>\n",
       "      <th colspan=\"2\" halign=\"left\">Sul</th>\n",
       "    </tr>\n",
       "    <tr>\n",
       "      <th></th>\n",
       "      <th>MEDIA_GLOBAL</th>\n",
       "      <th>MEDIA_OBJ</th>\n",
       "      <th>MEDIA_GLOBAL</th>\n",
       "      <th>MEDIA_OBJ</th>\n",
       "      <th>MEDIA_GLOBAL</th>\n",
       "      <th>MEDIA_OBJ</th>\n",
       "      <th>MEDIA_GLOBAL</th>\n",
       "      <th>MEDIA_OBJ</th>\n",
       "      <th>MEDIA_GLOBAL</th>\n",
       "      <th>MEDIA_OBJ</th>\n",
       "      <th>MEDIA_GLOBAL</th>\n",
       "      <th>MEDIA_OBJ</th>\n",
       "    </tr>\n",
       "    <tr>\n",
       "      <th>NU_ANO</th>\n",
       "      <th></th>\n",
       "      <th></th>\n",
       "      <th></th>\n",
       "      <th></th>\n",
       "      <th></th>\n",
       "      <th></th>\n",
       "      <th></th>\n",
       "      <th></th>\n",
       "      <th></th>\n",
       "      <th></th>\n",
       "      <th></th>\n",
       "      <th></th>\n",
       "    </tr>\n",
       "  </thead>\n",
       "  <tbody>\n",
       "    <tr>\n",
       "      <th>2021</th>\n",
       "      <td>524.08</td>\n",
       "      <td>504.23</td>\n",
       "      <td>547.49</td>\n",
       "      <td>528.9</td>\n",
       "      <td>517.68</td>\n",
       "      <td>495.84</td>\n",
       "      <td>500.58</td>\n",
       "      <td>481.28</td>\n",
       "      <td>552.81</td>\n",
       "      <td>532.2</td>\n",
       "      <td>543.67</td>\n",
       "      <td>526.14</td>\n",
       "    </tr>\n",
       "  </tbody>\n",
       "</table>\n",
       "</div>"
      ],
      "text/plain": [
       "TP_REGIAO_PROVA Centro-Oeste                     DF               Nordeste  \\\n",
       "                MEDIA_GLOBAL MEDIA_OBJ MEDIA_GLOBAL MEDIA_OBJ MEDIA_GLOBAL   \n",
       "NU_ANO                                                                       \n",
       "2021                  524.08    504.23       547.49     528.9       517.68   \n",
       "\n",
       "TP_REGIAO_PROVA                  Norte                Sudeste            \\\n",
       "                MEDIA_OBJ MEDIA_GLOBAL MEDIA_OBJ MEDIA_GLOBAL MEDIA_OBJ   \n",
       "NU_ANO                                                                    \n",
       "2021               495.84       500.58    481.28       552.81     532.2   \n",
       "\n",
       "TP_REGIAO_PROVA          Sul            \n",
       "                MEDIA_GLOBAL MEDIA_OBJ  \n",
       "NU_ANO                                  \n",
       "2021                  543.67    526.14  "
      ]
     },
     "execution_count": 159,
     "metadata": {},
     "output_type": "execute_result"
    }
   ],
   "source": [
    "geral20218_media_ano.head()"
   ]
  },
  {
   "cell_type": "code",
   "execution_count": 163,
   "metadata": {},
   "outputs": [
    {
     "data": {
      "text/html": [
       "<div>\n",
       "<style scoped>\n",
       "    .dataframe tbody tr th:only-of-type {\n",
       "        vertical-align: middle;\n",
       "    }\n",
       "\n",
       "    .dataframe tbody tr th {\n",
       "        vertical-align: top;\n",
       "    }\n",
       "\n",
       "    .dataframe thead tr th {\n",
       "        text-align: left;\n",
       "    }\n",
       "\n",
       "    .dataframe thead tr:last-of-type th {\n",
       "        text-align: right;\n",
       "    }\n",
       "</style>\n",
       "<table border=\"1\" class=\"dataframe\">\n",
       "  <thead>\n",
       "    <tr>\n",
       "      <th>TP_REGIAO_PROVA</th>\n",
       "      <th colspan=\"2\" halign=\"left\">Centro-Oeste</th>\n",
       "      <th colspan=\"2\" halign=\"left\">DF</th>\n",
       "      <th colspan=\"2\" halign=\"left\">Nordeste</th>\n",
       "      <th colspan=\"2\" halign=\"left\">Norte</th>\n",
       "      <th colspan=\"2\" halign=\"left\">Sudeste</th>\n",
       "      <th colspan=\"2\" halign=\"left\">Sul</th>\n",
       "    </tr>\n",
       "    <tr>\n",
       "      <th></th>\n",
       "      <th>MEDIA_GLOBAL</th>\n",
       "      <th>MEDIA_OBJ</th>\n",
       "      <th>MEDIA_GLOBAL</th>\n",
       "      <th>MEDIA_OBJ</th>\n",
       "      <th>MEDIA_GLOBAL</th>\n",
       "      <th>MEDIA_OBJ</th>\n",
       "      <th>MEDIA_GLOBAL</th>\n",
       "      <th>MEDIA_OBJ</th>\n",
       "      <th>MEDIA_GLOBAL</th>\n",
       "      <th>MEDIA_OBJ</th>\n",
       "      <th>MEDIA_GLOBAL</th>\n",
       "      <th>MEDIA_OBJ</th>\n",
       "    </tr>\n",
       "    <tr>\n",
       "      <th>NU_ANO</th>\n",
       "      <th></th>\n",
       "      <th></th>\n",
       "      <th></th>\n",
       "      <th></th>\n",
       "      <th></th>\n",
       "      <th></th>\n",
       "      <th></th>\n",
       "      <th></th>\n",
       "      <th></th>\n",
       "      <th></th>\n",
       "      <th></th>\n",
       "      <th></th>\n",
       "    </tr>\n",
       "  </thead>\n",
       "  <tbody>\n",
       "    <tr>\n",
       "      <th>2022</th>\n",
       "      <td>530.53</td>\n",
       "      <td>512.71</td>\n",
       "      <td>554.28</td>\n",
       "      <td>536.16</td>\n",
       "      <td>525.22</td>\n",
       "      <td>505.78</td>\n",
       "      <td>508.56</td>\n",
       "      <td>491.82</td>\n",
       "      <td>558.84</td>\n",
       "      <td>538.96</td>\n",
       "      <td>550.95</td>\n",
       "      <td>533.72</td>\n",
       "    </tr>\n",
       "  </tbody>\n",
       "</table>\n",
       "</div>"
      ],
      "text/plain": [
       "TP_REGIAO_PROVA Centro-Oeste                     DF               Nordeste  \\\n",
       "                MEDIA_GLOBAL MEDIA_OBJ MEDIA_GLOBAL MEDIA_OBJ MEDIA_GLOBAL   \n",
       "NU_ANO                                                                       \n",
       "2022                  530.53    512.71       554.28    536.16       525.22   \n",
       "\n",
       "TP_REGIAO_PROVA                  Norte                Sudeste            \\\n",
       "                MEDIA_OBJ MEDIA_GLOBAL MEDIA_OBJ MEDIA_GLOBAL MEDIA_OBJ   \n",
       "NU_ANO                                                                    \n",
       "2022               505.78       508.56    491.82       558.84    538.96   \n",
       "\n",
       "TP_REGIAO_PROVA          Sul            \n",
       "                MEDIA_GLOBAL MEDIA_OBJ  \n",
       "NU_ANO                                  \n",
       "2022                  550.95    533.72  "
      ]
     },
     "execution_count": 163,
     "metadata": {},
     "output_type": "execute_result"
    }
   ],
   "source": [
    "geral20228_media_ano.head()"
   ]
  },
  {
   "cell_type": "code",
   "execution_count": 164,
   "metadata": {},
   "outputs": [
    {
     "data": {
      "text/html": [
       "<div>\n",
       "<style scoped>\n",
       "    .dataframe tbody tr th:only-of-type {\n",
       "        vertical-align: middle;\n",
       "    }\n",
       "\n",
       "    .dataframe tbody tr th {\n",
       "        vertical-align: top;\n",
       "    }\n",
       "\n",
       "    .dataframe thead tr th {\n",
       "        text-align: left;\n",
       "    }\n",
       "\n",
       "    .dataframe thead tr:last-of-type th {\n",
       "        text-align: right;\n",
       "    }\n",
       "</style>\n",
       "<table border=\"1\" class=\"dataframe\">\n",
       "  <thead>\n",
       "    <tr>\n",
       "      <th>TP_REGIAO_PROVA</th>\n",
       "      <th colspan=\"2\" halign=\"left\">Centro-Oeste</th>\n",
       "      <th colspan=\"2\" halign=\"left\">DF</th>\n",
       "      <th colspan=\"2\" halign=\"left\">Nordeste</th>\n",
       "      <th colspan=\"2\" halign=\"left\">Norte</th>\n",
       "      <th colspan=\"2\" halign=\"left\">Sudeste</th>\n",
       "      <th colspan=\"2\" halign=\"left\">Sul</th>\n",
       "    </tr>\n",
       "    <tr>\n",
       "      <th></th>\n",
       "      <th>MEDIA_GLOBAL</th>\n",
       "      <th>MEDIA_OBJ</th>\n",
       "      <th>MEDIA_GLOBAL</th>\n",
       "      <th>MEDIA_OBJ</th>\n",
       "      <th>MEDIA_GLOBAL</th>\n",
       "      <th>MEDIA_OBJ</th>\n",
       "      <th>MEDIA_GLOBAL</th>\n",
       "      <th>MEDIA_OBJ</th>\n",
       "      <th>MEDIA_GLOBAL</th>\n",
       "      <th>MEDIA_OBJ</th>\n",
       "      <th>MEDIA_GLOBAL</th>\n",
       "      <th>MEDIA_OBJ</th>\n",
       "    </tr>\n",
       "    <tr>\n",
       "      <th>NU_ANO</th>\n",
       "      <th></th>\n",
       "      <th></th>\n",
       "      <th></th>\n",
       "      <th></th>\n",
       "      <th></th>\n",
       "      <th></th>\n",
       "      <th></th>\n",
       "      <th></th>\n",
       "      <th></th>\n",
       "      <th></th>\n",
       "      <th></th>\n",
       "      <th></th>\n",
       "    </tr>\n",
       "  </thead>\n",
       "  <tbody>\n",
       "    <tr>\n",
       "      <th>2021</th>\n",
       "      <td>524.08</td>\n",
       "      <td>504.23</td>\n",
       "      <td>547.49</td>\n",
       "      <td>528.90</td>\n",
       "      <td>517.68</td>\n",
       "      <td>495.84</td>\n",
       "      <td>500.58</td>\n",
       "      <td>481.28</td>\n",
       "      <td>552.81</td>\n",
       "      <td>532.20</td>\n",
       "      <td>543.67</td>\n",
       "      <td>526.14</td>\n",
       "    </tr>\n",
       "    <tr>\n",
       "      <th>2022</th>\n",
       "      <td>530.53</td>\n",
       "      <td>512.71</td>\n",
       "      <td>554.28</td>\n",
       "      <td>536.16</td>\n",
       "      <td>525.22</td>\n",
       "      <td>505.78</td>\n",
       "      <td>508.56</td>\n",
       "      <td>491.82</td>\n",
       "      <td>558.84</td>\n",
       "      <td>538.96</td>\n",
       "      <td>550.95</td>\n",
       "      <td>533.72</td>\n",
       "    </tr>\n",
       "  </tbody>\n",
       "</table>\n",
       "</div>"
      ],
      "text/plain": [
       "TP_REGIAO_PROVA Centro-Oeste                     DF               Nordeste  \\\n",
       "                MEDIA_GLOBAL MEDIA_OBJ MEDIA_GLOBAL MEDIA_OBJ MEDIA_GLOBAL   \n",
       "NU_ANO                                                                       \n",
       "2021                  524.08    504.23       547.49    528.90       517.68   \n",
       "2022                  530.53    512.71       554.28    536.16       525.22   \n",
       "\n",
       "TP_REGIAO_PROVA                  Norte                Sudeste            \\\n",
       "                MEDIA_OBJ MEDIA_GLOBAL MEDIA_OBJ MEDIA_GLOBAL MEDIA_OBJ   \n",
       "NU_ANO                                                                    \n",
       "2021               495.84       500.58    481.28       552.81    532.20   \n",
       "2022               505.78       508.56    491.82       558.84    538.96   \n",
       "\n",
       "TP_REGIAO_PROVA          Sul            \n",
       "                MEDIA_GLOBAL MEDIA_OBJ  \n",
       "NU_ANO                                  \n",
       "2021                  543.67    526.14  \n",
       "2022                  550.95    533.72  "
      ]
     },
     "execution_count": 164,
     "metadata": {},
     "output_type": "execute_result"
    }
   ],
   "source": [
    "geral8_media_ano = pd.concat([geral20218_media_ano,geral20228_media_ano])\n",
    "geral8_media_ano.head()"
   ]
  },
  {
   "cell_type": "markdown",
   "metadata": {},
   "source": [
    "#### Salvar. True para salvar o multindex."
   ]
  },
  {
   "cell_type": "code",
   "execution_count": 165,
   "metadata": {},
   "outputs": [],
   "source": [
    "geral8_media_ano.to_excel('C:\\\\Users\\\\Bruno\\\\OneDrive\\\\Área de Trabalho\\\\Microdados\\\\Datas\\\\Material apresentação\\\\Media_Regiao_ano.xlsx', index=True)"
   ]
  },
  {
   "cell_type": "markdown",
   "metadata": {},
   "source": [
    "#### Média por região geográfica."
   ]
  },
  {
   "cell_type": "code",
   "execution_count": 8,
   "metadata": {},
   "outputs": [
    {
     "data": {
      "text/html": [
       "<div>\n",
       "<style scoped>\n",
       "    .dataframe tbody tr th:only-of-type {\n",
       "        vertical-align: middle;\n",
       "    }\n",
       "\n",
       "    .dataframe tbody tr th {\n",
       "        vertical-align: top;\n",
       "    }\n",
       "\n",
       "    .dataframe thead th {\n",
       "        text-align: right;\n",
       "    }\n",
       "</style>\n",
       "<table border=\"1\" class=\"dataframe\">\n",
       "  <thead>\n",
       "    <tr style=\"text-align: right;\">\n",
       "      <th></th>\n",
       "      <th>TP_REGIAO_PROVA</th>\n",
       "      <th>MEDIA_OBJ</th>\n",
       "      <th>MEDIA_GLOBAL</th>\n",
       "    </tr>\n",
       "  </thead>\n",
       "  <tbody>\n",
       "    <tr>\n",
       "      <th>0</th>\n",
       "      <td>Centro-Oeste</td>\n",
       "      <td>512.71</td>\n",
       "      <td>530.53</td>\n",
       "    </tr>\n",
       "    <tr>\n",
       "      <th>1</th>\n",
       "      <td>DF</td>\n",
       "      <td>536.16</td>\n",
       "      <td>554.28</td>\n",
       "    </tr>\n",
       "    <tr>\n",
       "      <th>2</th>\n",
       "      <td>Nordeste</td>\n",
       "      <td>505.78</td>\n",
       "      <td>525.22</td>\n",
       "    </tr>\n",
       "    <tr>\n",
       "      <th>3</th>\n",
       "      <td>Norte</td>\n",
       "      <td>491.82</td>\n",
       "      <td>508.56</td>\n",
       "    </tr>\n",
       "    <tr>\n",
       "      <th>4</th>\n",
       "      <td>Sudeste</td>\n",
       "      <td>538.96</td>\n",
       "      <td>558.84</td>\n",
       "    </tr>\n",
       "    <tr>\n",
       "      <th>5</th>\n",
       "      <td>Sul</td>\n",
       "      <td>533.72</td>\n",
       "      <td>550.95</td>\n",
       "    </tr>\n",
       "  </tbody>\n",
       "</table>\n",
       "</div>"
      ],
      "text/plain": [
       "  TP_REGIAO_PROVA  MEDIA_OBJ  MEDIA_GLOBAL\n",
       "0    Centro-Oeste     512.71        530.53\n",
       "1              DF     536.16        554.28\n",
       "2        Nordeste     505.78        525.22\n",
       "3           Norte     491.82        508.56\n",
       "4         Sudeste     538.96        558.84\n",
       "5             Sul     533.72        550.95"
      ]
     },
     "execution_count": 8,
     "metadata": {},
     "output_type": "execute_result"
    }
   ],
   "source": [
    "geral8_media = df_enem.groupby('TP_REGIAO_PROVA')[['MEDIA_OBJ', 'MEDIA_GLOBAL']].mean().reset_index().round(2)\n",
    "geral8_media.head(6)"
   ]
  },
  {
   "cell_type": "markdown",
   "metadata": {},
   "source": [
    "#### Salvar"
   ]
  },
  {
   "cell_type": "code",
   "execution_count": 9,
   "metadata": {},
   "outputs": [],
   "source": [
    "geral8_media.to_excel('C:\\\\Users\\\\Bruno\\\\OneDrive\\\\Área de Trabalho\\\\Microdados\\\\Datas\\\\Material apresentação\\\\Media_Regiao.xlsx', index=False)"
   ]
  },
  {
   "cell_type": "markdown",
   "metadata": {},
   "source": [
    "#### Abstenção por regiao."
   ]
  },
  {
   "cell_type": "code",
   "execution_count": 11,
   "metadata": {},
   "outputs": [
    {
     "data": {
      "text/html": [
       "<div>\n",
       "<style scoped>\n",
       "    .dataframe tbody tr th:only-of-type {\n",
       "        vertical-align: middle;\n",
       "    }\n",
       "\n",
       "    .dataframe tbody tr th {\n",
       "        vertical-align: top;\n",
       "    }\n",
       "\n",
       "    .dataframe thead th {\n",
       "        text-align: right;\n",
       "    }\n",
       "</style>\n",
       "<table border=\"1\" class=\"dataframe\">\n",
       "  <thead>\n",
       "    <tr style=\"text-align: right;\">\n",
       "      <th></th>\n",
       "      <th>TP_REGIAO_PROVA</th>\n",
       "      <th>ABS_ALL</th>\n",
       "      <th>ABS_ALL_%</th>\n",
       "    </tr>\n",
       "  </thead>\n",
       "  <tbody>\n",
       "    <tr>\n",
       "      <th>0</th>\n",
       "      <td>Centro-Oeste</td>\n",
       "      <td>71496</td>\n",
       "      <td>7.82</td>\n",
       "    </tr>\n",
       "    <tr>\n",
       "      <th>1</th>\n",
       "      <td>DF</td>\n",
       "      <td>16796</td>\n",
       "      <td>1.84</td>\n",
       "    </tr>\n",
       "    <tr>\n",
       "      <th>2</th>\n",
       "      <td>Nordeste</td>\n",
       "      <td>302126</td>\n",
       "      <td>33.07</td>\n",
       "    </tr>\n",
       "    <tr>\n",
       "      <th>3</th>\n",
       "      <td>Norte</td>\n",
       "      <td>122689</td>\n",
       "      <td>13.43</td>\n",
       "    </tr>\n",
       "    <tr>\n",
       "      <th>4</th>\n",
       "      <td>Sudeste</td>\n",
       "      <td>299661</td>\n",
       "      <td>32.80</td>\n",
       "    </tr>\n",
       "    <tr>\n",
       "      <th>5</th>\n",
       "      <td>Sul</td>\n",
       "      <td>100945</td>\n",
       "      <td>11.05</td>\n",
       "    </tr>\n",
       "  </tbody>\n",
       "</table>\n",
       "</div>"
      ],
      "text/plain": [
       "  TP_REGIAO_PROVA  ABS_ALL  ABS_ALL_%\n",
       "0    Centro-Oeste    71496       7.82\n",
       "1              DF    16796       1.84\n",
       "2        Nordeste   302126      33.07\n",
       "3           Norte   122689      13.43\n",
       "4         Sudeste   299661      32.80\n",
       "5             Sul   100945      11.05"
      ]
     },
     "execution_count": 11,
     "metadata": {},
     "output_type": "execute_result"
    }
   ],
   "source": [
    "geral8_ABS = df_enem.groupby(['TP_REGIAO_PROVA'])['ABS_ALL'].sum().reset_index()\n",
    "geral8_ABS['ABS_ALL_%'] = ((geral8_ABS['ABS_ALL'] / geral8_ABS['ABS_ALL'].sum())*100).round(2)\n",
    "geral8_ABS.head(7)"
   ]
  },
  {
   "cell_type": "markdown",
   "metadata": {},
   "source": [
    "#### Salvar"
   ]
  },
  {
   "cell_type": "code",
   "execution_count": 12,
   "metadata": {},
   "outputs": [],
   "source": [
    "geral8_ABS.to_excel('C:\\\\Users\\\\Bruno\\\\OneDrive\\\\Área de Trabalho\\\\Microdados\\\\Datas\\\\Material apresentação\\\\Abstenções_Regiao.xlsx', index=False)"
   ]
  },
  {
   "cell_type": "markdown",
   "metadata": {},
   "source": [
    "## 9) Unidade Federativas - UF"
   ]
  },
  {
   "cell_type": "markdown",
   "metadata": {},
   "source": [
    "#### Códigos para utilizar funções de UF e Municípios."
   ]
  },
  {
   "cell_type": "code",
   "execution_count": 19,
   "metadata": {},
   "outputs": [],
   "source": [
    "municipality_view = ['TP_REGIAO_PROVA','SG_UF_PROVA', 'CO_MUNICIPIO_PROVA', 'NO_MUNICIPIO_PROVA']\n",
    "uf_view           = ['TP_REGIAO_PROVA', 'SG_UF_PROVA']\n",
    "list_metrics      = { 'MIN_': np.min, 'AVG_' :np.mean, 'MED_' : np.median, 'MAX_' : np.max, 'STD_' : np.std}\n",
    "\n",
    "# TP_ANO_CONCLUIU, TP_ESTADO_CIVIL\n",
    "\n",
    "cat_columns       = [\n",
    "    'TP_FAIXA_ETARIA', 'TP_SEXO',\n",
    "    'TP_COR_RACA', 'TP_NACIONALIDADE', 'TP_ST_CONCLUSAO',\n",
    "    'TP_ESCOLA', 'TP_ENSINO',  'TP_DEPENDENCIA_ADM_ESC',\n",
    "    'TP_LOCALIZACAO_ESC', 'TP_SIT_FUNC_ESC', 'TP_PRESENCA_CN',\n",
    "    'TP_PRESENCA_CH', 'TP_PRESENCA_LC', 'TP_PRESENCA_MT', \n",
    "]"
   ]
  },
  {
   "cell_type": "code",
   "execution_count": 20,
   "metadata": {},
   "outputs": [],
   "source": [
    "# DATA PREP\n",
    "notas = df_enem.columns[(df_enem.columns.str.contains('NU_NOTA_')) & (~df_enem.columns.str.contains('NU_NOTA_COMP'))].tolist()\n",
    "lista_provas = df_enem.columns[(df_enem.columns.str.contains('NU_NOTA_')) & (~df_enem.columns.str.contains('NU_NOTA_COMP'))].tolist()"
   ]
  },
  {
   "cell_type": "code",
   "execution_count": 21,
   "metadata": {},
   "outputs": [],
   "source": [
    "def get_count(df_enem, cols_to_group, column, column_name = None):\n",
    "    agg_result = (df_enem\n",
    "         .groupby(cols_to_group)\n",
    "         .agg({column:'count'})\n",
    "         .rename(columns = {column : column_name} )\n",
    "        )\n",
    "    return agg_result\n",
    "\n",
    "\n",
    "def build_statistics_metrics(lista_provas : list, \n",
    "                             df_enem : pd.DataFrame, \n",
    "                             cols_to_group : list, \n",
    "                             list_with_metrics = None):\n",
    "    if list_with_metrics:\n",
    "        list_metrics = list_with_metrics\n",
    "    else:\n",
    "        list_metrics = { 'MIN_': np.min, 'AVG_' :np.mean, 'MED_' : np.median, 'MAX_' : np.max, 'STD_' : np.std}\n",
    "    \n",
    "    def get_statistics(lista_provas, metric, df_enem, cols_to_group, metric_label):\n",
    "\n",
    "        agg_result = (df_enem\n",
    "         .groupby(cols_to_group, as_index = False)\n",
    "         .agg({prova:metric for prova in lista_provas})\n",
    "         .rename(columns = {prova : metric_label+'_'.join(prova.split('_')[1:]) for prova in lista_provas})\n",
    "        )\n",
    "\n",
    "        return agg_result\n",
    "    \n",
    "    result = [\n",
    "        get_statistics(lista_provas, list_metrics[metric], df_enem, cols_to_group, metric).set_index(cols_to_group) \n",
    "      for metric in list_metrics\n",
    "     ]\n",
    "\n",
    "    result_df = (pd.concat(result, axis=1)\n",
    "         .reset_index()\n",
    "        )\n",
    "    \n",
    "\n",
    "    return result_df\n"
   ]
  },
  {
   "cell_type": "markdown",
   "metadata": {},
   "source": [
    "#### Média por ano UF."
   ]
  },
  {
   "cell_type": "code",
   "execution_count": 109,
   "metadata": {},
   "outputs": [],
   "source": [
    "df_enem = df[['NU_INSCRICAO','NU_ANO','TP_SEXO','SG_UF_PROVA','TP_REGIAO_PROVA', 'CO_MUNICIPIO_PROVA', 'NO_MUNICIPIO_PROVA','ABS_ALL','MEDIA_GLOBAL','MEDIA_OBJ']]"
   ]
  },
  {
   "cell_type": "code",
   "execution_count": 21,
   "metadata": {},
   "outputs": [],
   "source": [
    "geral9_media_ano = df_enem.groupby(['NU_ANO', 'SG_UF_PROVA'])[['MEDIA_OBJ', 'MEDIA_GLOBAL']].mean().reset_index().round(2)\n",
    "geral9_media_ano = geral9_media_ano.pivot(index='NU_ANO', columns='SG_UF_PROVA')\n",
    "geral9_media_ano = geral9_media_ano.reorder_levels([1 , 0], axis=1).sort_index(axis=1, level=0)\n",
    "nome_df = f'geral{ano_enem}9_media_ano'\n",
    "globals()[nome_df] = geral9_media_ano"
   ]
  },
  {
   "cell_type": "code",
   "execution_count": 22,
   "metadata": {},
   "outputs": [
    {
     "data": {
      "text/html": [
       "<div>\n",
       "<style scoped>\n",
       "    .dataframe tbody tr th:only-of-type {\n",
       "        vertical-align: middle;\n",
       "    }\n",
       "\n",
       "    .dataframe tbody tr th {\n",
       "        vertical-align: top;\n",
       "    }\n",
       "\n",
       "    .dataframe thead tr th {\n",
       "        text-align: left;\n",
       "    }\n",
       "\n",
       "    .dataframe thead tr:last-of-type th {\n",
       "        text-align: right;\n",
       "    }\n",
       "</style>\n",
       "<table border=\"1\" class=\"dataframe\">\n",
       "  <thead>\n",
       "    <tr>\n",
       "      <th>SG_UF_PROVA</th>\n",
       "      <th colspan=\"2\" halign=\"left\">AC</th>\n",
       "      <th colspan=\"2\" halign=\"left\">AL</th>\n",
       "      <th colspan=\"2\" halign=\"left\">AM</th>\n",
       "      <th colspan=\"2\" halign=\"left\">AP</th>\n",
       "      <th colspan=\"2\" halign=\"left\">BA</th>\n",
       "      <th colspan=\"2\" halign=\"left\">CE</th>\n",
       "      <th colspan=\"2\" halign=\"left\">DF</th>\n",
       "      <th colspan=\"2\" halign=\"left\">ES</th>\n",
       "      <th colspan=\"2\" halign=\"left\">GO</th>\n",
       "      <th colspan=\"2\" halign=\"left\">MA</th>\n",
       "      <th colspan=\"2\" halign=\"left\">MG</th>\n",
       "      <th colspan=\"2\" halign=\"left\">MS</th>\n",
       "      <th colspan=\"2\" halign=\"left\">MT</th>\n",
       "      <th colspan=\"2\" halign=\"left\">PA</th>\n",
       "      <th colspan=\"2\" halign=\"left\">PB</th>\n",
       "      <th colspan=\"2\" halign=\"left\">PE</th>\n",
       "      <th colspan=\"2\" halign=\"left\">PI</th>\n",
       "      <th colspan=\"2\" halign=\"left\">PR</th>\n",
       "      <th colspan=\"2\" halign=\"left\">RJ</th>\n",
       "      <th colspan=\"2\" halign=\"left\">RN</th>\n",
       "      <th colspan=\"2\" halign=\"left\">RO</th>\n",
       "      <th colspan=\"2\" halign=\"left\">RR</th>\n",
       "      <th colspan=\"2\" halign=\"left\">RS</th>\n",
       "      <th colspan=\"2\" halign=\"left\">SC</th>\n",
       "      <th colspan=\"2\" halign=\"left\">SE</th>\n",
       "      <th colspan=\"2\" halign=\"left\">SP</th>\n",
       "      <th colspan=\"2\" halign=\"left\">TO</th>\n",
       "    </tr>\n",
       "    <tr>\n",
       "      <th></th>\n",
       "      <th>MEDIA_GLOBAL</th>\n",
       "      <th>MEDIA_OBJ</th>\n",
       "      <th>MEDIA_GLOBAL</th>\n",
       "      <th>MEDIA_OBJ</th>\n",
       "      <th>MEDIA_GLOBAL</th>\n",
       "      <th>MEDIA_OBJ</th>\n",
       "      <th>MEDIA_GLOBAL</th>\n",
       "      <th>MEDIA_OBJ</th>\n",
       "      <th>MEDIA_GLOBAL</th>\n",
       "      <th>MEDIA_OBJ</th>\n",
       "      <th>MEDIA_GLOBAL</th>\n",
       "      <th>MEDIA_OBJ</th>\n",
       "      <th>MEDIA_GLOBAL</th>\n",
       "      <th>MEDIA_OBJ</th>\n",
       "      <th>MEDIA_GLOBAL</th>\n",
       "      <th>MEDIA_OBJ</th>\n",
       "      <th>MEDIA_GLOBAL</th>\n",
       "      <th>MEDIA_OBJ</th>\n",
       "      <th>MEDIA_GLOBAL</th>\n",
       "      <th>MEDIA_OBJ</th>\n",
       "      <th>MEDIA_GLOBAL</th>\n",
       "      <th>MEDIA_OBJ</th>\n",
       "      <th>MEDIA_GLOBAL</th>\n",
       "      <th>MEDIA_OBJ</th>\n",
       "      <th>MEDIA_GLOBAL</th>\n",
       "      <th>MEDIA_OBJ</th>\n",
       "      <th>MEDIA_GLOBAL</th>\n",
       "      <th>MEDIA_OBJ</th>\n",
       "      <th>MEDIA_GLOBAL</th>\n",
       "      <th>MEDIA_OBJ</th>\n",
       "      <th>MEDIA_GLOBAL</th>\n",
       "      <th>MEDIA_OBJ</th>\n",
       "      <th>MEDIA_GLOBAL</th>\n",
       "      <th>MEDIA_OBJ</th>\n",
       "      <th>MEDIA_GLOBAL</th>\n",
       "      <th>MEDIA_OBJ</th>\n",
       "      <th>MEDIA_GLOBAL</th>\n",
       "      <th>MEDIA_OBJ</th>\n",
       "      <th>MEDIA_GLOBAL</th>\n",
       "      <th>MEDIA_OBJ</th>\n",
       "      <th>MEDIA_GLOBAL</th>\n",
       "      <th>MEDIA_OBJ</th>\n",
       "      <th>MEDIA_GLOBAL</th>\n",
       "      <th>MEDIA_OBJ</th>\n",
       "      <th>MEDIA_GLOBAL</th>\n",
       "      <th>MEDIA_OBJ</th>\n",
       "      <th>MEDIA_GLOBAL</th>\n",
       "      <th>MEDIA_OBJ</th>\n",
       "      <th>MEDIA_GLOBAL</th>\n",
       "      <th>MEDIA_OBJ</th>\n",
       "      <th>MEDIA_GLOBAL</th>\n",
       "      <th>MEDIA_OBJ</th>\n",
       "      <th>MEDIA_GLOBAL</th>\n",
       "      <th>MEDIA_OBJ</th>\n",
       "    </tr>\n",
       "    <tr>\n",
       "      <th>NU_ANO</th>\n",
       "      <th></th>\n",
       "      <th></th>\n",
       "      <th></th>\n",
       "      <th></th>\n",
       "      <th></th>\n",
       "      <th></th>\n",
       "      <th></th>\n",
       "      <th></th>\n",
       "      <th></th>\n",
       "      <th></th>\n",
       "      <th></th>\n",
       "      <th></th>\n",
       "      <th></th>\n",
       "      <th></th>\n",
       "      <th></th>\n",
       "      <th></th>\n",
       "      <th></th>\n",
       "      <th></th>\n",
       "      <th></th>\n",
       "      <th></th>\n",
       "      <th></th>\n",
       "      <th></th>\n",
       "      <th></th>\n",
       "      <th></th>\n",
       "      <th></th>\n",
       "      <th></th>\n",
       "      <th></th>\n",
       "      <th></th>\n",
       "      <th></th>\n",
       "      <th></th>\n",
       "      <th></th>\n",
       "      <th></th>\n",
       "      <th></th>\n",
       "      <th></th>\n",
       "      <th></th>\n",
       "      <th></th>\n",
       "      <th></th>\n",
       "      <th></th>\n",
       "      <th></th>\n",
       "      <th></th>\n",
       "      <th></th>\n",
       "      <th></th>\n",
       "      <th></th>\n",
       "      <th></th>\n",
       "      <th></th>\n",
       "      <th></th>\n",
       "      <th></th>\n",
       "      <th></th>\n",
       "      <th></th>\n",
       "      <th></th>\n",
       "      <th></th>\n",
       "      <th></th>\n",
       "      <th></th>\n",
       "      <th></th>\n",
       "    </tr>\n",
       "  </thead>\n",
       "  <tbody>\n",
       "    <tr>\n",
       "      <th>2021</th>\n",
       "      <td>503.97</td>\n",
       "      <td>484.65</td>\n",
       "      <td>516.48</td>\n",
       "      <td>493.12</td>\n",
       "      <td>481.89</td>\n",
       "      <td>471.02</td>\n",
       "      <td>499.18</td>\n",
       "      <td>480.31</td>\n",
       "      <td>518.89</td>\n",
       "      <td>496.66</td>\n",
       "      <td>513.58</td>\n",
       "      <td>496.24</td>\n",
       "      <td>547.49</td>\n",
       "      <td>528.9</td>\n",
       "      <td>541.36</td>\n",
       "      <td>520.64</td>\n",
       "      <td>527.4</td>\n",
       "      <td>505.93</td>\n",
       "      <td>503.33</td>\n",
       "      <td>481.1</td>\n",
       "      <td>555.3</td>\n",
       "      <td>531.98</td>\n",
       "      <td>523.39</td>\n",
       "      <td>505.38</td>\n",
       "      <td>516.83</td>\n",
       "      <td>499.36</td>\n",
       "      <td>505.83</td>\n",
       "      <td>482.77</td>\n",
       "      <td>520.45</td>\n",
       "      <td>496.75</td>\n",
       "      <td>522.57</td>\n",
       "      <td>500.9</td>\n",
       "      <td>516.22</td>\n",
       "      <td>490.35</td>\n",
       "      <td>539.99</td>\n",
       "      <td>523.84</td>\n",
       "      <td>545.21</td>\n",
       "      <td>524.1</td>\n",
       "      <td>529.96</td>\n",
       "      <td>507.67</td>\n",
       "      <td>504.75</td>\n",
       "      <td>487.67</td>\n",
       "      <td>513.12</td>\n",
       "      <td>497.47</td>\n",
       "      <td>544.92</td>\n",
       "      <td>526.53</td>\n",
       "      <td>548.18</td>\n",
       "      <td>529.75</td>\n",
       "      <td>523.78</td>\n",
       "      <td>497.97</td>\n",
       "      <td>556.19</td>\n",
       "      <td>537.51</td>\n",
       "      <td>508.34</td>\n",
       "      <td>486.92</td>\n",
       "    </tr>\n",
       "  </tbody>\n",
       "</table>\n",
       "</div>"
      ],
      "text/plain": [
       "SG_UF_PROVA           AC                     AL                     AM  \\\n",
       "            MEDIA_GLOBAL MEDIA_OBJ MEDIA_GLOBAL MEDIA_OBJ MEDIA_GLOBAL   \n",
       "NU_ANO                                                                   \n",
       "2021              503.97    484.65       516.48    493.12       481.89   \n",
       "\n",
       "SG_UF_PROVA                     AP                     BA            \\\n",
       "            MEDIA_OBJ MEDIA_GLOBAL MEDIA_OBJ MEDIA_GLOBAL MEDIA_OBJ   \n",
       "NU_ANO                                                                \n",
       "2021           471.02       499.18    480.31       518.89    496.66   \n",
       "\n",
       "SG_UF_PROVA           CE                     DF                     ES  \\\n",
       "            MEDIA_GLOBAL MEDIA_OBJ MEDIA_GLOBAL MEDIA_OBJ MEDIA_GLOBAL   \n",
       "NU_ANO                                                                   \n",
       "2021              513.58    496.24       547.49     528.9       541.36   \n",
       "\n",
       "SG_UF_PROVA                     GO                     MA            \\\n",
       "            MEDIA_OBJ MEDIA_GLOBAL MEDIA_OBJ MEDIA_GLOBAL MEDIA_OBJ   \n",
       "NU_ANO                                                                \n",
       "2021           520.64        527.4    505.93       503.33     481.1   \n",
       "\n",
       "SG_UF_PROVA           MG                     MS                     MT  \\\n",
       "            MEDIA_GLOBAL MEDIA_OBJ MEDIA_GLOBAL MEDIA_OBJ MEDIA_GLOBAL   \n",
       "NU_ANO                                                                   \n",
       "2021               555.3    531.98       523.39    505.38       516.83   \n",
       "\n",
       "SG_UF_PROVA                     PA                     PB            \\\n",
       "            MEDIA_OBJ MEDIA_GLOBAL MEDIA_OBJ MEDIA_GLOBAL MEDIA_OBJ   \n",
       "NU_ANO                                                                \n",
       "2021           499.36       505.83    482.77       520.45    496.75   \n",
       "\n",
       "SG_UF_PROVA           PE                     PI                     PR  \\\n",
       "            MEDIA_GLOBAL MEDIA_OBJ MEDIA_GLOBAL MEDIA_OBJ MEDIA_GLOBAL   \n",
       "NU_ANO                                                                   \n",
       "2021              522.57     500.9       516.22    490.35       539.99   \n",
       "\n",
       "SG_UF_PROVA                     RJ                     RN            \\\n",
       "            MEDIA_OBJ MEDIA_GLOBAL MEDIA_OBJ MEDIA_GLOBAL MEDIA_OBJ   \n",
       "NU_ANO                                                                \n",
       "2021           523.84       545.21     524.1       529.96    507.67   \n",
       "\n",
       "SG_UF_PROVA           RO                     RR                     RS  \\\n",
       "            MEDIA_GLOBAL MEDIA_OBJ MEDIA_GLOBAL MEDIA_OBJ MEDIA_GLOBAL   \n",
       "NU_ANO                                                                   \n",
       "2021              504.75    487.67       513.12    497.47       544.92   \n",
       "\n",
       "SG_UF_PROVA                     SC                     SE            \\\n",
       "            MEDIA_OBJ MEDIA_GLOBAL MEDIA_OBJ MEDIA_GLOBAL MEDIA_OBJ   \n",
       "NU_ANO                                                                \n",
       "2021           526.53       548.18    529.75       523.78    497.97   \n",
       "\n",
       "SG_UF_PROVA           SP                     TO            \n",
       "            MEDIA_GLOBAL MEDIA_OBJ MEDIA_GLOBAL MEDIA_OBJ  \n",
       "NU_ANO                                                     \n",
       "2021              556.19    537.51       508.34    486.92  "
      ]
     },
     "execution_count": 22,
     "metadata": {},
     "output_type": "execute_result"
    }
   ],
   "source": [
    "geral20219_media_ano.head()"
   ]
  },
  {
   "cell_type": "code",
   "execution_count": 18,
   "metadata": {},
   "outputs": [
    {
     "data": {
      "text/html": [
       "<div>\n",
       "<style scoped>\n",
       "    .dataframe tbody tr th:only-of-type {\n",
       "        vertical-align: middle;\n",
       "    }\n",
       "\n",
       "    .dataframe tbody tr th {\n",
       "        vertical-align: top;\n",
       "    }\n",
       "\n",
       "    .dataframe thead tr th {\n",
       "        text-align: left;\n",
       "    }\n",
       "\n",
       "    .dataframe thead tr:last-of-type th {\n",
       "        text-align: right;\n",
       "    }\n",
       "</style>\n",
       "<table border=\"1\" class=\"dataframe\">\n",
       "  <thead>\n",
       "    <tr>\n",
       "      <th>SG_UF_PROVA</th>\n",
       "      <th colspan=\"2\" halign=\"left\">AC</th>\n",
       "      <th colspan=\"2\" halign=\"left\">AL</th>\n",
       "      <th colspan=\"2\" halign=\"left\">AM</th>\n",
       "      <th colspan=\"2\" halign=\"left\">AP</th>\n",
       "      <th colspan=\"2\" halign=\"left\">BA</th>\n",
       "      <th colspan=\"2\" halign=\"left\">CE</th>\n",
       "      <th colspan=\"2\" halign=\"left\">DF</th>\n",
       "      <th colspan=\"2\" halign=\"left\">ES</th>\n",
       "      <th colspan=\"2\" halign=\"left\">GO</th>\n",
       "      <th colspan=\"2\" halign=\"left\">MA</th>\n",
       "      <th colspan=\"2\" halign=\"left\">MG</th>\n",
       "      <th colspan=\"2\" halign=\"left\">MS</th>\n",
       "      <th colspan=\"2\" halign=\"left\">MT</th>\n",
       "      <th colspan=\"2\" halign=\"left\">PA</th>\n",
       "      <th colspan=\"2\" halign=\"left\">PB</th>\n",
       "      <th colspan=\"2\" halign=\"left\">PE</th>\n",
       "      <th colspan=\"2\" halign=\"left\">PI</th>\n",
       "      <th colspan=\"2\" halign=\"left\">PR</th>\n",
       "      <th colspan=\"2\" halign=\"left\">RJ</th>\n",
       "      <th colspan=\"2\" halign=\"left\">RN</th>\n",
       "      <th colspan=\"2\" halign=\"left\">RO</th>\n",
       "      <th colspan=\"2\" halign=\"left\">RR</th>\n",
       "      <th colspan=\"2\" halign=\"left\">RS</th>\n",
       "      <th colspan=\"2\" halign=\"left\">SC</th>\n",
       "      <th colspan=\"2\" halign=\"left\">SE</th>\n",
       "      <th colspan=\"2\" halign=\"left\">SP</th>\n",
       "      <th colspan=\"2\" halign=\"left\">TO</th>\n",
       "    </tr>\n",
       "    <tr>\n",
       "      <th></th>\n",
       "      <th>MEDIA_GLOBAL</th>\n",
       "      <th>MEDIA_OBJ</th>\n",
       "      <th>MEDIA_GLOBAL</th>\n",
       "      <th>MEDIA_OBJ</th>\n",
       "      <th>MEDIA_GLOBAL</th>\n",
       "      <th>MEDIA_OBJ</th>\n",
       "      <th>MEDIA_GLOBAL</th>\n",
       "      <th>MEDIA_OBJ</th>\n",
       "      <th>MEDIA_GLOBAL</th>\n",
       "      <th>MEDIA_OBJ</th>\n",
       "      <th>MEDIA_GLOBAL</th>\n",
       "      <th>MEDIA_OBJ</th>\n",
       "      <th>MEDIA_GLOBAL</th>\n",
       "      <th>MEDIA_OBJ</th>\n",
       "      <th>MEDIA_GLOBAL</th>\n",
       "      <th>MEDIA_OBJ</th>\n",
       "      <th>MEDIA_GLOBAL</th>\n",
       "      <th>MEDIA_OBJ</th>\n",
       "      <th>MEDIA_GLOBAL</th>\n",
       "      <th>MEDIA_OBJ</th>\n",
       "      <th>MEDIA_GLOBAL</th>\n",
       "      <th>MEDIA_OBJ</th>\n",
       "      <th>MEDIA_GLOBAL</th>\n",
       "      <th>MEDIA_OBJ</th>\n",
       "      <th>MEDIA_GLOBAL</th>\n",
       "      <th>MEDIA_OBJ</th>\n",
       "      <th>MEDIA_GLOBAL</th>\n",
       "      <th>MEDIA_OBJ</th>\n",
       "      <th>MEDIA_GLOBAL</th>\n",
       "      <th>MEDIA_OBJ</th>\n",
       "      <th>MEDIA_GLOBAL</th>\n",
       "      <th>MEDIA_OBJ</th>\n",
       "      <th>MEDIA_GLOBAL</th>\n",
       "      <th>MEDIA_OBJ</th>\n",
       "      <th>MEDIA_GLOBAL</th>\n",
       "      <th>MEDIA_OBJ</th>\n",
       "      <th>MEDIA_GLOBAL</th>\n",
       "      <th>MEDIA_OBJ</th>\n",
       "      <th>MEDIA_GLOBAL</th>\n",
       "      <th>MEDIA_OBJ</th>\n",
       "      <th>MEDIA_GLOBAL</th>\n",
       "      <th>MEDIA_OBJ</th>\n",
       "      <th>MEDIA_GLOBAL</th>\n",
       "      <th>MEDIA_OBJ</th>\n",
       "      <th>MEDIA_GLOBAL</th>\n",
       "      <th>MEDIA_OBJ</th>\n",
       "      <th>MEDIA_GLOBAL</th>\n",
       "      <th>MEDIA_OBJ</th>\n",
       "      <th>MEDIA_GLOBAL</th>\n",
       "      <th>MEDIA_OBJ</th>\n",
       "      <th>MEDIA_GLOBAL</th>\n",
       "      <th>MEDIA_OBJ</th>\n",
       "      <th>MEDIA_GLOBAL</th>\n",
       "      <th>MEDIA_OBJ</th>\n",
       "    </tr>\n",
       "    <tr>\n",
       "      <th>NU_ANO</th>\n",
       "      <th></th>\n",
       "      <th></th>\n",
       "      <th></th>\n",
       "      <th></th>\n",
       "      <th></th>\n",
       "      <th></th>\n",
       "      <th></th>\n",
       "      <th></th>\n",
       "      <th></th>\n",
       "      <th></th>\n",
       "      <th></th>\n",
       "      <th></th>\n",
       "      <th></th>\n",
       "      <th></th>\n",
       "      <th></th>\n",
       "      <th></th>\n",
       "      <th></th>\n",
       "      <th></th>\n",
       "      <th></th>\n",
       "      <th></th>\n",
       "      <th></th>\n",
       "      <th></th>\n",
       "      <th></th>\n",
       "      <th></th>\n",
       "      <th></th>\n",
       "      <th></th>\n",
       "      <th></th>\n",
       "      <th></th>\n",
       "      <th></th>\n",
       "      <th></th>\n",
       "      <th></th>\n",
       "      <th></th>\n",
       "      <th></th>\n",
       "      <th></th>\n",
       "      <th></th>\n",
       "      <th></th>\n",
       "      <th></th>\n",
       "      <th></th>\n",
       "      <th></th>\n",
       "      <th></th>\n",
       "      <th></th>\n",
       "      <th></th>\n",
       "      <th></th>\n",
       "      <th></th>\n",
       "      <th></th>\n",
       "      <th></th>\n",
       "      <th></th>\n",
       "      <th></th>\n",
       "      <th></th>\n",
       "      <th></th>\n",
       "      <th></th>\n",
       "      <th></th>\n",
       "      <th></th>\n",
       "      <th></th>\n",
       "    </tr>\n",
       "  </thead>\n",
       "  <tbody>\n",
       "    <tr>\n",
       "      <th>2022</th>\n",
       "      <td>510.34</td>\n",
       "      <td>493.22</td>\n",
       "      <td>522.73</td>\n",
       "      <td>503.7</td>\n",
       "      <td>495.2</td>\n",
       "      <td>486.09</td>\n",
       "      <td>504.01</td>\n",
       "      <td>488.83</td>\n",
       "      <td>525.31</td>\n",
       "      <td>505.33</td>\n",
       "      <td>521.26</td>\n",
       "      <td>505.56</td>\n",
       "      <td>554.28</td>\n",
       "      <td>536.16</td>\n",
       "      <td>550.74</td>\n",
       "      <td>529.59</td>\n",
       "      <td>534.74</td>\n",
       "      <td>515.11</td>\n",
       "      <td>509.6</td>\n",
       "      <td>490.04</td>\n",
       "      <td>563.99</td>\n",
       "      <td>541.34</td>\n",
       "      <td>529.79</td>\n",
       "      <td>513.49</td>\n",
       "      <td>521.37</td>\n",
       "      <td>506.56</td>\n",
       "      <td>510.87</td>\n",
       "      <td>491.49</td>\n",
       "      <td>530.43</td>\n",
       "      <td>508.77</td>\n",
       "      <td>532.43</td>\n",
       "      <td>513.42</td>\n",
       "      <td>523.44</td>\n",
       "      <td>500.92</td>\n",
       "      <td>548.27</td>\n",
       "      <td>532.74</td>\n",
       "      <td>551.3</td>\n",
       "      <td>531.93</td>\n",
       "      <td>536.28</td>\n",
       "      <td>516.16</td>\n",
       "      <td>513.6</td>\n",
       "      <td>497.95</td>\n",
       "      <td>522.98</td>\n",
       "      <td>509.65</td>\n",
       "      <td>550.91</td>\n",
       "      <td>532.73</td>\n",
       "      <td>556.09</td>\n",
       "      <td>537.5</td>\n",
       "      <td>530.77</td>\n",
       "      <td>507.04</td>\n",
       "      <td>560.43</td>\n",
       "      <td>542.01</td>\n",
       "      <td>518.99</td>\n",
       "      <td>498.95</td>\n",
       "    </tr>\n",
       "  </tbody>\n",
       "</table>\n",
       "</div>"
      ],
      "text/plain": [
       "SG_UF_PROVA           AC                     AL                     AM  \\\n",
       "            MEDIA_GLOBAL MEDIA_OBJ MEDIA_GLOBAL MEDIA_OBJ MEDIA_GLOBAL   \n",
       "NU_ANO                                                                   \n",
       "2022              510.34    493.22       522.73     503.7        495.2   \n",
       "\n",
       "SG_UF_PROVA                     AP                     BA            \\\n",
       "            MEDIA_OBJ MEDIA_GLOBAL MEDIA_OBJ MEDIA_GLOBAL MEDIA_OBJ   \n",
       "NU_ANO                                                                \n",
       "2022           486.09       504.01    488.83       525.31    505.33   \n",
       "\n",
       "SG_UF_PROVA           CE                     DF                     ES  \\\n",
       "            MEDIA_GLOBAL MEDIA_OBJ MEDIA_GLOBAL MEDIA_OBJ MEDIA_GLOBAL   \n",
       "NU_ANO                                                                   \n",
       "2022              521.26    505.56       554.28    536.16       550.74   \n",
       "\n",
       "SG_UF_PROVA                     GO                     MA            \\\n",
       "            MEDIA_OBJ MEDIA_GLOBAL MEDIA_OBJ MEDIA_GLOBAL MEDIA_OBJ   \n",
       "NU_ANO                                                                \n",
       "2022           529.59       534.74    515.11        509.6    490.04   \n",
       "\n",
       "SG_UF_PROVA           MG                     MS                     MT  \\\n",
       "            MEDIA_GLOBAL MEDIA_OBJ MEDIA_GLOBAL MEDIA_OBJ MEDIA_GLOBAL   \n",
       "NU_ANO                                                                   \n",
       "2022              563.99    541.34       529.79    513.49       521.37   \n",
       "\n",
       "SG_UF_PROVA                     PA                     PB            \\\n",
       "            MEDIA_OBJ MEDIA_GLOBAL MEDIA_OBJ MEDIA_GLOBAL MEDIA_OBJ   \n",
       "NU_ANO                                                                \n",
       "2022           506.56       510.87    491.49       530.43    508.77   \n",
       "\n",
       "SG_UF_PROVA           PE                     PI                     PR  \\\n",
       "            MEDIA_GLOBAL MEDIA_OBJ MEDIA_GLOBAL MEDIA_OBJ MEDIA_GLOBAL   \n",
       "NU_ANO                                                                   \n",
       "2022              532.43    513.42       523.44    500.92       548.27   \n",
       "\n",
       "SG_UF_PROVA                     RJ                     RN            \\\n",
       "            MEDIA_OBJ MEDIA_GLOBAL MEDIA_OBJ MEDIA_GLOBAL MEDIA_OBJ   \n",
       "NU_ANO                                                                \n",
       "2022           532.74        551.3    531.93       536.28    516.16   \n",
       "\n",
       "SG_UF_PROVA           RO                     RR                     RS  \\\n",
       "            MEDIA_GLOBAL MEDIA_OBJ MEDIA_GLOBAL MEDIA_OBJ MEDIA_GLOBAL   \n",
       "NU_ANO                                                                   \n",
       "2022               513.6    497.95       522.98    509.65       550.91   \n",
       "\n",
       "SG_UF_PROVA                     SC                     SE            \\\n",
       "            MEDIA_OBJ MEDIA_GLOBAL MEDIA_OBJ MEDIA_GLOBAL MEDIA_OBJ   \n",
       "NU_ANO                                                                \n",
       "2022           532.73       556.09     537.5       530.77    507.04   \n",
       "\n",
       "SG_UF_PROVA           SP                     TO            \n",
       "            MEDIA_GLOBAL MEDIA_OBJ MEDIA_GLOBAL MEDIA_OBJ  \n",
       "NU_ANO                                                     \n",
       "2022              560.43    542.01       518.99    498.95  "
      ]
     },
     "execution_count": 18,
     "metadata": {},
     "output_type": "execute_result"
    }
   ],
   "source": [
    "geral20229_media_ano.head()"
   ]
  },
  {
   "cell_type": "code",
   "execution_count": 23,
   "metadata": {},
   "outputs": [
    {
     "data": {
      "text/html": [
       "<div>\n",
       "<style scoped>\n",
       "    .dataframe tbody tr th:only-of-type {\n",
       "        vertical-align: middle;\n",
       "    }\n",
       "\n",
       "    .dataframe tbody tr th {\n",
       "        vertical-align: top;\n",
       "    }\n",
       "\n",
       "    .dataframe thead tr th {\n",
       "        text-align: left;\n",
       "    }\n",
       "\n",
       "    .dataframe thead tr:last-of-type th {\n",
       "        text-align: right;\n",
       "    }\n",
       "</style>\n",
       "<table border=\"1\" class=\"dataframe\">\n",
       "  <thead>\n",
       "    <tr>\n",
       "      <th>SG_UF_PROVA</th>\n",
       "      <th colspan=\"2\" halign=\"left\">AC</th>\n",
       "      <th colspan=\"2\" halign=\"left\">AL</th>\n",
       "      <th colspan=\"2\" halign=\"left\">AM</th>\n",
       "      <th colspan=\"2\" halign=\"left\">AP</th>\n",
       "      <th colspan=\"2\" halign=\"left\">BA</th>\n",
       "      <th colspan=\"2\" halign=\"left\">CE</th>\n",
       "      <th colspan=\"2\" halign=\"left\">DF</th>\n",
       "      <th colspan=\"2\" halign=\"left\">ES</th>\n",
       "      <th colspan=\"2\" halign=\"left\">GO</th>\n",
       "      <th colspan=\"2\" halign=\"left\">MA</th>\n",
       "      <th colspan=\"2\" halign=\"left\">MG</th>\n",
       "      <th colspan=\"2\" halign=\"left\">MS</th>\n",
       "      <th colspan=\"2\" halign=\"left\">MT</th>\n",
       "      <th colspan=\"2\" halign=\"left\">PA</th>\n",
       "      <th colspan=\"2\" halign=\"left\">PB</th>\n",
       "      <th colspan=\"2\" halign=\"left\">PE</th>\n",
       "      <th colspan=\"2\" halign=\"left\">PI</th>\n",
       "      <th colspan=\"2\" halign=\"left\">PR</th>\n",
       "      <th colspan=\"2\" halign=\"left\">RJ</th>\n",
       "      <th colspan=\"2\" halign=\"left\">RN</th>\n",
       "      <th colspan=\"2\" halign=\"left\">RO</th>\n",
       "      <th colspan=\"2\" halign=\"left\">RR</th>\n",
       "      <th colspan=\"2\" halign=\"left\">RS</th>\n",
       "      <th colspan=\"2\" halign=\"left\">SC</th>\n",
       "      <th colspan=\"2\" halign=\"left\">SE</th>\n",
       "      <th colspan=\"2\" halign=\"left\">SP</th>\n",
       "      <th colspan=\"2\" halign=\"left\">TO</th>\n",
       "    </tr>\n",
       "    <tr>\n",
       "      <th></th>\n",
       "      <th>MEDIA_GLOBAL</th>\n",
       "      <th>MEDIA_OBJ</th>\n",
       "      <th>MEDIA_GLOBAL</th>\n",
       "      <th>MEDIA_OBJ</th>\n",
       "      <th>MEDIA_GLOBAL</th>\n",
       "      <th>MEDIA_OBJ</th>\n",
       "      <th>MEDIA_GLOBAL</th>\n",
       "      <th>MEDIA_OBJ</th>\n",
       "      <th>MEDIA_GLOBAL</th>\n",
       "      <th>MEDIA_OBJ</th>\n",
       "      <th>MEDIA_GLOBAL</th>\n",
       "      <th>MEDIA_OBJ</th>\n",
       "      <th>MEDIA_GLOBAL</th>\n",
       "      <th>MEDIA_OBJ</th>\n",
       "      <th>MEDIA_GLOBAL</th>\n",
       "      <th>MEDIA_OBJ</th>\n",
       "      <th>MEDIA_GLOBAL</th>\n",
       "      <th>MEDIA_OBJ</th>\n",
       "      <th>MEDIA_GLOBAL</th>\n",
       "      <th>MEDIA_OBJ</th>\n",
       "      <th>MEDIA_GLOBAL</th>\n",
       "      <th>MEDIA_OBJ</th>\n",
       "      <th>MEDIA_GLOBAL</th>\n",
       "      <th>MEDIA_OBJ</th>\n",
       "      <th>MEDIA_GLOBAL</th>\n",
       "      <th>MEDIA_OBJ</th>\n",
       "      <th>MEDIA_GLOBAL</th>\n",
       "      <th>MEDIA_OBJ</th>\n",
       "      <th>MEDIA_GLOBAL</th>\n",
       "      <th>MEDIA_OBJ</th>\n",
       "      <th>MEDIA_GLOBAL</th>\n",
       "      <th>MEDIA_OBJ</th>\n",
       "      <th>MEDIA_GLOBAL</th>\n",
       "      <th>MEDIA_OBJ</th>\n",
       "      <th>MEDIA_GLOBAL</th>\n",
       "      <th>MEDIA_OBJ</th>\n",
       "      <th>MEDIA_GLOBAL</th>\n",
       "      <th>MEDIA_OBJ</th>\n",
       "      <th>MEDIA_GLOBAL</th>\n",
       "      <th>MEDIA_OBJ</th>\n",
       "      <th>MEDIA_GLOBAL</th>\n",
       "      <th>MEDIA_OBJ</th>\n",
       "      <th>MEDIA_GLOBAL</th>\n",
       "      <th>MEDIA_OBJ</th>\n",
       "      <th>MEDIA_GLOBAL</th>\n",
       "      <th>MEDIA_OBJ</th>\n",
       "      <th>MEDIA_GLOBAL</th>\n",
       "      <th>MEDIA_OBJ</th>\n",
       "      <th>MEDIA_GLOBAL</th>\n",
       "      <th>MEDIA_OBJ</th>\n",
       "      <th>MEDIA_GLOBAL</th>\n",
       "      <th>MEDIA_OBJ</th>\n",
       "      <th>MEDIA_GLOBAL</th>\n",
       "      <th>MEDIA_OBJ</th>\n",
       "    </tr>\n",
       "    <tr>\n",
       "      <th>NU_ANO</th>\n",
       "      <th></th>\n",
       "      <th></th>\n",
       "      <th></th>\n",
       "      <th></th>\n",
       "      <th></th>\n",
       "      <th></th>\n",
       "      <th></th>\n",
       "      <th></th>\n",
       "      <th></th>\n",
       "      <th></th>\n",
       "      <th></th>\n",
       "      <th></th>\n",
       "      <th></th>\n",
       "      <th></th>\n",
       "      <th></th>\n",
       "      <th></th>\n",
       "      <th></th>\n",
       "      <th></th>\n",
       "      <th></th>\n",
       "      <th></th>\n",
       "      <th></th>\n",
       "      <th></th>\n",
       "      <th></th>\n",
       "      <th></th>\n",
       "      <th></th>\n",
       "      <th></th>\n",
       "      <th></th>\n",
       "      <th></th>\n",
       "      <th></th>\n",
       "      <th></th>\n",
       "      <th></th>\n",
       "      <th></th>\n",
       "      <th></th>\n",
       "      <th></th>\n",
       "      <th></th>\n",
       "      <th></th>\n",
       "      <th></th>\n",
       "      <th></th>\n",
       "      <th></th>\n",
       "      <th></th>\n",
       "      <th></th>\n",
       "      <th></th>\n",
       "      <th></th>\n",
       "      <th></th>\n",
       "      <th></th>\n",
       "      <th></th>\n",
       "      <th></th>\n",
       "      <th></th>\n",
       "      <th></th>\n",
       "      <th></th>\n",
       "      <th></th>\n",
       "      <th></th>\n",
       "      <th></th>\n",
       "      <th></th>\n",
       "    </tr>\n",
       "  </thead>\n",
       "  <tbody>\n",
       "    <tr>\n",
       "      <th>2021</th>\n",
       "      <td>503.97</td>\n",
       "      <td>484.65</td>\n",
       "      <td>516.48</td>\n",
       "      <td>493.12</td>\n",
       "      <td>481.89</td>\n",
       "      <td>471.02</td>\n",
       "      <td>499.18</td>\n",
       "      <td>480.31</td>\n",
       "      <td>518.89</td>\n",
       "      <td>496.66</td>\n",
       "      <td>513.58</td>\n",
       "      <td>496.24</td>\n",
       "      <td>547.49</td>\n",
       "      <td>528.90</td>\n",
       "      <td>541.36</td>\n",
       "      <td>520.64</td>\n",
       "      <td>527.40</td>\n",
       "      <td>505.93</td>\n",
       "      <td>503.33</td>\n",
       "      <td>481.10</td>\n",
       "      <td>555.30</td>\n",
       "      <td>531.98</td>\n",
       "      <td>523.39</td>\n",
       "      <td>505.38</td>\n",
       "      <td>516.83</td>\n",
       "      <td>499.36</td>\n",
       "      <td>505.83</td>\n",
       "      <td>482.77</td>\n",
       "      <td>520.45</td>\n",
       "      <td>496.75</td>\n",
       "      <td>522.57</td>\n",
       "      <td>500.90</td>\n",
       "      <td>516.22</td>\n",
       "      <td>490.35</td>\n",
       "      <td>539.99</td>\n",
       "      <td>523.84</td>\n",
       "      <td>545.21</td>\n",
       "      <td>524.10</td>\n",
       "      <td>529.96</td>\n",
       "      <td>507.67</td>\n",
       "      <td>504.75</td>\n",
       "      <td>487.67</td>\n",
       "      <td>513.12</td>\n",
       "      <td>497.47</td>\n",
       "      <td>544.92</td>\n",
       "      <td>526.53</td>\n",
       "      <td>548.18</td>\n",
       "      <td>529.75</td>\n",
       "      <td>523.78</td>\n",
       "      <td>497.97</td>\n",
       "      <td>556.19</td>\n",
       "      <td>537.51</td>\n",
       "      <td>508.34</td>\n",
       "      <td>486.92</td>\n",
       "    </tr>\n",
       "    <tr>\n",
       "      <th>2022</th>\n",
       "      <td>510.34</td>\n",
       "      <td>493.22</td>\n",
       "      <td>522.73</td>\n",
       "      <td>503.70</td>\n",
       "      <td>495.20</td>\n",
       "      <td>486.09</td>\n",
       "      <td>504.01</td>\n",
       "      <td>488.83</td>\n",
       "      <td>525.31</td>\n",
       "      <td>505.33</td>\n",
       "      <td>521.26</td>\n",
       "      <td>505.56</td>\n",
       "      <td>554.28</td>\n",
       "      <td>536.16</td>\n",
       "      <td>550.74</td>\n",
       "      <td>529.59</td>\n",
       "      <td>534.74</td>\n",
       "      <td>515.11</td>\n",
       "      <td>509.60</td>\n",
       "      <td>490.04</td>\n",
       "      <td>563.99</td>\n",
       "      <td>541.34</td>\n",
       "      <td>529.79</td>\n",
       "      <td>513.49</td>\n",
       "      <td>521.37</td>\n",
       "      <td>506.56</td>\n",
       "      <td>510.87</td>\n",
       "      <td>491.49</td>\n",
       "      <td>530.43</td>\n",
       "      <td>508.77</td>\n",
       "      <td>532.43</td>\n",
       "      <td>513.42</td>\n",
       "      <td>523.44</td>\n",
       "      <td>500.92</td>\n",
       "      <td>548.27</td>\n",
       "      <td>532.74</td>\n",
       "      <td>551.30</td>\n",
       "      <td>531.93</td>\n",
       "      <td>536.28</td>\n",
       "      <td>516.16</td>\n",
       "      <td>513.60</td>\n",
       "      <td>497.95</td>\n",
       "      <td>522.98</td>\n",
       "      <td>509.65</td>\n",
       "      <td>550.91</td>\n",
       "      <td>532.73</td>\n",
       "      <td>556.09</td>\n",
       "      <td>537.50</td>\n",
       "      <td>530.77</td>\n",
       "      <td>507.04</td>\n",
       "      <td>560.43</td>\n",
       "      <td>542.01</td>\n",
       "      <td>518.99</td>\n",
       "      <td>498.95</td>\n",
       "    </tr>\n",
       "  </tbody>\n",
       "</table>\n",
       "</div>"
      ],
      "text/plain": [
       "SG_UF_PROVA           AC                     AL                     AM  \\\n",
       "            MEDIA_GLOBAL MEDIA_OBJ MEDIA_GLOBAL MEDIA_OBJ MEDIA_GLOBAL   \n",
       "NU_ANO                                                                   \n",
       "2021              503.97    484.65       516.48    493.12       481.89   \n",
       "2022              510.34    493.22       522.73    503.70       495.20   \n",
       "\n",
       "SG_UF_PROVA                     AP                     BA            \\\n",
       "            MEDIA_OBJ MEDIA_GLOBAL MEDIA_OBJ MEDIA_GLOBAL MEDIA_OBJ   \n",
       "NU_ANO                                                                \n",
       "2021           471.02       499.18    480.31       518.89    496.66   \n",
       "2022           486.09       504.01    488.83       525.31    505.33   \n",
       "\n",
       "SG_UF_PROVA           CE                     DF                     ES  \\\n",
       "            MEDIA_GLOBAL MEDIA_OBJ MEDIA_GLOBAL MEDIA_OBJ MEDIA_GLOBAL   \n",
       "NU_ANO                                                                   \n",
       "2021              513.58    496.24       547.49    528.90       541.36   \n",
       "2022              521.26    505.56       554.28    536.16       550.74   \n",
       "\n",
       "SG_UF_PROVA                     GO                     MA            \\\n",
       "            MEDIA_OBJ MEDIA_GLOBAL MEDIA_OBJ MEDIA_GLOBAL MEDIA_OBJ   \n",
       "NU_ANO                                                                \n",
       "2021           520.64       527.40    505.93       503.33    481.10   \n",
       "2022           529.59       534.74    515.11       509.60    490.04   \n",
       "\n",
       "SG_UF_PROVA           MG                     MS                     MT  \\\n",
       "            MEDIA_GLOBAL MEDIA_OBJ MEDIA_GLOBAL MEDIA_OBJ MEDIA_GLOBAL   \n",
       "NU_ANO                                                                   \n",
       "2021              555.30    531.98       523.39    505.38       516.83   \n",
       "2022              563.99    541.34       529.79    513.49       521.37   \n",
       "\n",
       "SG_UF_PROVA                     PA                     PB            \\\n",
       "            MEDIA_OBJ MEDIA_GLOBAL MEDIA_OBJ MEDIA_GLOBAL MEDIA_OBJ   \n",
       "NU_ANO                                                                \n",
       "2021           499.36       505.83    482.77       520.45    496.75   \n",
       "2022           506.56       510.87    491.49       530.43    508.77   \n",
       "\n",
       "SG_UF_PROVA           PE                     PI                     PR  \\\n",
       "            MEDIA_GLOBAL MEDIA_OBJ MEDIA_GLOBAL MEDIA_OBJ MEDIA_GLOBAL   \n",
       "NU_ANO                                                                   \n",
       "2021              522.57    500.90       516.22    490.35       539.99   \n",
       "2022              532.43    513.42       523.44    500.92       548.27   \n",
       "\n",
       "SG_UF_PROVA                     RJ                     RN            \\\n",
       "            MEDIA_OBJ MEDIA_GLOBAL MEDIA_OBJ MEDIA_GLOBAL MEDIA_OBJ   \n",
       "NU_ANO                                                                \n",
       "2021           523.84       545.21    524.10       529.96    507.67   \n",
       "2022           532.74       551.30    531.93       536.28    516.16   \n",
       "\n",
       "SG_UF_PROVA           RO                     RR                     RS  \\\n",
       "            MEDIA_GLOBAL MEDIA_OBJ MEDIA_GLOBAL MEDIA_OBJ MEDIA_GLOBAL   \n",
       "NU_ANO                                                                   \n",
       "2021              504.75    487.67       513.12    497.47       544.92   \n",
       "2022              513.60    497.95       522.98    509.65       550.91   \n",
       "\n",
       "SG_UF_PROVA                     SC                     SE            \\\n",
       "            MEDIA_OBJ MEDIA_GLOBAL MEDIA_OBJ MEDIA_GLOBAL MEDIA_OBJ   \n",
       "NU_ANO                                                                \n",
       "2021           526.53       548.18    529.75       523.78    497.97   \n",
       "2022           532.73       556.09    537.50       530.77    507.04   \n",
       "\n",
       "SG_UF_PROVA           SP                     TO            \n",
       "            MEDIA_GLOBAL MEDIA_OBJ MEDIA_GLOBAL MEDIA_OBJ  \n",
       "NU_ANO                                                     \n",
       "2021              556.19    537.51       508.34    486.92  \n",
       "2022              560.43    542.01       518.99    498.95  "
      ]
     },
     "execution_count": 23,
     "metadata": {},
     "output_type": "execute_result"
    }
   ],
   "source": [
    "geral9_media_ano = pd.concat([geral20219_media_ano,geral20229_media_ano])\n",
    "geral9_media_ano.head()"
   ]
  },
  {
   "cell_type": "markdown",
   "metadata": {},
   "source": [
    "#### Salvar. True para salvar o multindex."
   ]
  },
  {
   "cell_type": "code",
   "execution_count": 24,
   "metadata": {},
   "outputs": [],
   "source": [
    "geral9_media_ano.to_excel('C:\\\\Users\\\\Bruno\\\\OneDrive\\\\Área de Trabalho\\\\Microdados\\\\Datas\\\\Material apresentação\\\\Media_UF_ano.xlsx', index=True)"
   ]
  },
  {
   "cell_type": "markdown",
   "metadata": {},
   "source": [
    "#### Média por UF."
   ]
  },
  {
   "cell_type": "code",
   "execution_count": 27,
   "metadata": {},
   "outputs": [
    {
     "data": {
      "text/html": [
       "<div>\n",
       "<style scoped>\n",
       "    .dataframe tbody tr th:only-of-type {\n",
       "        vertical-align: middle;\n",
       "    }\n",
       "\n",
       "    .dataframe tbody tr th {\n",
       "        vertical-align: top;\n",
       "    }\n",
       "\n",
       "    .dataframe thead th {\n",
       "        text-align: right;\n",
       "    }\n",
       "</style>\n",
       "<table border=\"1\" class=\"dataframe\">\n",
       "  <thead>\n",
       "    <tr style=\"text-align: right;\">\n",
       "      <th></th>\n",
       "      <th>SG_UF_PROVA</th>\n",
       "      <th>MEDIA_OBJ</th>\n",
       "      <th>MEDIA_GLOBAL</th>\n",
       "    </tr>\n",
       "  </thead>\n",
       "  <tbody>\n",
       "    <tr>\n",
       "      <th>0</th>\n",
       "      <td>AC</td>\n",
       "      <td>484.65</td>\n",
       "      <td>503.97</td>\n",
       "    </tr>\n",
       "    <tr>\n",
       "      <th>1</th>\n",
       "      <td>AL</td>\n",
       "      <td>493.12</td>\n",
       "      <td>516.48</td>\n",
       "    </tr>\n",
       "    <tr>\n",
       "      <th>2</th>\n",
       "      <td>AM</td>\n",
       "      <td>471.02</td>\n",
       "      <td>481.89</td>\n",
       "    </tr>\n",
       "    <tr>\n",
       "      <th>3</th>\n",
       "      <td>AP</td>\n",
       "      <td>480.31</td>\n",
       "      <td>499.18</td>\n",
       "    </tr>\n",
       "    <tr>\n",
       "      <th>4</th>\n",
       "      <td>BA</td>\n",
       "      <td>496.66</td>\n",
       "      <td>518.89</td>\n",
       "    </tr>\n",
       "    <tr>\n",
       "      <th>5</th>\n",
       "      <td>CE</td>\n",
       "      <td>496.24</td>\n",
       "      <td>513.58</td>\n",
       "    </tr>\n",
       "    <tr>\n",
       "      <th>6</th>\n",
       "      <td>DF</td>\n",
       "      <td>528.90</td>\n",
       "      <td>547.49</td>\n",
       "    </tr>\n",
       "    <tr>\n",
       "      <th>7</th>\n",
       "      <td>ES</td>\n",
       "      <td>520.64</td>\n",
       "      <td>541.36</td>\n",
       "    </tr>\n",
       "    <tr>\n",
       "      <th>8</th>\n",
       "      <td>GO</td>\n",
       "      <td>505.93</td>\n",
       "      <td>527.40</td>\n",
       "    </tr>\n",
       "    <tr>\n",
       "      <th>9</th>\n",
       "      <td>MA</td>\n",
       "      <td>481.10</td>\n",
       "      <td>503.33</td>\n",
       "    </tr>\n",
       "    <tr>\n",
       "      <th>10</th>\n",
       "      <td>MG</td>\n",
       "      <td>531.98</td>\n",
       "      <td>555.30</td>\n",
       "    </tr>\n",
       "    <tr>\n",
       "      <th>11</th>\n",
       "      <td>MS</td>\n",
       "      <td>505.38</td>\n",
       "      <td>523.39</td>\n",
       "    </tr>\n",
       "    <tr>\n",
       "      <th>12</th>\n",
       "      <td>MT</td>\n",
       "      <td>499.36</td>\n",
       "      <td>516.83</td>\n",
       "    </tr>\n",
       "    <tr>\n",
       "      <th>13</th>\n",
       "      <td>PA</td>\n",
       "      <td>482.77</td>\n",
       "      <td>505.83</td>\n",
       "    </tr>\n",
       "    <tr>\n",
       "      <th>14</th>\n",
       "      <td>PB</td>\n",
       "      <td>496.75</td>\n",
       "      <td>520.45</td>\n",
       "    </tr>\n",
       "    <tr>\n",
       "      <th>15</th>\n",
       "      <td>PE</td>\n",
       "      <td>500.90</td>\n",
       "      <td>522.57</td>\n",
       "    </tr>\n",
       "    <tr>\n",
       "      <th>16</th>\n",
       "      <td>PI</td>\n",
       "      <td>490.35</td>\n",
       "      <td>516.22</td>\n",
       "    </tr>\n",
       "    <tr>\n",
       "      <th>17</th>\n",
       "      <td>PR</td>\n",
       "      <td>523.84</td>\n",
       "      <td>539.99</td>\n",
       "    </tr>\n",
       "    <tr>\n",
       "      <th>18</th>\n",
       "      <td>RJ</td>\n",
       "      <td>524.10</td>\n",
       "      <td>545.21</td>\n",
       "    </tr>\n",
       "    <tr>\n",
       "      <th>19</th>\n",
       "      <td>RN</td>\n",
       "      <td>507.67</td>\n",
       "      <td>529.96</td>\n",
       "    </tr>\n",
       "    <tr>\n",
       "      <th>20</th>\n",
       "      <td>RO</td>\n",
       "      <td>487.67</td>\n",
       "      <td>504.75</td>\n",
       "    </tr>\n",
       "    <tr>\n",
       "      <th>21</th>\n",
       "      <td>RR</td>\n",
       "      <td>497.47</td>\n",
       "      <td>513.12</td>\n",
       "    </tr>\n",
       "    <tr>\n",
       "      <th>22</th>\n",
       "      <td>RS</td>\n",
       "      <td>526.53</td>\n",
       "      <td>544.92</td>\n",
       "    </tr>\n",
       "    <tr>\n",
       "      <th>23</th>\n",
       "      <td>SC</td>\n",
       "      <td>529.75</td>\n",
       "      <td>548.18</td>\n",
       "    </tr>\n",
       "    <tr>\n",
       "      <th>24</th>\n",
       "      <td>SE</td>\n",
       "      <td>497.97</td>\n",
       "      <td>523.78</td>\n",
       "    </tr>\n",
       "    <tr>\n",
       "      <th>25</th>\n",
       "      <td>SP</td>\n",
       "      <td>537.51</td>\n",
       "      <td>556.19</td>\n",
       "    </tr>\n",
       "    <tr>\n",
       "      <th>26</th>\n",
       "      <td>TO</td>\n",
       "      <td>486.92</td>\n",
       "      <td>508.34</td>\n",
       "    </tr>\n",
       "  </tbody>\n",
       "</table>\n",
       "</div>"
      ],
      "text/plain": [
       "   SG_UF_PROVA  MEDIA_OBJ  MEDIA_GLOBAL\n",
       "0           AC     484.65        503.97\n",
       "1           AL     493.12        516.48\n",
       "2           AM     471.02        481.89\n",
       "3           AP     480.31        499.18\n",
       "4           BA     496.66        518.89\n",
       "5           CE     496.24        513.58\n",
       "6           DF     528.90        547.49\n",
       "7           ES     520.64        541.36\n",
       "8           GO     505.93        527.40\n",
       "9           MA     481.10        503.33\n",
       "10          MG     531.98        555.30\n",
       "11          MS     505.38        523.39\n",
       "12          MT     499.36        516.83\n",
       "13          PA     482.77        505.83\n",
       "14          PB     496.75        520.45\n",
       "15          PE     500.90        522.57\n",
       "16          PI     490.35        516.22\n",
       "17          PR     523.84        539.99\n",
       "18          RJ     524.10        545.21\n",
       "19          RN     507.67        529.96\n",
       "20          RO     487.67        504.75\n",
       "21          RR     497.47        513.12\n",
       "22          RS     526.53        544.92\n",
       "23          SC     529.75        548.18\n",
       "24          SE     497.97        523.78\n",
       "25          SP     537.51        556.19\n",
       "26          TO     486.92        508.34"
      ]
     },
     "execution_count": 27,
     "metadata": {},
     "output_type": "execute_result"
    }
   ],
   "source": [
    "geral9_media = df_enem.groupby('SG_UF_PROVA')[['MEDIA_OBJ', 'MEDIA_GLOBAL']].mean().reset_index().round(2)\n",
    "geral9_media.head(27)"
   ]
  },
  {
   "cell_type": "markdown",
   "metadata": {},
   "source": [
    "#### Salvar"
   ]
  },
  {
   "cell_type": "code",
   "execution_count": 28,
   "metadata": {},
   "outputs": [],
   "source": [
    "geral9_media.to_excel('C:\\\\Users\\\\Bruno\\\\OneDrive\\\\Área de Trabalho\\\\Microdados\\\\Datas\\\\Material apresentação\\\\Media_UF.xlsx', index=False)"
   ]
  },
  {
   "cell_type": "markdown",
   "metadata": {},
   "source": [
    "#### Absoluto|Proporção total de sexo por UF."
   ]
  },
  {
   "cell_type": "code",
   "execution_count": 31,
   "metadata": {},
   "outputs": [
    {
     "data": {
      "text/html": [
       "<div>\n",
       "<style scoped>\n",
       "    .dataframe tbody tr th:only-of-type {\n",
       "        vertical-align: middle;\n",
       "    }\n",
       "\n",
       "    .dataframe tbody tr th {\n",
       "        vertical-align: top;\n",
       "    }\n",
       "\n",
       "    .dataframe thead th {\n",
       "        text-align: right;\n",
       "    }\n",
       "</style>\n",
       "<table border=\"1\" class=\"dataframe\">\n",
       "  <thead>\n",
       "    <tr style=\"text-align: right;\">\n",
       "      <th>TP_SEXO</th>\n",
       "      <th>F</th>\n",
       "      <th>M</th>\n",
       "      <th>QTD_FEM_%</th>\n",
       "      <th>QTD_MASC_%</th>\n",
       "    </tr>\n",
       "    <tr>\n",
       "      <th>SG_UF_PROVA</th>\n",
       "      <th></th>\n",
       "      <th></th>\n",
       "      <th></th>\n",
       "      <th></th>\n",
       "    </tr>\n",
       "  </thead>\n",
       "  <tbody>\n",
       "    <tr>\n",
       "      <th>AC</th>\n",
       "      <td>12264</td>\n",
       "      <td>8363</td>\n",
       "      <td>59.46</td>\n",
       "      <td>40.54</td>\n",
       "    </tr>\n",
       "    <tr>\n",
       "      <th>AL</th>\n",
       "      <td>33400</td>\n",
       "      <td>22191</td>\n",
       "      <td>60.08</td>\n",
       "      <td>39.92</td>\n",
       "    </tr>\n",
       "    <tr>\n",
       "      <th>AM</th>\n",
       "      <td>43026</td>\n",
       "      <td>31527</td>\n",
       "      <td>57.71</td>\n",
       "      <td>42.29</td>\n",
       "    </tr>\n",
       "    <tr>\n",
       "      <th>AP</th>\n",
       "      <td>11977</td>\n",
       "      <td>8060</td>\n",
       "      <td>59.77</td>\n",
       "      <td>40.23</td>\n",
       "    </tr>\n",
       "    <tr>\n",
       "      <th>BA</th>\n",
       "      <td>145197</td>\n",
       "      <td>81279</td>\n",
       "      <td>64.11</td>\n",
       "      <td>35.89</td>\n",
       "    </tr>\n",
       "    <tr>\n",
       "      <th>CE</th>\n",
       "      <td>106358</td>\n",
       "      <td>88694</td>\n",
       "      <td>54.53</td>\n",
       "      <td>45.47</td>\n",
       "    </tr>\n",
       "    <tr>\n",
       "      <th>DF</th>\n",
       "      <td>34817</td>\n",
       "      <td>23294</td>\n",
       "      <td>59.91</td>\n",
       "      <td>40.09</td>\n",
       "    </tr>\n",
       "    <tr>\n",
       "      <th>ES</th>\n",
       "      <td>32512</td>\n",
       "      <td>21628</td>\n",
       "      <td>60.05</td>\n",
       "      <td>39.95</td>\n",
       "    </tr>\n",
       "    <tr>\n",
       "      <th>GO</th>\n",
       "      <td>67094</td>\n",
       "      <td>48191</td>\n",
       "      <td>58.20</td>\n",
       "      <td>41.80</td>\n",
       "    </tr>\n",
       "    <tr>\n",
       "      <th>MA</th>\n",
       "      <td>69892</td>\n",
       "      <td>43512</td>\n",
       "      <td>61.63</td>\n",
       "      <td>38.37</td>\n",
       "    </tr>\n",
       "    <tr>\n",
       "      <th>MG</th>\n",
       "      <td>160335</td>\n",
       "      <td>99552</td>\n",
       "      <td>61.69</td>\n",
       "      <td>38.31</td>\n",
       "    </tr>\n",
       "    <tr>\n",
       "      <th>MS</th>\n",
       "      <td>22906</td>\n",
       "      <td>15075</td>\n",
       "      <td>60.31</td>\n",
       "      <td>39.69</td>\n",
       "    </tr>\n",
       "    <tr>\n",
       "      <th>MT</th>\n",
       "      <td>29765</td>\n",
       "      <td>19332</td>\n",
       "      <td>60.62</td>\n",
       "      <td>39.38</td>\n",
       "    </tr>\n",
       "    <tr>\n",
       "      <th>PA</th>\n",
       "      <td>107458</td>\n",
       "      <td>66968</td>\n",
       "      <td>61.61</td>\n",
       "      <td>38.39</td>\n",
       "    </tr>\n",
       "    <tr>\n",
       "      <th>PB</th>\n",
       "      <td>51554</td>\n",
       "      <td>36269</td>\n",
       "      <td>58.70</td>\n",
       "      <td>41.30</td>\n",
       "    </tr>\n",
       "    <tr>\n",
       "      <th>PE</th>\n",
       "      <td>95547</td>\n",
       "      <td>64344</td>\n",
       "      <td>59.76</td>\n",
       "      <td>40.24</td>\n",
       "    </tr>\n",
       "    <tr>\n",
       "      <th>PI</th>\n",
       "      <td>42333</td>\n",
       "      <td>27776</td>\n",
       "      <td>60.38</td>\n",
       "      <td>39.62</td>\n",
       "    </tr>\n",
       "    <tr>\n",
       "      <th>PR</th>\n",
       "      <td>76794</td>\n",
       "      <td>51588</td>\n",
       "      <td>59.82</td>\n",
       "      <td>40.18</td>\n",
       "    </tr>\n",
       "    <tr>\n",
       "      <th>RJ</th>\n",
       "      <td>134779</td>\n",
       "      <td>84957</td>\n",
       "      <td>61.34</td>\n",
       "      <td>38.66</td>\n",
       "    </tr>\n",
       "    <tr>\n",
       "      <th>RN</th>\n",
       "      <td>45055</td>\n",
       "      <td>32224</td>\n",
       "      <td>58.30</td>\n",
       "      <td>41.70</td>\n",
       "    </tr>\n",
       "    <tr>\n",
       "      <th>RO</th>\n",
       "      <td>16716</td>\n",
       "      <td>10451</td>\n",
       "      <td>61.53</td>\n",
       "      <td>38.47</td>\n",
       "    </tr>\n",
       "    <tr>\n",
       "      <th>RR</th>\n",
       "      <td>4418</td>\n",
       "      <td>2745</td>\n",
       "      <td>61.68</td>\n",
       "      <td>38.32</td>\n",
       "    </tr>\n",
       "    <tr>\n",
       "      <th>RS</th>\n",
       "      <td>80642</td>\n",
       "      <td>50563</td>\n",
       "      <td>61.46</td>\n",
       "      <td>38.54</td>\n",
       "    </tr>\n",
       "    <tr>\n",
       "      <th>SC</th>\n",
       "      <td>41274</td>\n",
       "      <td>26149</td>\n",
       "      <td>61.22</td>\n",
       "      <td>38.78</td>\n",
       "    </tr>\n",
       "    <tr>\n",
       "      <th>SE</th>\n",
       "      <td>29278</td>\n",
       "      <td>18893</td>\n",
       "      <td>60.78</td>\n",
       "      <td>39.22</td>\n",
       "    </tr>\n",
       "    <tr>\n",
       "      <th>SP</th>\n",
       "      <td>275945</td>\n",
       "      <td>184179</td>\n",
       "      <td>59.97</td>\n",
       "      <td>40.03</td>\n",
       "    </tr>\n",
       "    <tr>\n",
       "      <th>TO</th>\n",
       "      <td>15005</td>\n",
       "      <td>9228</td>\n",
       "      <td>61.92</td>\n",
       "      <td>38.08</td>\n",
       "    </tr>\n",
       "  </tbody>\n",
       "</table>\n",
       "</div>"
      ],
      "text/plain": [
       "TP_SEXO           F       M  QTD_FEM_%  QTD_MASC_%\n",
       "SG_UF_PROVA                                       \n",
       "AC            12264    8363      59.46       40.54\n",
       "AL            33400   22191      60.08       39.92\n",
       "AM            43026   31527      57.71       42.29\n",
       "AP            11977    8060      59.77       40.23\n",
       "BA           145197   81279      64.11       35.89\n",
       "CE           106358   88694      54.53       45.47\n",
       "DF            34817   23294      59.91       40.09\n",
       "ES            32512   21628      60.05       39.95\n",
       "GO            67094   48191      58.20       41.80\n",
       "MA            69892   43512      61.63       38.37\n",
       "MG           160335   99552      61.69       38.31\n",
       "MS            22906   15075      60.31       39.69\n",
       "MT            29765   19332      60.62       39.38\n",
       "PA           107458   66968      61.61       38.39\n",
       "PB            51554   36269      58.70       41.30\n",
       "PE            95547   64344      59.76       40.24\n",
       "PI            42333   27776      60.38       39.62\n",
       "PR            76794   51588      59.82       40.18\n",
       "RJ           134779   84957      61.34       38.66\n",
       "RN            45055   32224      58.30       41.70\n",
       "RO            16716   10451      61.53       38.47\n",
       "RR             4418    2745      61.68       38.32\n",
       "RS            80642   50563      61.46       38.54\n",
       "SC            41274   26149      61.22       38.78\n",
       "SE            29278   18893      60.78       39.22\n",
       "SP           275945  184179      59.97       40.03\n",
       "TO            15005    9228      61.92       38.08"
      ]
     },
     "execution_count": 31,
     "metadata": {},
     "output_type": "execute_result"
    }
   ],
   "source": [
    "geral9_prop = df_enem.groupby(['SG_UF_PROVA', 'TP_SEXO']).size().unstack(fill_value=0)\n",
    "tot = geral9_prop.sum(axis=1)\n",
    "geral9_prop['QTD_FEM_%'] = ((geral9_prop['F'] / tot ) * 100).round(2)\n",
    "geral9_prop['QTD_MASC_%'] = ((geral9_prop['M'] / tot) * 100).round(2)\n",
    "\n",
    "geral9_prop.head(27)"
   ]
  },
  {
   "cell_type": "markdown",
   "metadata": {},
   "source": [
    "#### Salvar"
   ]
  },
  {
   "cell_type": "code",
   "execution_count": 32,
   "metadata": {},
   "outputs": [],
   "source": [
    "geral9_prop.to_excel('C:\\\\Users\\\\Bruno\\\\OneDrive\\\\Área de Trabalho\\\\Microdados\\\\Datas\\\\Material apresentação\\\\Absoluto_Proporcional_UF.xlsx', index=False)"
   ]
  },
  {
   "cell_type": "markdown",
   "metadata": {},
   "source": [
    "#### Quantidade de inscritos por UF por ano."
   ]
  },
  {
   "cell_type": "code",
   "execution_count": 18,
   "metadata": {},
   "outputs": [],
   "source": [
    "df_enem = df[['NU_INSCRICAO','NU_ANO','TP_SEXO','SG_UF_PROVA','TP_REGIAO_PROVA', 'CO_MUNICIPIO_PROVA', 'NO_MUNICIPIO_PROVA','ABS_ALL','MEDIA_GLOBAL','MEDIA_OBJ']]"
   ]
  },
  {
   "cell_type": "code",
   "execution_count": 96,
   "metadata": {},
   "outputs": [],
   "source": [
    "geral9 = get_count(df_enem, uf_view,'NU_INSCRICAO', f'QTD_INSCRITOS_{ano_enem}')\n",
    "nome_df = f'geral{ano_enem}9'\n",
    "globals()[nome_df] = geral9"
   ]
  },
  {
   "cell_type": "code",
   "execution_count": 93,
   "metadata": {},
   "outputs": [
    {
     "data": {
      "text/html": [
       "<div>\n",
       "<style scoped>\n",
       "    .dataframe tbody tr th:only-of-type {\n",
       "        vertical-align: middle;\n",
       "    }\n",
       "\n",
       "    .dataframe tbody tr th {\n",
       "        vertical-align: top;\n",
       "    }\n",
       "\n",
       "    .dataframe thead th {\n",
       "        text-align: right;\n",
       "    }\n",
       "</style>\n",
       "<table border=\"1\" class=\"dataframe\">\n",
       "  <thead>\n",
       "    <tr style=\"text-align: right;\">\n",
       "      <th></th>\n",
       "      <th></th>\n",
       "      <th>QTD_INSCRITOS_2021</th>\n",
       "    </tr>\n",
       "    <tr>\n",
       "      <th>TP_REGIAO_PROVA</th>\n",
       "      <th>SG_UF_PROVA</th>\n",
       "      <th></th>\n",
       "    </tr>\n",
       "  </thead>\n",
       "  <tbody>\n",
       "    <tr>\n",
       "      <th rowspan=\"3\" valign=\"top\">Centro-Oeste</th>\n",
       "      <th>GO</th>\n",
       "      <td>116051</td>\n",
       "    </tr>\n",
       "    <tr>\n",
       "      <th>MS</th>\n",
       "      <td>36552</td>\n",
       "    </tr>\n",
       "    <tr>\n",
       "      <th>MT</th>\n",
       "      <td>47674</td>\n",
       "    </tr>\n",
       "    <tr>\n",
       "      <th>DF</th>\n",
       "      <th>DF</th>\n",
       "      <td>61461</td>\n",
       "    </tr>\n",
       "    <tr>\n",
       "      <th>Nordeste</th>\n",
       "      <th>AL</th>\n",
       "      <td>49709</td>\n",
       "    </tr>\n",
       "  </tbody>\n",
       "</table>\n",
       "</div>"
      ],
      "text/plain": [
       "                             QTD_INSCRITOS_2021\n",
       "TP_REGIAO_PROVA SG_UF_PROVA                    \n",
       "Centro-Oeste    GO                       116051\n",
       "                MS                        36552\n",
       "                MT                        47674\n",
       "DF              DF                        61461\n",
       "Nordeste        AL                        49709"
      ]
     },
     "execution_count": 93,
     "metadata": {},
     "output_type": "execute_result"
    }
   ],
   "source": [
    "geral20219.head()"
   ]
  },
  {
   "cell_type": "code",
   "execution_count": 97,
   "metadata": {},
   "outputs": [
    {
     "data": {
      "text/html": [
       "<div>\n",
       "<style scoped>\n",
       "    .dataframe tbody tr th:only-of-type {\n",
       "        vertical-align: middle;\n",
       "    }\n",
       "\n",
       "    .dataframe tbody tr th {\n",
       "        vertical-align: top;\n",
       "    }\n",
       "\n",
       "    .dataframe thead th {\n",
       "        text-align: right;\n",
       "    }\n",
       "</style>\n",
       "<table border=\"1\" class=\"dataframe\">\n",
       "  <thead>\n",
       "    <tr style=\"text-align: right;\">\n",
       "      <th></th>\n",
       "      <th></th>\n",
       "      <th>QTD_INSCRITOS_2022</th>\n",
       "    </tr>\n",
       "    <tr>\n",
       "      <th>TP_REGIAO_PROVA</th>\n",
       "      <th>SG_UF_PROVA</th>\n",
       "      <th></th>\n",
       "    </tr>\n",
       "  </thead>\n",
       "  <tbody>\n",
       "    <tr>\n",
       "      <th rowspan=\"3\" valign=\"top\">Centro-Oeste</th>\n",
       "      <th>GO</th>\n",
       "      <td>115285</td>\n",
       "    </tr>\n",
       "    <tr>\n",
       "      <th>MS</th>\n",
       "      <td>37981</td>\n",
       "    </tr>\n",
       "    <tr>\n",
       "      <th>MT</th>\n",
       "      <td>49097</td>\n",
       "    </tr>\n",
       "    <tr>\n",
       "      <th>DF</th>\n",
       "      <th>DF</th>\n",
       "      <td>58111</td>\n",
       "    </tr>\n",
       "    <tr>\n",
       "      <th>Nordeste</th>\n",
       "      <th>AL</th>\n",
       "      <td>55591</td>\n",
       "    </tr>\n",
       "  </tbody>\n",
       "</table>\n",
       "</div>"
      ],
      "text/plain": [
       "                             QTD_INSCRITOS_2022\n",
       "TP_REGIAO_PROVA SG_UF_PROVA                    \n",
       "Centro-Oeste    GO                       115285\n",
       "                MS                        37981\n",
       "                MT                        49097\n",
       "DF              DF                        58111\n",
       "Nordeste        AL                        55591"
      ]
     },
     "execution_count": 97,
     "metadata": {},
     "output_type": "execute_result"
    }
   ],
   "source": [
    "geral20229.head()"
   ]
  },
  {
   "cell_type": "code",
   "execution_count": 98,
   "metadata": {},
   "outputs": [
    {
     "data": {
      "text/html": [
       "<div>\n",
       "<style scoped>\n",
       "    .dataframe tbody tr th:only-of-type {\n",
       "        vertical-align: middle;\n",
       "    }\n",
       "\n",
       "    .dataframe tbody tr th {\n",
       "        vertical-align: top;\n",
       "    }\n",
       "\n",
       "    .dataframe thead th {\n",
       "        text-align: right;\n",
       "    }\n",
       "</style>\n",
       "<table border=\"1\" class=\"dataframe\">\n",
       "  <thead>\n",
       "    <tr style=\"text-align: right;\">\n",
       "      <th></th>\n",
       "      <th></th>\n",
       "      <th>QTD_INSCRITOS_2021</th>\n",
       "      <th>QTD_INSCRITOS_2022</th>\n",
       "    </tr>\n",
       "    <tr>\n",
       "      <th>TP_REGIAO_PROVA</th>\n",
       "      <th>SG_UF_PROVA</th>\n",
       "      <th></th>\n",
       "      <th></th>\n",
       "    </tr>\n",
       "  </thead>\n",
       "  <tbody>\n",
       "    <tr>\n",
       "      <th rowspan=\"3\" valign=\"top\">Centro-Oeste</th>\n",
       "      <th>GO</th>\n",
       "      <td>116051</td>\n",
       "      <td>115285</td>\n",
       "    </tr>\n",
       "    <tr>\n",
       "      <th>MS</th>\n",
       "      <td>36552</td>\n",
       "      <td>37981</td>\n",
       "    </tr>\n",
       "    <tr>\n",
       "      <th>MT</th>\n",
       "      <td>47674</td>\n",
       "      <td>49097</td>\n",
       "    </tr>\n",
       "    <tr>\n",
       "      <th>DF</th>\n",
       "      <th>DF</th>\n",
       "      <td>61461</td>\n",
       "      <td>58111</td>\n",
       "    </tr>\n",
       "    <tr>\n",
       "      <th rowspan=\"9\" valign=\"top\">Nordeste</th>\n",
       "      <th>AL</th>\n",
       "      <td>49709</td>\n",
       "      <td>55591</td>\n",
       "    </tr>\n",
       "    <tr>\n",
       "      <th>BA</th>\n",
       "      <td>233543</td>\n",
       "      <td>226476</td>\n",
       "    </tr>\n",
       "    <tr>\n",
       "      <th>CE</th>\n",
       "      <td>194234</td>\n",
       "      <td>195052</td>\n",
       "    </tr>\n",
       "    <tr>\n",
       "      <th>MA</th>\n",
       "      <td>112299</td>\n",
       "      <td>113404</td>\n",
       "    </tr>\n",
       "    <tr>\n",
       "      <th>PB</th>\n",
       "      <td>87508</td>\n",
       "      <td>87823</td>\n",
       "    </tr>\n",
       "    <tr>\n",
       "      <th>PE</th>\n",
       "      <td>166572</td>\n",
       "      <td>159891</td>\n",
       "    </tr>\n",
       "    <tr>\n",
       "      <th>PI</th>\n",
       "      <td>67834</td>\n",
       "      <td>70109</td>\n",
       "    </tr>\n",
       "    <tr>\n",
       "      <th>RN</th>\n",
       "      <td>71251</td>\n",
       "      <td>77279</td>\n",
       "    </tr>\n",
       "    <tr>\n",
       "      <th>SE</th>\n",
       "      <td>45156</td>\n",
       "      <td>48171</td>\n",
       "    </tr>\n",
       "    <tr>\n",
       "      <th rowspan=\"7\" valign=\"top\">Norte</th>\n",
       "      <th>AC</th>\n",
       "      <td>18582</td>\n",
       "      <td>20627</td>\n",
       "    </tr>\n",
       "    <tr>\n",
       "      <th>AM</th>\n",
       "      <td>84445</td>\n",
       "      <td>74553</td>\n",
       "    </tr>\n",
       "    <tr>\n",
       "      <th>AP</th>\n",
       "      <td>19776</td>\n",
       "      <td>20037</td>\n",
       "    </tr>\n",
       "    <tr>\n",
       "      <th>PA</th>\n",
       "      <td>164952</td>\n",
       "      <td>174426</td>\n",
       "    </tr>\n",
       "    <tr>\n",
       "      <th>RO</th>\n",
       "      <td>28682</td>\n",
       "      <td>27167</td>\n",
       "    </tr>\n",
       "    <tr>\n",
       "      <th>RR</th>\n",
       "      <td>7052</td>\n",
       "      <td>7163</td>\n",
       "    </tr>\n",
       "    <tr>\n",
       "      <th>TO</th>\n",
       "      <td>26010</td>\n",
       "      <td>24233</td>\n",
       "    </tr>\n",
       "    <tr>\n",
       "      <th rowspan=\"4\" valign=\"top\">Sudeste</th>\n",
       "      <th>ES</th>\n",
       "      <td>55679</td>\n",
       "      <td>54140</td>\n",
       "    </tr>\n",
       "    <tr>\n",
       "      <th>MG</th>\n",
       "      <td>282956</td>\n",
       "      <td>259887</td>\n",
       "    </tr>\n",
       "    <tr>\n",
       "      <th>RJ</th>\n",
       "      <td>210767</td>\n",
       "      <td>219736</td>\n",
       "    </tr>\n",
       "    <tr>\n",
       "      <th>SP</th>\n",
       "      <td>441458</td>\n",
       "      <td>460124</td>\n",
       "    </tr>\n",
       "    <tr>\n",
       "      <th rowspan=\"3\" valign=\"top\">Sul</th>\n",
       "      <th>PR</th>\n",
       "      <td>125520</td>\n",
       "      <td>128382</td>\n",
       "    </tr>\n",
       "    <tr>\n",
       "      <th>RS</th>\n",
       "      <td>130701</td>\n",
       "      <td>131205</td>\n",
       "    </tr>\n",
       "    <tr>\n",
       "      <th>SC</th>\n",
       "      <td>66218</td>\n",
       "      <td>67423</td>\n",
       "    </tr>\n",
       "  </tbody>\n",
       "</table>\n",
       "</div>"
      ],
      "text/plain": [
       "                             QTD_INSCRITOS_2021  QTD_INSCRITOS_2022\n",
       "TP_REGIAO_PROVA SG_UF_PROVA                                        \n",
       "Centro-Oeste    GO                       116051              115285\n",
       "                MS                        36552               37981\n",
       "                MT                        47674               49097\n",
       "DF              DF                        61461               58111\n",
       "Nordeste        AL                        49709               55591\n",
       "                BA                       233543              226476\n",
       "                CE                       194234              195052\n",
       "                MA                       112299              113404\n",
       "                PB                        87508               87823\n",
       "                PE                       166572              159891\n",
       "                PI                        67834               70109\n",
       "                RN                        71251               77279\n",
       "                SE                        45156               48171\n",
       "Norte           AC                        18582               20627\n",
       "                AM                        84445               74553\n",
       "                AP                        19776               20037\n",
       "                PA                       164952              174426\n",
       "                RO                        28682               27167\n",
       "                RR                         7052                7163\n",
       "                TO                        26010               24233\n",
       "Sudeste         ES                        55679               54140\n",
       "                MG                       282956              259887\n",
       "                RJ                       210767              219736\n",
       "                SP                       441458              460124\n",
       "Sul             PR                       125520              128382\n",
       "                RS                       130701              131205\n",
       "                SC                        66218               67423"
      ]
     },
     "execution_count": 98,
     "metadata": {},
     "output_type": "execute_result"
    }
   ],
   "source": [
    "geral9 = pd.merge(geral20219, geral20229, left_index=True, right_index=True, how='inner')\n",
    "geral9.head(27)"
   ]
  },
  {
   "cell_type": "markdown",
   "metadata": {},
   "source": [
    "#### Salvar"
   ]
  },
  {
   "cell_type": "code",
   "execution_count": 99,
   "metadata": {},
   "outputs": [],
   "source": [
    "geral9.to_excel('C:\\\\Users\\\\Bruno\\\\OneDrive\\\\Área de Trabalho\\\\Microdados\\\\Datas\\\\Material apresentação\\\\Inscritos_UF_ano.xlsx', index=True)"
   ]
  },
  {
   "cell_type": "markdown",
   "metadata": {},
   "source": [
    "#### Abstenções UFs."
   ]
  },
  {
   "cell_type": "code",
   "execution_count": 12,
   "metadata": {},
   "outputs": [
    {
     "data": {
      "text/html": [
       "<div>\n",
       "<style scoped>\n",
       "    .dataframe tbody tr th:only-of-type {\n",
       "        vertical-align: middle;\n",
       "    }\n",
       "\n",
       "    .dataframe tbody tr th {\n",
       "        vertical-align: top;\n",
       "    }\n",
       "\n",
       "    .dataframe thead th {\n",
       "        text-align: right;\n",
       "    }\n",
       "</style>\n",
       "<table border=\"1\" class=\"dataframe\">\n",
       "  <thead>\n",
       "    <tr style=\"text-align: right;\">\n",
       "      <th></th>\n",
       "      <th>SG_UF_PROVA</th>\n",
       "      <th>ABS_ALL</th>\n",
       "      <th>ABS_ALL_%</th>\n",
       "    </tr>\n",
       "  </thead>\n",
       "  <tbody>\n",
       "    <tr>\n",
       "      <th>0</th>\n",
       "      <td>AC</td>\n",
       "      <td>6829</td>\n",
       "      <td>0.75</td>\n",
       "    </tr>\n",
       "    <tr>\n",
       "      <th>1</th>\n",
       "      <td>AL</td>\n",
       "      <td>16854</td>\n",
       "      <td>1.84</td>\n",
       "    </tr>\n",
       "    <tr>\n",
       "      <th>2</th>\n",
       "      <td>AM</td>\n",
       "      <td>33025</td>\n",
       "      <td>3.61</td>\n",
       "    </tr>\n",
       "    <tr>\n",
       "      <th>3</th>\n",
       "      <td>AP</td>\n",
       "      <td>6738</td>\n",
       "      <td>0.74</td>\n",
       "    </tr>\n",
       "    <tr>\n",
       "      <th>4</th>\n",
       "      <td>BA</td>\n",
       "      <td>66379</td>\n",
       "      <td>7.26</td>\n",
       "    </tr>\n",
       "  </tbody>\n",
       "</table>\n",
       "</div>"
      ],
      "text/plain": [
       "  SG_UF_PROVA  ABS_ALL  ABS_ALL_%\n",
       "0          AC     6829       0.75\n",
       "1          AL    16854       1.84\n",
       "2          AM    33025       3.61\n",
       "3          AP     6738       0.74\n",
       "4          BA    66379       7.26"
      ]
     },
     "execution_count": 12,
     "metadata": {},
     "output_type": "execute_result"
    }
   ],
   "source": [
    "geral9_ABS = df_enem.groupby(['SG_UF_PROVA'])['ABS_ALL'].sum().reset_index()\n",
    "geral9_ABS['ABS_ALL_%'] = ((geral9_ABS['ABS_ALL'] / geral9_ABS['ABS_ALL'].sum())*100).round(2)\n",
    "geral9_ABS.head()"
   ]
  },
  {
   "cell_type": "markdown",
   "metadata": {},
   "source": [
    "#### Salvar"
   ]
  },
  {
   "cell_type": "code",
   "execution_count": 101,
   "metadata": {},
   "outputs": [],
   "source": [
    "geral9_ABS.to_excel('C:\\\\Users\\\\Bruno\\\\OneDrive\\\\Área de Trabalho\\\\Microdados\\\\Datas\\\\Material apresentação\\\\Abstenções_UF.xlsx', index=False)"
   ]
  },
  {
   "cell_type": "markdown",
   "metadata": {},
   "source": [
    "##### Outros dados estatística por UF."
   ]
  },
  {
   "cell_type": "code",
   "execution_count": 22,
   "metadata": {},
   "outputs": [
    {
     "data": {
      "text/html": [
       "<div>\n",
       "<style scoped>\n",
       "    .dataframe tbody tr th:only-of-type {\n",
       "        vertical-align: middle;\n",
       "    }\n",
       "\n",
       "    .dataframe tbody tr th {\n",
       "        vertical-align: top;\n",
       "    }\n",
       "\n",
       "    .dataframe thead th {\n",
       "        text-align: right;\n",
       "    }\n",
       "</style>\n",
       "<table border=\"1\" class=\"dataframe\">\n",
       "  <thead>\n",
       "    <tr style=\"text-align: right;\">\n",
       "      <th></th>\n",
       "      <th>TP_REGIAO_PROVA</th>\n",
       "      <th>SG_UF_PROVA</th>\n",
       "      <th>MIN_NOTA_CN</th>\n",
       "      <th>MIN_NOTA_CH</th>\n",
       "      <th>MIN_NOTA_LC</th>\n",
       "      <th>MIN_NOTA_MT</th>\n",
       "      <th>MIN_NOTA_REDACAO</th>\n",
       "      <th>AVG_NOTA_CN</th>\n",
       "      <th>AVG_NOTA_CH</th>\n",
       "      <th>AVG_NOTA_LC</th>\n",
       "      <th>AVG_NOTA_MT</th>\n",
       "      <th>AVG_NOTA_REDACAO</th>\n",
       "      <th>MED_NOTA_CN</th>\n",
       "      <th>MED_NOTA_CH</th>\n",
       "      <th>MED_NOTA_LC</th>\n",
       "      <th>MED_NOTA_MT</th>\n",
       "      <th>MED_NOTA_REDACAO</th>\n",
       "      <th>MAX_NOTA_CN</th>\n",
       "      <th>MAX_NOTA_CH</th>\n",
       "      <th>MAX_NOTA_LC</th>\n",
       "      <th>MAX_NOTA_MT</th>\n",
       "      <th>MAX_NOTA_REDACAO</th>\n",
       "      <th>STD_NOTA_CN</th>\n",
       "      <th>STD_NOTA_CH</th>\n",
       "      <th>STD_NOTA_LC</th>\n",
       "      <th>STD_NOTA_MT</th>\n",
       "      <th>STD_NOTA_REDACAO</th>\n",
       "    </tr>\n",
       "  </thead>\n",
       "  <tbody>\n",
       "    <tr>\n",
       "      <th>0</th>\n",
       "      <td>Centro-Oeste</td>\n",
       "      <td>GO</td>\n",
       "      <td>0.0</td>\n",
       "      <td>0.0</td>\n",
       "      <td>0.0</td>\n",
       "      <td>0.0</td>\n",
       "      <td>0.0</td>\n",
       "      <td>489.631680</td>\n",
       "      <td>515.688716</td>\n",
       "      <td>497.769450</td>\n",
       "      <td>527.962303</td>\n",
       "      <td>614.028534</td>\n",
       "      <td>477.7</td>\n",
       "      <td>514.50</td>\n",
       "      <td>498.8</td>\n",
       "      <td>505.0</td>\n",
       "      <td>600.0</td>\n",
       "      <td>856.6</td>\n",
       "      <td>846.9</td>\n",
       "      <td>784.5</td>\n",
       "      <td>953.1</td>\n",
       "      <td>1000.0</td>\n",
       "      <td>82.783896</td>\n",
       "      <td>96.033801</td>\n",
       "      <td>79.260900</td>\n",
       "      <td>109.846525</td>\n",
       "      <td>193.815268</td>\n",
       "    </tr>\n",
       "    <tr>\n",
       "      <th>1</th>\n",
       "      <td>Centro-Oeste</td>\n",
       "      <td>MS</td>\n",
       "      <td>0.0</td>\n",
       "      <td>0.0</td>\n",
       "      <td>0.0</td>\n",
       "      <td>0.0</td>\n",
       "      <td>0.0</td>\n",
       "      <td>490.204759</td>\n",
       "      <td>513.450594</td>\n",
       "      <td>496.890162</td>\n",
       "      <td>527.836527</td>\n",
       "      <td>596.510706</td>\n",
       "      <td>478.5</td>\n",
       "      <td>511.75</td>\n",
       "      <td>497.8</td>\n",
       "      <td>505.5</td>\n",
       "      <td>580.0</td>\n",
       "      <td>837.2</td>\n",
       "      <td>832.5</td>\n",
       "      <td>777.2</td>\n",
       "      <td>953.1</td>\n",
       "      <td>980.0</td>\n",
       "      <td>81.549154</td>\n",
       "      <td>94.483677</td>\n",
       "      <td>78.601098</td>\n",
       "      <td>109.623383</td>\n",
       "      <td>188.353781</td>\n",
       "    </tr>\n",
       "    <tr>\n",
       "      <th>2</th>\n",
       "      <td>Centro-Oeste</td>\n",
       "      <td>MT</td>\n",
       "      <td>0.0</td>\n",
       "      <td>0.0</td>\n",
       "      <td>0.0</td>\n",
       "      <td>0.0</td>\n",
       "      <td>0.0</td>\n",
       "      <td>485.302320</td>\n",
       "      <td>510.599338</td>\n",
       "      <td>488.604313</td>\n",
       "      <td>519.710647</td>\n",
       "      <td>588.193731</td>\n",
       "      <td>476.2</td>\n",
       "      <td>509.90</td>\n",
       "      <td>489.8</td>\n",
       "      <td>496.5</td>\n",
       "      <td>580.0</td>\n",
       "      <td>820.8</td>\n",
       "      <td>846.9</td>\n",
       "      <td>793.5</td>\n",
       "      <td>953.1</td>\n",
       "      <td>980.0</td>\n",
       "      <td>76.916109</td>\n",
       "      <td>94.194118</td>\n",
       "      <td>78.559302</td>\n",
       "      <td>105.653878</td>\n",
       "      <td>196.576918</td>\n",
       "    </tr>\n",
       "    <tr>\n",
       "      <th>3</th>\n",
       "      <td>DF</td>\n",
       "      <td>DF</td>\n",
       "      <td>0.0</td>\n",
       "      <td>0.0</td>\n",
       "      <td>0.0</td>\n",
       "      <td>0.0</td>\n",
       "      <td>0.0</td>\n",
       "      <td>508.826866</td>\n",
       "      <td>540.114050</td>\n",
       "      <td>522.214971</td>\n",
       "      <td>550.395124</td>\n",
       "      <td>622.318030</td>\n",
       "      <td>499.5</td>\n",
       "      <td>545.50</td>\n",
       "      <td>527.1</td>\n",
       "      <td>532.0</td>\n",
       "      <td>600.0</td>\n",
       "      <td>848.4</td>\n",
       "      <td>846.9</td>\n",
       "      <td>788.6</td>\n",
       "      <td>953.1</td>\n",
       "      <td>980.0</td>\n",
       "      <td>87.170683</td>\n",
       "      <td>100.735858</td>\n",
       "      <td>80.745003</td>\n",
       "      <td>119.066878</td>\n",
       "      <td>180.195959</td>\n",
       "    </tr>\n",
       "    <tr>\n",
       "      <th>4</th>\n",
       "      <td>Nordeste</td>\n",
       "      <td>AL</td>\n",
       "      <td>0.0</td>\n",
       "      <td>0.0</td>\n",
       "      <td>0.0</td>\n",
       "      <td>0.0</td>\n",
       "      <td>0.0</td>\n",
       "      <td>477.175074</td>\n",
       "      <td>502.024692</td>\n",
       "      <td>483.223170</td>\n",
       "      <td>515.072105</td>\n",
       "      <td>610.213811</td>\n",
       "      <td>466.3</td>\n",
       "      <td>495.30</td>\n",
       "      <td>482.7</td>\n",
       "      <td>489.9</td>\n",
       "      <td>600.0</td>\n",
       "      <td>844.5</td>\n",
       "      <td>832.5</td>\n",
       "      <td>758.4</td>\n",
       "      <td>948.5</td>\n",
       "      <td>980.0</td>\n",
       "      <td>76.781851</td>\n",
       "      <td>94.007763</td>\n",
       "      <td>78.801467</td>\n",
       "      <td>106.096935</td>\n",
       "      <td>195.155773</td>\n",
       "    </tr>\n",
       "  </tbody>\n",
       "</table>\n",
       "</div>"
      ],
      "text/plain": [
       "  TP_REGIAO_PROVA SG_UF_PROVA  MIN_NOTA_CN  MIN_NOTA_CH  MIN_NOTA_LC  \\\n",
       "0    Centro-Oeste          GO          0.0          0.0          0.0   \n",
       "1    Centro-Oeste          MS          0.0          0.0          0.0   \n",
       "2    Centro-Oeste          MT          0.0          0.0          0.0   \n",
       "3              DF          DF          0.0          0.0          0.0   \n",
       "4        Nordeste          AL          0.0          0.0          0.0   \n",
       "\n",
       "   MIN_NOTA_MT  MIN_NOTA_REDACAO  AVG_NOTA_CN  AVG_NOTA_CH  AVG_NOTA_LC  \\\n",
       "0          0.0               0.0   489.631680   515.688716   497.769450   \n",
       "1          0.0               0.0   490.204759   513.450594   496.890162   \n",
       "2          0.0               0.0   485.302320   510.599338   488.604313   \n",
       "3          0.0               0.0   508.826866   540.114050   522.214971   \n",
       "4          0.0               0.0   477.175074   502.024692   483.223170   \n",
       "\n",
       "   AVG_NOTA_MT  AVG_NOTA_REDACAO  MED_NOTA_CN  MED_NOTA_CH  MED_NOTA_LC  \\\n",
       "0   527.962303        614.028534        477.7       514.50        498.8   \n",
       "1   527.836527        596.510706        478.5       511.75        497.8   \n",
       "2   519.710647        588.193731        476.2       509.90        489.8   \n",
       "3   550.395124        622.318030        499.5       545.50        527.1   \n",
       "4   515.072105        610.213811        466.3       495.30        482.7   \n",
       "\n",
       "   MED_NOTA_MT  MED_NOTA_REDACAO  MAX_NOTA_CN  MAX_NOTA_CH  MAX_NOTA_LC  \\\n",
       "0        505.0             600.0        856.6        846.9        784.5   \n",
       "1        505.5             580.0        837.2        832.5        777.2   \n",
       "2        496.5             580.0        820.8        846.9        793.5   \n",
       "3        532.0             600.0        848.4        846.9        788.6   \n",
       "4        489.9             600.0        844.5        832.5        758.4   \n",
       "\n",
       "   MAX_NOTA_MT  MAX_NOTA_REDACAO  STD_NOTA_CN  STD_NOTA_CH  STD_NOTA_LC  \\\n",
       "0        953.1            1000.0    82.783896    96.033801    79.260900   \n",
       "1        953.1             980.0    81.549154    94.483677    78.601098   \n",
       "2        953.1             980.0    76.916109    94.194118    78.559302   \n",
       "3        953.1             980.0    87.170683   100.735858    80.745003   \n",
       "4        948.5             980.0    76.781851    94.007763    78.801467   \n",
       "\n",
       "   STD_NOTA_MT  STD_NOTA_REDACAO  \n",
       "0   109.846525        193.815268  \n",
       "1   109.623383        188.353781  \n",
       "2   105.653878        196.576918  \n",
       "3   119.066878        180.195959  \n",
       "4   106.096935        195.155773  "
      ]
     },
     "execution_count": 22,
     "metadata": {},
     "output_type": "execute_result"
    }
   ],
   "source": [
    "\n",
    "geral9_statistics = build_statistics_metrics(lista_provas, df_enem, uf_view, list_metrics)\n",
    "geral9_statistics.head()"
   ]
  },
  {
   "cell_type": "markdown",
   "metadata": {},
   "source": [
    "#### Salvar"
   ]
  },
  {
   "cell_type": "code",
   "execution_count": 37,
   "metadata": {},
   "outputs": [],
   "source": [
    "geral9_statistics.to_excel('C:\\\\Users\\\\Bruno\\\\OneDrive\\\\Área de Trabalho\\\\Microdados\\\\Datas\\\\Material apresentação\\\\Estatísticas_UF.xlsx', index=False)"
   ]
  },
  {
   "cell_type": "markdown",
   "metadata": {},
   "source": [
    "## 10) Municípios. Falta inserir variaveis que não estavam em 2021 como as notas para funcionar as funções."
   ]
  },
  {
   "cell_type": "markdown",
   "metadata": {},
   "source": [
    "#### Quantidade de inscritos por municípios:"
   ]
  },
  {
   "cell_type": "code",
   "execution_count": 27,
   "metadata": {},
   "outputs": [],
   "source": [
    "geral10 = get_count(df_enem, municipality_view, 'NU_INSCRICAO', f'QTD_INSCRITOS_{ano_enem}')\n",
    "nome_df = f'geral{ano_enem}10'\n",
    "globals()[nome_df] = geral10"
   ]
  },
  {
   "cell_type": "code",
   "execution_count": 11,
   "metadata": {},
   "outputs": [
    {
     "data": {
      "text/html": [
       "<div>\n",
       "<style scoped>\n",
       "    .dataframe tbody tr th:only-of-type {\n",
       "        vertical-align: middle;\n",
       "    }\n",
       "\n",
       "    .dataframe tbody tr th {\n",
       "        vertical-align: top;\n",
       "    }\n",
       "\n",
       "    .dataframe thead th {\n",
       "        text-align: right;\n",
       "    }\n",
       "</style>\n",
       "<table border=\"1\" class=\"dataframe\">\n",
       "  <thead>\n",
       "    <tr style=\"text-align: right;\">\n",
       "      <th></th>\n",
       "      <th>NU_INSCRICAO</th>\n",
       "      <th>NU_ANO</th>\n",
       "      <th>TP_FAIXA_ETARIA</th>\n",
       "      <th>TP_SEXO</th>\n",
       "      <th>TP_ESTADO_CIVIL</th>\n",
       "      <th>TP_COR_RACA</th>\n",
       "      <th>TP_NACIONALIDADE</th>\n",
       "      <th>TP_ST_CONCLUSAO</th>\n",
       "      <th>TP_ESCOLA</th>\n",
       "      <th>NO_MUNICIPIO_ESC</th>\n",
       "      <th>TP_DEPENDENCIA_ADM_ESC</th>\n",
       "      <th>TP_LOCALIZACAO_ESC</th>\n",
       "      <th>TP_SIT_FUNC_ESC</th>\n",
       "      <th>CO_MUNICIPIO_PROVA</th>\n",
       "      <th>NO_MUNICIPIO_PROVA</th>\n",
       "      <th>SG_UF_PROVA</th>\n",
       "      <th>TP_PRESENCA_CN</th>\n",
       "      <th>TP_PRESENCA_CH</th>\n",
       "      <th>TP_PRESENCA_LC</th>\n",
       "      <th>TP_PRESENCA_MT</th>\n",
       "      <th>NU_NOTA_CN</th>\n",
       "      <th>NU_NOTA_CH</th>\n",
       "      <th>NU_NOTA_LC</th>\n",
       "      <th>NU_NOTA_MT</th>\n",
       "      <th>TP_LINGUA</th>\n",
       "      <th>NU_NOTA_REDACAO</th>\n",
       "      <th>Q005</th>\n",
       "      <th>TP_REGIAO_PROVA</th>\n",
       "      <th>TP_REGIAO_ESC</th>\n",
       "      <th>ABS_DIA_1</th>\n",
       "      <th>ABS_DIA_2</th>\n",
       "      <th>ABS_ALL</th>\n",
       "      <th>FLAG_NULL_ESC</th>\n",
       "      <th>MEDIA_OBJ</th>\n",
       "      <th>MEDIA_GLOBAL</th>\n",
       "      <th>FAMILIA</th>\n",
       "    </tr>\n",
       "  </thead>\n",
       "  <tbody>\n",
       "    <tr>\n",
       "      <th>0</th>\n",
       "      <td>210053865474</td>\n",
       "      <td>2021</td>\n",
       "      <td>5</td>\n",
       "      <td>F</td>\n",
       "      <td>1</td>\n",
       "      <td>1</td>\n",
       "      <td>1</td>\n",
       "      <td>1</td>\n",
       "      <td>1</td>\n",
       "      <td>None</td>\n",
       "      <td>NaN</td>\n",
       "      <td>NaN</td>\n",
       "      <td>NaN</td>\n",
       "      <td>3144805</td>\n",
       "      <td>NOVA LIMA</td>\n",
       "      <td>MG</td>\n",
       "      <td>0</td>\n",
       "      <td>1</td>\n",
       "      <td>1</td>\n",
       "      <td>0</td>\n",
       "      <td>NaN</td>\n",
       "      <td>574.6</td>\n",
       "      <td>472.6</td>\n",
       "      <td>NaN</td>\n",
       "      <td>1</td>\n",
       "      <td>760.0</td>\n",
       "      <td>3.0</td>\n",
       "      <td>Sudeste</td>\n",
       "      <td>Sudeste</td>\n",
       "      <td>0</td>\n",
       "      <td>1</td>\n",
       "      <td>0</td>\n",
       "      <td>1</td>\n",
       "      <td>523.600</td>\n",
       "      <td>602.40</td>\n",
       "      <td>3.0</td>\n",
       "    </tr>\n",
       "    <tr>\n",
       "      <th>1</th>\n",
       "      <td>210052384164</td>\n",
       "      <td>2021</td>\n",
       "      <td>12</td>\n",
       "      <td>M</td>\n",
       "      <td>1</td>\n",
       "      <td>1</td>\n",
       "      <td>1</td>\n",
       "      <td>1</td>\n",
       "      <td>1</td>\n",
       "      <td>None</td>\n",
       "      <td>NaN</td>\n",
       "      <td>NaN</td>\n",
       "      <td>NaN</td>\n",
       "      <td>2704302</td>\n",
       "      <td>MACEIO</td>\n",
       "      <td>AL</td>\n",
       "      <td>1</td>\n",
       "      <td>1</td>\n",
       "      <td>1</td>\n",
       "      <td>1</td>\n",
       "      <td>505.9</td>\n",
       "      <td>551.8</td>\n",
       "      <td>498.3</td>\n",
       "      <td>461.5</td>\n",
       "      <td>1</td>\n",
       "      <td>560.0</td>\n",
       "      <td>3.0</td>\n",
       "      <td>Nordeste</td>\n",
       "      <td>Nordeste</td>\n",
       "      <td>0</td>\n",
       "      <td>0</td>\n",
       "      <td>0</td>\n",
       "      <td>1</td>\n",
       "      <td>504.375</td>\n",
       "      <td>515.50</td>\n",
       "      <td>3.0</td>\n",
       "    </tr>\n",
       "    <tr>\n",
       "      <th>2</th>\n",
       "      <td>210052589243</td>\n",
       "      <td>2021</td>\n",
       "      <td>13</td>\n",
       "      <td>F</td>\n",
       "      <td>3</td>\n",
       "      <td>1</td>\n",
       "      <td>1</td>\n",
       "      <td>1</td>\n",
       "      <td>1</td>\n",
       "      <td>None</td>\n",
       "      <td>NaN</td>\n",
       "      <td>NaN</td>\n",
       "      <td>NaN</td>\n",
       "      <td>3515707</td>\n",
       "      <td>FERRAZ DE VASCONCELOS</td>\n",
       "      <td>SP</td>\n",
       "      <td>0</td>\n",
       "      <td>0</td>\n",
       "      <td>0</td>\n",
       "      <td>0</td>\n",
       "      <td>NaN</td>\n",
       "      <td>NaN</td>\n",
       "      <td>NaN</td>\n",
       "      <td>NaN</td>\n",
       "      <td>1</td>\n",
       "      <td>NaN</td>\n",
       "      <td>3.0</td>\n",
       "      <td>Sudeste</td>\n",
       "      <td>Sudeste</td>\n",
       "      <td>1</td>\n",
       "      <td>1</td>\n",
       "      <td>1</td>\n",
       "      <td>1</td>\n",
       "      <td>NaN</td>\n",
       "      <td>NaN</td>\n",
       "      <td>3.0</td>\n",
       "    </tr>\n",
       "    <tr>\n",
       "      <th>3</th>\n",
       "      <td>210052128335</td>\n",
       "      <td>2021</td>\n",
       "      <td>3</td>\n",
       "      <td>M</td>\n",
       "      <td>1</td>\n",
       "      <td>3</td>\n",
       "      <td>1</td>\n",
       "      <td>2</td>\n",
       "      <td>2</td>\n",
       "      <td>Crato</td>\n",
       "      <td>2.0</td>\n",
       "      <td>1.0</td>\n",
       "      <td>1.0</td>\n",
       "      <td>2304202</td>\n",
       "      <td>CRATO</td>\n",
       "      <td>CE</td>\n",
       "      <td>1</td>\n",
       "      <td>1</td>\n",
       "      <td>1</td>\n",
       "      <td>1</td>\n",
       "      <td>580.7</td>\n",
       "      <td>678.9</td>\n",
       "      <td>638.9</td>\n",
       "      <td>659.5</td>\n",
       "      <td>0</td>\n",
       "      <td>780.0</td>\n",
       "      <td>6.0</td>\n",
       "      <td>Nordeste</td>\n",
       "      <td>Nordeste</td>\n",
       "      <td>0</td>\n",
       "      <td>0</td>\n",
       "      <td>0</td>\n",
       "      <td>0</td>\n",
       "      <td>639.500</td>\n",
       "      <td>667.60</td>\n",
       "      <td>6.0</td>\n",
       "    </tr>\n",
       "    <tr>\n",
       "      <th>4</th>\n",
       "      <td>210051353021</td>\n",
       "      <td>2021</td>\n",
       "      <td>2</td>\n",
       "      <td>F</td>\n",
       "      <td>1</td>\n",
       "      <td>3</td>\n",
       "      <td>1</td>\n",
       "      <td>2</td>\n",
       "      <td>2</td>\n",
       "      <td>Redenção</td>\n",
       "      <td>2.0</td>\n",
       "      <td>1.0</td>\n",
       "      <td>1.0</td>\n",
       "      <td>2300150</td>\n",
       "      <td>ACARAPE</td>\n",
       "      <td>CE</td>\n",
       "      <td>1</td>\n",
       "      <td>1</td>\n",
       "      <td>1</td>\n",
       "      <td>1</td>\n",
       "      <td>497.7</td>\n",
       "      <td>532.4</td>\n",
       "      <td>457.6</td>\n",
       "      <td>582.6</td>\n",
       "      <td>1</td>\n",
       "      <td>780.0</td>\n",
       "      <td>4.0</td>\n",
       "      <td>Nordeste</td>\n",
       "      <td>Nordeste</td>\n",
       "      <td>0</td>\n",
       "      <td>0</td>\n",
       "      <td>0</td>\n",
       "      <td>0</td>\n",
       "      <td>517.575</td>\n",
       "      <td>570.06</td>\n",
       "      <td>4.0</td>\n",
       "    </tr>\n",
       "  </tbody>\n",
       "</table>\n",
       "</div>"
      ],
      "text/plain": [
       "   NU_INSCRICAO  NU_ANO  TP_FAIXA_ETARIA TP_SEXO  TP_ESTADO_CIVIL  \\\n",
       "0  210053865474    2021                5       F                1   \n",
       "1  210052384164    2021               12       M                1   \n",
       "2  210052589243    2021               13       F                3   \n",
       "3  210052128335    2021                3       M                1   \n",
       "4  210051353021    2021                2       F                1   \n",
       "\n",
       "   TP_COR_RACA  TP_NACIONALIDADE  TP_ST_CONCLUSAO  TP_ESCOLA NO_MUNICIPIO_ESC  \\\n",
       "0            1                 1                1          1             None   \n",
       "1            1                 1                1          1             None   \n",
       "2            1                 1                1          1             None   \n",
       "3            3                 1                2          2            Crato   \n",
       "4            3                 1                2          2         Redenção   \n",
       "\n",
       "   TP_DEPENDENCIA_ADM_ESC  TP_LOCALIZACAO_ESC  TP_SIT_FUNC_ESC  \\\n",
       "0                     NaN                 NaN              NaN   \n",
       "1                     NaN                 NaN              NaN   \n",
       "2                     NaN                 NaN              NaN   \n",
       "3                     2.0                 1.0              1.0   \n",
       "4                     2.0                 1.0              1.0   \n",
       "\n",
       "   CO_MUNICIPIO_PROVA     NO_MUNICIPIO_PROVA SG_UF_PROVA  TP_PRESENCA_CN  \\\n",
       "0             3144805              NOVA LIMA          MG               0   \n",
       "1             2704302                 MACEIO          AL               1   \n",
       "2             3515707  FERRAZ DE VASCONCELOS          SP               0   \n",
       "3             2304202                  CRATO          CE               1   \n",
       "4             2300150                ACARAPE          CE               1   \n",
       "\n",
       "   TP_PRESENCA_CH  TP_PRESENCA_LC  TP_PRESENCA_MT  NU_NOTA_CN  NU_NOTA_CH  \\\n",
       "0               1               1               0         NaN       574.6   \n",
       "1               1               1               1       505.9       551.8   \n",
       "2               0               0               0         NaN         NaN   \n",
       "3               1               1               1       580.7       678.9   \n",
       "4               1               1               1       497.7       532.4   \n",
       "\n",
       "   NU_NOTA_LC  NU_NOTA_MT  TP_LINGUA  NU_NOTA_REDACAO  Q005 TP_REGIAO_PROVA  \\\n",
       "0       472.6         NaN          1            760.0   3.0         Sudeste   \n",
       "1       498.3       461.5          1            560.0   3.0        Nordeste   \n",
       "2         NaN         NaN          1              NaN   3.0         Sudeste   \n",
       "3       638.9       659.5          0            780.0   6.0        Nordeste   \n",
       "4       457.6       582.6          1            780.0   4.0        Nordeste   \n",
       "\n",
       "  TP_REGIAO_ESC  ABS_DIA_1  ABS_DIA_2  ABS_ALL  FLAG_NULL_ESC  MEDIA_OBJ  \\\n",
       "0       Sudeste          0          1        0              1    523.600   \n",
       "1      Nordeste          0          0        0              1    504.375   \n",
       "2       Sudeste          1          1        1              1        NaN   \n",
       "3      Nordeste          0          0        0              0    639.500   \n",
       "4      Nordeste          0          0        0              0    517.575   \n",
       "\n",
       "   MEDIA_GLOBAL  FAMILIA  \n",
       "0        602.40      3.0  \n",
       "1        515.50      3.0  \n",
       "2           NaN      3.0  \n",
       "3        667.60      6.0  \n",
       "4        570.06      4.0  "
      ]
     },
     "execution_count": 11,
     "metadata": {},
     "output_type": "execute_result"
    }
   ],
   "source": [
    "df_enem.head()"
   ]
  },
  {
   "cell_type": "code",
   "execution_count": 24,
   "metadata": {},
   "outputs": [
    {
     "data": {
      "text/html": [
       "<div>\n",
       "<style scoped>\n",
       "    .dataframe tbody tr th:only-of-type {\n",
       "        vertical-align: middle;\n",
       "    }\n",
       "\n",
       "    .dataframe tbody tr th {\n",
       "        vertical-align: top;\n",
       "    }\n",
       "\n",
       "    .dataframe thead th {\n",
       "        text-align: right;\n",
       "    }\n",
       "</style>\n",
       "<table border=\"1\" class=\"dataframe\">\n",
       "  <thead>\n",
       "    <tr style=\"text-align: right;\">\n",
       "      <th></th>\n",
       "      <th></th>\n",
       "      <th></th>\n",
       "      <th></th>\n",
       "      <th>QTD_INSCRITOS_2021</th>\n",
       "    </tr>\n",
       "    <tr>\n",
       "      <th>TP_REGIAO_PROVA</th>\n",
       "      <th>SG_UF_PROVA</th>\n",
       "      <th>CO_MUNICIPIO_PROVA</th>\n",
       "      <th>NO_MUNICIPIO_PROVA</th>\n",
       "      <th></th>\n",
       "    </tr>\n",
       "  </thead>\n",
       "  <tbody>\n",
       "    <tr>\n",
       "      <th rowspan=\"5\" valign=\"top\">Centro-Oeste</th>\n",
       "      <th rowspan=\"5\" valign=\"top\">GO</th>\n",
       "      <th>5200134</th>\n",
       "      <th>ACREUNA</th>\n",
       "      <td>660</td>\n",
       "    </tr>\n",
       "    <tr>\n",
       "      <th>5200258</th>\n",
       "      <th>AGUAS LINDAS DE GOIAS</th>\n",
       "      <td>2498</td>\n",
       "    </tr>\n",
       "    <tr>\n",
       "      <th>5200308</th>\n",
       "      <th>ALEXANIA</th>\n",
       "      <td>374</td>\n",
       "    </tr>\n",
       "    <tr>\n",
       "      <th>5200803</th>\n",
       "      <th>ALVORADA DO NORTE</th>\n",
       "      <td>325</td>\n",
       "    </tr>\n",
       "    <tr>\n",
       "      <th>5201108</th>\n",
       "      <th>ANAPOLIS</th>\n",
       "      <td>7864</td>\n",
       "    </tr>\n",
       "  </tbody>\n",
       "</table>\n",
       "</div>"
      ],
      "text/plain": [
       "                                                                      QTD_INSCRITOS_2021\n",
       "TP_REGIAO_PROVA SG_UF_PROVA CO_MUNICIPIO_PROVA NO_MUNICIPIO_PROVA                       \n",
       "Centro-Oeste    GO          5200134            ACREUNA                               660\n",
       "                            5200258            AGUAS LINDAS DE GOIAS                2498\n",
       "                            5200308            ALEXANIA                              374\n",
       "                            5200803            ALVORADA DO NORTE                     325\n",
       "                            5201108            ANAPOLIS                             7864"
      ]
     },
     "execution_count": 24,
     "metadata": {},
     "output_type": "execute_result"
    }
   ],
   "source": [
    "geral202110.head()"
   ]
  },
  {
   "cell_type": "code",
   "execution_count": 28,
   "metadata": {},
   "outputs": [
    {
     "data": {
      "text/html": [
       "<div>\n",
       "<style scoped>\n",
       "    .dataframe tbody tr th:only-of-type {\n",
       "        vertical-align: middle;\n",
       "    }\n",
       "\n",
       "    .dataframe tbody tr th {\n",
       "        vertical-align: top;\n",
       "    }\n",
       "\n",
       "    .dataframe thead th {\n",
       "        text-align: right;\n",
       "    }\n",
       "</style>\n",
       "<table border=\"1\" class=\"dataframe\">\n",
       "  <thead>\n",
       "    <tr style=\"text-align: right;\">\n",
       "      <th></th>\n",
       "      <th></th>\n",
       "      <th></th>\n",
       "      <th></th>\n",
       "      <th>QTD_INSCRITOS_2022</th>\n",
       "    </tr>\n",
       "    <tr>\n",
       "      <th>TP_REGIAO_PROVA</th>\n",
       "      <th>SG_UF_PROVA</th>\n",
       "      <th>CO_MUNICIPIO_PROVA</th>\n",
       "      <th>NO_MUNICIPIO_PROVA</th>\n",
       "      <th></th>\n",
       "    </tr>\n",
       "  </thead>\n",
       "  <tbody>\n",
       "    <tr>\n",
       "      <th rowspan=\"5\" valign=\"top\">Centro-Oeste</th>\n",
       "      <th rowspan=\"5\" valign=\"top\">GO</th>\n",
       "      <th>5200134</th>\n",
       "      <th>ACREUNA</th>\n",
       "      <td>515</td>\n",
       "    </tr>\n",
       "    <tr>\n",
       "      <th>5200258</th>\n",
       "      <th>AGUAS LINDAS DE GOIAS</th>\n",
       "      <td>3089</td>\n",
       "    </tr>\n",
       "    <tr>\n",
       "      <th>5200308</th>\n",
       "      <th>ALEXANIA</th>\n",
       "      <td>362</td>\n",
       "    </tr>\n",
       "    <tr>\n",
       "      <th>5200803</th>\n",
       "      <th>ALVORADA DO NORTE</th>\n",
       "      <td>261</td>\n",
       "    </tr>\n",
       "    <tr>\n",
       "      <th>5201108</th>\n",
       "      <th>ANAPOLIS</th>\n",
       "      <td>7638</td>\n",
       "    </tr>\n",
       "  </tbody>\n",
       "</table>\n",
       "</div>"
      ],
      "text/plain": [
       "                                                                      QTD_INSCRITOS_2022\n",
       "TP_REGIAO_PROVA SG_UF_PROVA CO_MUNICIPIO_PROVA NO_MUNICIPIO_PROVA                       \n",
       "Centro-Oeste    GO          5200134            ACREUNA                               515\n",
       "                            5200258            AGUAS LINDAS DE GOIAS                3089\n",
       "                            5200308            ALEXANIA                              362\n",
       "                            5200803            ALVORADA DO NORTE                     261\n",
       "                            5201108            ANAPOLIS                             7638"
      ]
     },
     "execution_count": 28,
     "metadata": {},
     "output_type": "execute_result"
    }
   ],
   "source": [
    "geral202210.head()"
   ]
  },
  {
   "cell_type": "code",
   "execution_count": 30,
   "metadata": {},
   "outputs": [
    {
     "data": {
      "text/html": [
       "<div>\n",
       "<style scoped>\n",
       "    .dataframe tbody tr th:only-of-type {\n",
       "        vertical-align: middle;\n",
       "    }\n",
       "\n",
       "    .dataframe tbody tr th {\n",
       "        vertical-align: top;\n",
       "    }\n",
       "\n",
       "    .dataframe thead th {\n",
       "        text-align: right;\n",
       "    }\n",
       "</style>\n",
       "<table border=\"1\" class=\"dataframe\">\n",
       "  <thead>\n",
       "    <tr style=\"text-align: right;\">\n",
       "      <th></th>\n",
       "      <th></th>\n",
       "      <th></th>\n",
       "      <th></th>\n",
       "      <th>QTD_INSCRITOS_2021</th>\n",
       "      <th>QTD_INSCRITOS_2022</th>\n",
       "    </tr>\n",
       "    <tr>\n",
       "      <th>TP_REGIAO_PROVA</th>\n",
       "      <th>SG_UF_PROVA</th>\n",
       "      <th>CO_MUNICIPIO_PROVA</th>\n",
       "      <th>NO_MUNICIPIO_PROVA</th>\n",
       "      <th></th>\n",
       "      <th></th>\n",
       "    </tr>\n",
       "  </thead>\n",
       "  <tbody>\n",
       "    <tr>\n",
       "      <th rowspan=\"5\" valign=\"top\">Centro-Oeste</th>\n",
       "      <th rowspan=\"5\" valign=\"top\">GO</th>\n",
       "      <th>5200134</th>\n",
       "      <th>ACREUNA</th>\n",
       "      <td>660</td>\n",
       "      <td>515</td>\n",
       "    </tr>\n",
       "    <tr>\n",
       "      <th>5200258</th>\n",
       "      <th>AGUAS LINDAS DE GOIAS</th>\n",
       "      <td>2498</td>\n",
       "      <td>3089</td>\n",
       "    </tr>\n",
       "    <tr>\n",
       "      <th>5200308</th>\n",
       "      <th>ALEXANIA</th>\n",
       "      <td>374</td>\n",
       "      <td>362</td>\n",
       "    </tr>\n",
       "    <tr>\n",
       "      <th>5200803</th>\n",
       "      <th>ALVORADA DO NORTE</th>\n",
       "      <td>325</td>\n",
       "      <td>261</td>\n",
       "    </tr>\n",
       "    <tr>\n",
       "      <th>5201108</th>\n",
       "      <th>ANAPOLIS</th>\n",
       "      <td>7864</td>\n",
       "      <td>7638</td>\n",
       "    </tr>\n",
       "  </tbody>\n",
       "</table>\n",
       "</div>"
      ],
      "text/plain": [
       "                                                                      QTD_INSCRITOS_2021  \\\n",
       "TP_REGIAO_PROVA SG_UF_PROVA CO_MUNICIPIO_PROVA NO_MUNICIPIO_PROVA                          \n",
       "Centro-Oeste    GO          5200134            ACREUNA                               660   \n",
       "                            5200258            AGUAS LINDAS DE GOIAS                2498   \n",
       "                            5200308            ALEXANIA                              374   \n",
       "                            5200803            ALVORADA DO NORTE                     325   \n",
       "                            5201108            ANAPOLIS                             7864   \n",
       "\n",
       "                                                                      QTD_INSCRITOS_2022  \n",
       "TP_REGIAO_PROVA SG_UF_PROVA CO_MUNICIPIO_PROVA NO_MUNICIPIO_PROVA                         \n",
       "Centro-Oeste    GO          5200134            ACREUNA                               515  \n",
       "                            5200258            AGUAS LINDAS DE GOIAS                3089  \n",
       "                            5200308            ALEXANIA                              362  \n",
       "                            5200803            ALVORADA DO NORTE                     261  \n",
       "                            5201108            ANAPOLIS                             7638  "
      ]
     },
     "execution_count": 30,
     "metadata": {},
     "output_type": "execute_result"
    }
   ],
   "source": [
    "geral10 = pd.merge(geral202110, geral202210, left_index=True, right_index=True, how='inner')\n",
    "geral10.head()"
   ]
  },
  {
   "cell_type": "markdown",
   "metadata": {},
   "source": [
    "#### Salvar"
   ]
  },
  {
   "cell_type": "code",
   "execution_count": 31,
   "metadata": {},
   "outputs": [],
   "source": [
    "geral10.to_excel('C:\\\\Users\\\\Bruno\\\\OneDrive\\\\Área de Trabalho\\\\Microdados\\\\Datas\\\\Material apresentação\\\\Inscritos_Município_ano.xlsx', index=True)"
   ]
  },
  {
   "cell_type": "markdown",
   "metadata": {},
   "source": [
    "#### Média dos municípios por ano."
   ]
  },
  {
   "cell_type": "code",
   "execution_count": 32,
   "metadata": {},
   "outputs": [],
   "source": [
    "df_enem = df[['NU_INSCRICAO','NU_ANO','TP_SEXO','SG_UF_PROVA','TP_REGIAO_PROVA', 'CO_MUNICIPIO_PROVA', 'NO_MUNICIPIO_PROVA','ABS_ALL','MEDIA_GLOBAL','MEDIA_OBJ']]"
   ]
  },
  {
   "cell_type": "code",
   "execution_count": 12,
   "metadata": {},
   "outputs": [],
   "source": [
    "geral10_media_ano = df_enem.groupby(['NU_ANO', 'CO_MUNICIPIO_PROVA'])[['MEDIA_OBJ', 'MEDIA_GLOBAL']].mean().reset_index().round(2)\n",
    "geral10_media_ano = geral10_media_ano.pivot(index='NU_ANO', columns='CO_MUNICIPIO_PROVA')\n",
    "geral10_media_ano = geral10_media_ano.reorder_levels([1 , 0], axis=1).sort_index(axis=1, level=0)\n",
    "nome_df = f'geral{ano_enem}10_media_ano'\n",
    "globals()[nome_df] = geral10_media_ano"
   ]
  },
  {
   "cell_type": "code",
   "execution_count": 13,
   "metadata": {},
   "outputs": [
    {
     "data": {
      "text/html": [
       "<div>\n",
       "<style scoped>\n",
       "    .dataframe tbody tr th:only-of-type {\n",
       "        vertical-align: middle;\n",
       "    }\n",
       "\n",
       "    .dataframe tbody tr th {\n",
       "        vertical-align: top;\n",
       "    }\n",
       "\n",
       "    .dataframe thead th {\n",
       "        text-align: right;\n",
       "    }\n",
       "</style>\n",
       "<table border=\"1\" class=\"dataframe\">\n",
       "  <thead>\n",
       "    <tr style=\"text-align: right;\">\n",
       "      <th></th>\n",
       "      <th>NU_ANO</th>\n",
       "      <th>2021</th>\n",
       "    </tr>\n",
       "    <tr>\n",
       "      <th>CO_MUNICIPIO_PROVA</th>\n",
       "      <th></th>\n",
       "      <th></th>\n",
       "    </tr>\n",
       "  </thead>\n",
       "  <tbody>\n",
       "    <tr>\n",
       "      <th rowspan=\"2\" valign=\"top\">1100015</th>\n",
       "      <th>MEDIA_GLOBAL</th>\n",
       "      <td>510.36</td>\n",
       "    </tr>\n",
       "    <tr>\n",
       "      <th>MEDIA_OBJ</th>\n",
       "      <td>491.39</td>\n",
       "    </tr>\n",
       "    <tr>\n",
       "      <th rowspan=\"2\" valign=\"top\">1100023</th>\n",
       "      <th>MEDIA_GLOBAL</th>\n",
       "      <td>508.46</td>\n",
       "    </tr>\n",
       "    <tr>\n",
       "      <th>MEDIA_OBJ</th>\n",
       "      <td>489.53</td>\n",
       "    </tr>\n",
       "    <tr>\n",
       "      <th>1100049</th>\n",
       "      <th>MEDIA_GLOBAL</th>\n",
       "      <td>519.44</td>\n",
       "    </tr>\n",
       "  </tbody>\n",
       "</table>\n",
       "</div>"
      ],
      "text/plain": [
       "NU_ANO                             2021\n",
       "CO_MUNICIPIO_PROVA                     \n",
       "1100015            MEDIA_GLOBAL  510.36\n",
       "                   MEDIA_OBJ     491.39\n",
       "1100023            MEDIA_GLOBAL  508.46\n",
       "                   MEDIA_OBJ     489.53\n",
       "1100049            MEDIA_GLOBAL  519.44"
      ]
     },
     "execution_count": 13,
     "metadata": {},
     "output_type": "execute_result"
    }
   ],
   "source": [
    "geral202110_media_ano= geral202110_media_ano.transpose()\n",
    "geral202110_media_ano.head()"
   ]
  },
  {
   "cell_type": "code",
   "execution_count": 8,
   "metadata": {},
   "outputs": [],
   "source": [
    "geral202210_media_ano= geral202210_media_ano.transpose()"
   ]
  },
  {
   "cell_type": "code",
   "execution_count": 9,
   "metadata": {},
   "outputs": [
    {
     "data": {
      "text/html": [
       "<div>\n",
       "<style scoped>\n",
       "    .dataframe tbody tr th:only-of-type {\n",
       "        vertical-align: middle;\n",
       "    }\n",
       "\n",
       "    .dataframe tbody tr th {\n",
       "        vertical-align: top;\n",
       "    }\n",
       "\n",
       "    .dataframe thead th {\n",
       "        text-align: right;\n",
       "    }\n",
       "</style>\n",
       "<table border=\"1\" class=\"dataframe\">\n",
       "  <thead>\n",
       "    <tr style=\"text-align: right;\">\n",
       "      <th></th>\n",
       "      <th>NU_ANO</th>\n",
       "      <th>2022</th>\n",
       "    </tr>\n",
       "    <tr>\n",
       "      <th>CO_MUNICIPIO_PROVA</th>\n",
       "      <th></th>\n",
       "      <th></th>\n",
       "    </tr>\n",
       "  </thead>\n",
       "  <tbody>\n",
       "    <tr>\n",
       "      <th rowspan=\"2\" valign=\"top\">1100015</th>\n",
       "      <th>MEDIA_GLOBAL</th>\n",
       "      <td>522.35</td>\n",
       "    </tr>\n",
       "    <tr>\n",
       "      <th>MEDIA_OBJ</th>\n",
       "      <td>500.95</td>\n",
       "    </tr>\n",
       "    <tr>\n",
       "      <th rowspan=\"2\" valign=\"top\">1100023</th>\n",
       "      <th>MEDIA_GLOBAL</th>\n",
       "      <td>520.29</td>\n",
       "    </tr>\n",
       "    <tr>\n",
       "      <th>MEDIA_OBJ</th>\n",
       "      <td>503.74</td>\n",
       "    </tr>\n",
       "    <tr>\n",
       "      <th>1100049</th>\n",
       "      <th>MEDIA_GLOBAL</th>\n",
       "      <td>526.21</td>\n",
       "    </tr>\n",
       "  </tbody>\n",
       "</table>\n",
       "</div>"
      ],
      "text/plain": [
       "NU_ANO                             2022\n",
       "CO_MUNICIPIO_PROVA                     \n",
       "1100015            MEDIA_GLOBAL  522.35\n",
       "                   MEDIA_OBJ     500.95\n",
       "1100023            MEDIA_GLOBAL  520.29\n",
       "                   MEDIA_OBJ     503.74\n",
       "1100049            MEDIA_GLOBAL  526.21"
      ]
     },
     "execution_count": 9,
     "metadata": {},
     "output_type": "execute_result"
    }
   ],
   "source": [
    "geral202210_media_ano.head()"
   ]
  },
  {
   "cell_type": "code",
   "execution_count": 16,
   "metadata": {},
   "outputs": [
    {
     "data": {
      "text/html": [
       "<div>\n",
       "<style scoped>\n",
       "    .dataframe tbody tr th:only-of-type {\n",
       "        vertical-align: middle;\n",
       "    }\n",
       "\n",
       "    .dataframe tbody tr th {\n",
       "        vertical-align: top;\n",
       "    }\n",
       "\n",
       "    .dataframe thead th {\n",
       "        text-align: right;\n",
       "    }\n",
       "</style>\n",
       "<table border=\"1\" class=\"dataframe\">\n",
       "  <thead>\n",
       "    <tr style=\"text-align: right;\">\n",
       "      <th></th>\n",
       "      <th>NU_ANO</th>\n",
       "      <th>2021</th>\n",
       "      <th>2022</th>\n",
       "    </tr>\n",
       "    <tr>\n",
       "      <th>CO_MUNICIPIO_PROVA</th>\n",
       "      <th></th>\n",
       "      <th></th>\n",
       "      <th></th>\n",
       "    </tr>\n",
       "  </thead>\n",
       "  <tbody>\n",
       "    <tr>\n",
       "      <th rowspan=\"2\" valign=\"top\">1100015</th>\n",
       "      <th>MEDIA_GLOBAL</th>\n",
       "      <td>510.36</td>\n",
       "      <td>522.35</td>\n",
       "    </tr>\n",
       "    <tr>\n",
       "      <th>MEDIA_OBJ</th>\n",
       "      <td>491.39</td>\n",
       "      <td>500.95</td>\n",
       "    </tr>\n",
       "    <tr>\n",
       "      <th rowspan=\"2\" valign=\"top\">1100023</th>\n",
       "      <th>MEDIA_GLOBAL</th>\n",
       "      <td>508.46</td>\n",
       "      <td>520.29</td>\n",
       "    </tr>\n",
       "    <tr>\n",
       "      <th>MEDIA_OBJ</th>\n",
       "      <td>489.53</td>\n",
       "      <td>503.74</td>\n",
       "    </tr>\n",
       "    <tr>\n",
       "      <th>1100049</th>\n",
       "      <th>MEDIA_GLOBAL</th>\n",
       "      <td>519.44</td>\n",
       "      <td>526.21</td>\n",
       "    </tr>\n",
       "  </tbody>\n",
       "</table>\n",
       "</div>"
      ],
      "text/plain": [
       "NU_ANO                             2021    2022\n",
       "CO_MUNICIPIO_PROVA                             \n",
       "1100015            MEDIA_GLOBAL  510.36  522.35\n",
       "                   MEDIA_OBJ     491.39  500.95\n",
       "1100023            MEDIA_GLOBAL  508.46  520.29\n",
       "                   MEDIA_OBJ     489.53  503.74\n",
       "1100049            MEDIA_GLOBAL  519.44  526.21"
      ]
     },
     "execution_count": 16,
     "metadata": {},
     "output_type": "execute_result"
    }
   ],
   "source": [
    "geral10_media_ano = pd.merge(geral202110_media_ano, geral202210_media_ano, left_index=True, right_index=True, how='inner')\n",
    "geral10_media_ano.head()"
   ]
  },
  {
   "cell_type": "markdown",
   "metadata": {},
   "source": [
    "#### Salvar. True para salvar o multindex."
   ]
  },
  {
   "cell_type": "code",
   "execution_count": 35,
   "metadata": {},
   "outputs": [],
   "source": [
    "geral10_media_ano.to_excel('C:\\\\Users\\\\Bruno\\\\OneDrive\\\\Área de Trabalho\\\\Microdados\\\\Datas\\\\Material apresentação\\\\Media_Municipio_ano.xlsx', index=True)"
   ]
  },
  {
   "cell_type": "markdown",
   "metadata": {},
   "source": [
    "#### Média por município."
   ]
  },
  {
   "cell_type": "code",
   "execution_count": 34,
   "metadata": {},
   "outputs": [
    {
     "data": {
      "text/html": [
       "<div>\n",
       "<style scoped>\n",
       "    .dataframe tbody tr th:only-of-type {\n",
       "        vertical-align: middle;\n",
       "    }\n",
       "\n",
       "    .dataframe tbody tr th {\n",
       "        vertical-align: top;\n",
       "    }\n",
       "\n",
       "    .dataframe thead th {\n",
       "        text-align: right;\n",
       "    }\n",
       "</style>\n",
       "<table border=\"1\" class=\"dataframe\">\n",
       "  <thead>\n",
       "    <tr style=\"text-align: right;\">\n",
       "      <th></th>\n",
       "      <th>CO_MUNICIPIO_PROVA</th>\n",
       "      <th>MEDIA_OBJ</th>\n",
       "      <th>MEDIA_GLOBAL</th>\n",
       "    </tr>\n",
       "  </thead>\n",
       "  <tbody>\n",
       "    <tr>\n",
       "      <th>0</th>\n",
       "      <td>1100015</td>\n",
       "      <td>500.95</td>\n",
       "      <td>522.35</td>\n",
       "    </tr>\n",
       "    <tr>\n",
       "      <th>1</th>\n",
       "      <td>1100023</td>\n",
       "      <td>503.74</td>\n",
       "      <td>520.29</td>\n",
       "    </tr>\n",
       "    <tr>\n",
       "      <th>2</th>\n",
       "      <td>1100049</td>\n",
       "      <td>508.92</td>\n",
       "      <td>526.21</td>\n",
       "    </tr>\n",
       "    <tr>\n",
       "      <th>3</th>\n",
       "      <td>1100056</td>\n",
       "      <td>503.30</td>\n",
       "      <td>519.39</td>\n",
       "    </tr>\n",
       "    <tr>\n",
       "      <th>4</th>\n",
       "      <td>1100064</td>\n",
       "      <td>507.79</td>\n",
       "      <td>529.86</td>\n",
       "    </tr>\n",
       "  </tbody>\n",
       "</table>\n",
       "</div>"
      ],
      "text/plain": [
       "   CO_MUNICIPIO_PROVA  MEDIA_OBJ  MEDIA_GLOBAL\n",
       "0             1100015     500.95        522.35\n",
       "1             1100023     503.74        520.29\n",
       "2             1100049     508.92        526.21\n",
       "3             1100056     503.30        519.39\n",
       "4             1100064     507.79        529.86"
      ]
     },
     "execution_count": 34,
     "metadata": {},
     "output_type": "execute_result"
    }
   ],
   "source": [
    "geral10_media = df_enem.groupby('CO_MUNICIPIO_PROVA')[['MEDIA_OBJ', 'MEDIA_GLOBAL']].mean().reset_index().round(2)\n",
    "geral10_media.head()"
   ]
  },
  {
   "cell_type": "code",
   "execution_count": 35,
   "metadata": {},
   "outputs": [],
   "source": [
    "geral10_media1 = df_enem[['CO_MUNICIPIO_PROVA', 'NO_MUNICIPIO_PROVA']]\n",
    "map_dict = geral10_media1.set_index('CO_MUNICIPIO_PROVA')['NO_MUNICIPIO_PROVA'].to_dict()\n",
    "geral10_media['NO_MUNICIPIO_PROVA'] = geral10_media['CO_MUNICIPIO_PROVA'].map(map_dict)"
   ]
  },
  {
   "cell_type": "code",
   "execution_count": 36,
   "metadata": {},
   "outputs": [
    {
     "data": {
      "text/html": [
       "<div>\n",
       "<style scoped>\n",
       "    .dataframe tbody tr th:only-of-type {\n",
       "        vertical-align: middle;\n",
       "    }\n",
       "\n",
       "    .dataframe tbody tr th {\n",
       "        vertical-align: top;\n",
       "    }\n",
       "\n",
       "    .dataframe thead th {\n",
       "        text-align: right;\n",
       "    }\n",
       "</style>\n",
       "<table border=\"1\" class=\"dataframe\">\n",
       "  <thead>\n",
       "    <tr style=\"text-align: right;\">\n",
       "      <th></th>\n",
       "      <th>CO_MUNICIPIO_PROVA</th>\n",
       "      <th>NO_MUNICIPIO_PROVA</th>\n",
       "      <th>MEDIA_OBJ</th>\n",
       "      <th>MEDIA_GLOBAL</th>\n",
       "    </tr>\n",
       "  </thead>\n",
       "  <tbody>\n",
       "    <tr>\n",
       "      <th>0</th>\n",
       "      <td>1100015</td>\n",
       "      <td>ALTA FLORESTA DOESTE</td>\n",
       "      <td>500.95</td>\n",
       "      <td>522.35</td>\n",
       "    </tr>\n",
       "    <tr>\n",
       "      <th>1</th>\n",
       "      <td>1100023</td>\n",
       "      <td>ARIQUEMES</td>\n",
       "      <td>503.74</td>\n",
       "      <td>520.29</td>\n",
       "    </tr>\n",
       "    <tr>\n",
       "      <th>2</th>\n",
       "      <td>1100049</td>\n",
       "      <td>CACOAL</td>\n",
       "      <td>508.92</td>\n",
       "      <td>526.21</td>\n",
       "    </tr>\n",
       "    <tr>\n",
       "      <th>3</th>\n",
       "      <td>1100056</td>\n",
       "      <td>CEREJEIRAS</td>\n",
       "      <td>503.30</td>\n",
       "      <td>519.39</td>\n",
       "    </tr>\n",
       "    <tr>\n",
       "      <th>4</th>\n",
       "      <td>1100064</td>\n",
       "      <td>COLORADO DO OESTE</td>\n",
       "      <td>507.79</td>\n",
       "      <td>529.86</td>\n",
       "    </tr>\n",
       "  </tbody>\n",
       "</table>\n",
       "</div>"
      ],
      "text/plain": [
       "   CO_MUNICIPIO_PROVA    NO_MUNICIPIO_PROVA  MEDIA_OBJ  MEDIA_GLOBAL\n",
       "0             1100015  ALTA FLORESTA DOESTE     500.95        522.35\n",
       "1             1100023             ARIQUEMES     503.74        520.29\n",
       "2             1100049                CACOAL     508.92        526.21\n",
       "3             1100056            CEREJEIRAS     503.30        519.39\n",
       "4             1100064     COLORADO DO OESTE     507.79        529.86"
      ]
     },
     "execution_count": 36,
     "metadata": {},
     "output_type": "execute_result"
    }
   ],
   "source": [
    "geral10_media = geral10_media[['CO_MUNICIPIO_PROVA', 'NO_MUNICIPIO_PROVA', 'MEDIA_OBJ', 'MEDIA_GLOBAL']]\n",
    "geral10_media.head()"
   ]
  },
  {
   "cell_type": "code",
   "execution_count": 38,
   "metadata": {},
   "outputs": [],
   "source": [
    "geral10_media.to_excel('C:\\\\Users\\\\Bruno\\\\OneDrive\\\\Área de Trabalho\\\\Microdados\\\\Datas\\\\Material apresentação\\\\Media_Municipio.xlsx', index=False)"
   ]
  },
  {
   "cell_type": "markdown",
   "metadata": {},
   "source": [
    "#### Absoluto|Proporção total por município."
   ]
  },
  {
   "cell_type": "code",
   "execution_count": 41,
   "metadata": {},
   "outputs": [
    {
     "data": {
      "text/html": [
       "<div>\n",
       "<style scoped>\n",
       "    .dataframe tbody tr th:only-of-type {\n",
       "        vertical-align: middle;\n",
       "    }\n",
       "\n",
       "    .dataframe tbody tr th {\n",
       "        vertical-align: top;\n",
       "    }\n",
       "\n",
       "    .dataframe thead th {\n",
       "        text-align: right;\n",
       "    }\n",
       "</style>\n",
       "<table border=\"1\" class=\"dataframe\">\n",
       "  <thead>\n",
       "    <tr style=\"text-align: right;\">\n",
       "      <th>TP_SEXO</th>\n",
       "      <th>QTD_FEM</th>\n",
       "      <th>QTD_MASC</th>\n",
       "      <th>QTD_FEM_%</th>\n",
       "      <th>QTD_MASC_%</th>\n",
       "    </tr>\n",
       "    <tr>\n",
       "      <th>CO_MUNICIPIO_PROVA</th>\n",
       "      <th></th>\n",
       "      <th></th>\n",
       "      <th></th>\n",
       "      <th></th>\n",
       "    </tr>\n",
       "  </thead>\n",
       "  <tbody>\n",
       "    <tr>\n",
       "      <th>1100015</th>\n",
       "      <td>182</td>\n",
       "      <td>100</td>\n",
       "      <td>64.54</td>\n",
       "      <td>35.46</td>\n",
       "    </tr>\n",
       "    <tr>\n",
       "      <th>1100023</th>\n",
       "      <td>985</td>\n",
       "      <td>589</td>\n",
       "      <td>62.58</td>\n",
       "      <td>37.42</td>\n",
       "    </tr>\n",
       "    <tr>\n",
       "      <th>1100049</th>\n",
       "      <td>1094</td>\n",
       "      <td>687</td>\n",
       "      <td>61.43</td>\n",
       "      <td>38.57</td>\n",
       "    </tr>\n",
       "    <tr>\n",
       "      <th>1100056</th>\n",
       "      <td>148</td>\n",
       "      <td>108</td>\n",
       "      <td>57.81</td>\n",
       "      <td>42.19</td>\n",
       "    </tr>\n",
       "    <tr>\n",
       "      <th>1100064</th>\n",
       "      <td>175</td>\n",
       "      <td>127</td>\n",
       "      <td>57.95</td>\n",
       "      <td>42.05</td>\n",
       "    </tr>\n",
       "  </tbody>\n",
       "</table>\n",
       "</div>"
      ],
      "text/plain": [
       "TP_SEXO             QTD_FEM  QTD_MASC  QTD_FEM_%  QTD_MASC_%\n",
       "CO_MUNICIPIO_PROVA                                          \n",
       "1100015                 182       100      64.54       35.46\n",
       "1100023                 985       589      62.58       37.42\n",
       "1100049                1094       687      61.43       38.57\n",
       "1100056                 148       108      57.81       42.19\n",
       "1100064                 175       127      57.95       42.05"
      ]
     },
     "execution_count": 41,
     "metadata": {},
     "output_type": "execute_result"
    }
   ],
   "source": [
    "geral10_prop = df_enem.groupby(['CO_MUNICIPIO_PROVA', 'TP_SEXO']).size().unstack(fill_value=0)\n",
    "tot = geral10_prop.sum(axis=1)\n",
    "geral10_prop['QTD_FEM_%'] = ((geral10_prop['F'] / tot ) * 100).round(2)\n",
    "geral10_prop['QTD_MASC_%'] = ((geral10_prop['M'] / tot) * 100).round(2)\n",
    "geral10_prop = geral10_prop.rename(columns={'M': 'QTD_MASC', 'F': 'QTD_FEM'})\n",
    "geral10_prop.head()"
   ]
  },
  {
   "cell_type": "code",
   "execution_count": 42,
   "metadata": {},
   "outputs": [
    {
     "data": {
      "text/html": [
       "<div>\n",
       "<style scoped>\n",
       "    .dataframe tbody tr th:only-of-type {\n",
       "        vertical-align: middle;\n",
       "    }\n",
       "\n",
       "    .dataframe tbody tr th {\n",
       "        vertical-align: top;\n",
       "    }\n",
       "\n",
       "    .dataframe thead th {\n",
       "        text-align: right;\n",
       "    }\n",
       "</style>\n",
       "<table border=\"1\" class=\"dataframe\">\n",
       "  <thead>\n",
       "    <tr style=\"text-align: right;\">\n",
       "      <th>TP_SEXO</th>\n",
       "      <th>QTD_FEM</th>\n",
       "      <th>QTD_MASC</th>\n",
       "      <th>QTD_FEM_%</th>\n",
       "      <th>QTD_MASC_%</th>\n",
       "      <th>NO_MUNICIPIO_PROVA</th>\n",
       "    </tr>\n",
       "    <tr>\n",
       "      <th>CO_MUNICIPIO_PROVA</th>\n",
       "      <th></th>\n",
       "      <th></th>\n",
       "      <th></th>\n",
       "      <th></th>\n",
       "      <th></th>\n",
       "    </tr>\n",
       "  </thead>\n",
       "  <tbody>\n",
       "    <tr>\n",
       "      <th>1100015</th>\n",
       "      <td>182</td>\n",
       "      <td>100</td>\n",
       "      <td>64.54</td>\n",
       "      <td>35.46</td>\n",
       "      <td>ALTA FLORESTA DOESTE</td>\n",
       "    </tr>\n",
       "    <tr>\n",
       "      <th>1100023</th>\n",
       "      <td>985</td>\n",
       "      <td>589</td>\n",
       "      <td>62.58</td>\n",
       "      <td>37.42</td>\n",
       "      <td>ARIQUEMES</td>\n",
       "    </tr>\n",
       "    <tr>\n",
       "      <th>1100049</th>\n",
       "      <td>1094</td>\n",
       "      <td>687</td>\n",
       "      <td>61.43</td>\n",
       "      <td>38.57</td>\n",
       "      <td>CACOAL</td>\n",
       "    </tr>\n",
       "    <tr>\n",
       "      <th>1100056</th>\n",
       "      <td>148</td>\n",
       "      <td>108</td>\n",
       "      <td>57.81</td>\n",
       "      <td>42.19</td>\n",
       "      <td>CEREJEIRAS</td>\n",
       "    </tr>\n",
       "    <tr>\n",
       "      <th>1100064</th>\n",
       "      <td>175</td>\n",
       "      <td>127</td>\n",
       "      <td>57.95</td>\n",
       "      <td>42.05</td>\n",
       "      <td>COLORADO DO OESTE</td>\n",
       "    </tr>\n",
       "  </tbody>\n",
       "</table>\n",
       "</div>"
      ],
      "text/plain": [
       "TP_SEXO             QTD_FEM  QTD_MASC  QTD_FEM_%  QTD_MASC_%  \\\n",
       "CO_MUNICIPIO_PROVA                                             \n",
       "1100015                 182       100      64.54       35.46   \n",
       "1100023                 985       589      62.58       37.42   \n",
       "1100049                1094       687      61.43       38.57   \n",
       "1100056                 148       108      57.81       42.19   \n",
       "1100064                 175       127      57.95       42.05   \n",
       "\n",
       "TP_SEXO               NO_MUNICIPIO_PROVA  \n",
       "CO_MUNICIPIO_PROVA                        \n",
       "1100015             ALTA FLORESTA DOESTE  \n",
       "1100023                        ARIQUEMES  \n",
       "1100049                           CACOAL  \n",
       "1100056                       CEREJEIRAS  \n",
       "1100064                COLORADO DO OESTE  "
      ]
     },
     "execution_count": 42,
     "metadata": {},
     "output_type": "execute_result"
    }
   ],
   "source": [
    "geral10_media1 = df_enem[['CO_MUNICIPIO_PROVA', 'NO_MUNICIPIO_PROVA']]\n",
    "map_dict = geral10_media1.set_index('CO_MUNICIPIO_PROVA')['NO_MUNICIPIO_PROVA'].to_dict()\n",
    "geral10_prop['NO_MUNICIPIO_PROVA'] = geral10_prop.index.map(map_dict)\n",
    "geral10_prop.head()"
   ]
  },
  {
   "cell_type": "code",
   "execution_count": 43,
   "metadata": {},
   "outputs": [
    {
     "data": {
      "text/html": [
       "<div>\n",
       "<style scoped>\n",
       "    .dataframe tbody tr th:only-of-type {\n",
       "        vertical-align: middle;\n",
       "    }\n",
       "\n",
       "    .dataframe tbody tr th {\n",
       "        vertical-align: top;\n",
       "    }\n",
       "\n",
       "    .dataframe thead th {\n",
       "        text-align: right;\n",
       "    }\n",
       "</style>\n",
       "<table border=\"1\" class=\"dataframe\">\n",
       "  <thead>\n",
       "    <tr style=\"text-align: right;\">\n",
       "      <th>TP_SEXO</th>\n",
       "      <th>NO_MUNICIPIO_PROVA</th>\n",
       "      <th>QTD_FEM</th>\n",
       "      <th>QTD_MASC</th>\n",
       "      <th>QTD_FEM_%</th>\n",
       "      <th>QTD_MASC_%</th>\n",
       "    </tr>\n",
       "    <tr>\n",
       "      <th>CO_MUNICIPIO_PROVA</th>\n",
       "      <th></th>\n",
       "      <th></th>\n",
       "      <th></th>\n",
       "      <th></th>\n",
       "      <th></th>\n",
       "    </tr>\n",
       "  </thead>\n",
       "  <tbody>\n",
       "    <tr>\n",
       "      <th>1100015</th>\n",
       "      <td>ALTA FLORESTA DOESTE</td>\n",
       "      <td>182</td>\n",
       "      <td>100</td>\n",
       "      <td>64.54</td>\n",
       "      <td>35.46</td>\n",
       "    </tr>\n",
       "    <tr>\n",
       "      <th>1100023</th>\n",
       "      <td>ARIQUEMES</td>\n",
       "      <td>985</td>\n",
       "      <td>589</td>\n",
       "      <td>62.58</td>\n",
       "      <td>37.42</td>\n",
       "    </tr>\n",
       "    <tr>\n",
       "      <th>1100049</th>\n",
       "      <td>CACOAL</td>\n",
       "      <td>1094</td>\n",
       "      <td>687</td>\n",
       "      <td>61.43</td>\n",
       "      <td>38.57</td>\n",
       "    </tr>\n",
       "    <tr>\n",
       "      <th>1100056</th>\n",
       "      <td>CEREJEIRAS</td>\n",
       "      <td>148</td>\n",
       "      <td>108</td>\n",
       "      <td>57.81</td>\n",
       "      <td>42.19</td>\n",
       "    </tr>\n",
       "    <tr>\n",
       "      <th>1100064</th>\n",
       "      <td>COLORADO DO OESTE</td>\n",
       "      <td>175</td>\n",
       "      <td>127</td>\n",
       "      <td>57.95</td>\n",
       "      <td>42.05</td>\n",
       "    </tr>\n",
       "  </tbody>\n",
       "</table>\n",
       "</div>"
      ],
      "text/plain": [
       "TP_SEXO               NO_MUNICIPIO_PROVA  QTD_FEM  QTD_MASC  QTD_FEM_%  \\\n",
       "CO_MUNICIPIO_PROVA                                                       \n",
       "1100015             ALTA FLORESTA DOESTE      182       100      64.54   \n",
       "1100023                        ARIQUEMES      985       589      62.58   \n",
       "1100049                           CACOAL     1094       687      61.43   \n",
       "1100056                       CEREJEIRAS      148       108      57.81   \n",
       "1100064                COLORADO DO OESTE      175       127      57.95   \n",
       "\n",
       "TP_SEXO             QTD_MASC_%  \n",
       "CO_MUNICIPIO_PROVA              \n",
       "1100015                  35.46  \n",
       "1100023                  37.42  \n",
       "1100049                  38.57  \n",
       "1100056                  42.19  \n",
       "1100064                  42.05  "
      ]
     },
     "execution_count": 43,
     "metadata": {},
     "output_type": "execute_result"
    }
   ],
   "source": [
    "geral10_prop = geral10_prop[['NO_MUNICIPIO_PROVA', 'QTD_FEM', 'QTD_MASC', 'QTD_FEM_%' , 'QTD_MASC_%']]\n",
    "geral10_prop.head()"
   ]
  },
  {
   "cell_type": "markdown",
   "metadata": {},
   "source": [
    "##### Outros dados estatística por UF."
   ]
  },
  {
   "cell_type": "code",
   "execution_count": 44,
   "metadata": {},
   "outputs": [
    {
     "data": {
      "text/html": [
       "<div>\n",
       "<style scoped>\n",
       "    .dataframe tbody tr th:only-of-type {\n",
       "        vertical-align: middle;\n",
       "    }\n",
       "\n",
       "    .dataframe tbody tr th {\n",
       "        vertical-align: top;\n",
       "    }\n",
       "\n",
       "    .dataframe thead th {\n",
       "        text-align: right;\n",
       "    }\n",
       "</style>\n",
       "<table border=\"1\" class=\"dataframe\">\n",
       "  <thead>\n",
       "    <tr style=\"text-align: right;\">\n",
       "      <th></th>\n",
       "      <th>TP_REGIAO_PROVA</th>\n",
       "      <th>SG_UF_PROVA</th>\n",
       "      <th>CO_MUNICIPIO_PROVA</th>\n",
       "      <th>NO_MUNICIPIO_PROVA</th>\n",
       "      <th>MIN_NOTA_CN</th>\n",
       "      <th>MIN_NOTA_CH</th>\n",
       "      <th>MIN_NOTA_LC</th>\n",
       "      <th>MIN_NOTA_MT</th>\n",
       "      <th>MIN_NOTA_REDACAO</th>\n",
       "      <th>AVG_NOTA_CN</th>\n",
       "      <th>AVG_NOTA_CH</th>\n",
       "      <th>AVG_NOTA_LC</th>\n",
       "      <th>AVG_NOTA_MT</th>\n",
       "      <th>AVG_NOTA_REDACAO</th>\n",
       "      <th>MED_NOTA_CN</th>\n",
       "      <th>MED_NOTA_CH</th>\n",
       "      <th>MED_NOTA_LC</th>\n",
       "      <th>MED_NOTA_MT</th>\n",
       "      <th>MED_NOTA_REDACAO</th>\n",
       "      <th>MAX_NOTA_CN</th>\n",
       "      <th>MAX_NOTA_CH</th>\n",
       "      <th>MAX_NOTA_LC</th>\n",
       "      <th>MAX_NOTA_MT</th>\n",
       "      <th>MAX_NOTA_REDACAO</th>\n",
       "      <th>STD_NOTA_CN</th>\n",
       "      <th>STD_NOTA_CH</th>\n",
       "      <th>STD_NOTA_LC</th>\n",
       "      <th>STD_NOTA_MT</th>\n",
       "      <th>STD_NOTA_REDACAO</th>\n",
       "    </tr>\n",
       "  </thead>\n",
       "  <tbody>\n",
       "    <tr>\n",
       "      <th>0</th>\n",
       "      <td>Centro-Oeste</td>\n",
       "      <td>GO</td>\n",
       "      <td>5200134</td>\n",
       "      <td>ACREUNA</td>\n",
       "      <td>370.2</td>\n",
       "      <td>0.0</td>\n",
       "      <td>299.5</td>\n",
       "      <td>345.3</td>\n",
       "      <td>0.0</td>\n",
       "      <td>470.023200</td>\n",
       "      <td>493.549466</td>\n",
       "      <td>480.422420</td>\n",
       "      <td>498.780800</td>\n",
       "      <td>525.978648</td>\n",
       "      <td>460.55</td>\n",
       "      <td>499.3</td>\n",
       "      <td>489.60</td>\n",
       "      <td>488.35</td>\n",
       "      <td>560.0</td>\n",
       "      <td>724.0</td>\n",
       "      <td>710.5</td>\n",
       "      <td>691.4</td>\n",
       "      <td>892.1</td>\n",
       "      <td>960.0</td>\n",
       "      <td>64.404133</td>\n",
       "      <td>78.051302</td>\n",
       "      <td>74.337251</td>\n",
       "      <td>99.803315</td>\n",
       "      <td>229.828786</td>\n",
       "    </tr>\n",
       "    <tr>\n",
       "      <th>1</th>\n",
       "      <td>Centro-Oeste</td>\n",
       "      <td>GO</td>\n",
       "      <td>5200258</td>\n",
       "      <td>AGUAS LINDAS DE GOIAS</td>\n",
       "      <td>362.9</td>\n",
       "      <td>0.0</td>\n",
       "      <td>0.0</td>\n",
       "      <td>336.9</td>\n",
       "      <td>0.0</td>\n",
       "      <td>472.732280</td>\n",
       "      <td>500.887538</td>\n",
       "      <td>495.811907</td>\n",
       "      <td>494.265779</td>\n",
       "      <td>534.167508</td>\n",
       "      <td>463.90</td>\n",
       "      <td>502.6</td>\n",
       "      <td>502.55</td>\n",
       "      <td>478.00</td>\n",
       "      <td>560.0</td>\n",
       "      <td>719.7</td>\n",
       "      <td>731.0</td>\n",
       "      <td>734.1</td>\n",
       "      <td>846.1</td>\n",
       "      <td>980.0</td>\n",
       "      <td>59.580564</td>\n",
       "      <td>70.166914</td>\n",
       "      <td>72.372877</td>\n",
       "      <td>92.468364</td>\n",
       "      <td>213.862553</td>\n",
       "    </tr>\n",
       "    <tr>\n",
       "      <th>2</th>\n",
       "      <td>Centro-Oeste</td>\n",
       "      <td>GO</td>\n",
       "      <td>5200308</td>\n",
       "      <td>ALEXANIA</td>\n",
       "      <td>366.2</td>\n",
       "      <td>0.0</td>\n",
       "      <td>308.2</td>\n",
       "      <td>340.6</td>\n",
       "      <td>0.0</td>\n",
       "      <td>472.933889</td>\n",
       "      <td>499.023383</td>\n",
       "      <td>491.705473</td>\n",
       "      <td>513.742222</td>\n",
       "      <td>549.353234</td>\n",
       "      <td>468.50</td>\n",
       "      <td>507.1</td>\n",
       "      <td>498.50</td>\n",
       "      <td>499.60</td>\n",
       "      <td>580.0</td>\n",
       "      <td>655.4</td>\n",
       "      <td>706.4</td>\n",
       "      <td>711.8</td>\n",
       "      <td>802.3</td>\n",
       "      <td>960.0</td>\n",
       "      <td>65.123201</td>\n",
       "      <td>81.365652</td>\n",
       "      <td>78.434301</td>\n",
       "      <td>106.464843</td>\n",
       "      <td>239.499644</td>\n",
       "    </tr>\n",
       "    <tr>\n",
       "      <th>3</th>\n",
       "      <td>Centro-Oeste</td>\n",
       "      <td>GO</td>\n",
       "      <td>5200803</td>\n",
       "      <td>ALVORADA DO NORTE</td>\n",
       "      <td>370.6</td>\n",
       "      <td>309.1</td>\n",
       "      <td>304.2</td>\n",
       "      <td>354.8</td>\n",
       "      <td>0.0</td>\n",
       "      <td>474.005769</td>\n",
       "      <td>495.819048</td>\n",
       "      <td>474.511310</td>\n",
       "      <td>499.563462</td>\n",
       "      <td>567.023810</td>\n",
       "      <td>462.35</td>\n",
       "      <td>496.7</td>\n",
       "      <td>480.80</td>\n",
       "      <td>488.20</td>\n",
       "      <td>560.0</td>\n",
       "      <td>674.1</td>\n",
       "      <td>666.3</td>\n",
       "      <td>612.5</td>\n",
       "      <td>800.8</td>\n",
       "      <td>960.0</td>\n",
       "      <td>60.246862</td>\n",
       "      <td>66.630692</td>\n",
       "      <td>71.240475</td>\n",
       "      <td>89.023484</td>\n",
       "      <td>205.355131</td>\n",
       "    </tr>\n",
       "    <tr>\n",
       "      <th>4</th>\n",
       "      <td>Centro-Oeste</td>\n",
       "      <td>GO</td>\n",
       "      <td>5201108</td>\n",
       "      <td>ANAPOLIS</td>\n",
       "      <td>361.1</td>\n",
       "      <td>0.0</td>\n",
       "      <td>0.0</td>\n",
       "      <td>0.0</td>\n",
       "      <td>0.0</td>\n",
       "      <td>504.220044</td>\n",
       "      <td>533.737307</td>\n",
       "      <td>521.314902</td>\n",
       "      <td>553.451799</td>\n",
       "      <td>659.350462</td>\n",
       "      <td>494.20</td>\n",
       "      <td>537.8</td>\n",
       "      <td>528.60</td>\n",
       "      <td>544.20</td>\n",
       "      <td>660.0</td>\n",
       "      <td>776.4</td>\n",
       "      <td>770.0</td>\n",
       "      <td>731.0</td>\n",
       "      <td>958.4</td>\n",
       "      <td>980.0</td>\n",
       "      <td>73.890599</td>\n",
       "      <td>81.826948</td>\n",
       "      <td>75.837529</td>\n",
       "      <td>117.848912</td>\n",
       "      <td>215.243679</td>\n",
       "    </tr>\n",
       "  </tbody>\n",
       "</table>\n",
       "</div>"
      ],
      "text/plain": [
       "  TP_REGIAO_PROVA SG_UF_PROVA  CO_MUNICIPIO_PROVA     NO_MUNICIPIO_PROVA  \\\n",
       "0    Centro-Oeste          GO             5200134                ACREUNA   \n",
       "1    Centro-Oeste          GO             5200258  AGUAS LINDAS DE GOIAS   \n",
       "2    Centro-Oeste          GO             5200308               ALEXANIA   \n",
       "3    Centro-Oeste          GO             5200803      ALVORADA DO NORTE   \n",
       "4    Centro-Oeste          GO             5201108               ANAPOLIS   \n",
       "\n",
       "   MIN_NOTA_CN  MIN_NOTA_CH  MIN_NOTA_LC  MIN_NOTA_MT  MIN_NOTA_REDACAO  \\\n",
       "0        370.2          0.0        299.5        345.3               0.0   \n",
       "1        362.9          0.0          0.0        336.9               0.0   \n",
       "2        366.2          0.0        308.2        340.6               0.0   \n",
       "3        370.6        309.1        304.2        354.8               0.0   \n",
       "4        361.1          0.0          0.0          0.0               0.0   \n",
       "\n",
       "   AVG_NOTA_CN  AVG_NOTA_CH  AVG_NOTA_LC  AVG_NOTA_MT  AVG_NOTA_REDACAO  \\\n",
       "0   470.023200   493.549466   480.422420   498.780800        525.978648   \n",
       "1   472.732280   500.887538   495.811907   494.265779        534.167508   \n",
       "2   472.933889   499.023383   491.705473   513.742222        549.353234   \n",
       "3   474.005769   495.819048   474.511310   499.563462        567.023810   \n",
       "4   504.220044   533.737307   521.314902   553.451799        659.350462   \n",
       "\n",
       "   MED_NOTA_CN  MED_NOTA_CH  MED_NOTA_LC  MED_NOTA_MT  MED_NOTA_REDACAO  \\\n",
       "0       460.55        499.3       489.60       488.35             560.0   \n",
       "1       463.90        502.6       502.55       478.00             560.0   \n",
       "2       468.50        507.1       498.50       499.60             580.0   \n",
       "3       462.35        496.7       480.80       488.20             560.0   \n",
       "4       494.20        537.8       528.60       544.20             660.0   \n",
       "\n",
       "   MAX_NOTA_CN  MAX_NOTA_CH  MAX_NOTA_LC  MAX_NOTA_MT  MAX_NOTA_REDACAO  \\\n",
       "0        724.0        710.5        691.4        892.1             960.0   \n",
       "1        719.7        731.0        734.1        846.1             980.0   \n",
       "2        655.4        706.4        711.8        802.3             960.0   \n",
       "3        674.1        666.3        612.5        800.8             960.0   \n",
       "4        776.4        770.0        731.0        958.4             980.0   \n",
       "\n",
       "   STD_NOTA_CN  STD_NOTA_CH  STD_NOTA_LC  STD_NOTA_MT  STD_NOTA_REDACAO  \n",
       "0    64.404133    78.051302    74.337251    99.803315        229.828786  \n",
       "1    59.580564    70.166914    72.372877    92.468364        213.862553  \n",
       "2    65.123201    81.365652    78.434301   106.464843        239.499644  \n",
       "3    60.246862    66.630692    71.240475    89.023484        205.355131  \n",
       "4    73.890599    81.826948    75.837529   117.848912        215.243679  "
      ]
     },
     "execution_count": 44,
     "metadata": {},
     "output_type": "execute_result"
    }
   ],
   "source": [
    "geral10_statistics = build_statistics_metrics(lista_provas, df_enem, municipality_view, list_metrics)\n",
    "geral10_statistics.head()"
   ]
  },
  {
   "cell_type": "markdown",
   "metadata": {},
   "source": [
    "#### Salvar"
   ]
  },
  {
   "cell_type": "code",
   "execution_count": 45,
   "metadata": {},
   "outputs": [],
   "source": [
    "geral10_statistics.to_excel('C:\\\\Users\\\\Bruno\\\\OneDrive\\\\Área de Trabalho\\\\Microdados\\\\Datas\\\\Material apresentação\\\\Estatísticas_Municipio.xlsx', index=False)"
   ]
  },
  {
   "cell_type": "markdown",
   "metadata": {},
   "source": [
    "## 11) Tamanho da casa."
   ]
  },
  {
   "cell_type": "markdown",
   "metadata": {},
   "source": [
    "#### Quantidade."
   ]
  },
  {
   "cell_type": "code",
   "execution_count": 13,
   "metadata": {},
   "outputs": [],
   "source": [
    "geral11 = df_enem.groupby(['NU_ANO', 'FAMILIA'])['NU_INSCRICAO'].count().reset_index()\n",
    "geral11 = geral11.pivot(index='NU_ANO', columns='FAMILIA', values='NU_INSCRICAO').reset_index()\n",
    "geral11 = geral11.fillna(0).astype(int) #Possui NAn\n",
    "nome_df = f'geral{ano_enem}11'\n",
    "globals()[nome_df] = geral11\n"
   ]
  },
  {
   "cell_type": "code",
   "execution_count": 6,
   "metadata": {},
   "outputs": [
    {
     "data": {
      "text/html": [
       "<div>\n",
       "<style scoped>\n",
       "    .dataframe tbody tr th:only-of-type {\n",
       "        vertical-align: middle;\n",
       "    }\n",
       "\n",
       "    .dataframe tbody tr th {\n",
       "        vertical-align: top;\n",
       "    }\n",
       "\n",
       "    .dataframe thead th {\n",
       "        text-align: right;\n",
       "    }\n",
       "</style>\n",
       "<table border=\"1\" class=\"dataframe\">\n",
       "  <thead>\n",
       "    <tr style=\"text-align: right;\">\n",
       "      <th>FAMILIA</th>\n",
       "      <th>NU_ANO</th>\n",
       "      <th>1.0</th>\n",
       "      <th>2.0</th>\n",
       "      <th>3.0</th>\n",
       "      <th>4.0</th>\n",
       "      <th>5.0</th>\n",
       "      <th>6.0</th>\n",
       "      <th>7.0</th>\n",
       "      <th>8.0</th>\n",
       "      <th>9.0</th>\n",
       "      <th>10.0</th>\n",
       "      <th>11.0</th>\n",
       "      <th>12.0</th>\n",
       "      <th>13.0</th>\n",
       "      <th>14.0</th>\n",
       "      <th>15.0</th>\n",
       "      <th>16.0</th>\n",
       "      <th>17.0</th>\n",
       "      <th>18.0</th>\n",
       "      <th>19.0</th>\n",
       "      <th>20.0</th>\n",
       "    </tr>\n",
       "  </thead>\n",
       "  <tbody>\n",
       "    <tr>\n",
       "      <th>0</th>\n",
       "      <td>2021</td>\n",
       "      <td>103091</td>\n",
       "      <td>421729</td>\n",
       "      <td>793804</td>\n",
       "      <td>944895</td>\n",
       "      <td>438596</td>\n",
       "      <td>152370</td>\n",
       "      <td>55490</td>\n",
       "      <td>23677</td>\n",
       "      <td>8956</td>\n",
       "      <td>5438</td>\n",
       "      <td>1868</td>\n",
       "      <td>1222</td>\n",
       "      <td>516</td>\n",
       "      <td>286</td>\n",
       "      <td>239</td>\n",
       "      <td>100</td>\n",
       "      <td>48</td>\n",
       "      <td>45</td>\n",
       "      <td>35</td>\n",
       "      <td>235</td>\n",
       "    </tr>\n",
       "  </tbody>\n",
       "</table>\n",
       "</div>"
      ],
      "text/plain": [
       "FAMILIA  NU_ANO     1.0     2.0     3.0     4.0     5.0     6.0    7.0    8.0  \\\n",
       "0          2021  103091  421729  793804  944895  438596  152370  55490  23677   \n",
       "\n",
       "FAMILIA   9.0  10.0  11.0  12.0  13.0  14.0  15.0  16.0  17.0  18.0  19.0  \\\n",
       "0        8956  5438  1868  1222   516   286   239   100    48    45    35   \n",
       "\n",
       "FAMILIA  20.0  \n",
       "0         235  "
      ]
     },
     "execution_count": 6,
     "metadata": {},
     "output_type": "execute_result"
    }
   ],
   "source": [
    "geral202111.head()"
   ]
  },
  {
   "cell_type": "code",
   "execution_count": 14,
   "metadata": {},
   "outputs": [
    {
     "data": {
      "text/html": [
       "<div>\n",
       "<style scoped>\n",
       "    .dataframe tbody tr th:only-of-type {\n",
       "        vertical-align: middle;\n",
       "    }\n",
       "\n",
       "    .dataframe tbody tr th {\n",
       "        vertical-align: top;\n",
       "    }\n",
       "\n",
       "    .dataframe thead th {\n",
       "        text-align: right;\n",
       "    }\n",
       "</style>\n",
       "<table border=\"1\" class=\"dataframe\">\n",
       "  <thead>\n",
       "    <tr style=\"text-align: right;\">\n",
       "      <th>FAMILIA</th>\n",
       "      <th>NU_ANO</th>\n",
       "      <th>1</th>\n",
       "      <th>2</th>\n",
       "      <th>3</th>\n",
       "      <th>4</th>\n",
       "      <th>5</th>\n",
       "      <th>6</th>\n",
       "      <th>7</th>\n",
       "      <th>8</th>\n",
       "      <th>9</th>\n",
       "      <th>10</th>\n",
       "      <th>11</th>\n",
       "      <th>12</th>\n",
       "      <th>13</th>\n",
       "      <th>14</th>\n",
       "      <th>15</th>\n",
       "      <th>16</th>\n",
       "      <th>17</th>\n",
       "      <th>18</th>\n",
       "      <th>19</th>\n",
       "      <th>20</th>\n",
       "    </tr>\n",
       "  </thead>\n",
       "  <tbody>\n",
       "    <tr>\n",
       "      <th>0</th>\n",
       "      <td>2022</td>\n",
       "      <td>96771</td>\n",
       "      <td>418960</td>\n",
       "      <td>809809</td>\n",
       "      <td>942988</td>\n",
       "      <td>440606</td>\n",
       "      <td>153465</td>\n",
       "      <td>57210</td>\n",
       "      <td>24092</td>\n",
       "      <td>9185</td>\n",
       "      <td>5401</td>\n",
       "      <td>1854</td>\n",
       "      <td>1339</td>\n",
       "      <td>534</td>\n",
       "      <td>324</td>\n",
       "      <td>269</td>\n",
       "      <td>98</td>\n",
       "      <td>65</td>\n",
       "      <td>48</td>\n",
       "      <td>43</td>\n",
       "      <td>312</td>\n",
       "    </tr>\n",
       "  </tbody>\n",
       "</table>\n",
       "</div>"
      ],
      "text/plain": [
       "FAMILIA  NU_ANO      1       2       3       4       5       6      7      8  \\\n",
       "0          2022  96771  418960  809809  942988  440606  153465  57210  24092   \n",
       "\n",
       "FAMILIA     9    10    11    12   13   14   15  16  17  18  19   20  \n",
       "0        9185  5401  1854  1339  534  324  269  98  65  48  43  312  "
      ]
     },
     "execution_count": 14,
     "metadata": {},
     "output_type": "execute_result"
    }
   ],
   "source": [
    "geral202211.head()"
   ]
  },
  {
   "cell_type": "code",
   "execution_count": 15,
   "metadata": {},
   "outputs": [
    {
     "data": {
      "text/html": [
       "<div>\n",
       "<style scoped>\n",
       "    .dataframe tbody tr th:only-of-type {\n",
       "        vertical-align: middle;\n",
       "    }\n",
       "\n",
       "    .dataframe tbody tr th {\n",
       "        vertical-align: top;\n",
       "    }\n",
       "\n",
       "    .dataframe thead th {\n",
       "        text-align: right;\n",
       "    }\n",
       "</style>\n",
       "<table border=\"1\" class=\"dataframe\">\n",
       "  <thead>\n",
       "    <tr style=\"text-align: right;\">\n",
       "      <th>FAMILIA</th>\n",
       "      <th>NU_ANO</th>\n",
       "      <th>1.0</th>\n",
       "      <th>2.0</th>\n",
       "      <th>3.0</th>\n",
       "      <th>4.0</th>\n",
       "      <th>5.0</th>\n",
       "      <th>6.0</th>\n",
       "      <th>7.0</th>\n",
       "      <th>8.0</th>\n",
       "      <th>9.0</th>\n",
       "      <th>10.0</th>\n",
       "      <th>11.0</th>\n",
       "      <th>12.0</th>\n",
       "      <th>13.0</th>\n",
       "      <th>14.0</th>\n",
       "      <th>15.0</th>\n",
       "      <th>16.0</th>\n",
       "      <th>17.0</th>\n",
       "      <th>18.0</th>\n",
       "      <th>19.0</th>\n",
       "      <th>20.0</th>\n",
       "    </tr>\n",
       "  </thead>\n",
       "  <tbody>\n",
       "    <tr>\n",
       "      <th>0</th>\n",
       "      <td>2021</td>\n",
       "      <td>103091</td>\n",
       "      <td>421729</td>\n",
       "      <td>793804</td>\n",
       "      <td>944895</td>\n",
       "      <td>438596</td>\n",
       "      <td>152370</td>\n",
       "      <td>55490</td>\n",
       "      <td>23677</td>\n",
       "      <td>8956</td>\n",
       "      <td>5438</td>\n",
       "      <td>1868</td>\n",
       "      <td>1222</td>\n",
       "      <td>516</td>\n",
       "      <td>286</td>\n",
       "      <td>239</td>\n",
       "      <td>100</td>\n",
       "      <td>48</td>\n",
       "      <td>45</td>\n",
       "      <td>35</td>\n",
       "      <td>235</td>\n",
       "    </tr>\n",
       "    <tr>\n",
       "      <th>0</th>\n",
       "      <td>2022</td>\n",
       "      <td>96771</td>\n",
       "      <td>418960</td>\n",
       "      <td>809809</td>\n",
       "      <td>942988</td>\n",
       "      <td>440606</td>\n",
       "      <td>153465</td>\n",
       "      <td>57210</td>\n",
       "      <td>24092</td>\n",
       "      <td>9185</td>\n",
       "      <td>5401</td>\n",
       "      <td>1854</td>\n",
       "      <td>1339</td>\n",
       "      <td>534</td>\n",
       "      <td>324</td>\n",
       "      <td>269</td>\n",
       "      <td>98</td>\n",
       "      <td>65</td>\n",
       "      <td>48</td>\n",
       "      <td>43</td>\n",
       "      <td>312</td>\n",
       "    </tr>\n",
       "  </tbody>\n",
       "</table>\n",
       "</div>"
      ],
      "text/plain": [
       "FAMILIA  NU_ANO     1.0     2.0     3.0     4.0     5.0     6.0    7.0    8.0  \\\n",
       "0          2021  103091  421729  793804  944895  438596  152370  55490  23677   \n",
       "0          2022   96771  418960  809809  942988  440606  153465  57210  24092   \n",
       "\n",
       "FAMILIA   9.0  10.0  11.0  12.0  13.0  14.0  15.0  16.0  17.0  18.0  19.0  \\\n",
       "0        8956  5438  1868  1222   516   286   239   100    48    45    35   \n",
       "0        9185  5401  1854  1339   534   324   269    98    65    48    43   \n",
       "\n",
       "FAMILIA  20.0  \n",
       "0         235  \n",
       "0         312  "
      ]
     },
     "execution_count": 15,
     "metadata": {},
     "output_type": "execute_result"
    }
   ],
   "source": [
    "geral11 = pd.concat([geral202111,geral202211])\n",
    "geral11.head()"
   ]
  },
  {
   "cell_type": "markdown",
   "metadata": {},
   "source": [
    "#### Salvar"
   ]
  },
  {
   "cell_type": "code",
   "execution_count": 16,
   "metadata": {},
   "outputs": [],
   "source": [
    "geral11.to_excel('C:\\\\Users\\\\Bruno\\\\OneDrive\\\\Área de Trabalho\\\\Microdados\\\\Datas\\\\Material apresentação\\\\Inscritos_Familia_ano.xlsx', index=False)"
   ]
  },
  {
   "cell_type": "markdown",
   "metadata": {},
   "source": [
    "#### Absoluto|Proporção - Tamanho casa."
   ]
  },
  {
   "cell_type": "code",
   "execution_count": 27,
   "metadata": {},
   "outputs": [
    {
     "data": {
      "text/html": [
       "<div>\n",
       "<style scoped>\n",
       "    .dataframe tbody tr th:only-of-type {\n",
       "        vertical-align: middle;\n",
       "    }\n",
       "\n",
       "    .dataframe tbody tr th {\n",
       "        vertical-align: top;\n",
       "    }\n",
       "\n",
       "    .dataframe thead th {\n",
       "        text-align: right;\n",
       "    }\n",
       "</style>\n",
       "<table border=\"1\" class=\"dataframe\">\n",
       "  <thead>\n",
       "    <tr style=\"text-align: right;\">\n",
       "      <th></th>\n",
       "      <th>NU_ANO</th>\n",
       "      <th>1.0</th>\n",
       "      <th>2.0</th>\n",
       "      <th>3.0</th>\n",
       "      <th>4.0</th>\n",
       "      <th>5.0</th>\n",
       "      <th>6.0</th>\n",
       "      <th>7.0</th>\n",
       "      <th>8.0</th>\n",
       "      <th>9.0</th>\n",
       "      <th>10.0</th>\n",
       "      <th>11.0</th>\n",
       "      <th>12.0</th>\n",
       "      <th>13.0</th>\n",
       "      <th>14.0</th>\n",
       "      <th>15.0</th>\n",
       "      <th>16.0</th>\n",
       "      <th>17.0</th>\n",
       "      <th>18.0</th>\n",
       "      <th>19.0</th>\n",
       "      <th>20.0</th>\n",
       "      <th>PROP_1.0</th>\n",
       "      <th>PROP_2.0</th>\n",
       "      <th>PROP_3.0</th>\n",
       "      <th>PROP_4.0</th>\n",
       "      <th>PROP_5.0</th>\n",
       "      <th>PROP_6.0</th>\n",
       "      <th>PROP_7.0</th>\n",
       "      <th>PROP_8.0</th>\n",
       "      <th>PROP_9.0</th>\n",
       "      <th>PROP_10.0</th>\n",
       "      <th>PROP_11.0</th>\n",
       "      <th>PROP_12.0</th>\n",
       "      <th>PROP_13.0</th>\n",
       "      <th>PROP_14.0</th>\n",
       "      <th>PROP_15.0</th>\n",
       "      <th>PROP_16.0</th>\n",
       "      <th>PROP_17.0</th>\n",
       "      <th>PROP_18.0</th>\n",
       "      <th>PROP_19.0</th>\n",
       "      <th>PROP_20.0</th>\n",
       "      <th>PROP_PROP_1.0</th>\n",
       "      <th>PROP_PROP_2.0</th>\n",
       "      <th>PROP_PROP_3.0</th>\n",
       "      <th>PROP_PROP_4.0</th>\n",
       "      <th>PROP_PROP_5.0</th>\n",
       "      <th>PROP_PROP_6.0</th>\n",
       "      <th>PROP_PROP_7.0</th>\n",
       "      <th>PROP_PROP_8.0</th>\n",
       "      <th>PROP_PROP_9.0</th>\n",
       "      <th>PROP_PROP_10.0</th>\n",
       "      <th>PROP_PROP_11.0</th>\n",
       "      <th>PROP_PROP_12.0</th>\n",
       "      <th>PROP_PROP_13.0</th>\n",
       "      <th>PROP_PROP_14.0</th>\n",
       "      <th>PROP_PROP_15.0</th>\n",
       "      <th>PROP_PROP_16.0</th>\n",
       "      <th>PROP_PROP_17.0</th>\n",
       "      <th>PROP_PROP_18.0</th>\n",
       "      <th>PROP_PROP_19.0</th>\n",
       "      <th>PROP_PROP_20.0</th>\n",
       "    </tr>\n",
       "  </thead>\n",
       "  <tbody>\n",
       "    <tr>\n",
       "      <th>0</th>\n",
       "      <td>2021</td>\n",
       "      <td>103091</td>\n",
       "      <td>421729</td>\n",
       "      <td>793804</td>\n",
       "      <td>944895</td>\n",
       "      <td>438596</td>\n",
       "      <td>152370</td>\n",
       "      <td>55490</td>\n",
       "      <td>23677</td>\n",
       "      <td>8956</td>\n",
       "      <td>5438</td>\n",
       "      <td>1868</td>\n",
       "      <td>1222</td>\n",
       "      <td>516</td>\n",
       "      <td>286</td>\n",
       "      <td>239</td>\n",
       "      <td>100</td>\n",
       "      <td>48</td>\n",
       "      <td>45</td>\n",
       "      <td>35</td>\n",
       "      <td>235</td>\n",
       "      <td>3.491</td>\n",
       "      <td>14.283</td>\n",
       "      <td>26.884</td>\n",
       "      <td>32.001</td>\n",
       "      <td>14.854</td>\n",
       "      <td>5.160</td>\n",
       "      <td>1.879</td>\n",
       "      <td>0.802</td>\n",
       "      <td>0.303</td>\n",
       "      <td>0.184</td>\n",
       "      <td>0.063</td>\n",
       "      <td>0.041</td>\n",
       "      <td>0.017</td>\n",
       "      <td>0.010</td>\n",
       "      <td>0.008</td>\n",
       "      <td>0.003</td>\n",
       "      <td>0.002</td>\n",
       "      <td>0.002</td>\n",
       "      <td>0.001</td>\n",
       "      <td>0.008</td>\n",
       "      <td>0.0</td>\n",
       "      <td>0.0</td>\n",
       "      <td>0.001</td>\n",
       "      <td>0.001</td>\n",
       "      <td>0.001</td>\n",
       "      <td>0.0</td>\n",
       "      <td>0.0</td>\n",
       "      <td>0.0</td>\n",
       "      <td>0.0</td>\n",
       "      <td>0.0</td>\n",
       "      <td>0.0</td>\n",
       "      <td>0.0</td>\n",
       "      <td>0.0</td>\n",
       "      <td>0.0</td>\n",
       "      <td>0.0</td>\n",
       "      <td>0.0</td>\n",
       "      <td>0.0</td>\n",
       "      <td>0.0</td>\n",
       "      <td>0.0</td>\n",
       "      <td>0.0</td>\n",
       "    </tr>\n",
       "    <tr>\n",
       "      <th>0</th>\n",
       "      <td>2022</td>\n",
       "      <td>96771</td>\n",
       "      <td>418960</td>\n",
       "      <td>809809</td>\n",
       "      <td>942988</td>\n",
       "      <td>440606</td>\n",
       "      <td>153465</td>\n",
       "      <td>57210</td>\n",
       "      <td>24092</td>\n",
       "      <td>9185</td>\n",
       "      <td>5401</td>\n",
       "      <td>1854</td>\n",
       "      <td>1339</td>\n",
       "      <td>534</td>\n",
       "      <td>324</td>\n",
       "      <td>269</td>\n",
       "      <td>98</td>\n",
       "      <td>65</td>\n",
       "      <td>48</td>\n",
       "      <td>43</td>\n",
       "      <td>312</td>\n",
       "      <td>3.265</td>\n",
       "      <td>14.137</td>\n",
       "      <td>27.326</td>\n",
       "      <td>31.820</td>\n",
       "      <td>14.868</td>\n",
       "      <td>5.179</td>\n",
       "      <td>1.931</td>\n",
       "      <td>0.813</td>\n",
       "      <td>0.310</td>\n",
       "      <td>0.182</td>\n",
       "      <td>0.063</td>\n",
       "      <td>0.045</td>\n",
       "      <td>0.018</td>\n",
       "      <td>0.011</td>\n",
       "      <td>0.009</td>\n",
       "      <td>0.003</td>\n",
       "      <td>0.002</td>\n",
       "      <td>0.002</td>\n",
       "      <td>0.001</td>\n",
       "      <td>0.011</td>\n",
       "      <td>0.0</td>\n",
       "      <td>0.0</td>\n",
       "      <td>0.001</td>\n",
       "      <td>0.001</td>\n",
       "      <td>0.001</td>\n",
       "      <td>0.0</td>\n",
       "      <td>0.0</td>\n",
       "      <td>0.0</td>\n",
       "      <td>0.0</td>\n",
       "      <td>0.0</td>\n",
       "      <td>0.0</td>\n",
       "      <td>0.0</td>\n",
       "      <td>0.0</td>\n",
       "      <td>0.0</td>\n",
       "      <td>0.0</td>\n",
       "      <td>0.0</td>\n",
       "      <td>0.0</td>\n",
       "      <td>0.0</td>\n",
       "      <td>0.0</td>\n",
       "      <td>0.0</td>\n",
       "    </tr>\n",
       "  </tbody>\n",
       "</table>\n",
       "</div>"
      ],
      "text/plain": [
       "   NU_ANO     1.0     2.0     3.0     4.0     5.0     6.0    7.0    8.0   9.0  \\\n",
       "0    2021  103091  421729  793804  944895  438596  152370  55490  23677  8956   \n",
       "0    2022   96771  418960  809809  942988  440606  153465  57210  24092  9185   \n",
       "\n",
       "   10.0  11.0  12.0  13.0  14.0  15.0  16.0  17.0  18.0  19.0  20.0  PROP_1.0  \\\n",
       "0  5438  1868  1222   516   286   239   100    48    45    35   235     3.491   \n",
       "0  5401  1854  1339   534   324   269    98    65    48    43   312     3.265   \n",
       "\n",
       "   PROP_2.0  PROP_3.0  PROP_4.0  PROP_5.0  PROP_6.0  PROP_7.0  PROP_8.0  \\\n",
       "0    14.283    26.884    32.001    14.854     5.160     1.879     0.802   \n",
       "0    14.137    27.326    31.820    14.868     5.179     1.931     0.813   \n",
       "\n",
       "   PROP_9.0  PROP_10.0  PROP_11.0  PROP_12.0  PROP_13.0  PROP_14.0  PROP_15.0  \\\n",
       "0     0.303      0.184      0.063      0.041      0.017      0.010      0.008   \n",
       "0     0.310      0.182      0.063      0.045      0.018      0.011      0.009   \n",
       "\n",
       "   PROP_16.0  PROP_17.0  PROP_18.0  PROP_19.0  PROP_20.0  PROP_PROP_1.0  \\\n",
       "0      0.003      0.002      0.002      0.001      0.008            0.0   \n",
       "0      0.003      0.002      0.002      0.001      0.011            0.0   \n",
       "\n",
       "   PROP_PROP_2.0  PROP_PROP_3.0  PROP_PROP_4.0  PROP_PROP_5.0  PROP_PROP_6.0  \\\n",
       "0            0.0          0.001          0.001          0.001            0.0   \n",
       "0            0.0          0.001          0.001          0.001            0.0   \n",
       "\n",
       "   PROP_PROP_7.0  PROP_PROP_8.0  PROP_PROP_9.0  PROP_PROP_10.0  \\\n",
       "0            0.0            0.0            0.0             0.0   \n",
       "0            0.0            0.0            0.0             0.0   \n",
       "\n",
       "   PROP_PROP_11.0  PROP_PROP_12.0  PROP_PROP_13.0  PROP_PROP_14.0  \\\n",
       "0             0.0             0.0             0.0             0.0   \n",
       "0             0.0             0.0             0.0             0.0   \n",
       "\n",
       "   PROP_PROP_15.0  PROP_PROP_16.0  PROP_PROP_17.0  PROP_PROP_18.0  \\\n",
       "0             0.0             0.0             0.0             0.0   \n",
       "0             0.0             0.0             0.0             0.0   \n",
       "\n",
       "   PROP_PROP_19.0  PROP_PROP_20.0  \n",
       "0             0.0             0.0  \n",
       "0             0.0             0.0  "
      ]
     },
     "execution_count": 27,
     "metadata": {},
     "output_type": "execute_result"
    }
   ],
   "source": [
    "geral11_pct = geral11.drop(columns=['NU_ANO']).copy()\n",
    "\n",
    "# Soma das colunas para cada faixa etária\n",
    "soma_por_faixa_etaria = geral11_pct.sum(axis=1)\n",
    "\n",
    "# Calcular proporção para cada coluna em relação ao somatório total\n",
    "for coluna in geral11_pct.columns:\n",
    "    coluna_percentual = 'PROP_' + str(coluna)  \n",
    "    geral11_pct[coluna_percentual] = (geral11_pct[coluna] / soma_por_faixa_etaria * 100).round(3) \n",
    "\n",
    "geral11_pct = pd.concat([geral11['NU_ANO'], geral11_pct], axis=1)\n",
    "\n",
    "geral11_pct.head()"
   ]
  },
  {
   "cell_type": "markdown",
   "metadata": {},
   "source": [
    "#### Salvar"
   ]
  },
  {
   "cell_type": "code",
   "execution_count": 28,
   "metadata": {},
   "outputs": [],
   "source": [
    "geral11_pct.to_excel('C:\\\\Users\\\\Bruno\\\\OneDrive\\\\Área de Trabalho\\\\Microdados\\\\Datas\\\\Material apresentação\\\\Absoluto_proporcional_Familia_ano.xlsx', index=False)"
   ]
  },
  {
   "cell_type": "markdown",
   "metadata": {},
   "source": [
    "#### Média por ano do tamanho da Família|Casa."
   ]
  },
  {
   "cell_type": "code",
   "execution_count": 13,
   "metadata": {},
   "outputs": [],
   "source": [
    "geral11_ano = df_enem.groupby(['NU_ANO', 'FAMILIA'])[['MEDIA_OBJ', 'MEDIA_GLOBAL']].mean().reset_index().round(2)\n",
    "geral11_ano = geral11_ano.pivot(index='NU_ANO', columns='FAMILIA')\n",
    "geral11_ano = geral11_ano.reorder_levels([1 , 0], axis=1).sort_index(axis=1, level=0)\n",
    "nome_df = f'geral{ano_enem}11_media_ano'\n",
    "globals()[nome_df] = geral11_ano"
   ]
  },
  {
   "cell_type": "code",
   "execution_count": 9,
   "metadata": {},
   "outputs": [
    {
     "data": {
      "text/html": [
       "<div>\n",
       "<style scoped>\n",
       "    .dataframe tbody tr th:only-of-type {\n",
       "        vertical-align: middle;\n",
       "    }\n",
       "\n",
       "    .dataframe tbody tr th {\n",
       "        vertical-align: top;\n",
       "    }\n",
       "\n",
       "    .dataframe thead tr th {\n",
       "        text-align: left;\n",
       "    }\n",
       "\n",
       "    .dataframe thead tr:last-of-type th {\n",
       "        text-align: right;\n",
       "    }\n",
       "</style>\n",
       "<table border=\"1\" class=\"dataframe\">\n",
       "  <thead>\n",
       "    <tr>\n",
       "      <th>FAMILIA</th>\n",
       "      <th colspan=\"2\" halign=\"left\">1.0</th>\n",
       "      <th colspan=\"2\" halign=\"left\">2.0</th>\n",
       "      <th colspan=\"2\" halign=\"left\">3.0</th>\n",
       "      <th colspan=\"2\" halign=\"left\">4.0</th>\n",
       "      <th colspan=\"2\" halign=\"left\">5.0</th>\n",
       "      <th colspan=\"2\" halign=\"left\">6.0</th>\n",
       "      <th colspan=\"2\" halign=\"left\">7.0</th>\n",
       "      <th colspan=\"2\" halign=\"left\">8.0</th>\n",
       "      <th colspan=\"2\" halign=\"left\">9.0</th>\n",
       "      <th colspan=\"2\" halign=\"left\">10.0</th>\n",
       "      <th colspan=\"2\" halign=\"left\">11.0</th>\n",
       "      <th colspan=\"2\" halign=\"left\">12.0</th>\n",
       "      <th colspan=\"2\" halign=\"left\">13.0</th>\n",
       "      <th colspan=\"2\" halign=\"left\">14.0</th>\n",
       "      <th colspan=\"2\" halign=\"left\">15.0</th>\n",
       "      <th colspan=\"2\" halign=\"left\">16.0</th>\n",
       "      <th colspan=\"2\" halign=\"left\">17.0</th>\n",
       "      <th colspan=\"2\" halign=\"left\">18.0</th>\n",
       "      <th colspan=\"2\" halign=\"left\">19.0</th>\n",
       "      <th colspan=\"2\" halign=\"left\">20.0</th>\n",
       "    </tr>\n",
       "    <tr>\n",
       "      <th></th>\n",
       "      <th>MEDIA_GLOBAL</th>\n",
       "      <th>MEDIA_OBJ</th>\n",
       "      <th>MEDIA_GLOBAL</th>\n",
       "      <th>MEDIA_OBJ</th>\n",
       "      <th>MEDIA_GLOBAL</th>\n",
       "      <th>MEDIA_OBJ</th>\n",
       "      <th>MEDIA_GLOBAL</th>\n",
       "      <th>MEDIA_OBJ</th>\n",
       "      <th>MEDIA_GLOBAL</th>\n",
       "      <th>MEDIA_OBJ</th>\n",
       "      <th>MEDIA_GLOBAL</th>\n",
       "      <th>MEDIA_OBJ</th>\n",
       "      <th>MEDIA_GLOBAL</th>\n",
       "      <th>MEDIA_OBJ</th>\n",
       "      <th>MEDIA_GLOBAL</th>\n",
       "      <th>MEDIA_OBJ</th>\n",
       "      <th>MEDIA_GLOBAL</th>\n",
       "      <th>MEDIA_OBJ</th>\n",
       "      <th>MEDIA_GLOBAL</th>\n",
       "      <th>MEDIA_OBJ</th>\n",
       "      <th>MEDIA_GLOBAL</th>\n",
       "      <th>MEDIA_OBJ</th>\n",
       "      <th>MEDIA_GLOBAL</th>\n",
       "      <th>MEDIA_OBJ</th>\n",
       "      <th>MEDIA_GLOBAL</th>\n",
       "      <th>MEDIA_OBJ</th>\n",
       "      <th>MEDIA_GLOBAL</th>\n",
       "      <th>MEDIA_OBJ</th>\n",
       "      <th>MEDIA_GLOBAL</th>\n",
       "      <th>MEDIA_OBJ</th>\n",
       "      <th>MEDIA_GLOBAL</th>\n",
       "      <th>MEDIA_OBJ</th>\n",
       "      <th>MEDIA_GLOBAL</th>\n",
       "      <th>MEDIA_OBJ</th>\n",
       "      <th>MEDIA_GLOBAL</th>\n",
       "      <th>MEDIA_OBJ</th>\n",
       "      <th>MEDIA_GLOBAL</th>\n",
       "      <th>MEDIA_OBJ</th>\n",
       "      <th>MEDIA_GLOBAL</th>\n",
       "      <th>MEDIA_OBJ</th>\n",
       "    </tr>\n",
       "    <tr>\n",
       "      <th>NU_ANO</th>\n",
       "      <th></th>\n",
       "      <th></th>\n",
       "      <th></th>\n",
       "      <th></th>\n",
       "      <th></th>\n",
       "      <th></th>\n",
       "      <th></th>\n",
       "      <th></th>\n",
       "      <th></th>\n",
       "      <th></th>\n",
       "      <th></th>\n",
       "      <th></th>\n",
       "      <th></th>\n",
       "      <th></th>\n",
       "      <th></th>\n",
       "      <th></th>\n",
       "      <th></th>\n",
       "      <th></th>\n",
       "      <th></th>\n",
       "      <th></th>\n",
       "      <th></th>\n",
       "      <th></th>\n",
       "      <th></th>\n",
       "      <th></th>\n",
       "      <th></th>\n",
       "      <th></th>\n",
       "      <th></th>\n",
       "      <th></th>\n",
       "      <th></th>\n",
       "      <th></th>\n",
       "      <th></th>\n",
       "      <th></th>\n",
       "      <th></th>\n",
       "      <th></th>\n",
       "      <th></th>\n",
       "      <th></th>\n",
       "      <th></th>\n",
       "      <th></th>\n",
       "      <th></th>\n",
       "      <th></th>\n",
       "    </tr>\n",
       "  </thead>\n",
       "  <tbody>\n",
       "    <tr>\n",
       "      <th>2021</th>\n",
       "      <td>531.44</td>\n",
       "      <td>519.62</td>\n",
       "      <td>530.88</td>\n",
       "      <td>512.82</td>\n",
       "      <td>536.62</td>\n",
       "      <td>515.59</td>\n",
       "      <td>538.53</td>\n",
       "      <td>516.29</td>\n",
       "      <td>524.26</td>\n",
       "      <td>503.59</td>\n",
       "      <td>509.04</td>\n",
       "      <td>490.53</td>\n",
       "      <td>497.49</td>\n",
       "      <td>480.93</td>\n",
       "      <td>489.26</td>\n",
       "      <td>473.74</td>\n",
       "      <td>483.14</td>\n",
       "      <td>469.52</td>\n",
       "      <td>475.9</td>\n",
       "      <td>462.55</td>\n",
       "      <td>480.14</td>\n",
       "      <td>465.85</td>\n",
       "      <td>473.61</td>\n",
       "      <td>459.86</td>\n",
       "      <td>466.8</td>\n",
       "      <td>457.83</td>\n",
       "      <td>479.9</td>\n",
       "      <td>475.04</td>\n",
       "      <td>471.62</td>\n",
       "      <td>462.79</td>\n",
       "      <td>483.07</td>\n",
       "      <td>473.87</td>\n",
       "      <td>463.22</td>\n",
       "      <td>457.1</td>\n",
       "      <td>491.43</td>\n",
       "      <td>482.36</td>\n",
       "      <td>483.66</td>\n",
       "      <td>469.1</td>\n",
       "      <td>492.31</td>\n",
       "      <td>482.12</td>\n",
       "    </tr>\n",
       "  </tbody>\n",
       "</table>\n",
       "</div>"
      ],
      "text/plain": [
       "FAMILIA         1.0                    2.0                    3.0             \\\n",
       "        MEDIA_GLOBAL MEDIA_OBJ MEDIA_GLOBAL MEDIA_OBJ MEDIA_GLOBAL MEDIA_OBJ   \n",
       "NU_ANO                                                                         \n",
       "2021          531.44    519.62       530.88    512.82       536.62    515.59   \n",
       "\n",
       "FAMILIA         4.0                    5.0                    6.0             \\\n",
       "        MEDIA_GLOBAL MEDIA_OBJ MEDIA_GLOBAL MEDIA_OBJ MEDIA_GLOBAL MEDIA_OBJ   \n",
       "NU_ANO                                                                         \n",
       "2021          538.53    516.29       524.26    503.59       509.04    490.53   \n",
       "\n",
       "FAMILIA         7.0                    8.0                    9.0             \\\n",
       "        MEDIA_GLOBAL MEDIA_OBJ MEDIA_GLOBAL MEDIA_OBJ MEDIA_GLOBAL MEDIA_OBJ   \n",
       "NU_ANO                                                                         \n",
       "2021          497.49    480.93       489.26    473.74       483.14    469.52   \n",
       "\n",
       "FAMILIA         10.0                   11.0                   12.0            \\\n",
       "        MEDIA_GLOBAL MEDIA_OBJ MEDIA_GLOBAL MEDIA_OBJ MEDIA_GLOBAL MEDIA_OBJ   \n",
       "NU_ANO                                                                         \n",
       "2021           475.9    462.55       480.14    465.85       473.61    459.86   \n",
       "\n",
       "FAMILIA         13.0                   14.0                   15.0            \\\n",
       "        MEDIA_GLOBAL MEDIA_OBJ MEDIA_GLOBAL MEDIA_OBJ MEDIA_GLOBAL MEDIA_OBJ   \n",
       "NU_ANO                                                                         \n",
       "2021           466.8    457.83        479.9    475.04       471.62    462.79   \n",
       "\n",
       "FAMILIA         16.0                   17.0                   18.0            \\\n",
       "        MEDIA_GLOBAL MEDIA_OBJ MEDIA_GLOBAL MEDIA_OBJ MEDIA_GLOBAL MEDIA_OBJ   \n",
       "NU_ANO                                                                         \n",
       "2021          483.07    473.87       463.22     457.1       491.43    482.36   \n",
       "\n",
       "FAMILIA         19.0                   20.0            \n",
       "        MEDIA_GLOBAL MEDIA_OBJ MEDIA_GLOBAL MEDIA_OBJ  \n",
       "NU_ANO                                                 \n",
       "2021          483.66     469.1       492.31    482.12  "
      ]
     },
     "execution_count": 9,
     "metadata": {},
     "output_type": "execute_result"
    }
   ],
   "source": [
    "geral202111_media_ano.head()"
   ]
  },
  {
   "cell_type": "code",
   "execution_count": 14,
   "metadata": {},
   "outputs": [
    {
     "data": {
      "text/html": [
       "<div>\n",
       "<style scoped>\n",
       "    .dataframe tbody tr th:only-of-type {\n",
       "        vertical-align: middle;\n",
       "    }\n",
       "\n",
       "    .dataframe tbody tr th {\n",
       "        vertical-align: top;\n",
       "    }\n",
       "\n",
       "    .dataframe thead tr th {\n",
       "        text-align: left;\n",
       "    }\n",
       "\n",
       "    .dataframe thead tr:last-of-type th {\n",
       "        text-align: right;\n",
       "    }\n",
       "</style>\n",
       "<table border=\"1\" class=\"dataframe\">\n",
       "  <thead>\n",
       "    <tr>\n",
       "      <th>FAMILIA</th>\n",
       "      <th colspan=\"2\" halign=\"left\">1</th>\n",
       "      <th colspan=\"2\" halign=\"left\">2</th>\n",
       "      <th colspan=\"2\" halign=\"left\">3</th>\n",
       "      <th colspan=\"2\" halign=\"left\">4</th>\n",
       "      <th colspan=\"2\" halign=\"left\">5</th>\n",
       "      <th colspan=\"2\" halign=\"left\">6</th>\n",
       "      <th colspan=\"2\" halign=\"left\">7</th>\n",
       "      <th colspan=\"2\" halign=\"left\">8</th>\n",
       "      <th colspan=\"2\" halign=\"left\">9</th>\n",
       "      <th colspan=\"2\" halign=\"left\">10</th>\n",
       "      <th colspan=\"2\" halign=\"left\">11</th>\n",
       "      <th colspan=\"2\" halign=\"left\">12</th>\n",
       "      <th colspan=\"2\" halign=\"left\">13</th>\n",
       "      <th colspan=\"2\" halign=\"left\">14</th>\n",
       "      <th colspan=\"2\" halign=\"left\">15</th>\n",
       "      <th colspan=\"2\" halign=\"left\">16</th>\n",
       "      <th colspan=\"2\" halign=\"left\">17</th>\n",
       "      <th colspan=\"2\" halign=\"left\">18</th>\n",
       "      <th colspan=\"2\" halign=\"left\">19</th>\n",
       "      <th colspan=\"2\" halign=\"left\">20</th>\n",
       "    </tr>\n",
       "    <tr>\n",
       "      <th></th>\n",
       "      <th>MEDIA_GLOBAL</th>\n",
       "      <th>MEDIA_OBJ</th>\n",
       "      <th>MEDIA_GLOBAL</th>\n",
       "      <th>MEDIA_OBJ</th>\n",
       "      <th>MEDIA_GLOBAL</th>\n",
       "      <th>MEDIA_OBJ</th>\n",
       "      <th>MEDIA_GLOBAL</th>\n",
       "      <th>MEDIA_OBJ</th>\n",
       "      <th>MEDIA_GLOBAL</th>\n",
       "      <th>MEDIA_OBJ</th>\n",
       "      <th>MEDIA_GLOBAL</th>\n",
       "      <th>MEDIA_OBJ</th>\n",
       "      <th>MEDIA_GLOBAL</th>\n",
       "      <th>MEDIA_OBJ</th>\n",
       "      <th>MEDIA_GLOBAL</th>\n",
       "      <th>MEDIA_OBJ</th>\n",
       "      <th>MEDIA_GLOBAL</th>\n",
       "      <th>MEDIA_OBJ</th>\n",
       "      <th>MEDIA_GLOBAL</th>\n",
       "      <th>MEDIA_OBJ</th>\n",
       "      <th>MEDIA_GLOBAL</th>\n",
       "      <th>MEDIA_OBJ</th>\n",
       "      <th>MEDIA_GLOBAL</th>\n",
       "      <th>MEDIA_OBJ</th>\n",
       "      <th>MEDIA_GLOBAL</th>\n",
       "      <th>MEDIA_OBJ</th>\n",
       "      <th>MEDIA_GLOBAL</th>\n",
       "      <th>MEDIA_OBJ</th>\n",
       "      <th>MEDIA_GLOBAL</th>\n",
       "      <th>MEDIA_OBJ</th>\n",
       "      <th>MEDIA_GLOBAL</th>\n",
       "      <th>MEDIA_OBJ</th>\n",
       "      <th>MEDIA_GLOBAL</th>\n",
       "      <th>MEDIA_OBJ</th>\n",
       "      <th>MEDIA_GLOBAL</th>\n",
       "      <th>MEDIA_OBJ</th>\n",
       "      <th>MEDIA_GLOBAL</th>\n",
       "      <th>MEDIA_OBJ</th>\n",
       "      <th>MEDIA_GLOBAL</th>\n",
       "      <th>MEDIA_OBJ</th>\n",
       "    </tr>\n",
       "    <tr>\n",
       "      <th>NU_ANO</th>\n",
       "      <th></th>\n",
       "      <th></th>\n",
       "      <th></th>\n",
       "      <th></th>\n",
       "      <th></th>\n",
       "      <th></th>\n",
       "      <th></th>\n",
       "      <th></th>\n",
       "      <th></th>\n",
       "      <th></th>\n",
       "      <th></th>\n",
       "      <th></th>\n",
       "      <th></th>\n",
       "      <th></th>\n",
       "      <th></th>\n",
       "      <th></th>\n",
       "      <th></th>\n",
       "      <th></th>\n",
       "      <th></th>\n",
       "      <th></th>\n",
       "      <th></th>\n",
       "      <th></th>\n",
       "      <th></th>\n",
       "      <th></th>\n",
       "      <th></th>\n",
       "      <th></th>\n",
       "      <th></th>\n",
       "      <th></th>\n",
       "      <th></th>\n",
       "      <th></th>\n",
       "      <th></th>\n",
       "      <th></th>\n",
       "      <th></th>\n",
       "      <th></th>\n",
       "      <th></th>\n",
       "      <th></th>\n",
       "      <th></th>\n",
       "      <th></th>\n",
       "      <th></th>\n",
       "      <th></th>\n",
       "    </tr>\n",
       "  </thead>\n",
       "  <tbody>\n",
       "    <tr>\n",
       "      <th>2022</th>\n",
       "      <td>538.81</td>\n",
       "      <td>528.35</td>\n",
       "      <td>538.11</td>\n",
       "      <td>521.37</td>\n",
       "      <td>544.43</td>\n",
       "      <td>524.43</td>\n",
       "      <td>545.16</td>\n",
       "      <td>524.13</td>\n",
       "      <td>529.75</td>\n",
       "      <td>511.49</td>\n",
       "      <td>514.55</td>\n",
       "      <td>499.38</td>\n",
       "      <td>503.27</td>\n",
       "      <td>490.23</td>\n",
       "      <td>494.67</td>\n",
       "      <td>483.2</td>\n",
       "      <td>488.85</td>\n",
       "      <td>479.09</td>\n",
       "      <td>482.58</td>\n",
       "      <td>474.67</td>\n",
       "      <td>484.51</td>\n",
       "      <td>477.19</td>\n",
       "      <td>478.11</td>\n",
       "      <td>471.45</td>\n",
       "      <td>476.54</td>\n",
       "      <td>469.1</td>\n",
       "      <td>481.14</td>\n",
       "      <td>473.13</td>\n",
       "      <td>488.75</td>\n",
       "      <td>482.9</td>\n",
       "      <td>474.05</td>\n",
       "      <td>462.87</td>\n",
       "      <td>512.89</td>\n",
       "      <td>492.87</td>\n",
       "      <td>447.32</td>\n",
       "      <td>455.27</td>\n",
       "      <td>470.95</td>\n",
       "      <td>457.46</td>\n",
       "      <td>512.54</td>\n",
       "      <td>506.15</td>\n",
       "    </tr>\n",
       "  </tbody>\n",
       "</table>\n",
       "</div>"
      ],
      "text/plain": [
       "FAMILIA           1                      2                      3             \\\n",
       "        MEDIA_GLOBAL MEDIA_OBJ MEDIA_GLOBAL MEDIA_OBJ MEDIA_GLOBAL MEDIA_OBJ   \n",
       "NU_ANO                                                                         \n",
       "2022          538.81    528.35       538.11    521.37       544.43    524.43   \n",
       "\n",
       "FAMILIA           4                      5                      6             \\\n",
       "        MEDIA_GLOBAL MEDIA_OBJ MEDIA_GLOBAL MEDIA_OBJ MEDIA_GLOBAL MEDIA_OBJ   \n",
       "NU_ANO                                                                         \n",
       "2022          545.16    524.13       529.75    511.49       514.55    499.38   \n",
       "\n",
       "FAMILIA           7                      8                      9             \\\n",
       "        MEDIA_GLOBAL MEDIA_OBJ MEDIA_GLOBAL MEDIA_OBJ MEDIA_GLOBAL MEDIA_OBJ   \n",
       "NU_ANO                                                                         \n",
       "2022          503.27    490.23       494.67     483.2       488.85    479.09   \n",
       "\n",
       "FAMILIA           10                     11                     12            \\\n",
       "        MEDIA_GLOBAL MEDIA_OBJ MEDIA_GLOBAL MEDIA_OBJ MEDIA_GLOBAL MEDIA_OBJ   \n",
       "NU_ANO                                                                         \n",
       "2022          482.58    474.67       484.51    477.19       478.11    471.45   \n",
       "\n",
       "FAMILIA           13                     14                     15            \\\n",
       "        MEDIA_GLOBAL MEDIA_OBJ MEDIA_GLOBAL MEDIA_OBJ MEDIA_GLOBAL MEDIA_OBJ   \n",
       "NU_ANO                                                                         \n",
       "2022          476.54     469.1       481.14    473.13       488.75     482.9   \n",
       "\n",
       "FAMILIA           16                     17                     18            \\\n",
       "        MEDIA_GLOBAL MEDIA_OBJ MEDIA_GLOBAL MEDIA_OBJ MEDIA_GLOBAL MEDIA_OBJ   \n",
       "NU_ANO                                                                         \n",
       "2022          474.05    462.87       512.89    492.87       447.32    455.27   \n",
       "\n",
       "FAMILIA           19                     20            \n",
       "        MEDIA_GLOBAL MEDIA_OBJ MEDIA_GLOBAL MEDIA_OBJ  \n",
       "NU_ANO                                                 \n",
       "2022          470.95    457.46       512.54    506.15  "
      ]
     },
     "execution_count": 14,
     "metadata": {},
     "output_type": "execute_result"
    }
   ],
   "source": [
    "geral202211_media_ano.head()"
   ]
  },
  {
   "cell_type": "code",
   "execution_count": 15,
   "metadata": {},
   "outputs": [
    {
     "data": {
      "text/html": [
       "<div>\n",
       "<style scoped>\n",
       "    .dataframe tbody tr th:only-of-type {\n",
       "        vertical-align: middle;\n",
       "    }\n",
       "\n",
       "    .dataframe tbody tr th {\n",
       "        vertical-align: top;\n",
       "    }\n",
       "\n",
       "    .dataframe thead tr th {\n",
       "        text-align: left;\n",
       "    }\n",
       "\n",
       "    .dataframe thead tr:last-of-type th {\n",
       "        text-align: right;\n",
       "    }\n",
       "</style>\n",
       "<table border=\"1\" class=\"dataframe\">\n",
       "  <thead>\n",
       "    <tr>\n",
       "      <th>FAMILIA</th>\n",
       "      <th colspan=\"2\" halign=\"left\">1.0</th>\n",
       "      <th colspan=\"2\" halign=\"left\">2.0</th>\n",
       "      <th colspan=\"2\" halign=\"left\">3.0</th>\n",
       "      <th colspan=\"2\" halign=\"left\">4.0</th>\n",
       "      <th colspan=\"2\" halign=\"left\">5.0</th>\n",
       "      <th colspan=\"2\" halign=\"left\">6.0</th>\n",
       "      <th colspan=\"2\" halign=\"left\">7.0</th>\n",
       "      <th colspan=\"2\" halign=\"left\">8.0</th>\n",
       "      <th colspan=\"2\" halign=\"left\">9.0</th>\n",
       "      <th colspan=\"2\" halign=\"left\">10.0</th>\n",
       "      <th colspan=\"2\" halign=\"left\">11.0</th>\n",
       "      <th colspan=\"2\" halign=\"left\">12.0</th>\n",
       "      <th colspan=\"2\" halign=\"left\">13.0</th>\n",
       "      <th colspan=\"2\" halign=\"left\">14.0</th>\n",
       "      <th colspan=\"2\" halign=\"left\">15.0</th>\n",
       "      <th colspan=\"2\" halign=\"left\">16.0</th>\n",
       "      <th colspan=\"2\" halign=\"left\">17.0</th>\n",
       "      <th colspan=\"2\" halign=\"left\">18.0</th>\n",
       "      <th colspan=\"2\" halign=\"left\">19.0</th>\n",
       "      <th colspan=\"2\" halign=\"left\">20.0</th>\n",
       "    </tr>\n",
       "    <tr>\n",
       "      <th></th>\n",
       "      <th>MEDIA_GLOBAL</th>\n",
       "      <th>MEDIA_OBJ</th>\n",
       "      <th>MEDIA_GLOBAL</th>\n",
       "      <th>MEDIA_OBJ</th>\n",
       "      <th>MEDIA_GLOBAL</th>\n",
       "      <th>MEDIA_OBJ</th>\n",
       "      <th>MEDIA_GLOBAL</th>\n",
       "      <th>MEDIA_OBJ</th>\n",
       "      <th>MEDIA_GLOBAL</th>\n",
       "      <th>MEDIA_OBJ</th>\n",
       "      <th>MEDIA_GLOBAL</th>\n",
       "      <th>MEDIA_OBJ</th>\n",
       "      <th>MEDIA_GLOBAL</th>\n",
       "      <th>MEDIA_OBJ</th>\n",
       "      <th>MEDIA_GLOBAL</th>\n",
       "      <th>MEDIA_OBJ</th>\n",
       "      <th>MEDIA_GLOBAL</th>\n",
       "      <th>MEDIA_OBJ</th>\n",
       "      <th>MEDIA_GLOBAL</th>\n",
       "      <th>MEDIA_OBJ</th>\n",
       "      <th>MEDIA_GLOBAL</th>\n",
       "      <th>MEDIA_OBJ</th>\n",
       "      <th>MEDIA_GLOBAL</th>\n",
       "      <th>MEDIA_OBJ</th>\n",
       "      <th>MEDIA_GLOBAL</th>\n",
       "      <th>MEDIA_OBJ</th>\n",
       "      <th>MEDIA_GLOBAL</th>\n",
       "      <th>MEDIA_OBJ</th>\n",
       "      <th>MEDIA_GLOBAL</th>\n",
       "      <th>MEDIA_OBJ</th>\n",
       "      <th>MEDIA_GLOBAL</th>\n",
       "      <th>MEDIA_OBJ</th>\n",
       "      <th>MEDIA_GLOBAL</th>\n",
       "      <th>MEDIA_OBJ</th>\n",
       "      <th>MEDIA_GLOBAL</th>\n",
       "      <th>MEDIA_OBJ</th>\n",
       "      <th>MEDIA_GLOBAL</th>\n",
       "      <th>MEDIA_OBJ</th>\n",
       "      <th>MEDIA_GLOBAL</th>\n",
       "      <th>MEDIA_OBJ</th>\n",
       "    </tr>\n",
       "    <tr>\n",
       "      <th>NU_ANO</th>\n",
       "      <th></th>\n",
       "      <th></th>\n",
       "      <th></th>\n",
       "      <th></th>\n",
       "      <th></th>\n",
       "      <th></th>\n",
       "      <th></th>\n",
       "      <th></th>\n",
       "      <th></th>\n",
       "      <th></th>\n",
       "      <th></th>\n",
       "      <th></th>\n",
       "      <th></th>\n",
       "      <th></th>\n",
       "      <th></th>\n",
       "      <th></th>\n",
       "      <th></th>\n",
       "      <th></th>\n",
       "      <th></th>\n",
       "      <th></th>\n",
       "      <th></th>\n",
       "      <th></th>\n",
       "      <th></th>\n",
       "      <th></th>\n",
       "      <th></th>\n",
       "      <th></th>\n",
       "      <th></th>\n",
       "      <th></th>\n",
       "      <th></th>\n",
       "      <th></th>\n",
       "      <th></th>\n",
       "      <th></th>\n",
       "      <th></th>\n",
       "      <th></th>\n",
       "      <th></th>\n",
       "      <th></th>\n",
       "      <th></th>\n",
       "      <th></th>\n",
       "      <th></th>\n",
       "      <th></th>\n",
       "    </tr>\n",
       "  </thead>\n",
       "  <tbody>\n",
       "    <tr>\n",
       "      <th>2021</th>\n",
       "      <td>531.44</td>\n",
       "      <td>519.62</td>\n",
       "      <td>530.88</td>\n",
       "      <td>512.82</td>\n",
       "      <td>536.62</td>\n",
       "      <td>515.59</td>\n",
       "      <td>538.53</td>\n",
       "      <td>516.29</td>\n",
       "      <td>524.26</td>\n",
       "      <td>503.59</td>\n",
       "      <td>509.04</td>\n",
       "      <td>490.53</td>\n",
       "      <td>497.49</td>\n",
       "      <td>480.93</td>\n",
       "      <td>489.26</td>\n",
       "      <td>473.74</td>\n",
       "      <td>483.14</td>\n",
       "      <td>469.52</td>\n",
       "      <td>475.90</td>\n",
       "      <td>462.55</td>\n",
       "      <td>480.14</td>\n",
       "      <td>465.85</td>\n",
       "      <td>473.61</td>\n",
       "      <td>459.86</td>\n",
       "      <td>466.80</td>\n",
       "      <td>457.83</td>\n",
       "      <td>479.90</td>\n",
       "      <td>475.04</td>\n",
       "      <td>471.62</td>\n",
       "      <td>462.79</td>\n",
       "      <td>483.07</td>\n",
       "      <td>473.87</td>\n",
       "      <td>463.22</td>\n",
       "      <td>457.10</td>\n",
       "      <td>491.43</td>\n",
       "      <td>482.36</td>\n",
       "      <td>483.66</td>\n",
       "      <td>469.10</td>\n",
       "      <td>492.31</td>\n",
       "      <td>482.12</td>\n",
       "    </tr>\n",
       "    <tr>\n",
       "      <th>2022</th>\n",
       "      <td>538.81</td>\n",
       "      <td>528.35</td>\n",
       "      <td>538.11</td>\n",
       "      <td>521.37</td>\n",
       "      <td>544.43</td>\n",
       "      <td>524.43</td>\n",
       "      <td>545.16</td>\n",
       "      <td>524.13</td>\n",
       "      <td>529.75</td>\n",
       "      <td>511.49</td>\n",
       "      <td>514.55</td>\n",
       "      <td>499.38</td>\n",
       "      <td>503.27</td>\n",
       "      <td>490.23</td>\n",
       "      <td>494.67</td>\n",
       "      <td>483.20</td>\n",
       "      <td>488.85</td>\n",
       "      <td>479.09</td>\n",
       "      <td>482.58</td>\n",
       "      <td>474.67</td>\n",
       "      <td>484.51</td>\n",
       "      <td>477.19</td>\n",
       "      <td>478.11</td>\n",
       "      <td>471.45</td>\n",
       "      <td>476.54</td>\n",
       "      <td>469.10</td>\n",
       "      <td>481.14</td>\n",
       "      <td>473.13</td>\n",
       "      <td>488.75</td>\n",
       "      <td>482.90</td>\n",
       "      <td>474.05</td>\n",
       "      <td>462.87</td>\n",
       "      <td>512.89</td>\n",
       "      <td>492.87</td>\n",
       "      <td>447.32</td>\n",
       "      <td>455.27</td>\n",
       "      <td>470.95</td>\n",
       "      <td>457.46</td>\n",
       "      <td>512.54</td>\n",
       "      <td>506.15</td>\n",
       "    </tr>\n",
       "  </tbody>\n",
       "</table>\n",
       "</div>"
      ],
      "text/plain": [
       "FAMILIA         1.0                    2.0                    3.0             \\\n",
       "        MEDIA_GLOBAL MEDIA_OBJ MEDIA_GLOBAL MEDIA_OBJ MEDIA_GLOBAL MEDIA_OBJ   \n",
       "NU_ANO                                                                         \n",
       "2021          531.44    519.62       530.88    512.82       536.62    515.59   \n",
       "2022          538.81    528.35       538.11    521.37       544.43    524.43   \n",
       "\n",
       "FAMILIA         4.0                    5.0                    6.0             \\\n",
       "        MEDIA_GLOBAL MEDIA_OBJ MEDIA_GLOBAL MEDIA_OBJ MEDIA_GLOBAL MEDIA_OBJ   \n",
       "NU_ANO                                                                         \n",
       "2021          538.53    516.29       524.26    503.59       509.04    490.53   \n",
       "2022          545.16    524.13       529.75    511.49       514.55    499.38   \n",
       "\n",
       "FAMILIA         7.0                    8.0                    9.0             \\\n",
       "        MEDIA_GLOBAL MEDIA_OBJ MEDIA_GLOBAL MEDIA_OBJ MEDIA_GLOBAL MEDIA_OBJ   \n",
       "NU_ANO                                                                         \n",
       "2021          497.49    480.93       489.26    473.74       483.14    469.52   \n",
       "2022          503.27    490.23       494.67    483.20       488.85    479.09   \n",
       "\n",
       "FAMILIA         10.0                   11.0                   12.0            \\\n",
       "        MEDIA_GLOBAL MEDIA_OBJ MEDIA_GLOBAL MEDIA_OBJ MEDIA_GLOBAL MEDIA_OBJ   \n",
       "NU_ANO                                                                         \n",
       "2021          475.90    462.55       480.14    465.85       473.61    459.86   \n",
       "2022          482.58    474.67       484.51    477.19       478.11    471.45   \n",
       "\n",
       "FAMILIA         13.0                   14.0                   15.0            \\\n",
       "        MEDIA_GLOBAL MEDIA_OBJ MEDIA_GLOBAL MEDIA_OBJ MEDIA_GLOBAL MEDIA_OBJ   \n",
       "NU_ANO                                                                         \n",
       "2021          466.80    457.83       479.90    475.04       471.62    462.79   \n",
       "2022          476.54    469.10       481.14    473.13       488.75    482.90   \n",
       "\n",
       "FAMILIA         16.0                   17.0                   18.0            \\\n",
       "        MEDIA_GLOBAL MEDIA_OBJ MEDIA_GLOBAL MEDIA_OBJ MEDIA_GLOBAL MEDIA_OBJ   \n",
       "NU_ANO                                                                         \n",
       "2021          483.07    473.87       463.22    457.10       491.43    482.36   \n",
       "2022          474.05    462.87       512.89    492.87       447.32    455.27   \n",
       "\n",
       "FAMILIA         19.0                   20.0            \n",
       "        MEDIA_GLOBAL MEDIA_OBJ MEDIA_GLOBAL MEDIA_OBJ  \n",
       "NU_ANO                                                 \n",
       "2021          483.66    469.10       492.31    482.12  \n",
       "2022          470.95    457.46       512.54    506.15  "
      ]
     },
     "execution_count": 15,
     "metadata": {},
     "output_type": "execute_result"
    }
   ],
   "source": [
    "geral11_media_ano = pd.concat([geral202111_media_ano,geral202211_media_ano])\n",
    "geral11_media_ano.head()"
   ]
  },
  {
   "cell_type": "markdown",
   "metadata": {},
   "source": [
    "#### Salvar. True para salvar o multindex que ainda não sei resolver."
   ]
  },
  {
   "cell_type": "code",
   "execution_count": 16,
   "metadata": {},
   "outputs": [],
   "source": [
    "geral11_media_ano.to_excel('C:\\\\Users\\\\Bruno\\\\OneDrive\\\\Área de Trabalho\\\\Microdados\\\\Datas\\\\Material apresentação\\\\Media_Familia_ano.xlsx', index=True)"
   ]
  },
  {
   "cell_type": "markdown",
   "metadata": {},
   "source": [
    "#### Média por tamanho da família geral."
   ]
  },
  {
   "cell_type": "code",
   "execution_count": 17,
   "metadata": {},
   "outputs": [
    {
     "data": {
      "text/html": [
       "<div>\n",
       "<style scoped>\n",
       "    .dataframe tbody tr th:only-of-type {\n",
       "        vertical-align: middle;\n",
       "    }\n",
       "\n",
       "    .dataframe tbody tr th {\n",
       "        vertical-align: top;\n",
       "    }\n",
       "\n",
       "    .dataframe thead th {\n",
       "        text-align: right;\n",
       "    }\n",
       "</style>\n",
       "<table border=\"1\" class=\"dataframe\">\n",
       "  <thead>\n",
       "    <tr style=\"text-align: right;\">\n",
       "      <th></th>\n",
       "      <th>FAMILIA</th>\n",
       "      <th>MEDIA_OBJ</th>\n",
       "      <th>MEDIA_GLOBAL</th>\n",
       "    </tr>\n",
       "  </thead>\n",
       "  <tbody>\n",
       "    <tr>\n",
       "      <th>0</th>\n",
       "      <td>1</td>\n",
       "      <td>528.35</td>\n",
       "      <td>538.81</td>\n",
       "    </tr>\n",
       "    <tr>\n",
       "      <th>1</th>\n",
       "      <td>2</td>\n",
       "      <td>521.37</td>\n",
       "      <td>538.11</td>\n",
       "    </tr>\n",
       "    <tr>\n",
       "      <th>2</th>\n",
       "      <td>3</td>\n",
       "      <td>524.43</td>\n",
       "      <td>544.43</td>\n",
       "    </tr>\n",
       "    <tr>\n",
       "      <th>3</th>\n",
       "      <td>4</td>\n",
       "      <td>524.13</td>\n",
       "      <td>545.16</td>\n",
       "    </tr>\n",
       "    <tr>\n",
       "      <th>4</th>\n",
       "      <td>5</td>\n",
       "      <td>511.49</td>\n",
       "      <td>529.75</td>\n",
       "    </tr>\n",
       "    <tr>\n",
       "      <th>5</th>\n",
       "      <td>6</td>\n",
       "      <td>499.38</td>\n",
       "      <td>514.55</td>\n",
       "    </tr>\n",
       "    <tr>\n",
       "      <th>6</th>\n",
       "      <td>7</td>\n",
       "      <td>490.23</td>\n",
       "      <td>503.27</td>\n",
       "    </tr>\n",
       "    <tr>\n",
       "      <th>7</th>\n",
       "      <td>8</td>\n",
       "      <td>483.20</td>\n",
       "      <td>494.67</td>\n",
       "    </tr>\n",
       "    <tr>\n",
       "      <th>8</th>\n",
       "      <td>9</td>\n",
       "      <td>479.09</td>\n",
       "      <td>488.85</td>\n",
       "    </tr>\n",
       "    <tr>\n",
       "      <th>9</th>\n",
       "      <td>10</td>\n",
       "      <td>474.67</td>\n",
       "      <td>482.58</td>\n",
       "    </tr>\n",
       "    <tr>\n",
       "      <th>10</th>\n",
       "      <td>11</td>\n",
       "      <td>477.19</td>\n",
       "      <td>484.51</td>\n",
       "    </tr>\n",
       "    <tr>\n",
       "      <th>11</th>\n",
       "      <td>12</td>\n",
       "      <td>471.45</td>\n",
       "      <td>478.11</td>\n",
       "    </tr>\n",
       "    <tr>\n",
       "      <th>12</th>\n",
       "      <td>13</td>\n",
       "      <td>469.10</td>\n",
       "      <td>476.54</td>\n",
       "    </tr>\n",
       "    <tr>\n",
       "      <th>13</th>\n",
       "      <td>14</td>\n",
       "      <td>473.13</td>\n",
       "      <td>481.14</td>\n",
       "    </tr>\n",
       "    <tr>\n",
       "      <th>14</th>\n",
       "      <td>15</td>\n",
       "      <td>482.90</td>\n",
       "      <td>488.75</td>\n",
       "    </tr>\n",
       "    <tr>\n",
       "      <th>15</th>\n",
       "      <td>16</td>\n",
       "      <td>462.87</td>\n",
       "      <td>474.05</td>\n",
       "    </tr>\n",
       "    <tr>\n",
       "      <th>16</th>\n",
       "      <td>17</td>\n",
       "      <td>492.87</td>\n",
       "      <td>512.89</td>\n",
       "    </tr>\n",
       "    <tr>\n",
       "      <th>17</th>\n",
       "      <td>18</td>\n",
       "      <td>455.27</td>\n",
       "      <td>447.32</td>\n",
       "    </tr>\n",
       "    <tr>\n",
       "      <th>18</th>\n",
       "      <td>19</td>\n",
       "      <td>457.46</td>\n",
       "      <td>470.95</td>\n",
       "    </tr>\n",
       "    <tr>\n",
       "      <th>19</th>\n",
       "      <td>20</td>\n",
       "      <td>506.15</td>\n",
       "      <td>512.54</td>\n",
       "    </tr>\n",
       "  </tbody>\n",
       "</table>\n",
       "</div>"
      ],
      "text/plain": [
       "    FAMILIA  MEDIA_OBJ  MEDIA_GLOBAL\n",
       "0         1     528.35        538.81\n",
       "1         2     521.37        538.11\n",
       "2         3     524.43        544.43\n",
       "3         4     524.13        545.16\n",
       "4         5     511.49        529.75\n",
       "5         6     499.38        514.55\n",
       "6         7     490.23        503.27\n",
       "7         8     483.20        494.67\n",
       "8         9     479.09        488.85\n",
       "9        10     474.67        482.58\n",
       "10       11     477.19        484.51\n",
       "11       12     471.45        478.11\n",
       "12       13     469.10        476.54\n",
       "13       14     473.13        481.14\n",
       "14       15     482.90        488.75\n",
       "15       16     462.87        474.05\n",
       "16       17     492.87        512.89\n",
       "17       18     455.27        447.32\n",
       "18       19     457.46        470.95\n",
       "19       20     506.15        512.54"
      ]
     },
     "execution_count": 17,
     "metadata": {},
     "output_type": "execute_result"
    }
   ],
   "source": [
    "geral11_media = df_enem.groupby('FAMILIA')[['MEDIA_OBJ', 'MEDIA_GLOBAL']].mean().reset_index().round(2)\n",
    "geral11_media.head(21)"
   ]
  },
  {
   "cell_type": "markdown",
   "metadata": {},
   "source": [
    "#### Salvar."
   ]
  },
  {
   "cell_type": "code",
   "execution_count": 26,
   "metadata": {},
   "outputs": [],
   "source": [
    "geral11_media.to_excel('C:\\\\Users\\\\Bruno\\\\OneDrive\\\\Área de Trabalho\\\\Microdados\\\\Datas\\\\Material apresentação\\\\Media_Familia.xlsx', index=False)"
   ]
  },
  {
   "cell_type": "markdown",
   "metadata": {},
   "source": [
    "## 12) Faixa etária"
   ]
  },
  {
   "cell_type": "markdown",
   "metadata": {},
   "source": [
    "#### Absoluto|Proporção por faixa etária."
   ]
  },
  {
   "cell_type": "code",
   "execution_count": 20,
   "metadata": {},
   "outputs": [
    {
     "data": {
      "text/html": [
       "<div>\n",
       "<style scoped>\n",
       "    .dataframe tbody tr th:only-of-type {\n",
       "        vertical-align: middle;\n",
       "    }\n",
       "\n",
       "    .dataframe tbody tr th {\n",
       "        vertical-align: top;\n",
       "    }\n",
       "\n",
       "    .dataframe thead th {\n",
       "        text-align: right;\n",
       "    }\n",
       "</style>\n",
       "<table border=\"1\" class=\"dataframe\">\n",
       "  <thead>\n",
       "    <tr style=\"text-align: right;\">\n",
       "      <th></th>\n",
       "      <th>TP_FAIXA_ETARIA</th>\n",
       "      <th>QTD_FAIXA</th>\n",
       "      <th>QTD_FAIXA_%</th>\n",
       "    </tr>\n",
       "  </thead>\n",
       "  <tbody>\n",
       "    <tr>\n",
       "      <th>0</th>\n",
       "      <td>Menor de 17 anos</td>\n",
       "      <td>18224</td>\n",
       "      <td>0.61</td>\n",
       "    </tr>\n",
       "    <tr>\n",
       "      <th>1</th>\n",
       "      <td>17 anos</td>\n",
       "      <td>513700</td>\n",
       "      <td>17.33</td>\n",
       "    </tr>\n",
       "    <tr>\n",
       "      <th>2</th>\n",
       "      <td>18 anos</td>\n",
       "      <td>783930</td>\n",
       "      <td>26.45</td>\n",
       "    </tr>\n",
       "    <tr>\n",
       "      <th>3</th>\n",
       "      <td>19 anos</td>\n",
       "      <td>403982</td>\n",
       "      <td>13.63</td>\n",
       "    </tr>\n",
       "    <tr>\n",
       "      <th>4</th>\n",
       "      <td>20 anos</td>\n",
       "      <td>246577</td>\n",
       "      <td>8.32</td>\n",
       "    </tr>\n",
       "    <tr>\n",
       "      <th>5</th>\n",
       "      <td>21 anos</td>\n",
       "      <td>165478</td>\n",
       "      <td>5.58</td>\n",
       "    </tr>\n",
       "    <tr>\n",
       "      <th>6</th>\n",
       "      <td>22 anos</td>\n",
       "      <td>122986</td>\n",
       "      <td>4.15</td>\n",
       "    </tr>\n",
       "    <tr>\n",
       "      <th>7</th>\n",
       "      <td>23 anos</td>\n",
       "      <td>94647</td>\n",
       "      <td>3.19</td>\n",
       "    </tr>\n",
       "    <tr>\n",
       "      <th>8</th>\n",
       "      <td>24 anos</td>\n",
       "      <td>73179</td>\n",
       "      <td>2.47</td>\n",
       "    </tr>\n",
       "    <tr>\n",
       "      <th>9</th>\n",
       "      <td>25 anos</td>\n",
       "      <td>61458</td>\n",
       "      <td>2.07</td>\n",
       "    </tr>\n",
       "    <tr>\n",
       "      <th>10</th>\n",
       "      <td>Entre 26 e 30 anos</td>\n",
       "      <td>189239</td>\n",
       "      <td>6.39</td>\n",
       "    </tr>\n",
       "    <tr>\n",
       "      <th>11</th>\n",
       "      <td>Entre 31 e 35 anos</td>\n",
       "      <td>103325</td>\n",
       "      <td>3.49</td>\n",
       "    </tr>\n",
       "    <tr>\n",
       "      <th>12</th>\n",
       "      <td>Entre 36 e 40 anos</td>\n",
       "      <td>73915</td>\n",
       "      <td>2.49</td>\n",
       "    </tr>\n",
       "    <tr>\n",
       "      <th>13</th>\n",
       "      <td>Entre 41 e 45 anos</td>\n",
       "      <td>49601</td>\n",
       "      <td>1.67</td>\n",
       "    </tr>\n",
       "    <tr>\n",
       "      <th>14</th>\n",
       "      <td>Entre 46 e 50 anos</td>\n",
       "      <td>29961</td>\n",
       "      <td>1.01</td>\n",
       "    </tr>\n",
       "    <tr>\n",
       "      <th>15</th>\n",
       "      <td>Entre 51 e 55 anos</td>\n",
       "      <td>17632</td>\n",
       "      <td>0.59</td>\n",
       "    </tr>\n",
       "    <tr>\n",
       "      <th>16</th>\n",
       "      <td>Entre 56 e 60 anos</td>\n",
       "      <td>9652</td>\n",
       "      <td>0.33</td>\n",
       "    </tr>\n",
       "    <tr>\n",
       "      <th>17</th>\n",
       "      <td>Entre 61 e 65 anos</td>\n",
       "      <td>3810</td>\n",
       "      <td>0.13</td>\n",
       "    </tr>\n",
       "    <tr>\n",
       "      <th>18</th>\n",
       "      <td>Entre 66 e 70 anos</td>\n",
       "      <td>1500</td>\n",
       "      <td>0.05</td>\n",
       "    </tr>\n",
       "    <tr>\n",
       "      <th>19</th>\n",
       "      <td>Maior de 70 anos</td>\n",
       "      <td>577</td>\n",
       "      <td>0.02</td>\n",
       "    </tr>\n",
       "  </tbody>\n",
       "</table>\n",
       "</div>"
      ],
      "text/plain": [
       "       TP_FAIXA_ETARIA  QTD_FAIXA  QTD_FAIXA_%\n",
       "0     Menor de 17 anos      18224         0.61\n",
       "1              17 anos     513700        17.33\n",
       "2              18 anos     783930        26.45\n",
       "3              19 anos     403982        13.63\n",
       "4              20 anos     246577         8.32\n",
       "5              21 anos     165478         5.58\n",
       "6              22 anos     122986         4.15\n",
       "7              23 anos      94647         3.19\n",
       "8              24 anos      73179         2.47\n",
       "9              25 anos      61458         2.07\n",
       "10  Entre 26 e 30 anos     189239         6.39\n",
       "11  Entre 31 e 35 anos     103325         3.49\n",
       "12  Entre 36 e 40 anos      73915         2.49\n",
       "13  Entre 41 e 45 anos      49601         1.67\n",
       "14  Entre 46 e 50 anos      29961         1.01\n",
       "15  Entre 51 e 55 anos      17632         0.59\n",
       "16  Entre 56 e 60 anos       9652         0.33\n",
       "17  Entre 61 e 65 anos       3810         0.13\n",
       "18  Entre 66 e 70 anos       1500         0.05\n",
       "19    Maior de 70 anos        577         0.02"
      ]
     },
     "execution_count": 20,
     "metadata": {},
     "output_type": "execute_result"
    }
   ],
   "source": [
    "geral12_prop = df_enem['TP_FAIXA_ETARIA'].value_counts().sort_index()\n",
    "\n",
    "geral12_prop = pd.DataFrame({'TP_FAIXA_ETARIA': geral12_prop.index, 'QTD_FAIXA': geral12_prop.values})\n",
    "geral12_prop['QTD_FAIXA_%'] = ((geral12_prop['QTD_FAIXA'] / geral12_prop['QTD_FAIXA'].sum())*100).round(2)\n",
    "geral12_prop['TP_FAIXA_ETARIA'] = geral12_prop['TP_FAIXA_ETARIA'].map({1: 'Menor de 17 anos', \n",
    "2: '17 anos', 3: '18 anos', 4: '19 anos', 5: '20 anos', 6: '21 anos', 7: '22 anos', \n",
    "8: '23 anos', 9: '24 anos', 10: '25 anos', 11: 'Entre 26 e 30 anos', 12: 'Entre 31 e 35 anos',\n",
    "13: 'Entre 36 e 40 anos', 14: 'Entre 41 e 45 anos', 15: 'Entre 46 e 50 anos', 16: 'Entre 51 e 55 anos', 17: 'Entre 56 e 60 anos',\n",
    "18: 'Entre 61 e 65 anos', 19: 'Entre 66 e 70 anos', 20: 'Maior de 70 anos' })\n",
    "geral12_prop.head(21)"
   ]
  },
  {
   "cell_type": "markdown",
   "metadata": {},
   "source": [
    "#### Salvar."
   ]
  },
  {
   "cell_type": "code",
   "execution_count": 27,
   "metadata": {},
   "outputs": [],
   "source": [
    "geral12_prop.to_excel('C:\\\\Users\\\\Bruno\\\\OneDrive\\\\Área de Trabalho\\\\Microdados\\\\Datas\\\\Material apresentação\\\\Absoluto_proporcional_Faixa_etaria.xlsx', index=False)"
   ]
  },
  {
   "cell_type": "markdown",
   "metadata": {},
   "source": [
    "#### Média por faixa etária."
   ]
  },
  {
   "cell_type": "code",
   "execution_count": 25,
   "metadata": {},
   "outputs": [
    {
     "data": {
      "text/html": [
       "<div>\n",
       "<style scoped>\n",
       "    .dataframe tbody tr th:only-of-type {\n",
       "        vertical-align: middle;\n",
       "    }\n",
       "\n",
       "    .dataframe tbody tr th {\n",
       "        vertical-align: top;\n",
       "    }\n",
       "\n",
       "    .dataframe thead th {\n",
       "        text-align: right;\n",
       "    }\n",
       "</style>\n",
       "<table border=\"1\" class=\"dataframe\">\n",
       "  <thead>\n",
       "    <tr style=\"text-align: right;\">\n",
       "      <th></th>\n",
       "      <th>TP_FAIXA_ETARIA</th>\n",
       "      <th>MEDIA_OBJ</th>\n",
       "      <th>MEDIA_GLOBAL</th>\n",
       "    </tr>\n",
       "  </thead>\n",
       "  <tbody>\n",
       "    <tr>\n",
       "      <th>0</th>\n",
       "      <td>Menor de 17 anos</td>\n",
       "      <td>523.69</td>\n",
       "      <td>550.32</td>\n",
       "    </tr>\n",
       "    <tr>\n",
       "      <th>1</th>\n",
       "      <td>17 anos</td>\n",
       "      <td>523.85</td>\n",
       "      <td>547.54</td>\n",
       "    </tr>\n",
       "    <tr>\n",
       "      <th>2</th>\n",
       "      <td>18 anos</td>\n",
       "      <td>517.07</td>\n",
       "      <td>538.19</td>\n",
       "    </tr>\n",
       "    <tr>\n",
       "      <th>3</th>\n",
       "      <td>19 anos</td>\n",
       "      <td>518.23</td>\n",
       "      <td>538.90</td>\n",
       "    </tr>\n",
       "    <tr>\n",
       "      <th>4</th>\n",
       "      <td>20 anos</td>\n",
       "      <td>521.61</td>\n",
       "      <td>541.82</td>\n",
       "    </tr>\n",
       "    <tr>\n",
       "      <th>5</th>\n",
       "      <td>21 anos</td>\n",
       "      <td>524.29</td>\n",
       "      <td>544.02</td>\n",
       "    </tr>\n",
       "    <tr>\n",
       "      <th>6</th>\n",
       "      <td>22 anos</td>\n",
       "      <td>524.94</td>\n",
       "      <td>543.57</td>\n",
       "    </tr>\n",
       "    <tr>\n",
       "      <th>7</th>\n",
       "      <td>23 anos</td>\n",
       "      <td>524.32</td>\n",
       "      <td>541.02</td>\n",
       "    </tr>\n",
       "    <tr>\n",
       "      <th>8</th>\n",
       "      <td>24 anos</td>\n",
       "      <td>523.66</td>\n",
       "      <td>538.20</td>\n",
       "    </tr>\n",
       "    <tr>\n",
       "      <th>9</th>\n",
       "      <td>25 anos</td>\n",
       "      <td>522.35</td>\n",
       "      <td>535.11</td>\n",
       "    </tr>\n",
       "    <tr>\n",
       "      <th>10</th>\n",
       "      <td>Entre 26 e 30 anos</td>\n",
       "      <td>521.32</td>\n",
       "      <td>530.54</td>\n",
       "    </tr>\n",
       "    <tr>\n",
       "      <th>11</th>\n",
       "      <td>Entre 31 e 35 anos</td>\n",
       "      <td>518.06</td>\n",
       "      <td>522.56</td>\n",
       "    </tr>\n",
       "    <tr>\n",
       "      <th>12</th>\n",
       "      <td>Entre 36 e 40 anos</td>\n",
       "      <td>509.26</td>\n",
       "      <td>509.62</td>\n",
       "    </tr>\n",
       "    <tr>\n",
       "      <th>13</th>\n",
       "      <td>Entre 41 e 45 anos</td>\n",
       "      <td>500.67</td>\n",
       "      <td>498.20</td>\n",
       "    </tr>\n",
       "    <tr>\n",
       "      <th>14</th>\n",
       "      <td>Entre 46 e 50 anos</td>\n",
       "      <td>496.26</td>\n",
       "      <td>492.14</td>\n",
       "    </tr>\n",
       "    <tr>\n",
       "      <th>15</th>\n",
       "      <td>Entre 51 e 55 anos</td>\n",
       "      <td>497.32</td>\n",
       "      <td>492.09</td>\n",
       "    </tr>\n",
       "    <tr>\n",
       "      <th>16</th>\n",
       "      <td>Entre 56 e 60 anos</td>\n",
       "      <td>497.46</td>\n",
       "      <td>490.38</td>\n",
       "    </tr>\n",
       "    <tr>\n",
       "      <th>17</th>\n",
       "      <td>Entre 61 e 65 anos</td>\n",
       "      <td>495.93</td>\n",
       "      <td>484.99</td>\n",
       "    </tr>\n",
       "    <tr>\n",
       "      <th>18</th>\n",
       "      <td>Entre 66 e 70 anos</td>\n",
       "      <td>487.79</td>\n",
       "      <td>476.01</td>\n",
       "    </tr>\n",
       "    <tr>\n",
       "      <th>19</th>\n",
       "      <td>Maior de 70 anos</td>\n",
       "      <td>466.53</td>\n",
       "      <td>453.86</td>\n",
       "    </tr>\n",
       "  </tbody>\n",
       "</table>\n",
       "</div>"
      ],
      "text/plain": [
       "       TP_FAIXA_ETARIA  MEDIA_OBJ  MEDIA_GLOBAL\n",
       "0     Menor de 17 anos     523.69        550.32\n",
       "1              17 anos     523.85        547.54\n",
       "2              18 anos     517.07        538.19\n",
       "3              19 anos     518.23        538.90\n",
       "4              20 anos     521.61        541.82\n",
       "5              21 anos     524.29        544.02\n",
       "6              22 anos     524.94        543.57\n",
       "7              23 anos     524.32        541.02\n",
       "8              24 anos     523.66        538.20\n",
       "9              25 anos     522.35        535.11\n",
       "10  Entre 26 e 30 anos     521.32        530.54\n",
       "11  Entre 31 e 35 anos     518.06        522.56\n",
       "12  Entre 36 e 40 anos     509.26        509.62\n",
       "13  Entre 41 e 45 anos     500.67        498.20\n",
       "14  Entre 46 e 50 anos     496.26        492.14\n",
       "15  Entre 51 e 55 anos     497.32        492.09\n",
       "16  Entre 56 e 60 anos     497.46        490.38\n",
       "17  Entre 61 e 65 anos     495.93        484.99\n",
       "18  Entre 66 e 70 anos     487.79        476.01\n",
       "19    Maior de 70 anos     466.53        453.86"
      ]
     },
     "execution_count": 25,
     "metadata": {},
     "output_type": "execute_result"
    }
   ],
   "source": [
    "geral12_media = df_enem.groupby('TP_FAIXA_ETARIA')[['MEDIA_OBJ', 'MEDIA_GLOBAL']].mean().reset_index().round(2)\n",
    "geral12_media['TP_FAIXA_ETARIA'] = geral12_media['TP_FAIXA_ETARIA'].map({1: 'Menor de 17 anos', \n",
    "2: '17 anos', 3: '18 anos', 4: '19 anos', 5: '20 anos', 6: '21 anos', 7: '22 anos', \n",
    "8: '23 anos', 9: '24 anos', 10: '25 anos', 11: 'Entre 26 e 30 anos', 12: 'Entre 31 e 35 anos',\n",
    "13: 'Entre 36 e 40 anos', 14: 'Entre 41 e 45 anos', 15: 'Entre 46 e 50 anos', 16: 'Entre 51 e 55 anos', 17: 'Entre 56 e 60 anos',\n",
    "18: 'Entre 61 e 65 anos', 19: 'Entre 66 e 70 anos', 20: 'Maior de 70 anos' })\n",
    "geral12_media.head(21)"
   ]
  },
  {
   "cell_type": "markdown",
   "metadata": {},
   "source": [
    "#### Salvar."
   ]
  },
  {
   "cell_type": "code",
   "execution_count": 28,
   "metadata": {},
   "outputs": [],
   "source": [
    "geral12_media.to_excel('C:\\\\Users\\\\Bruno\\\\OneDrive\\\\Área de Trabalho\\\\Microdados\\\\Datas\\\\Material apresentação\\\\Media_Faixa_etaria.xlsx', index=False)"
   ]
  },
  {
   "cell_type": "markdown",
   "metadata": {},
   "source": [
    "#### Abstenção por faixa etária."
   ]
  },
  {
   "cell_type": "code",
   "execution_count": 23,
   "metadata": {},
   "outputs": [
    {
     "data": {
      "text/html": [
       "<div>\n",
       "<style scoped>\n",
       "    .dataframe tbody tr th:only-of-type {\n",
       "        vertical-align: middle;\n",
       "    }\n",
       "\n",
       "    .dataframe tbody tr th {\n",
       "        vertical-align: top;\n",
       "    }\n",
       "\n",
       "    .dataframe thead th {\n",
       "        text-align: right;\n",
       "    }\n",
       "</style>\n",
       "<table border=\"1\" class=\"dataframe\">\n",
       "  <thead>\n",
       "    <tr style=\"text-align: right;\">\n",
       "      <th></th>\n",
       "      <th>TP_FAIXA_ETARIA</th>\n",
       "      <th>ABS_ALL</th>\n",
       "      <th>ABS_ALL_%</th>\n",
       "    </tr>\n",
       "  </thead>\n",
       "  <tbody>\n",
       "    <tr>\n",
       "      <th>0</th>\n",
       "      <td>Menor de 17 anos</td>\n",
       "      <td>2874</td>\n",
       "      <td>0.31</td>\n",
       "    </tr>\n",
       "    <tr>\n",
       "      <th>1</th>\n",
       "      <td>17 anos</td>\n",
       "      <td>81198</td>\n",
       "      <td>8.89</td>\n",
       "    </tr>\n",
       "    <tr>\n",
       "      <th>2</th>\n",
       "      <td>18 anos</td>\n",
       "      <td>173766</td>\n",
       "      <td>19.02</td>\n",
       "    </tr>\n",
       "    <tr>\n",
       "      <th>3</th>\n",
       "      <td>19 anos</td>\n",
       "      <td>120868</td>\n",
       "      <td>13.23</td>\n",
       "    </tr>\n",
       "    <tr>\n",
       "      <th>4</th>\n",
       "      <td>20 anos</td>\n",
       "      <td>85606</td>\n",
       "      <td>9.37</td>\n",
       "    </tr>\n",
       "    <tr>\n",
       "      <th>5</th>\n",
       "      <td>21 anos</td>\n",
       "      <td>63177</td>\n",
       "      <td>6.91</td>\n",
       "    </tr>\n",
       "    <tr>\n",
       "      <th>6</th>\n",
       "      <td>22 anos</td>\n",
       "      <td>50403</td>\n",
       "      <td>5.52</td>\n",
       "    </tr>\n",
       "    <tr>\n",
       "      <th>7</th>\n",
       "      <td>23 anos</td>\n",
       "      <td>40941</td>\n",
       "      <td>4.48</td>\n",
       "    </tr>\n",
       "    <tr>\n",
       "      <th>8</th>\n",
       "      <td>24 anos</td>\n",
       "      <td>33308</td>\n",
       "      <td>3.65</td>\n",
       "    </tr>\n",
       "    <tr>\n",
       "      <th>9</th>\n",
       "      <td>25 anos</td>\n",
       "      <td>28725</td>\n",
       "      <td>3.14</td>\n",
       "    </tr>\n",
       "    <tr>\n",
       "      <th>10</th>\n",
       "      <td>Entre 26 e 30 anos</td>\n",
       "      <td>93298</td>\n",
       "      <td>10.21</td>\n",
       "    </tr>\n",
       "    <tr>\n",
       "      <th>11</th>\n",
       "      <td>Entre 31 e 35 anos</td>\n",
       "      <td>52122</td>\n",
       "      <td>5.70</td>\n",
       "    </tr>\n",
       "    <tr>\n",
       "      <th>12</th>\n",
       "      <td>Entre 36 e 40 anos</td>\n",
       "      <td>36444</td>\n",
       "      <td>3.99</td>\n",
       "    </tr>\n",
       "    <tr>\n",
       "      <th>13</th>\n",
       "      <td>Entre 41 e 45 anos</td>\n",
       "      <td>23538</td>\n",
       "      <td>2.58</td>\n",
       "    </tr>\n",
       "    <tr>\n",
       "      <th>14</th>\n",
       "      <td>Entre 46 e 50 anos</td>\n",
       "      <td>13323</td>\n",
       "      <td>1.46</td>\n",
       "    </tr>\n",
       "    <tr>\n",
       "      <th>15</th>\n",
       "      <td>Entre 51 e 55 anos</td>\n",
       "      <td>7593</td>\n",
       "      <td>0.83</td>\n",
       "    </tr>\n",
       "    <tr>\n",
       "      <th>16</th>\n",
       "      <td>Entre 56 e 60 anos</td>\n",
       "      <td>4134</td>\n",
       "      <td>0.45</td>\n",
       "    </tr>\n",
       "    <tr>\n",
       "      <th>17</th>\n",
       "      <td>Entre 61 e 65 anos</td>\n",
       "      <td>1572</td>\n",
       "      <td>0.17</td>\n",
       "    </tr>\n",
       "    <tr>\n",
       "      <th>18</th>\n",
       "      <td>Entre 66 e 70 anos</td>\n",
       "      <td>590</td>\n",
       "      <td>0.06</td>\n",
       "    </tr>\n",
       "    <tr>\n",
       "      <th>19</th>\n",
       "      <td>Maior de 70 anos</td>\n",
       "      <td>233</td>\n",
       "      <td>0.03</td>\n",
       "    </tr>\n",
       "  </tbody>\n",
       "</table>\n",
       "</div>"
      ],
      "text/plain": [
       "       TP_FAIXA_ETARIA  ABS_ALL  ABS_ALL_%\n",
       "0     Menor de 17 anos     2874       0.31\n",
       "1              17 anos    81198       8.89\n",
       "2              18 anos   173766      19.02\n",
       "3              19 anos   120868      13.23\n",
       "4              20 anos    85606       9.37\n",
       "5              21 anos    63177       6.91\n",
       "6              22 anos    50403       5.52\n",
       "7              23 anos    40941       4.48\n",
       "8              24 anos    33308       3.65\n",
       "9              25 anos    28725       3.14\n",
       "10  Entre 26 e 30 anos    93298      10.21\n",
       "11  Entre 31 e 35 anos    52122       5.70\n",
       "12  Entre 36 e 40 anos    36444       3.99\n",
       "13  Entre 41 e 45 anos    23538       2.58\n",
       "14  Entre 46 e 50 anos    13323       1.46\n",
       "15  Entre 51 e 55 anos     7593       0.83\n",
       "16  Entre 56 e 60 anos     4134       0.45\n",
       "17  Entre 61 e 65 anos     1572       0.17\n",
       "18  Entre 66 e 70 anos      590       0.06\n",
       "19    Maior de 70 anos      233       0.03"
      ]
     },
     "execution_count": 23,
     "metadata": {},
     "output_type": "execute_result"
    }
   ],
   "source": [
    "geral12_ABS = df_enem.groupby(['TP_FAIXA_ETARIA'])['ABS_ALL'].sum().reset_index()\n",
    "geral12_ABS['ABS_ALL_%'] = ((geral12_ABS['ABS_ALL'] / geral12_ABS['ABS_ALL'].sum())*100).round(2)\n",
    "geral12_ABS['TP_FAIXA_ETARIA'] = geral12_ABS['TP_FAIXA_ETARIA'].map({1: 'Menor de 17 anos', \n",
    "2: '17 anos', 3: '18 anos', 4: '19 anos', 5: '20 anos', 6: '21 anos', 7: '22 anos', \n",
    "8: '23 anos', 9: '24 anos', 10: '25 anos', 11: 'Entre 26 e 30 anos', 12: 'Entre 31 e 35 anos',\n",
    "13: 'Entre 36 e 40 anos', 14: 'Entre 41 e 45 anos', 15: 'Entre 46 e 50 anos', 16: 'Entre 51 e 55 anos', 17: 'Entre 56 e 60 anos',\n",
    "18: 'Entre 61 e 65 anos', 19: 'Entre 66 e 70 anos', 20: 'Maior de 70 anos' })\n",
    "geral12_ABS.head(21)"
   ]
  },
  {
   "cell_type": "markdown",
   "metadata": {},
   "source": [
    "#### Salvar."
   ]
  },
  {
   "cell_type": "code",
   "execution_count": 29,
   "metadata": {},
   "outputs": [],
   "source": [
    "geral12_ABS.to_excel('C:\\\\Users\\\\Bruno\\\\OneDrive\\\\Área de Trabalho\\\\Microdados\\\\Datas\\\\Material apresentação\\\\Abstenções_Faixa_etaria.xlsx', index=False)"
   ]
  },
  {
   "cell_type": "markdown",
   "metadata": {},
   "source": [
    "## 13) Média do total geral dos dados."
   ]
  },
  {
   "cell_type": "code",
   "execution_count": 30,
   "metadata": {},
   "outputs": [
    {
     "data": {
      "text/html": [
       "<div>\n",
       "<style scoped>\n",
       "    .dataframe tbody tr th:only-of-type {\n",
       "        vertical-align: middle;\n",
       "    }\n",
       "\n",
       "    .dataframe tbody tr th {\n",
       "        vertical-align: top;\n",
       "    }\n",
       "\n",
       "    .dataframe thead th {\n",
       "        text-align: right;\n",
       "    }\n",
       "</style>\n",
       "<table border=\"1\" class=\"dataframe\">\n",
       "  <thead>\n",
       "    <tr style=\"text-align: right;\">\n",
       "      <th></th>\n",
       "      <th>index</th>\n",
       "      <th>0</th>\n",
       "    </tr>\n",
       "  </thead>\n",
       "  <tbody>\n",
       "    <tr>\n",
       "      <th>0</th>\n",
       "      <td>MEDIA_OBJ</td>\n",
       "      <td>519.62</td>\n",
       "    </tr>\n",
       "    <tr>\n",
       "      <th>1</th>\n",
       "      <td>MEDIA_GLOBAL</td>\n",
       "      <td>538.54</td>\n",
       "    </tr>\n",
       "  </tbody>\n",
       "</table>\n",
       "</div>"
      ],
      "text/plain": [
       "          index       0\n",
       "0     MEDIA_OBJ  519.62\n",
       "1  MEDIA_GLOBAL  538.54"
      ]
     },
     "execution_count": 30,
     "metadata": {},
     "output_type": "execute_result"
    }
   ],
   "source": [
    "geral13_media = df_enem[['MEDIA_OBJ', 'MEDIA_GLOBAL']].mean().reset_index().round(2)\n",
    "geral13_media.head()"
   ]
  },
  {
   "cell_type": "markdown",
   "metadata": {},
   "source": [
    "#### Salvar."
   ]
  },
  {
   "cell_type": "code",
   "execution_count": 31,
   "metadata": {},
   "outputs": [],
   "source": [
    "geral13_media.to_excel('C:\\\\Users\\\\Bruno\\\\OneDrive\\\\Área de Trabalho\\\\Microdados\\\\Datas\\\\Material apresentação\\\\Medias_2022.xlsx', index=False)"
   ]
  },
  {
   "cell_type": "code",
   "execution_count": null,
   "metadata": {},
   "outputs": [],
   "source": []
  }
 ],
 "metadata": {
  "kernelspec": {
   "display_name": "base",
   "language": "python",
   "name": "python3"
  },
  "language_info": {
   "codemirror_mode": {
    "name": "ipython",
    "version": 3
   },
   "file_extension": ".py",
   "mimetype": "text/x-python",
   "name": "python",
   "nbconvert_exporter": "python",
   "pygments_lexer": "ipython3",
   "version": "3.10.9"
  }
 },
 "nbformat": 4,
 "nbformat_minor": 2
}
