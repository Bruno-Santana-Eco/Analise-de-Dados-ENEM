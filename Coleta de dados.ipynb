{
 "cells": [
  {
   "cell_type": "markdown",
   "metadata": {},
   "source": [
    "Tipo da variável: categórica ou numérica\n",
    "\n",
    "\n",
    "*GERAL*\n",
    "\n",
    "*Visões geral*:\n",
    "\n",
    "* Quantidade de inscritos por ano - OK\n",
    "* Percentual de ausentes nos dois dias - OK\n",
    "* Inscritos por tipo de língua - OK\n",
    "* Inscritos por escola (imagino que é por tipo de escola) - OK\n",
    "* Inscritos por gênero - OK\n",
    "* Inscritos por depedência adminstrativa da escola (Inclui) - OK\n",
    "* Composição da quantidade de inscritos no por ano\n",
    "    * Proporção de gênero - OK\n",
    "    * Proporção de escolas - OK\n",
    "    * Proporção dependência administrativa da escola - OK\n",
    "    * ...\n",
    "* Status da Redação - NÃO ENTENDI\n",
    "    \n",
    "*Visão Série Temporal*\n",
    "\n",
    "* Quantidade de inscritos na série histórica (2010-2021) - OK\n",
    "* Sexo - OK\n",
    "* Cor/Raça - OK\n",
    "* Estado Civil - OK\n",
    "* Conclusão Ensino Médio - NÃO ENTENDI\n",
    "* Tipo Escola - OK\n",
    "* Dependência administrativa - OK\n",
    "* Média nota no tempo por variável\n",
    "    * Ano (Inclui) - OK\n",
    "    * Tipo de lingua (inclui) - OK\n",
    "    * Sexo - OK\n",
    "    * Tipo escola - OK\n",
    "    * Dependência administrativa - OK\n",
    "    * Estado Civil (inclui) - OK\n",
    "    * Região geográfica - OK\n",
    "    * UF - OK\n",
    "    * Município - OK\n",
    "    * Cor/raça - OK\n",
    "    * Renda - Ver com Lucas\n",
    "    * Escolaridade do pai/mãe - Ver como fazer com Lucas pois são duas variáveis.\n",
    "    * Tamanho da família - \n",
    "\n",
    "*Composição Geral*\n",
    "\n",
    "Proporção e valor absoluto\n",
    "* Sexo e localidade (UF/Região geográfica)\n",
    "* Cor/Raça\n",
    "* Tipo Escola\n",
    "* Dependência administrativa \n",
    "    \n",
    "*Visão Média Geral*\n",
    "\n",
    "* Média global\n",
    "* Média por gênero\n",
    "* Média por etnia\n",
    "* Média por tipo de escola\n",
    "* Média por tempo de conclusão\n",
    "* Média por faixa etária\n",
    "* Média/Nota Máxima por regiões\n",
    "\n",
    "*Visão abstenção/falta*\n",
    "\n",
    "* Falta por gênero\n",
    "* Falta por regiões geográficas\n",
    "* Falta por UF\n",
    "* Falta por município\n",
    "* Falta por faixa etária\n",
    "* Falta por disciplina\n",
    "* Falta por etnia\n",
    "* Falta por tipo de escola\n",
    "\n",
    "\n",
    "*ESTATÍSTICA*\n",
    "* Univariada\n",
    "    * Filtros : Prova / Ano / Variável\n",
    "    * Boxplot pela variável\n",
    "    * Gráfico das notas densidade por cada grupo da variável\n",
    "    * Gráfico de Barras\n",
    "        * Quebrar por sexo\n",
    "    * Situação de conclusão\n",
    "    * Escolaridade do pai/mãe\n",
    "    * Tamanho da família\n",
    "    * Acesso à internet\n",
    "    * Computador\n",
    "* Análise multivariada\n",
    "\n",
    "*RANKING*\n",
    "\n",
    "    \n",
    "* Quantidade de inscritos na Bahia nos últimos anos\n",
    "* Composição da quantidade de inscritos na Bahia\n",
    "* Mapa com a quantidade de inscritos (2019-2020) por UF\n",
    "* Mapa com quantidade de inscritos por município (2019-2020)\n",
    "\n",
    "* Ranking de Média nas provas por UF pré-pandemia (2019) e durante a pandemia (2020)\n",
    "* Ranking de Média nas provas por município pré-pandemia e durante a pandemia\n",
    "* \n",
    "\n",
    "* Visão UF\n",
    "    * Quantidade de Inscritos\n",
    "    * Falta\n",
    "    * Proporções\n",
    "* Visão Município\n",
    "* Visão Escola"
   ]
  },
  {
   "cell_type": "code",
   "execution_count": 1,
   "metadata": {},
   "outputs": [],
   "source": [
    "import pandas as pd\n",
    "import numpy as np\n",
    "import matplotlib.pyplot as plt\n",
    "import seaborn as sns\n",
    "import requests\n",
    "import os"
   ]
  },
  {
   "cell_type": "code",
   "execution_count": 2,
   "metadata": {},
   "outputs": [],
   "source": [
    "os.chdir(\"C:\\\\Users\\\\brunobezerra\\\\Downloads\\\\Livros e papers\\\\Microdados ENEM\\\\Microdados\")\n"
   ]
  },
  {
   "cell_type": "code",
   "execution_count": 3,
   "metadata": {},
   "outputs": [
    {
     "data": {
      "text/plain": [
       "'C:\\\\Users\\\\brunobezerra\\\\Downloads\\\\Livros e papers\\\\Microdados ENEM\\\\Microdados'"
      ]
     },
     "execution_count": 3,
     "metadata": {},
     "output_type": "execute_result"
    }
   ],
   "source": [
    "pwd"
   ]
  },
  {
   "cell_type": "markdown",
   "metadata": {},
   "source": [
    "#### Funções."
   ]
  },
  {
   "cell_type": "code",
   "execution_count": 4,
   "metadata": {},
   "outputs": [],
   "source": [
    "def create_columns_region(uf):\n",
    "    norte        = ['AM', 'RR', 'AP', 'PA', 'TO', 'RO', 'AC']\n",
    "    nordeste     = ['MA', 'PI', 'CE', 'RN', 'PE', 'PB', 'SE', 'AL', 'BA']\n",
    "    centro_oeste = ['MT', 'MS', 'GO']\n",
    "    sudeste      = ['SP', 'RJ', 'ES', 'MG']\n",
    "    sul          = ['PR', 'RS', 'SC']\n",
    "    df           = ['DF']\n",
    "    \n",
    "    if uf in norte :\n",
    "        return 'Norte'\n",
    "    elif uf in nordeste :\n",
    "        return 'Nordeste'\n",
    "    elif uf in centro_oeste : \n",
    "        return 'Centro-Oeste'\n",
    "    elif uf in sudeste : \n",
    "        return 'Sudeste'\n",
    "    elif uf in sul : \n",
    "        return 'Sul'\n",
    "    elif uf in df :\n",
    "        return 'DF'\n",
    "    else:\n",
    "        return 'missing'\n",
    "    \n",
    "    \n",
    "    \n",
    "def build_statistics_metrics(ano_enem : int, \n",
    "                             lista_provas : list, \n",
    "                             df_enem : pd.DataFrame, \n",
    "                             cols_to_group : list, \n",
    "                             list_with_metrics = None):\n",
    "    if list_with_metrics:\n",
    "        list_metrics = list_with_metrics\n",
    "    else:\n",
    "        list_metrics = { 'MIN_': np.min, 'AVG_' :np.mean, 'MED_' : np.median, 'MAX_' : np.max, 'STD_' : np.std}\n",
    "    \n",
    "    def get_statistics(ano_enem, lista_provas, metric, df_enem, cols_to_group, metric_label):\n",
    "\n",
    "        agg_result = (df_enem\n",
    "         .query(f'NU_ANO == {ano_enem}')\n",
    "         .groupby(cols_to_group, as_index = False)\n",
    "         .agg({prova:metric for prova in lista_provas})\n",
    "         .rename(columns = {prova : metric_label+'_'.join(prova.split('_')[1:]) for prova in lista_provas})\n",
    "        )\n",
    "\n",
    "        return agg_result\n",
    "    \n",
    "    result = [\n",
    "        get_statistics(ano_enem, lista_provas, list_metrics[metric], df_enem, cols_to_group, metric).set_index(cols_to_group) \n",
    "      for metric in list_metrics\n",
    "     ]\n",
    "\n",
    "    result_df = (pd.concat(result, axis=1)\n",
    "         .reset_index()\n",
    "        )\n",
    "    \n",
    "\n",
    "    return result_df\n",
    "\n",
    "\n",
    "def build_distribution_freq(df_enem, cols_to_group, cat_columns):\n",
    "    \n",
    "    def get_distribution_freq(df_enem, cols_to_group, cat_column):\n",
    "        agg_result = (pd.get_dummies(df_enem[cols_to_group+[cat_column]],\n",
    "               columns = [cat_column])\n",
    "                 .groupby(cols_to_group).sum()\n",
    "                )\n",
    "        return agg_result\n",
    "    \n",
    "    result    = [get_distribution_freq(df_enem, cols_to_group, cat_column) for cat_column in cat_columns]\n",
    "    result_df = (pd.concat(result, axis = 1))\n",
    "    return result_df\n",
    "\n",
    "def get_count(ano_enem, df_enem, cols_to_group, column, column_name = None):\n",
    "    agg_result = (df_enem\n",
    "         .query(f'NU_ANO == {ano_enem}')\n",
    "         .groupby(cols_to_group)\n",
    "         .agg({column:'count'})\n",
    "         .rename(columns = {column : column_name} )\n",
    "        )\n",
    "    return agg_result"
   ]
  },
  {
   "cell_type": "markdown",
   "metadata": {},
   "source": [
    "#### Coleta de dados"
   ]
  },
  {
   "cell_type": "code",
   "execution_count": 9,
   "metadata": {},
   "outputs": [
    {
     "ename": "",
     "evalue": "",
     "output_type": "error",
     "traceback": [
      "\u001b[1;31mFalha ao interromper o Kernel. \n",
      "\u001b[1;31mUnable to start Kernel 'anaconda3 (Python 3.10.9)' due to a timeout waiting for the ports to get used. \n",
      "\u001b[1;31mView Jupyter <a href='command:jupyter.viewOutput'>log</a> for further details."
     ]
    }
   ],
   "source": [
    "#Teste\n",
    "ano_enem = 2018\n",
    "df_enem  = pd.read_csv(f'MICRODADOS_ENEM_{ano_enem}.csv', encoding = 'latin1', sep = ';')"
   ]
  },
  {
   "cell_type": "code",
   "execution_count": 5,
   "metadata": {},
   "outputs": [],
   "source": [
    "df_enem  = pd.read_csv(f'MICRODADOS_ENEM_2022.csv', encoding = 'latin1', sep = ';')"
   ]
  },
  {
   "cell_type": "code",
   "execution_count": 5,
   "metadata": {},
   "outputs": [],
   "source": [
    "df=pd.read_csv('MICRODADOS_ENEM_2022.csv', sep=';', encoding='latin-1')"
   ]
  },
  {
   "cell_type": "markdown",
   "metadata": {},
   "source": []
  },
  {
   "cell_type": "code",
   "execution_count": null,
   "metadata": {},
   "outputs": [],
   "source": [
    "pd.set_option('display.max_columns', None)  # Configura para exibir todas as colunas\n",
    "df.head(5)"
   ]
  },
  {
   "cell_type": "markdown",
   "metadata": {},
   "source": [
    "#### Baixar dataframe"
   ]
  },
  {
   "cell_type": "code",
   "execution_count": null,
   "metadata": {},
   "outputs": [],
   "source": [
    "df.to_excel('D:\\Repositório GIT\\Projetos\\IBGE\\Datasets\\Educação\\Microdado_Teste1.xlsx', index=False)"
   ]
  }
 ],
 "metadata": {
  "kernelspec": {
   "display_name": "Python 3",
   "language": "python",
   "name": "python3"
  },
  "language_info": {
   "codemirror_mode": {
    "name": "ipython",
    "version": 3
   },
   "file_extension": ".py",
   "mimetype": "text/x-python",
   "name": "python",
   "nbconvert_exporter": "python",
   "pygments_lexer": "ipython3",
   "version": "3.10.9"
  }
 },
 "nbformat": 4,
 "nbformat_minor": 2
}
