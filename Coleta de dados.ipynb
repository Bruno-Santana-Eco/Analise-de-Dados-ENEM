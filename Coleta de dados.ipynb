{
 "cells": [
  {
   "cell_type": "markdown",
   "metadata": {},
   "source": [
    "Tipo da variável: categórica ou numérica\n",
    "\n",
    "\n",
    "*GERAL*\n",
    "\n",
    "*Visões geral*:\n",
    "\n",
    "* Quantidade de inscritos por ano\n",
    "* Percentual de ausentes nos dois dias\n",
    "* Inscritos por tipo de língua\n",
    "* Inscritos por escola\n",
    "* Inscritos por gênero\n",
    "* Composição da quantidade de inscritos no por ano\n",
    "    * Proporção de gênero\n",
    "    * Proporção de escolas\n",
    "    * Proporção dependência administrativa da escola\n",
    "    * ...\n",
    "* Status da Redação\n",
    "    \n",
    "*Visão Série Temporal*\n",
    "\n",
    "* Quantidade de inscritos na série histórica (2010-2021)\n",
    "* Sexo\n",
    "* Cor/Raça\n",
    "* Estado Civil\n",
    "* Conclusão Ensino Médio\n",
    "* Tipo Escola\n",
    "* Dependência administrativa \n",
    "* Média nota no tempo por variável\n",
    "    * Sexo\n",
    "    * Tipo escola\n",
    "    * Dependência administrativa\n",
    "    * Região geográfica\n",
    "    * UF\n",
    "    * Cor/raça\n",
    "    * Renda\n",
    "    * Escolaridade do pai/mãe\n",
    "    * Tamanho da família\n",
    "\n",
    "*Composição Geral*\n",
    "\n",
    "Proporção e valor absoluto\n",
    "* Sexo e localidade (UF/Região geográfica)\n",
    "* Cor/Raça\n",
    "* Tipo Escola\n",
    "* Dependência administrativa \n",
    "    \n",
    "*Visão Média Geral*\n",
    "\n",
    "* Média global\n",
    "* Média por gênero\n",
    "* Média por etnia\n",
    "* Média por tipo de escola\n",
    "* Média por tempo de conclusão\n",
    "* Média por faixa etária\n",
    "* Média/Nota Máxima por regiões\n",
    "\n",
    "*Visão abstenção/falta*\n",
    "\n",
    "* Falta por gênero\n",
    "* Falta por regiões geográficas\n",
    "* Falta por UF\n",
    "* Falta por município\n",
    "* Falta por faixa etária\n",
    "* Falta por disciplina\n",
    "* Falta por etnia\n",
    "* Falta por tipo de escola\n",
    "\n",
    "\n",
    "*ESTATÍSTICA*\n",
    "* Univariada\n",
    "    * Filtros : Prova / Ano / Variável\n",
    "    * Boxplot pela variável\n",
    "    * Gráfico das notas densidade por cada grupo da variável\n",
    "    * Gráfico de Barras\n",
    "        * Quebrar por sexo\n",
    "    * Situação de conclusão\n",
    "    * Escolaridade do pai/mãe\n",
    "    * Tamanho da família\n",
    "    * Acesso à internet\n",
    "    * Computador\n",
    "* Análise multivariada\n",
    "\n",
    "*RANKING*\n",
    "\n",
    "    \n",
    "* Quantidade de inscritos na Bahia nos últimos anos\n",
    "* Composição da quantidade de inscritos na Bahia\n",
    "* Mapa com a quantidade de inscritos (2019-2020) por UF\n",
    "* Mapa com quantidade de inscritos por município (2019-2020)\n",
    "\n",
    "* Ranking de Média nas provas por UF pré-pandemia (2019) e durante a pandemia (2020)\n",
    "* Ranking de Média nas provas por município pré-pandemia e durante a pandemia\n",
    "* \n",
    "\n",
    "* Visão UF\n",
    "    * Quantidade de Inscritos\n",
    "    * Falta\n",
    "    * Proporções\n",
    "* Visão Município\n",
    "* Visão Escola"
   ]
  },
  {
   "cell_type": "code",
   "execution_count": 1,
   "metadata": {},
   "outputs": [],
   "source": [
    "import pandas as pd\n",
    "import numpy as np\n",
    "import matplotlib.pyplot as plt\n",
    "import seaborn as sns\n",
    "import requests\n",
    "import os"
   ]
  },
  {
   "cell_type": "code",
   "execution_count": null,
   "metadata": {},
   "outputs": [],
   "source": [
    "os.chdir(\"C:\\Users\\brunobezerra\\Downloads\\Livros e papers\\Microdados ENEM\")\n"
   ]
  },
  {
   "cell_type": "code",
   "execution_count": 2,
   "metadata": {},
   "outputs": [
    {
     "data": {
      "text/plain": [
       "'c:\\\\Users\\\\brunobezerra\\\\PYTHON PROJETOS\\\\PROJETOS\\\\Analise-de-Dados-ENEM'"
      ]
     },
     "execution_count": 2,
     "metadata": {},
     "output_type": "execute_result"
    }
   ],
   "source": [
    "pwd"
   ]
  },
  {
   "cell_type": "code",
   "execution_count": null,
   "metadata": {},
   "outputs": [],
   "source": [
    "df=pd.read_csv('MICRODADOS_ENEM_2022.csv', sep=';', encoding='latin-1')"
   ]
  },
  {
   "cell_type": "code",
   "execution_count": null,
   "metadata": {},
   "outputs": [],
   "source": [
    "pd.set_option('display.max_columns', None)  # Configura para exibir todas as colunas\n",
    "df.head(5)"
   ]
  },
  {
   "cell_type": "markdown",
   "metadata": {},
   "source": [
    "#### Baixar dataframe"
   ]
  },
  {
   "cell_type": "code",
   "execution_count": null,
   "metadata": {},
   "outputs": [],
   "source": [
    "df.to_excel('D:\\Repositório GIT\\Projetos\\IBGE\\Datasets\\Educação\\Microdado_Teste1.xlsx', index=False)"
   ]
  }
 ],
 "metadata": {
  "kernelspec": {
   "display_name": "Python 3",
   "language": "python",
   "name": "python3"
  },
  "language_info": {
   "codemirror_mode": {
    "name": "ipython",
    "version": 3
   },
   "file_extension": ".py",
   "mimetype": "text/x-python",
   "name": "python",
   "nbconvert_exporter": "python",
   "pygments_lexer": "ipython3",
   "version": "3.10.9"
  }
 },
 "nbformat": 4,
 "nbformat_minor": 2
}
